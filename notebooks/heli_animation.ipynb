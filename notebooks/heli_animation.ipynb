{
 "cells": [
  {
   "cell_type": "code",
   "execution_count": null,
   "metadata": {},
   "outputs": [],
   "source": [
    "import numpy as np\n",
    "import matplotlib.pyplot as plt\n",
    "\n",
    "\n",
    "lok = 6  # Lock number (-)\n",
    "mass = 2200  # Rotorcraft mass (kg)\n",
    "vtip = 200  # Rotor tip speed (m/sec)\n",
    "rotor_radius= 7.32  # Rotor radius (m)\n",
    "iy = 10625  # Rotorcraft mass moment of inertia (kgm^2)\n",
    "h = 1  # Distance from vehicle CG to rotor hub\n",
    "kbeta = 46000  # Rotor hinge spring hingeless (Nm)\n",
    "kbeta0 = 0  # Rotor hinge spring teetering (Nm)\n",
    "omega= vtip / rotor_radius\n",
    "input_cyc = -1 * np.pi / 180  # Pilot cyclic control (1 deg/sec)\n",
    "N = 3  # Number of blades\n",
    "\n",
    "thiy_init = (mass * 9.81 * h + N / 2 * kbeta) / iy\n",
    "thiy0 = (mass * 9.81 * h +N / 2 * kbeta0) / iy"
   ]
  },
  {
   "cell_type": "code",
   "execution_count": null,
   "metadata": {},
   "outputs": [],
   "source": [
    "from google.colab import output\n",
    "output.enable_custom_widget_manager()"
   ]
  },
  {
   "cell_type": "code",
   "execution_count": null,
   "metadata": {},
   "outputs": [],
   "source": [
    "%matplotlib ipympl\n",
    "from scipy.interpolate import CubicSpline\n",
    "from scipy.integrate import cumulative_trapezoid\n",
    "from matplotlib.animation import FuncAnimation\n",
    "from PIL import Image\n",
    "import os\n",
    "import time\n",
    "\n",
    "# Collects any previous animation which might interfere\n",
    "try:\n",
    "    ani.event_source.stop()\n",
    "except:\n",
    "    pass\n",
    "\n",
    "#============== Change K_beta to see the effects =================================\n",
    "kbeta = 6e4\n",
    "#========================================================================\n",
    "\n",
    "t_end = 8  # Time (sec)\n",
    "step = 0.001  # Time step (sec)\n",
    "t_arr = np.arange(0, t_end, step)\n",
    "helicopter_img = Image.open(os.path.abspath(os.path.join('.', 'static','helicopter2.png')))\n",
    "# larger_canvas = Image.new(\"RGBA\", (600, 600), (0, 0, 0, 0))\n",
    "\n",
    "#------------ Create data ----------------------------------------------------------------\n",
    "thiy_updated = (mass * 9.81 * h + N / 2 * kbeta) / iy\n",
    "q = -input_cyc * omega * lok / 16 * (1 - np.exp(-16 / (lok * omega) * thiy_updated * t_arr))\n",
    "theta = cumulative_trapezoid(q, t_arr, initial=0)\n",
    "spline = CubicSpline(t_arr, theta)\n",
    "#----------------------------------------------------------------------------------------------\n",
    "\n",
    "plt.close()\n",
    "plt.clf()\n",
    "plt.cla()\n",
    "fig, ax = plt.subplots(figsize=(4,4))\n",
    "plt.title(f\"Kbeta = {kbeta}\")\n",
    "plt.ylim(1000,-200)\n",
    "# ax.imshow(larger_canvas)\n",
    "img_display = ax.imshow(helicopter_img)  # Create initial image plot\n",
    "\n",
    "def get_pitch(time):\n",
    "    return spline(time)\n",
    "\n",
    "def update(frame):\n",
    "    pitch_angle = get_pitch(frame)  # Calculate pitch angle\n",
    "    rotated_img = helicopter_img.rotate(np.degrees(pitch_angle))  # Rotate the image\n",
    "    img_display.set_data(rotated_img)  # Update the image data\n",
    "    return (img_display,)  # Return a tuple of the artists that have been updated\n",
    "\n",
    "time_step = 0.3\n",
    "frame_interval = 300  # Milliseconds between frames\n",
    "\n",
    "ani = FuncAnimation(fig, update, frames=np.arange(0, t_end, time_step), interval=frame_interval,blit=True, repeat=False)\n",
    "plt.show()\n"
   ]
  }
 ],
 "metadata": {
  "language_info": {
   "name": "python"
  }
 },
 "nbformat": 4,
 "nbformat_minor": 2
}
