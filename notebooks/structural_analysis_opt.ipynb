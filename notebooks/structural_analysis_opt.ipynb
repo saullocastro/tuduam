{
 "cells": [
  {
   "cell_type": "code",
   "execution_count": null,
   "metadata": {},
   "outputs": [],
   "source": [
    "!pip install tuduam\n",
    "!git clone https://github.com/saullocastro/tuduam.git\n",
    "# If the following error occurs \"fatal: destination path 'tuduam' already exists and is not an empty directory.\" please continue as your environment is already set up correctly"
   ]
  },
  {
   "cell_type": "markdown",
   "metadata": {},
   "source": [
    "# Structural analysis of a wing section\n",
    "\n",
    "Looking at the complex figure of a wingbox shown in in \n",
    " The standard wing section contains Complex structural sections may be idealized into simpler ‘mechanical model’forms which behave, under given loading conditions, in the same, or very nearly the same, way as the actual structure. \n",
    "\n"
   ]
  },
  {
   "cell_type": "code",
   "execution_count": 2,
   "metadata": {},
   "outputs": [],
   "source": [
    "import tuduam as tud\n",
    "\n",
    "\n",
    "attr_dict1 = {\n",
    "    \"n_cell\":4,\n",
    "    \"spar_loc_nondim\":[0.2, 0.4, 0.6, 0.8],\n",
    "    \"t_sk_cell\":[0.004,0.004,0.004, 0.004, 0.005],\n",
    "    \"area_str\":20e-6,\n",
    "    \"t_sp\":0.008,\n",
    "    \"str_cell\":[4,8,7,8.8],\n",
    "    \"booms_sk\": 100,\n",
    "    \"booms_spar\": 15,\n",
    "}\n",
    "\n",
    "attr_dict2 = {\n",
    "    \"n_cell\":3,\n",
    "    \"spar_loc_nondim\":[0.3, 0.7],\n",
    "    \"t_sk_cell\":[0.002,0.004,0.002],\n",
    "    \"area_str\":20e-6,\n",
    "    \"t_sp\":0.01,\n",
    "    \"str_cell\":[6,8,6],\n",
    "    \"booms_sk\": 69,\n",
    "    \"booms_spar\": 5,\n",
    "}\n",
    "\n",
    "wingbox_struct1 = tud.Wingbox(**attr_dict1)\n",
    "wingbox_struct2 = tud.Wingbox(**attr_dict2)"
   ]
  },
  {
   "cell_type": "markdown",
   "metadata": {},
   "source": [
    "\n",
    "# Geometry\n",
    "\n",
    "To get an idea of what the wingbox we want to design look like let's try and plot their resulting discretization."
   ]
  },
  {
   "cell_type": "code",
   "execution_count": 3,
   "metadata": {},
   "outputs": [
    {
     "ename": "TypeError",
     "evalue": "discretize_airfoil() missing 3 required positional arguments: 'path_coord', 'chord', and 'wingbox_struct'",
     "output_type": "error",
     "traceback": [
      "\u001b[1;31m---------------------------------------------------------------------------\u001b[0m",
      "\u001b[1;31mTypeError\u001b[0m                                 Traceback (most recent call last)",
      "Cell \u001b[1;32mIn[3], line 1\u001b[0m\n\u001b[1;32m----> 1\u001b[0m wingbox1_discrete \u001b[38;5;241m=\u001b[39m \u001b[43mtud\u001b[49m\u001b[38;5;241;43m.\u001b[39;49m\u001b[43mdiscretize_airfoil\u001b[49m\u001b[43m(\u001b[49m\u001b[43m)\u001b[49m\n",
      "\u001b[1;31mTypeError\u001b[0m: discretize_airfoil() missing 3 required positional arguments: 'path_coord', 'chord', and 'wingbox_struct'"
     ]
    }
   ],
   "source": [
    "import os\n",
    "\n",
    "data_path = os.path\n",
    "\n",
    "wingbox1_discrete = tud.discretize_airfoil()"
   ]
  },
  {
   "cell_type": "code",
   "execution_count": null,
   "metadata": {},
   "outputs": [],
   "source": []
  }
 ],
 "metadata": {
  "kernelspec": {
   "display_name": "tuduam_notebook",
   "language": "python",
   "name": "python3"
  },
  "language_info": {
   "codemirror_mode": {
    "name": "ipython",
    "version": 3
   },
   "file_extension": ".py",
   "mimetype": "text/x-python",
   "name": "python",
   "nbconvert_exporter": "python",
   "pygments_lexer": "ipython3",
   "version": "3.11.7"
  }
 },
 "nbformat": 4,
 "nbformat_minor": 2
}
