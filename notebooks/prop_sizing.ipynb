{
 "cells": [
  {
   "cell_type": "markdown",
   "metadata": {},
   "source": [
    "# Preliminary sizing of a rotor blade\n",
    "\n",
    "As previously mentioned we will use the work of Adkins and Liebeck to perform both optimisation and off design analysis. Let us start with the rotor blade optimisation.\n",
    "\n",
    "The method has been implemented in Python in the package called `tuduam`, i.e TU Delft Urban Air Mobility. Hence, when creating the input we have to keep in mind the [documentation](https://saullocastro.github.io/tuduam/)  </span> on what the functions expect. Feel free to roam around the documentatin to see what other functionalities are offered by the package. Keep in mind however that the package is under active development.\n",
    "\n",
    "The design is initiated with the specified conditions of power (or thrust), hub and tip radius, rotational rate, freestream velocity, number of blades, and a finite number of stations at which blade geometry is to be determined. Let us define this in the next block\n",
    "\n",
    "## Defining the conditions\n",
    "\n",
    "Most of the code below does not need explaining, however as previusly mentioned we must take into account the [API documentation](https://saullocastro.github.io/tuduam/) .</span> Here it says that the blade parameter must be defined in the `Propeller` data structure. Furthermore, BEM analysis requires airfoil polar at a large range of reynolds numbers. `tuduam` relies on the user to input this data in the form of a path to a directory which contains all the polars. These files should be in the common format outputted by [xfoil](https://web.mit.edu/drela/Public/web/xfoil/). A tutorial on how to create this data has also been made which can be found in the course. Sample data for the NACA 4412, a common propeller, is readily available however in the `tuduam` repository. The NACA 4412 is shown in [Figure 1](#figure1)\n",
    "\n",
    "<br>\n",
    "<p align=\"center\"  id=\"figure1\" >\n",
    "<img src=\"https://raw.githubusercontent.com/saullocastro/tuduam/076078cd60feddd2ee2d784fcd93ccbed26041c6/notebooks/static/naca4412-il.svg\" width=\"400\" /> \n",
    " <br>\n",
    "</p>\n",
    "<p align=\"center\">\n",
    "<em>Figure 1: The NACA 4412 airfoil</em>\n",
    "</p>\n",
    "<br>\n",
    "\n",
    "The conditions required for the optimisation are loaded into the Python kernel below. Carefully read the comments surrounding the code for more pointers. Note that the repository makes use of data structures in order to limit input size into functions, in this case we have to make use of the `Propeller` data structure."
   ]
  },
  {
   "cell_type": "code",
   "execution_count": 6,
   "metadata": {},
   "outputs": [
    {
     "name": "stdout",
     "output_type": "stream",
     "text": [
      "Requirement already satisfied: tuduam in c:\\users\\damie\\anaconda3\\envs\\honours\\lib\\site-packages (2024.2)\n",
      "Requirement already satisfied: numpy in c:\\users\\damie\\anaconda3\\envs\\honours\\lib\\site-packages (from tuduam) (1.26.2)\n",
      "Requirement already satisfied: scipy in c:\\users\\damie\\anaconda3\\envs\\honours\\lib\\site-packages (from tuduam) (1.11.4)\n"
     ]
    },
    {
     "name": "stderr",
     "output_type": "stream",
     "text": [
      "Cloning into 'tuduam'...\n"
     ]
    }
   ],
   "source": [
    "!pip install tuduam\n",
    "!git clone https://github.com/saullocastro/tuduam.git\n",
    "# If the following error occurs \"fatal: destination path 'tuduam' already exists and is not an empty directory.\" please continue as your environment is already set up correctly"
   ]
  },
  {
   "cell_type": "code",
   "execution_count": 4,
   "metadata": {},
   "outputs": [
    {
     "data": {
      "text/html": [
       "<pre style=\"white-space:pre;overflow-x:auto;line-height:normal;font-family:Menlo,'DejaVu Sans Mono',consolas,'Courier New',monospace\"><span style=\"color: #808000; text-decoration-color: #808000\">a_snd</span>=<span style=\"color: #008080; text-decoration-color: #008080; font-weight: bold\">335.62572904948746</span>  \n",
       "<span style=\"color: #808000; text-decoration-color: #808000\">rho_cr</span>=<span style=\"color: #008080; text-decoration-color: #008080; font-weight: bold\">1.0899402822825992</span>  \n",
       "<span style=\"color: #808000; text-decoration-color: #808000\">dyn_vis</span>=<span style=\"color: #008080; text-decoration-color: #008080; font-weight: bold\">1.7736932645281385e-05</span>  \n",
       "<span style=\"color: #808000; text-decoration-color: #808000\">prop_class</span>=<span style=\"color: #800080; text-decoration-color: #800080; font-weight: bold\">Propeller</span><span style=\"font-weight: bold\">(</span><span style=\"color: #808000; text-decoration-color: #808000\">n_blades</span>=<span style=\"color: #008080; text-decoration-color: #008080; font-weight: bold\">6.0</span>, <span style=\"color: #808000; text-decoration-color: #808000\">r_prop</span>=<span style=\"color: #008080; text-decoration-color: #008080; font-weight: bold\">0.55</span>, <span style=\"color: #808000; text-decoration-color: #808000\">rpm_cruise</span>=<span style=\"color: #008080; text-decoration-color: #008080; font-weight: bold\">1200.0</span>, <span style=\"color: #808000; text-decoration-color: #808000\">xi_0</span>=<span style=\"color: #008080; text-decoration-color: #008080; font-weight: bold\">0.1</span>, <span style=\"color: #808000; text-decoration-color: #808000\">chord_arr</span>=<span style=\"color: #800080; text-decoration-color: #800080; font-style: italic\">None</span>, <span style=\"color: #808000; text-decoration-color: #808000\">rad_arr</span>=<span style=\"color: #800080; text-decoration-color: #800080; font-style: italic\">None</span>, \n",
       "<span style=\"color: #808000; text-decoration-color: #808000\">pitch_arr</span>=<span style=\"color: #800080; text-decoration-color: #800080; font-style: italic\">None</span>, <span style=\"color: #808000; text-decoration-color: #808000\">tc_ratio</span>=<span style=\"color: #008080; text-decoration-color: #008080; font-weight: bold\">0.12</span><span style=\"font-weight: bold\">)</span>\n",
       "</pre>\n"
      ],
      "text/plain": [
       "\u001b[33ma_snd\u001b[0m=\u001b[1;36m335\u001b[0m\u001b[1;36m.62572904948746\u001b[0m  \n",
       "\u001b[33mrho_cr\u001b[0m=\u001b[1;36m1\u001b[0m\u001b[1;36m.0899402822825992\u001b[0m  \n",
       "\u001b[33mdyn_vis\u001b[0m=\u001b[1;36m1\u001b[0m\u001b[1;36m.7736932645281385e-05\u001b[0m  \n",
       "\u001b[33mprop_class\u001b[0m=\u001b[1;35mPropeller\u001b[0m\u001b[1m(\u001b[0m\u001b[33mn_blades\u001b[0m=\u001b[1;36m6\u001b[0m\u001b[1;36m.0\u001b[0m, \u001b[33mr_prop\u001b[0m=\u001b[1;36m0\u001b[0m\u001b[1;36m.55\u001b[0m, \u001b[33mrpm_cruise\u001b[0m=\u001b[1;36m1200\u001b[0m\u001b[1;36m.0\u001b[0m, \u001b[33mxi_0\u001b[0m=\u001b[1;36m0\u001b[0m\u001b[1;36m.1\u001b[0m, \u001b[33mchord_arr\u001b[0m=\u001b[3;35mNone\u001b[0m, \u001b[33mrad_arr\u001b[0m=\u001b[3;35mNone\u001b[0m, \n",
       "\u001b[33mpitch_arr\u001b[0m=\u001b[3;35mNone\u001b[0m, \u001b[33mtc_ratio\u001b[0m=\u001b[1;36m0\u001b[0m\u001b[1;36m.12\u001b[0m\u001b[1m)\u001b[0m\n"
      ]
     },
     "metadata": {},
     "output_type": "display_data"
    }
   ],
   "source": [
    "import os\n",
    "import tuduam as tud\n",
    "import rich\n",
    "import tuduam.propulsion as prop\n",
    "\n",
    "# Define parameters required according to API documentation\n",
    "data_path = os.path.realpath(os.path.join(os.path.abspath('.'), 'tuduam', 'examples', 'data')) # Path to airfoil data\n",
    "coord_path = os.path.realpath(os.path.join(os.path.abspath('.'), 'tuduam', 'examples', 'naca_4412.txt')) # Path to airfoil coordinates\n",
    "n_stations = 25\n",
    "\n",
    "# Define operatonal parameters\n",
    "thrust_req = 400\n",
    "v_cruise = 210/3.6\n",
    "h_cruise = 1200\n",
    "isa = tud.ISA(h_cruise) \n",
    "a_snd = isa.soundspeed() # Speed of sound\n",
    "rho_cr = isa.density() # Air density\n",
    "dyn_vis = isa.viscosity_dyn() # Dynamic viscosity\n",
    "\n",
    "# Define the specified conditions for the propeller geometry in the data structure\n",
    "prop_class = tud.Propeller(\n",
    "                    n_blades=6, # Number of blades\n",
    "                    r_prop=0.55, # propeller radius\n",
    "                    rpm_cruise=1200, \n",
    "                    tc_ratio=0.12,  # Thickness to chord ratio of airfoil\n",
    "                    xi_0=0.1 # nondimensional hub radius (r_hub/R)\n",
    "                    ) \n",
    "\n",
    "rich.print(f\"{a_snd=}  \\n{rho_cr=}  \\n{dyn_vis=}  \\n{prop_class=}\")\n",
    "\n"
   ]
  },
  {
   "cell_type": "markdown",
   "metadata": {},
   "source": [
    "# Running the optimisation\n",
    "\n",
    "Having defined the conditions we now run the actual optimisation. In the code it will be as simple as calling a single line however there is much going on in the background. A general overview of procedure is described here however for a full description refer to the paper (download link available in the course in sources). \n",
    "\n",
    "The general procedure can be condensed to the following:\n",
    "\n",
    "1. Select an initial estimate for $\\zeta$, the displacement velocity ratio ($\\zeta$ = 0 will work).\n",
    "2. Determine the values for $F$, the Prandtl momentum loss factor, and $\\phi$, the flow angle, at each blade station.\n",
    "3. Determine the product $Wc$, the local velocity multiplied by the local chord. Additionally, compute the Reynolds number.\n",
    "4. Determine $\\epsilon$, the drag-to-lift ratio, and $\\alpha$, the angle of attack, from airfoil section data.\n",
    "5. If $\\epsilon$ is to be minimized, change $C_l$, and repeat Steps 3 and 4 until this is accomplished at each station.\n",
    "6. Determine $\\alpha$ and $\\alpha'$, the axial and rotational interference factor, respectively.\n",
    "7. Compute the chord from Step 3, and the blade twist $\\beta = \\alpha + \\phi$.\n",
    "8. Determine the four derivatives in I and J, and numerically integrate these from the non-dimensional hub radius, $\\xi_0$ to the non-dimensional radius $\\xi$ = 1.\n",
    "9. Determine $\\zeta$ and $T_c$, the thrust coefficient.\n",
    "10. If this new value for $\\zeta$ is not sufficiently close to the old one (e.g., within 0.1\\%), start over at step 2 using the new $\\zeta$.\n",
    "11. Determine propeller efficiency as $\\eta = \\frac{T}{P_c}$, and other features such as solidity.\n",
    "\n",
    "Let us now run the optimisation and plot the resulting blade geometry. The plotting is performed using a class called `PlotBlade`, which has a method for both a 3D and 2D plot. Feel free to play with the parameters of the rotor by rerunning the above code box with new parameters. Note that the optimisation will crash however for infeasible designs."
   ]
  },
  {
   "cell_type": "code",
   "execution_count": null,
   "metadata": {},
   "outputs": [],
   "source": [
    "# Initiazlie BEM class\n",
    "design = prop.BEM(data_path, prop_class, rho_cr, \n",
    "                  dyn_vis, v_cruise, n_stations, a_snd, T=thrust_req)\n",
    "\n",
    "# Execute the BEM optimisation with initial estimate of 0\n",
    "res_dict = design.optimise_blade(zeta_init=0)\n",
    "\n",
    "# Print the resulting dictionary \n",
    "rich.print(res_dict)\n",
    "rich.print(f'power required = {res_dict[\"pc\"]*rho_cr*(prop_class.rpm_cruise/60)**3*32*prop_class.r_prop**5/1e3} Kw')\n",
    "\n",
    "# Plot the resulting blade geometry \n",
    "plot = prop.PlotBlade(prop_class, coord_path)"
   ]
  },
  {
   "cell_type": "code",
   "execution_count": null,
   "metadata": {},
   "outputs": [],
   "source": [
    "#Plot 2D outputs\n",
    "plot.plot_blade() # Creates two 2D plots"
   ]
  },
  {
   "cell_type": "code",
   "execution_count": null,
   "metadata": {},
   "outputs": [],
   "source": [
    "#Plot 3D outputs\n",
    "plot.plot_3D_plotly() # Creates an interactive 3D plot"
   ]
  },
  {
   "cell_type": "markdown",
   "metadata": {},
   "source": [
    "# Offdesign analysis\n",
    "\n",
    "We now have an optimised blade which is stored in the `Propeller` data structure and in the output of the function, i.e `res_dict`. We can do a quick test in order to check this.  Run the following cell to see what the data structure now contains. As seen it now contains 3 extra arrays describing the propeller blade.\n",
    "\n",
    "We would now like to test whether it can meet a certain off design condition. If you want to know more about  a specific step, please refer to the paper which is available on the course site. The general procedure for doing so is as follows:\n",
    "\n",
    "1. Specify a freestream velocity, RPM and $\\Delta \\beta$\n",
    "2. Make in initial estimate on the flow angle using $\\phi = \\frac{\\lambda}{\\xi}$ where $\\xi$ is the nondimensional spanwise location and $\\lambda= \\frac{V_{inf}}{\\omega*R} $\n",
    "3. Since $\\beta$ is known, compute $\\alpha = \\beta - \\phi$ and the Reynolds number at each station.\n",
    "4. The airfoil coefficients are then known from the airfoil section data.\n",
    "5. The new estimate for $\\phi$ can then be computed as in equation 1. Let a and $a`$ be the axial and rotational interference factor, r the local radius and V the freestream velocity. Note that a and $a`$  are clipped to -0.7 and 0.7 respectively. This is required for adequate convergence near the tip (Viterna and Janetzke (1981)). For more details please see Adkins and Liebeck (1984) on the course site.\n",
    "\n",
    "$$\n",
    "\\begin{equation}\n",
    "\\tag{1}\n",
    "\\tan \\phi = \\frac{V(1 + a)}{\\Omega r (1 -  a`)}\n",
    "\\end{equation}\n",
    "$$\n",
    "6. Steps 1 to 5 are then repeated until convergence is reached.\n",
    "7. The thrust and torque per unit radius can then be found using:\n",
    "\n",
    "$$\n",
    "\\begin{align}\n",
    "\\tag{2}\n",
    "T` & = \\frac{1}{2} \\rho W^2 cB  C_y \\\\ \n",
    "\\tag{3}\n",
    "Q`/r & = \\frac{1}{2} \\rho W^2 cB  C_x \\\\\n",
    "\\end{align}\n",
    "$$\n",
    "\n",
    "8. Then finally the thrust and power coefficient are defined as folows. Where n is the rounds per second.\n",
    "\n",
    "$$\n",
    "\\begin{align}\n",
    "\\tag{4}\n",
    "C_T & = \\frac{T}{\\rho n^2 16 R^4} \\\\\n",
    "\\tag{5}\n",
    "C_P & = \\frac{P}{\\rho n^3 32 R^5} \\\\\n",
    "\\end{align}\n",
    "$$\n",
    "\n",
    "Finally, this can then be integrated. In the source code this is done using a simple trapezoid integration, more specifically  the `scipy.integrate.trapezoid` function. \n",
    "\n",
    "# Hover example\n",
    "\n",
    "Let's do an sample example of a vtol rising vertically to see how this would look like using the `tuduam` repository. The inflow from the freestream is now significantly reduced. The parameter that significantly changes is the freestream velocity, the only significant component left is the induced velocity caused by the rotor. Determining the value of the induced velocity is difficult, engineering judgement is used. [1] mentions an equation to estimate it however it is only reliable for higher flight speeds. Thus in our script we have assumed the freestream velocity to be 10.\n",
    "\n",
    "Furthermore it is important to consider how we should change our pitch control of the rotor.  As seen in [Figure 2](#figure2), the resultant relative wind will lay nearly in parrallel to tip-path axis. Therefore if we would keep the same pitch as the one during cruise the blade will most surely stall. The implication in the code being an error that an angle of attack outside of the dataset has been encountered. \n",
    "\n",
    "<p align=\"center\"  id=\"figure2\" style=\"background-color: white;\">\n",
    "<img src=\"https://github.com/saullocastro/tuduam/blob/main/notebooks/static/hover_blade_cross_sectin.gif?raw=true\" width=\"400\" /> \n",
    " <br>\n",
    "</p>\n",
    "\n",
    "Therefore we would like to lower our pitch angle. To increase the thrust for hover we would like to increase our RPM. However keep in mind that our rpm is limited by the onset of shock waves at the tip of the blade. Thus we have to compute the maximum rpm and limit the rpm to that value.  WE will now analyse the propeller at a singular offdesign conditions. Namely a freestream velocity of 10 m/s, a maximum mach number of 0.7 at the tip and a 39 degree decrease in pitch on the rotor blades. Read and run the code below for the results.\n",
    "\n",
    "\n",
    "## Sources\n",
    "\n",
    "[1] Castles, W. Jr., & De Leeuw, J. H. (1954). The normal component of the induced velocity in the vicinity of a lifting rotor and some examples of its application (Report No. 1184). Georgia Institute of Technology.\n",
    "\n"
   ]
  },
  {
   "cell_type": "code",
   "execution_count": 12,
   "metadata": {},
   "outputs": [
    {
     "data": {
      "text/html": [
       "<pre style=\"white-space:pre;overflow-x:auto;line-height:normal;font-family:Menlo,'DejaVu Sans Mono',consolas,'Courier New',monospace\"><span style=\"color: #808000; text-decoration-color: #808000\">rpm_hvr</span>=<span style=\"color: #008080; text-decoration-color: #008080; font-weight: bold\">4135.43320654644</span>\n",
       "</pre>\n"
      ],
      "text/plain": [
       "\u001b[33mrpm_hvr\u001b[0m=\u001b[1;36m4135\u001b[0m\u001b[1;36m.43320654644\u001b[0m\n"
      ]
     },
     "metadata": {},
     "output_type": "display_data"
    },
    {
     "data": {
      "text/html": [
       "<pre style=\"white-space:pre;overflow-x:auto;line-height:normal;font-family:Menlo,'DejaVu Sans Mono',consolas,'Courier New',monospace\"><span style=\"font-weight: bold\">{</span>\n",
       "    <span style=\"color: #008000; text-decoration-color: #008000\">'thrust'</span>: <span style=\"color: #008080; text-decoration-color: #008080; font-weight: bold\">4880.664989838684</span>,\n",
       "    <span style=\"color: #008000; text-decoration-color: #008000\">'torque'</span>: <span style=\"color: #008080; text-decoration-color: #008080; font-weight: bold\">294.0218860338187</span>,\n",
       "    <span style=\"color: #008000; text-decoration-color: #008000\">'eff'</span>: <span style=\"color: #008080; text-decoration-color: #008080; font-weight: bold\">0.3833096128070236</span>,\n",
       "    <span style=\"color: #008000; text-decoration-color: #008000\">'thrust_coeff'</span>: <span style=\"color: #008080; text-decoration-color: #008080; font-weight: bold\">0.5728390932248505</span>,\n",
       "    <span style=\"color: #008000; text-decoration-color: #008000\">'power_coeff'</span>: <span style=\"color: #008080; text-decoration-color: #008080; font-weight: bold\">0.1971153712449181</span>,\n",
       "    <span style=\"color: #008000; text-decoration-color: #008000\">'AoA'</span>: <span style=\"color: #800080; text-decoration-color: #800080; font-weight: bold\">array</span><span style=\"font-weight: bold\">([</span><span style=\"color: #008080; text-decoration-color: #008080; font-weight: bold\">0.12277787</span>, <span style=\"color: #008080; text-decoration-color: #008080; font-weight: bold\">0.21520819</span>, <span style=\"color: #008080; text-decoration-color: #008080; font-weight: bold\">0.27347206</span>, <span style=\"color: #008080; text-decoration-color: #008080; font-weight: bold\">0.31892348</span>, <span style=\"color: #008080; text-decoration-color: #008080; font-weight: bold\">0.34060297</span>,\n",
       "       <span style=\"color: #008080; text-decoration-color: #008080; font-weight: bold\">0.34950426</span>, <span style=\"color: #008080; text-decoration-color: #008080; font-weight: bold\">0.34547205</span>, <span style=\"color: #008080; text-decoration-color: #008080; font-weight: bold\">0.35195982</span>, <span style=\"color: #008080; text-decoration-color: #008080; font-weight: bold\">0.33585566</span>, <span style=\"color: #008080; text-decoration-color: #008080; font-weight: bold\">0.32746425</span>,\n",
       "       <span style=\"color: #008080; text-decoration-color: #008080; font-weight: bold\">0.31953733</span>, <span style=\"color: #008080; text-decoration-color: #008080; font-weight: bold\">0.30883281</span>, <span style=\"color: #008080; text-decoration-color: #008080; font-weight: bold\">0.29703362</span>, <span style=\"color: #008080; text-decoration-color: #008080; font-weight: bold\">0.28429357</span>, <span style=\"color: #008080; text-decoration-color: #008080; font-weight: bold\">0.27132936</span>,\n",
       "       <span style=\"color: #008080; text-decoration-color: #008080; font-weight: bold\">0.25596598</span>, <span style=\"color: #008080; text-decoration-color: #008080; font-weight: bold\">0.24239548</span>, <span style=\"color: #008080; text-decoration-color: #008080; font-weight: bold\">0.22354675</span>, <span style=\"color: #008080; text-decoration-color: #008080; font-weight: bold\">0.2082226</span> , <span style=\"color: #008080; text-decoration-color: #008080; font-weight: bold\">0.19300554</span>,\n",
       "       <span style=\"color: #008080; text-decoration-color: #008080; font-weight: bold\">0.18230526</span>, <span style=\"color: #008080; text-decoration-color: #008080; font-weight: bold\">0.17562534</span>, <span style=\"color: #008080; text-decoration-color: #008080; font-weight: bold\">0.16223733</span>, <span style=\"color: #008080; text-decoration-color: #008080; font-weight: bold\">0.14912745</span>, <span style=\"color: #008080; text-decoration-color: #008080; font-weight: bold\">0.13591189</span><span style=\"font-weight: bold\">])</span>,\n",
       "    <span style=\"color: #008000; text-decoration-color: #008000\">'lift_coeff'</span>: <span style=\"color: #800080; text-decoration-color: #800080; font-weight: bold\">array</span><span style=\"font-weight: bold\">([</span><span style=\"color: #008080; text-decoration-color: #008080; font-weight: bold\">1.19482265</span>, <span style=\"color: #008080; text-decoration-color: #008080; font-weight: bold\">1.35056012</span>, <span style=\"color: #008080; text-decoration-color: #008080; font-weight: bold\">1.40478863</span>, <span style=\"color: #008080; text-decoration-color: #008080; font-weight: bold\">1.1920388</span> , <span style=\"color: #008080; text-decoration-color: #008080; font-weight: bold\">1.19503635</span>,\n",
       "       <span style=\"color: #008080; text-decoration-color: #008080; font-weight: bold\">1.19855278</span>, <span style=\"color: #008080; text-decoration-color: #008080; font-weight: bold\">1.55793305</span>, <span style=\"color: #008080; text-decoration-color: #008080; font-weight: bold\">1.55460521</span>, <span style=\"color: #008080; text-decoration-color: #008080; font-weight: bold\">1.58987287</span>, <span style=\"color: #008080; text-decoration-color: #008080; font-weight: bold\">1.6089598</span> ,\n",
       "       <span style=\"color: #008080; text-decoration-color: #008080; font-weight: bold\">1.63197297</span>, <span style=\"color: #008080; text-decoration-color: #008080; font-weight: bold\">1.6621659</span> , <span style=\"color: #008080; text-decoration-color: #008080; font-weight: bold\">1.70106215</span>, <span style=\"color: #008080; text-decoration-color: #008080; font-weight: bold\">1.72257239</span>, <span style=\"color: #008080; text-decoration-color: #008080; font-weight: bold\">1.73685942</span>,\n",
       "       <span style=\"color: #008080; text-decoration-color: #008080; font-weight: bold\">1.75631737</span>, <span style=\"color: #008080; text-decoration-color: #008080; font-weight: bold\">1.76430709</span>, <span style=\"color: #008080; text-decoration-color: #008080; font-weight: bold\">1.73880235</span>, <span style=\"color: #008080; text-decoration-color: #008080; font-weight: bold\">1.71841164</span>, <span style=\"color: #008080; text-decoration-color: #008080; font-weight: bold\">1.6939743</span> ,\n",
       "       <span style=\"color: #008080; text-decoration-color: #008080; font-weight: bold\">1.67804967</span>, <span style=\"color: #008080; text-decoration-color: #008080; font-weight: bold\">1.74210487</span>, <span style=\"color: #008080; text-decoration-color: #008080; font-weight: bold\">1.73295633</span>, <span style=\"color: #008080; text-decoration-color: #008080; font-weight: bold\">1.7226558</span> , <span style=\"color: #008080; text-decoration-color: #008080; font-weight: bold\">1.67964973</span><span style=\"font-weight: bold\">])</span>,\n",
       "    <span style=\"color: #008000; text-decoration-color: #008000\">'drag_coeff'</span>: <span style=\"color: #800080; text-decoration-color: #800080; font-weight: bold\">array</span><span style=\"font-weight: bold\">([</span><span style=\"color: #008080; text-decoration-color: #008080; font-weight: bold\">0.02334077</span>, <span style=\"color: #008080; text-decoration-color: #008080; font-weight: bold\">0.04634767</span>, <span style=\"color: #008080; text-decoration-color: #008080; font-weight: bold\">0.08521674</span>, <span style=\"color: #008080; text-decoration-color: #008080; font-weight: bold\">0.14794629</span>, <span style=\"color: #008080; text-decoration-color: #008080; font-weight: bold\">0.14831832</span>,\n",
       "       <span style=\"color: #008080; text-decoration-color: #008080; font-weight: bold\">0.14875475</span>, <span style=\"color: #008080; text-decoration-color: #008080; font-weight: bold\">0.11732507</span>, <span style=\"color: #008080; text-decoration-color: #008080; font-weight: bold\">0.02192104</span>, <span style=\"color: #008080; text-decoration-color: #008080; font-weight: bold\">0.10682134</span>, <span style=\"color: #008080; text-decoration-color: #008080; font-weight: bold\">0.02643343</span>,\n",
       "       <span style=\"color: #008080; text-decoration-color: #008080; font-weight: bold\">0.09170785</span>, <span style=\"color: #008080; text-decoration-color: #008080; font-weight: bold\">0.08135113</span>, <span style=\"color: #008080; text-decoration-color: #008080; font-weight: bold\">0.06912503</span>, <span style=\"color: #008080; text-decoration-color: #008080; font-weight: bold\">0.06115158</span>, <span style=\"color: #008080; text-decoration-color: #008080; font-weight: bold\">0.05001949</span>,\n",
       "       <span style=\"color: #008080; text-decoration-color: #008080; font-weight: bold\">0.0637648</span> , <span style=\"color: #008080; text-decoration-color: #008080; font-weight: bold\">0.081345</span>  , <span style=\"color: #008080; text-decoration-color: #008080; font-weight: bold\">0.10155172</span>, <span style=\"color: #008080; text-decoration-color: #008080; font-weight: bold\">0.02521023</span>, <span style=\"color: #008080; text-decoration-color: #008080; font-weight: bold\">0.022538</span>  ,\n",
       "       <span style=\"color: #008080; text-decoration-color: #008080; font-weight: bold\">0.18440827</span>, <span style=\"color: #008080; text-decoration-color: #008080; font-weight: bold\">0.02069385</span>, <span style=\"color: #008080; text-decoration-color: #008080; font-weight: bold\">0.01885703</span>, <span style=\"color: #008080; text-decoration-color: #008080; font-weight: bold\">0.01682833</span>, <span style=\"color: #008080; text-decoration-color: #008080; font-weight: bold\">0.03141791</span><span style=\"font-weight: bold\">])</span>\n",
       "<span style=\"font-weight: bold\">}</span>\n",
       "</pre>\n"
      ],
      "text/plain": [
       "\u001b[1m{\u001b[0m\n",
       "    \u001b[32m'thrust'\u001b[0m: \u001b[1;36m4880.664989838684\u001b[0m,\n",
       "    \u001b[32m'torque'\u001b[0m: \u001b[1;36m294.0218860338187\u001b[0m,\n",
       "    \u001b[32m'eff'\u001b[0m: \u001b[1;36m0.3833096128070236\u001b[0m,\n",
       "    \u001b[32m'thrust_coeff'\u001b[0m: \u001b[1;36m0.5728390932248505\u001b[0m,\n",
       "    \u001b[32m'power_coeff'\u001b[0m: \u001b[1;36m0.1971153712449181\u001b[0m,\n",
       "    \u001b[32m'AoA'\u001b[0m: \u001b[1;35marray\u001b[0m\u001b[1m(\u001b[0m\u001b[1m[\u001b[0m\u001b[1;36m0.12277787\u001b[0m, \u001b[1;36m0.21520819\u001b[0m, \u001b[1;36m0.27347206\u001b[0m, \u001b[1;36m0.31892348\u001b[0m, \u001b[1;36m0.34060297\u001b[0m,\n",
       "       \u001b[1;36m0.34950426\u001b[0m, \u001b[1;36m0.34547205\u001b[0m, \u001b[1;36m0.35195982\u001b[0m, \u001b[1;36m0.33585566\u001b[0m, \u001b[1;36m0.32746425\u001b[0m,\n",
       "       \u001b[1;36m0.31953733\u001b[0m, \u001b[1;36m0.30883281\u001b[0m, \u001b[1;36m0.29703362\u001b[0m, \u001b[1;36m0.28429357\u001b[0m, \u001b[1;36m0.27132936\u001b[0m,\n",
       "       \u001b[1;36m0.25596598\u001b[0m, \u001b[1;36m0.24239548\u001b[0m, \u001b[1;36m0.22354675\u001b[0m, \u001b[1;36m0.2082226\u001b[0m , \u001b[1;36m0.19300554\u001b[0m,\n",
       "       \u001b[1;36m0.18230526\u001b[0m, \u001b[1;36m0.17562534\u001b[0m, \u001b[1;36m0.16223733\u001b[0m, \u001b[1;36m0.14912745\u001b[0m, \u001b[1;36m0.13591189\u001b[0m\u001b[1m]\u001b[0m\u001b[1m)\u001b[0m,\n",
       "    \u001b[32m'lift_coeff'\u001b[0m: \u001b[1;35marray\u001b[0m\u001b[1m(\u001b[0m\u001b[1m[\u001b[0m\u001b[1;36m1.19482265\u001b[0m, \u001b[1;36m1.35056012\u001b[0m, \u001b[1;36m1.40478863\u001b[0m, \u001b[1;36m1.1920388\u001b[0m , \u001b[1;36m1.19503635\u001b[0m,\n",
       "       \u001b[1;36m1.19855278\u001b[0m, \u001b[1;36m1.55793305\u001b[0m, \u001b[1;36m1.55460521\u001b[0m, \u001b[1;36m1.58987287\u001b[0m, \u001b[1;36m1.6089598\u001b[0m ,\n",
       "       \u001b[1;36m1.63197297\u001b[0m, \u001b[1;36m1.6621659\u001b[0m , \u001b[1;36m1.70106215\u001b[0m, \u001b[1;36m1.72257239\u001b[0m, \u001b[1;36m1.73685942\u001b[0m,\n",
       "       \u001b[1;36m1.75631737\u001b[0m, \u001b[1;36m1.76430709\u001b[0m, \u001b[1;36m1.73880235\u001b[0m, \u001b[1;36m1.71841164\u001b[0m, \u001b[1;36m1.6939743\u001b[0m ,\n",
       "       \u001b[1;36m1.67804967\u001b[0m, \u001b[1;36m1.74210487\u001b[0m, \u001b[1;36m1.73295633\u001b[0m, \u001b[1;36m1.7226558\u001b[0m , \u001b[1;36m1.67964973\u001b[0m\u001b[1m]\u001b[0m\u001b[1m)\u001b[0m,\n",
       "    \u001b[32m'drag_coeff'\u001b[0m: \u001b[1;35marray\u001b[0m\u001b[1m(\u001b[0m\u001b[1m[\u001b[0m\u001b[1;36m0.02334077\u001b[0m, \u001b[1;36m0.04634767\u001b[0m, \u001b[1;36m0.08521674\u001b[0m, \u001b[1;36m0.14794629\u001b[0m, \u001b[1;36m0.14831832\u001b[0m,\n",
       "       \u001b[1;36m0.14875475\u001b[0m, \u001b[1;36m0.11732507\u001b[0m, \u001b[1;36m0.02192104\u001b[0m, \u001b[1;36m0.10682134\u001b[0m, \u001b[1;36m0.02643343\u001b[0m,\n",
       "       \u001b[1;36m0.09170785\u001b[0m, \u001b[1;36m0.08135113\u001b[0m, \u001b[1;36m0.06912503\u001b[0m, \u001b[1;36m0.06115158\u001b[0m, \u001b[1;36m0.05001949\u001b[0m,\n",
       "       \u001b[1;36m0.0637648\u001b[0m , \u001b[1;36m0.081345\u001b[0m  , \u001b[1;36m0.10155172\u001b[0m, \u001b[1;36m0.02521023\u001b[0m, \u001b[1;36m0.022538\u001b[0m  ,\n",
       "       \u001b[1;36m0.18440827\u001b[0m, \u001b[1;36m0.02069385\u001b[0m, \u001b[1;36m0.01885703\u001b[0m, \u001b[1;36m0.01682833\u001b[0m, \u001b[1;36m0.03141791\u001b[0m\u001b[1m]\u001b[0m\u001b[1m)\u001b[0m\n",
       "\u001b[1m}\u001b[0m\n"
      ]
     },
     "metadata": {},
     "output_type": "display_data"
    },
    {
     "data": {
      "text/html": [
       "<pre style=\"white-space:pre;overflow-x:auto;line-height:normal;font-family:Menlo,'DejaVu Sans Mono',consolas,'Courier New',monospace\">The power required for a single rotor is <span style=\"color: #008080; text-decoration-color: #008080; font-weight: bold\">127.32957449454426</span> kW\n",
       "</pre>\n"
      ],
      "text/plain": [
       "The power required for a single rotor is \u001b[1;36m127.32957449454426\u001b[0m kW\n"
      ]
     },
     "metadata": {},
     "output_type": "display_data"
    }
   ],
   "source": [
    "import numpy as np\n",
    "from scipy.optimize import minimize\n",
    "\n",
    "# Define constants required for analysis\n",
    "mach_max = 0.7 # Point when shockwave occurs over the airfoil\n",
    "isa = tud.ISA(0) # Assume sea level\n",
    "rho = isa.density()\n",
    "dyn_vis = isa.viscosity_dyn()\n",
    "a_snd = isa.soundspeed()\n",
    "\n",
    "# Operations conditions\n",
    "vtip_max =  mach_max*a_snd\n",
    "omega_max = vtip_max/prop_class.r_prop\n",
    "rpm_hvr = omega_max/(2*np.pi)*60 # Vertical speed of the vtol\n",
    "v_hvr = 10 # Vertical speed of the vtol plus additional \n",
    "delta_pitch = np.radians(-39)\n",
    "\n",
    "rich.print(f\"{rpm_hvr=}\")\n",
    "\n",
    "hover_cond = prop.OffDesignAnalysisBEM(data_path, prop_class, v_hvr, rpm_hvr, rho, dyn_vis, a_snd)\n",
    "res = hover_cond.analyse_propeller(delta_pitch, abs_extrapolation=7)\n",
    "\n",
    "power_req = res[\"power_coeff\"]*rho*(rpm_hvr/60)**3*32*prop_class.r_prop**5/1e3\n",
    "\n",
    "rich.print(res)\n",
    "rich.print(f\"The power required for a single rotor is {power_req} kW\")"
   ]
  },
  {
   "cell_type": "markdown",
   "metadata": {},
   "source": [
    "# Finding the max thrust of a blade\n",
    "\n",
    " Let us now try a range of values for the both the change in pitch and rpm values to see if we can achieve better thrust values. We could opt to use `scipy.optimize` for this purpose however the analysis is prone to failure due to either to high AoA or a non-convergent solutions. This will complicate the optimization where we'll have to assign penalization when such an error occurs. Instead we'll use a  brute force method since the analysis is swift. We'll create a mesh where x will be the rpm and y the pitch. Then for each coordinate we'll compute the thrust and plot a surface. This is implemented below, the cell takes about 30 seconds to run, so some patience is required. Additionally besides the thrust, the efficiency and power are also be plotted.\n",
    "\n",
    "Feel free to play with the parameters!"
   ]
  },
  {
   "cell_type": "code",
   "execution_count": 13,
   "metadata": {},
   "outputs": [
    {
     "data": {
      "application/vnd.plotly.v1+json": {
       "config": {
        "plotlyServerURL": "https://plot.ly"
       },
       "data": [
        {
         "type": "surface",
         "x": [
          [
           2500,
           2625.802554349726,
           2751.605108699452,
           2877.407663049178,
           3003.2102173989047,
           3129.0127717486307,
           3254.8153260983568,
           3380.617880448083,
           3506.420434797809,
           3632.2229891475354,
           3758.0255434972614,
           3883.8280978469875,
           4009.6306521967135,
           4135.43320654644
          ],
          [
           2500,
           2625.802554349726,
           2751.605108699452,
           2877.407663049178,
           3003.2102173989047,
           3129.0127717486307,
           3254.8153260983568,
           3380.617880448083,
           3506.420434797809,
           3632.2229891475354,
           3758.0255434972614,
           3883.8280978469875,
           4009.6306521967135,
           4135.43320654644
          ],
          [
           2500,
           2625.802554349726,
           2751.605108699452,
           2877.407663049178,
           3003.2102173989047,
           3129.0127717486307,
           3254.8153260983568,
           3380.617880448083,
           3506.420434797809,
           3632.2229891475354,
           3758.0255434972614,
           3883.8280978469875,
           4009.6306521967135,
           4135.43320654644
          ],
          [
           2500,
           2625.802554349726,
           2751.605108699452,
           2877.407663049178,
           3003.2102173989047,
           3129.0127717486307,
           3254.8153260983568,
           3380.617880448083,
           3506.420434797809,
           3632.2229891475354,
           3758.0255434972614,
           3883.8280978469875,
           4009.6306521967135,
           4135.43320654644
          ],
          [
           2500,
           2625.802554349726,
           2751.605108699452,
           2877.407663049178,
           3003.2102173989047,
           3129.0127717486307,
           3254.8153260983568,
           3380.617880448083,
           3506.420434797809,
           3632.2229891475354,
           3758.0255434972614,
           3883.8280978469875,
           4009.6306521967135,
           4135.43320654644
          ],
          [
           2500,
           2625.802554349726,
           2751.605108699452,
           2877.407663049178,
           3003.2102173989047,
           3129.0127717486307,
           3254.8153260983568,
           3380.617880448083,
           3506.420434797809,
           3632.2229891475354,
           3758.0255434972614,
           3883.8280978469875,
           4009.6306521967135,
           4135.43320654644
          ],
          [
           2500,
           2625.802554349726,
           2751.605108699452,
           2877.407663049178,
           3003.2102173989047,
           3129.0127717486307,
           3254.8153260983568,
           3380.617880448083,
           3506.420434797809,
           3632.2229891475354,
           3758.0255434972614,
           3883.8280978469875,
           4009.6306521967135,
           4135.43320654644
          ],
          [
           2500,
           2625.802554349726,
           2751.605108699452,
           2877.407663049178,
           3003.2102173989047,
           3129.0127717486307,
           3254.8153260983568,
           3380.617880448083,
           3506.420434797809,
           3632.2229891475354,
           3758.0255434972614,
           3883.8280978469875,
           4009.6306521967135,
           4135.43320654644
          ],
          [
           2500,
           2625.802554349726,
           2751.605108699452,
           2877.407663049178,
           3003.2102173989047,
           3129.0127717486307,
           3254.8153260983568,
           3380.617880448083,
           3506.420434797809,
           3632.2229891475354,
           3758.0255434972614,
           3883.8280978469875,
           4009.6306521967135,
           4135.43320654644
          ],
          [
           2500,
           2625.802554349726,
           2751.605108699452,
           2877.407663049178,
           3003.2102173989047,
           3129.0127717486307,
           3254.8153260983568,
           3380.617880448083,
           3506.420434797809,
           3632.2229891475354,
           3758.0255434972614,
           3883.8280978469875,
           4009.6306521967135,
           4135.43320654644
          ],
          [
           2500,
           2625.802554349726,
           2751.605108699452,
           2877.407663049178,
           3003.2102173989047,
           3129.0127717486307,
           3254.8153260983568,
           3380.617880448083,
           3506.420434797809,
           3632.2229891475354,
           3758.0255434972614,
           3883.8280978469875,
           4009.6306521967135,
           4135.43320654644
          ],
          [
           2500,
           2625.802554349726,
           2751.605108699452,
           2877.407663049178,
           3003.2102173989047,
           3129.0127717486307,
           3254.8153260983568,
           3380.617880448083,
           3506.420434797809,
           3632.2229891475354,
           3758.0255434972614,
           3883.8280978469875,
           4009.6306521967135,
           4135.43320654644
          ],
          [
           2500,
           2625.802554349726,
           2751.605108699452,
           2877.407663049178,
           3003.2102173989047,
           3129.0127717486307,
           3254.8153260983568,
           3380.617880448083,
           3506.420434797809,
           3632.2229891475354,
           3758.0255434972614,
           3883.8280978469875,
           4009.6306521967135,
           4135.43320654644
          ],
          [
           2500,
           2625.802554349726,
           2751.605108699452,
           2877.407663049178,
           3003.2102173989047,
           3129.0127717486307,
           3254.8153260983568,
           3380.617880448083,
           3506.420434797809,
           3632.2229891475354,
           3758.0255434972614,
           3883.8280978469875,
           4009.6306521967135,
           4135.43320654644
          ]
         ],
         "y": [
          [
           -20,
           -20,
           -20,
           -20,
           -20,
           -20,
           -20,
           -20,
           -20,
           -20,
           -20,
           -20,
           -20,
           -20
          ],
          [
           -22.307692307692307,
           -22.307692307692307,
           -22.307692307692307,
           -22.307692307692307,
           -22.307692307692307,
           -22.307692307692307,
           -22.307692307692307,
           -22.307692307692307,
           -22.307692307692307,
           -22.307692307692307,
           -22.307692307692307,
           -22.307692307692307,
           -22.307692307692307,
           -22.307692307692307
          ],
          [
           -24.615384615384613,
           -24.615384615384613,
           -24.615384615384613,
           -24.615384615384613,
           -24.615384615384613,
           -24.615384615384613,
           -24.615384615384613,
           -24.615384615384613,
           -24.615384615384613,
           -24.615384615384613,
           -24.615384615384613,
           -24.615384615384613,
           -24.615384615384613,
           -24.615384615384613
          ],
          [
           -26.923076923076923,
           -26.923076923076923,
           -26.923076923076923,
           -26.923076923076923,
           -26.923076923076923,
           -26.923076923076923,
           -26.923076923076923,
           -26.923076923076923,
           -26.923076923076923,
           -26.923076923076923,
           -26.923076923076923,
           -26.923076923076923,
           -26.923076923076923,
           -26.923076923076923
          ],
          [
           -29.23076923076923,
           -29.23076923076923,
           -29.23076923076923,
           -29.23076923076923,
           -29.23076923076923,
           -29.23076923076923,
           -29.23076923076923,
           -29.23076923076923,
           -29.23076923076923,
           -29.23076923076923,
           -29.23076923076923,
           -29.23076923076923,
           -29.23076923076923,
           -29.23076923076923
          ],
          [
           -31.538461538461537,
           -31.538461538461537,
           -31.538461538461537,
           -31.538461538461537,
           -31.538461538461537,
           -31.538461538461537,
           -31.538461538461537,
           -31.538461538461537,
           -31.538461538461537,
           -31.538461538461537,
           -31.538461538461537,
           -31.538461538461537,
           -31.538461538461537,
           -31.538461538461537
          ],
          [
           -33.84615384615385,
           -33.84615384615385,
           -33.84615384615385,
           -33.84615384615385,
           -33.84615384615385,
           -33.84615384615385,
           -33.84615384615385,
           -33.84615384615385,
           -33.84615384615385,
           -33.84615384615385,
           -33.84615384615385,
           -33.84615384615385,
           -33.84615384615385,
           -33.84615384615385
          ],
          [
           -36.15384615384615,
           -36.15384615384615,
           -36.15384615384615,
           -36.15384615384615,
           -36.15384615384615,
           -36.15384615384615,
           -36.15384615384615,
           -36.15384615384615,
           -36.15384615384615,
           -36.15384615384615,
           -36.15384615384615,
           -36.15384615384615,
           -36.15384615384615,
           -36.15384615384615
          ],
          [
           -38.46153846153846,
           -38.46153846153846,
           -38.46153846153846,
           -38.46153846153846,
           -38.46153846153846,
           -38.46153846153846,
           -38.46153846153846,
           -38.46153846153846,
           -38.46153846153846,
           -38.46153846153846,
           -38.46153846153846,
           -38.46153846153846,
           -38.46153846153846,
           -38.46153846153846
          ],
          [
           -40.76923076923077,
           -40.76923076923077,
           -40.76923076923077,
           -40.76923076923077,
           -40.76923076923077,
           -40.76923076923077,
           -40.76923076923077,
           -40.76923076923077,
           -40.76923076923077,
           -40.76923076923077,
           -40.76923076923077,
           -40.76923076923077,
           -40.76923076923077,
           -40.76923076923077
          ],
          [
           -43.07692307692307,
           -43.07692307692307,
           -43.07692307692307,
           -43.07692307692307,
           -43.07692307692307,
           -43.07692307692307,
           -43.07692307692307,
           -43.07692307692307,
           -43.07692307692307,
           -43.07692307692307,
           -43.07692307692307,
           -43.07692307692307,
           -43.07692307692307,
           -43.07692307692307
          ],
          [
           -45.38461538461539,
           -45.38461538461539,
           -45.38461538461539,
           -45.38461538461539,
           -45.38461538461539,
           -45.38461538461539,
           -45.38461538461539,
           -45.38461538461539,
           -45.38461538461539,
           -45.38461538461539,
           -45.38461538461539,
           -45.38461538461539,
           -45.38461538461539,
           -45.38461538461539
          ],
          [
           -47.69230769230769,
           -47.69230769230769,
           -47.69230769230769,
           -47.69230769230769,
           -47.69230769230769,
           -47.69230769230769,
           -47.69230769230769,
           -47.69230769230769,
           -47.69230769230769,
           -47.69230769230769,
           -47.69230769230769,
           -47.69230769230769,
           -47.69230769230769,
           -47.69230769230769
          ],
          [
           -50,
           -50,
           -50,
           -50,
           -50,
           -50,
           -50,
           -50,
           -50,
           -50,
           -50,
           -50,
           -50,
           -50
          ]
         ],
         "z": [
          [
           0,
           0,
           0,
           0,
           0,
           0,
           0,
           0,
           0,
           0,
           0,
           0,
           0,
           0
          ],
          [
           0,
           0,
           0,
           0,
           0,
           0,
           0,
           0,
           0,
           0,
           0,
           0,
           0,
           0
          ],
          [
           0,
           0,
           0,
           0,
           0,
           0,
           0,
           0,
           0,
           0,
           0,
           0,
           0,
           0
          ],
          [
           1644.980594234052,
           0,
           0,
           0,
           0,
           0,
           0,
           0,
           0,
           0,
           0,
           0,
           0,
           0
          ],
          [
           1754.3723417560554,
           1909.8325395256875,
           2094.7390439227993,
           2227.9386128955757,
           2424.0159759203234,
           0,
           0,
           0,
           0,
           0,
           0,
           0,
           0,
           0
          ],
          [
           1788.2045430504709,
           2000.1413546378,
           2190.305058708982,
           2371.3537140903036,
           2558.5512895262164,
           2739.5801973017606,
           2952.940767045773,
           3214.9367719308425,
           3466.5557538616613,
           3735.3170363506215,
           0,
           0,
           0,
           0
          ],
          [
           0,
           1966.1647004448694,
           2198.3824448956834,
           2406.630306539484,
           2628.232528338465,
           2841.123937142428,
           3075.0217970678323,
           3313.117422435157,
           3587.625013218626,
           3806.5197829441104,
           4047.9382879344603,
           4367.743365135736,
           4663.59332228527,
           4940.567125204681
          ],
          [
           0,
           0,
           0,
           2341.5561061591984,
           2620.508677832222,
           2860.8026951001307,
           3070.080476555144,
           3342.3986385739377,
           3615.798611908067,
           3884.913120210629,
           4153.804551436349,
           4400.790830427169,
           4726.356116262543,
           5047.331643437217
          ],
          [
           0,
           0,
           2072.466714492745,
           2330.5860203697243,
           2557.658358801618,
           2815.417280576389,
           3036.5172400182378,
           3208.0861999830076,
           3582.7250387411696,
           3729.1924952906106,
           4122.065786081355,
           4418.942030800599,
           4680.712750420262,
           5047.023684025272
          ],
          [
           0,
           0,
           0,
           0,
           0,
           0,
           2893.930734367178,
           3101.411775384202,
           3437.5820501842068,
           3471.219392817569,
           3967.94469788611,
           4100.601672669406,
           4286.250287317721,
           4684.996283693637
          ],
          [
           0,
           0,
           0,
           0,
           2103.616398487022,
           0,
           2629.487052966836,
           2855.5575882547664,
           3090.2071082396924,
           3319.4979150314202,
           3681.167788348438,
           3896.370488331139,
           4039.3285259462245,
           4526.540516619016
          ],
          [
           0,
           0,
           0,
           0,
           0,
           0,
           0,
           0,
           2739.535485487601,
           3017.5507816092586,
           3292.7919645160905,
           3523.666815884162,
           3877.2204774732354,
           4152.020321380764
          ],
          [
           0,
           0,
           0,
           0,
           0,
           0,
           0,
           0,
           0,
           0,
           2761.9226182195453,
           3032.9907750361886,
           3325.874247815789,
           3561.0982755884943
          ],
          [
           0,
           0,
           0,
           0,
           0,
           0,
           0,
           0,
           0,
           0,
           0,
           0,
           0,
           0
          ]
         ]
        }
       ],
       "layout": {
        "autosize": true,
        "margin": {
         "b": 65,
         "l": 65,
         "r": 50,
         "t": 90
        },
        "scene": {
         "camera": {
          "eye": {
           "x": 1.8,
           "y": 1.8,
           "z": 1.8
          }
         },
         "xaxis": {
          "title": {
           "text": "RPM"
          }
         },
         "yaxis": {
          "title": {
           "text": "Pitch change"
          }
         },
         "zaxis": {
          "title": {
           "text": "thrust [N]"
          }
         }
        },
        "template": {
         "data": {
          "bar": [
           {
            "error_x": {
             "color": "#2a3f5f"
            },
            "error_y": {
             "color": "#2a3f5f"
            },
            "marker": {
             "line": {
              "color": "#E5ECF6",
              "width": 0.5
             },
             "pattern": {
              "fillmode": "overlay",
              "size": 10,
              "solidity": 0.2
             }
            },
            "type": "bar"
           }
          ],
          "barpolar": [
           {
            "marker": {
             "line": {
              "color": "#E5ECF6",
              "width": 0.5
             },
             "pattern": {
              "fillmode": "overlay",
              "size": 10,
              "solidity": 0.2
             }
            },
            "type": "barpolar"
           }
          ],
          "carpet": [
           {
            "aaxis": {
             "endlinecolor": "#2a3f5f",
             "gridcolor": "white",
             "linecolor": "white",
             "minorgridcolor": "white",
             "startlinecolor": "#2a3f5f"
            },
            "baxis": {
             "endlinecolor": "#2a3f5f",
             "gridcolor": "white",
             "linecolor": "white",
             "minorgridcolor": "white",
             "startlinecolor": "#2a3f5f"
            },
            "type": "carpet"
           }
          ],
          "choropleth": [
           {
            "colorbar": {
             "outlinewidth": 0,
             "ticks": ""
            },
            "type": "choropleth"
           }
          ],
          "contour": [
           {
            "colorbar": {
             "outlinewidth": 0,
             "ticks": ""
            },
            "colorscale": [
             [
              0,
              "#0d0887"
             ],
             [
              0.1111111111111111,
              "#46039f"
             ],
             [
              0.2222222222222222,
              "#7201a8"
             ],
             [
              0.3333333333333333,
              "#9c179e"
             ],
             [
              0.4444444444444444,
              "#bd3786"
             ],
             [
              0.5555555555555556,
              "#d8576b"
             ],
             [
              0.6666666666666666,
              "#ed7953"
             ],
             [
              0.7777777777777778,
              "#fb9f3a"
             ],
             [
              0.8888888888888888,
              "#fdca26"
             ],
             [
              1,
              "#f0f921"
             ]
            ],
            "type": "contour"
           }
          ],
          "contourcarpet": [
           {
            "colorbar": {
             "outlinewidth": 0,
             "ticks": ""
            },
            "type": "contourcarpet"
           }
          ],
          "heatmap": [
           {
            "colorbar": {
             "outlinewidth": 0,
             "ticks": ""
            },
            "colorscale": [
             [
              0,
              "#0d0887"
             ],
             [
              0.1111111111111111,
              "#46039f"
             ],
             [
              0.2222222222222222,
              "#7201a8"
             ],
             [
              0.3333333333333333,
              "#9c179e"
             ],
             [
              0.4444444444444444,
              "#bd3786"
             ],
             [
              0.5555555555555556,
              "#d8576b"
             ],
             [
              0.6666666666666666,
              "#ed7953"
             ],
             [
              0.7777777777777778,
              "#fb9f3a"
             ],
             [
              0.8888888888888888,
              "#fdca26"
             ],
             [
              1,
              "#f0f921"
             ]
            ],
            "type": "heatmap"
           }
          ],
          "heatmapgl": [
           {
            "colorbar": {
             "outlinewidth": 0,
             "ticks": ""
            },
            "colorscale": [
             [
              0,
              "#0d0887"
             ],
             [
              0.1111111111111111,
              "#46039f"
             ],
             [
              0.2222222222222222,
              "#7201a8"
             ],
             [
              0.3333333333333333,
              "#9c179e"
             ],
             [
              0.4444444444444444,
              "#bd3786"
             ],
             [
              0.5555555555555556,
              "#d8576b"
             ],
             [
              0.6666666666666666,
              "#ed7953"
             ],
             [
              0.7777777777777778,
              "#fb9f3a"
             ],
             [
              0.8888888888888888,
              "#fdca26"
             ],
             [
              1,
              "#f0f921"
             ]
            ],
            "type": "heatmapgl"
           }
          ],
          "histogram": [
           {
            "marker": {
             "pattern": {
              "fillmode": "overlay",
              "size": 10,
              "solidity": 0.2
             }
            },
            "type": "histogram"
           }
          ],
          "histogram2d": [
           {
            "colorbar": {
             "outlinewidth": 0,
             "ticks": ""
            },
            "colorscale": [
             [
              0,
              "#0d0887"
             ],
             [
              0.1111111111111111,
              "#46039f"
             ],
             [
              0.2222222222222222,
              "#7201a8"
             ],
             [
              0.3333333333333333,
              "#9c179e"
             ],
             [
              0.4444444444444444,
              "#bd3786"
             ],
             [
              0.5555555555555556,
              "#d8576b"
             ],
             [
              0.6666666666666666,
              "#ed7953"
             ],
             [
              0.7777777777777778,
              "#fb9f3a"
             ],
             [
              0.8888888888888888,
              "#fdca26"
             ],
             [
              1,
              "#f0f921"
             ]
            ],
            "type": "histogram2d"
           }
          ],
          "histogram2dcontour": [
           {
            "colorbar": {
             "outlinewidth": 0,
             "ticks": ""
            },
            "colorscale": [
             [
              0,
              "#0d0887"
             ],
             [
              0.1111111111111111,
              "#46039f"
             ],
             [
              0.2222222222222222,
              "#7201a8"
             ],
             [
              0.3333333333333333,
              "#9c179e"
             ],
             [
              0.4444444444444444,
              "#bd3786"
             ],
             [
              0.5555555555555556,
              "#d8576b"
             ],
             [
              0.6666666666666666,
              "#ed7953"
             ],
             [
              0.7777777777777778,
              "#fb9f3a"
             ],
             [
              0.8888888888888888,
              "#fdca26"
             ],
             [
              1,
              "#f0f921"
             ]
            ],
            "type": "histogram2dcontour"
           }
          ],
          "mesh3d": [
           {
            "colorbar": {
             "outlinewidth": 0,
             "ticks": ""
            },
            "type": "mesh3d"
           }
          ],
          "parcoords": [
           {
            "line": {
             "colorbar": {
              "outlinewidth": 0,
              "ticks": ""
             }
            },
            "type": "parcoords"
           }
          ],
          "pie": [
           {
            "automargin": true,
            "type": "pie"
           }
          ],
          "scatter": [
           {
            "fillpattern": {
             "fillmode": "overlay",
             "size": 10,
             "solidity": 0.2
            },
            "type": "scatter"
           }
          ],
          "scatter3d": [
           {
            "line": {
             "colorbar": {
              "outlinewidth": 0,
              "ticks": ""
             }
            },
            "marker": {
             "colorbar": {
              "outlinewidth": 0,
              "ticks": ""
             }
            },
            "type": "scatter3d"
           }
          ],
          "scattercarpet": [
           {
            "marker": {
             "colorbar": {
              "outlinewidth": 0,
              "ticks": ""
             }
            },
            "type": "scattercarpet"
           }
          ],
          "scattergeo": [
           {
            "marker": {
             "colorbar": {
              "outlinewidth": 0,
              "ticks": ""
             }
            },
            "type": "scattergeo"
           }
          ],
          "scattergl": [
           {
            "marker": {
             "colorbar": {
              "outlinewidth": 0,
              "ticks": ""
             }
            },
            "type": "scattergl"
           }
          ],
          "scattermapbox": [
           {
            "marker": {
             "colorbar": {
              "outlinewidth": 0,
              "ticks": ""
             }
            },
            "type": "scattermapbox"
           }
          ],
          "scatterpolar": [
           {
            "marker": {
             "colorbar": {
              "outlinewidth": 0,
              "ticks": ""
             }
            },
            "type": "scatterpolar"
           }
          ],
          "scatterpolargl": [
           {
            "marker": {
             "colorbar": {
              "outlinewidth": 0,
              "ticks": ""
             }
            },
            "type": "scatterpolargl"
           }
          ],
          "scatterternary": [
           {
            "marker": {
             "colorbar": {
              "outlinewidth": 0,
              "ticks": ""
             }
            },
            "type": "scatterternary"
           }
          ],
          "surface": [
           {
            "colorbar": {
             "outlinewidth": 0,
             "ticks": ""
            },
            "colorscale": [
             [
              0,
              "#0d0887"
             ],
             [
              0.1111111111111111,
              "#46039f"
             ],
             [
              0.2222222222222222,
              "#7201a8"
             ],
             [
              0.3333333333333333,
              "#9c179e"
             ],
             [
              0.4444444444444444,
              "#bd3786"
             ],
             [
              0.5555555555555556,
              "#d8576b"
             ],
             [
              0.6666666666666666,
              "#ed7953"
             ],
             [
              0.7777777777777778,
              "#fb9f3a"
             ],
             [
              0.8888888888888888,
              "#fdca26"
             ],
             [
              1,
              "#f0f921"
             ]
            ],
            "type": "surface"
           }
          ],
          "table": [
           {
            "cells": {
             "fill": {
              "color": "#EBF0F8"
             },
             "line": {
              "color": "white"
             }
            },
            "header": {
             "fill": {
              "color": "#C8D4E3"
             },
             "line": {
              "color": "white"
             }
            },
            "type": "table"
           }
          ]
         },
         "layout": {
          "annotationdefaults": {
           "arrowcolor": "#2a3f5f",
           "arrowhead": 0,
           "arrowwidth": 1
          },
          "autotypenumbers": "strict",
          "coloraxis": {
           "colorbar": {
            "outlinewidth": 0,
            "ticks": ""
           }
          },
          "colorscale": {
           "diverging": [
            [
             0,
             "#8e0152"
            ],
            [
             0.1,
             "#c51b7d"
            ],
            [
             0.2,
             "#de77ae"
            ],
            [
             0.3,
             "#f1b6da"
            ],
            [
             0.4,
             "#fde0ef"
            ],
            [
             0.5,
             "#f7f7f7"
            ],
            [
             0.6,
             "#e6f5d0"
            ],
            [
             0.7,
             "#b8e186"
            ],
            [
             0.8,
             "#7fbc41"
            ],
            [
             0.9,
             "#4d9221"
            ],
            [
             1,
             "#276419"
            ]
           ],
           "sequential": [
            [
             0,
             "#0d0887"
            ],
            [
             0.1111111111111111,
             "#46039f"
            ],
            [
             0.2222222222222222,
             "#7201a8"
            ],
            [
             0.3333333333333333,
             "#9c179e"
            ],
            [
             0.4444444444444444,
             "#bd3786"
            ],
            [
             0.5555555555555556,
             "#d8576b"
            ],
            [
             0.6666666666666666,
             "#ed7953"
            ],
            [
             0.7777777777777778,
             "#fb9f3a"
            ],
            [
             0.8888888888888888,
             "#fdca26"
            ],
            [
             1,
             "#f0f921"
            ]
           ],
           "sequentialminus": [
            [
             0,
             "#0d0887"
            ],
            [
             0.1111111111111111,
             "#46039f"
            ],
            [
             0.2222222222222222,
             "#7201a8"
            ],
            [
             0.3333333333333333,
             "#9c179e"
            ],
            [
             0.4444444444444444,
             "#bd3786"
            ],
            [
             0.5555555555555556,
             "#d8576b"
            ],
            [
             0.6666666666666666,
             "#ed7953"
            ],
            [
             0.7777777777777778,
             "#fb9f3a"
            ],
            [
             0.8888888888888888,
             "#fdca26"
            ],
            [
             1,
             "#f0f921"
            ]
           ]
          },
          "colorway": [
           "#636efa",
           "#EF553B",
           "#00cc96",
           "#ab63fa",
           "#FFA15A",
           "#19d3f3",
           "#FF6692",
           "#B6E880",
           "#FF97FF",
           "#FECB52"
          ],
          "font": {
           "color": "#2a3f5f"
          },
          "geo": {
           "bgcolor": "white",
           "lakecolor": "white",
           "landcolor": "#E5ECF6",
           "showlakes": true,
           "showland": true,
           "subunitcolor": "white"
          },
          "hoverlabel": {
           "align": "left"
          },
          "hovermode": "closest",
          "mapbox": {
           "style": "light"
          },
          "paper_bgcolor": "white",
          "plot_bgcolor": "#E5ECF6",
          "polar": {
           "angularaxis": {
            "gridcolor": "white",
            "linecolor": "white",
            "ticks": ""
           },
           "bgcolor": "#E5ECF6",
           "radialaxis": {
            "gridcolor": "white",
            "linecolor": "white",
            "ticks": ""
           }
          },
          "scene": {
           "xaxis": {
            "backgroundcolor": "#E5ECF6",
            "gridcolor": "white",
            "gridwidth": 2,
            "linecolor": "white",
            "showbackground": true,
            "ticks": "",
            "zerolinecolor": "white"
           },
           "yaxis": {
            "backgroundcolor": "#E5ECF6",
            "gridcolor": "white",
            "gridwidth": 2,
            "linecolor": "white",
            "showbackground": true,
            "ticks": "",
            "zerolinecolor": "white"
           },
           "zaxis": {
            "backgroundcolor": "#E5ECF6",
            "gridcolor": "white",
            "gridwidth": 2,
            "linecolor": "white",
            "showbackground": true,
            "ticks": "",
            "zerolinecolor": "white"
           }
          },
          "shapedefaults": {
           "line": {
            "color": "#2a3f5f"
           }
          },
          "ternary": {
           "aaxis": {
            "gridcolor": "white",
            "linecolor": "white",
            "ticks": ""
           },
           "baxis": {
            "gridcolor": "white",
            "linecolor": "white",
            "ticks": ""
           },
           "bgcolor": "#E5ECF6",
           "caxis": {
            "gridcolor": "white",
            "linecolor": "white",
            "ticks": ""
           }
          },
          "title": {
           "x": 0.05
          },
          "xaxis": {
           "automargin": true,
           "gridcolor": "white",
           "linecolor": "white",
           "ticks": "",
           "title": {
            "standoff": 15
           },
           "zerolinecolor": "white",
           "zerolinewidth": 2
          },
          "yaxis": {
           "automargin": true,
           "gridcolor": "white",
           "linecolor": "white",
           "ticks": "",
           "title": {
            "standoff": 15
           },
           "zerolinecolor": "white",
           "zerolinewidth": 2
          }
         }
        },
        "title": {
         "text": "thrust plot 14 x 14 mesh "
        }
       }
      }
     },
     "metadata": {},
     "output_type": "display_data"
    },
    {
     "data": {
      "application/vnd.plotly.v1+json": {
       "config": {
        "plotlyServerURL": "https://plot.ly"
       },
       "data": [
        {
         "type": "surface",
         "x": [
          [
           2500,
           2625.802554349726,
           2751.605108699452,
           2877.407663049178,
           3003.2102173989047,
           3129.0127717486307,
           3254.8153260983568,
           3380.617880448083,
           3506.420434797809,
           3632.2229891475354,
           3758.0255434972614,
           3883.8280978469875,
           4009.6306521967135,
           4135.43320654644
          ],
          [
           2500,
           2625.802554349726,
           2751.605108699452,
           2877.407663049178,
           3003.2102173989047,
           3129.0127717486307,
           3254.8153260983568,
           3380.617880448083,
           3506.420434797809,
           3632.2229891475354,
           3758.0255434972614,
           3883.8280978469875,
           4009.6306521967135,
           4135.43320654644
          ],
          [
           2500,
           2625.802554349726,
           2751.605108699452,
           2877.407663049178,
           3003.2102173989047,
           3129.0127717486307,
           3254.8153260983568,
           3380.617880448083,
           3506.420434797809,
           3632.2229891475354,
           3758.0255434972614,
           3883.8280978469875,
           4009.6306521967135,
           4135.43320654644
          ],
          [
           2500,
           2625.802554349726,
           2751.605108699452,
           2877.407663049178,
           3003.2102173989047,
           3129.0127717486307,
           3254.8153260983568,
           3380.617880448083,
           3506.420434797809,
           3632.2229891475354,
           3758.0255434972614,
           3883.8280978469875,
           4009.6306521967135,
           4135.43320654644
          ],
          [
           2500,
           2625.802554349726,
           2751.605108699452,
           2877.407663049178,
           3003.2102173989047,
           3129.0127717486307,
           3254.8153260983568,
           3380.617880448083,
           3506.420434797809,
           3632.2229891475354,
           3758.0255434972614,
           3883.8280978469875,
           4009.6306521967135,
           4135.43320654644
          ],
          [
           2500,
           2625.802554349726,
           2751.605108699452,
           2877.407663049178,
           3003.2102173989047,
           3129.0127717486307,
           3254.8153260983568,
           3380.617880448083,
           3506.420434797809,
           3632.2229891475354,
           3758.0255434972614,
           3883.8280978469875,
           4009.6306521967135,
           4135.43320654644
          ],
          [
           2500,
           2625.802554349726,
           2751.605108699452,
           2877.407663049178,
           3003.2102173989047,
           3129.0127717486307,
           3254.8153260983568,
           3380.617880448083,
           3506.420434797809,
           3632.2229891475354,
           3758.0255434972614,
           3883.8280978469875,
           4009.6306521967135,
           4135.43320654644
          ],
          [
           2500,
           2625.802554349726,
           2751.605108699452,
           2877.407663049178,
           3003.2102173989047,
           3129.0127717486307,
           3254.8153260983568,
           3380.617880448083,
           3506.420434797809,
           3632.2229891475354,
           3758.0255434972614,
           3883.8280978469875,
           4009.6306521967135,
           4135.43320654644
          ],
          [
           2500,
           2625.802554349726,
           2751.605108699452,
           2877.407663049178,
           3003.2102173989047,
           3129.0127717486307,
           3254.8153260983568,
           3380.617880448083,
           3506.420434797809,
           3632.2229891475354,
           3758.0255434972614,
           3883.8280978469875,
           4009.6306521967135,
           4135.43320654644
          ],
          [
           2500,
           2625.802554349726,
           2751.605108699452,
           2877.407663049178,
           3003.2102173989047,
           3129.0127717486307,
           3254.8153260983568,
           3380.617880448083,
           3506.420434797809,
           3632.2229891475354,
           3758.0255434972614,
           3883.8280978469875,
           4009.6306521967135,
           4135.43320654644
          ],
          [
           2500,
           2625.802554349726,
           2751.605108699452,
           2877.407663049178,
           3003.2102173989047,
           3129.0127717486307,
           3254.8153260983568,
           3380.617880448083,
           3506.420434797809,
           3632.2229891475354,
           3758.0255434972614,
           3883.8280978469875,
           4009.6306521967135,
           4135.43320654644
          ],
          [
           2500,
           2625.802554349726,
           2751.605108699452,
           2877.407663049178,
           3003.2102173989047,
           3129.0127717486307,
           3254.8153260983568,
           3380.617880448083,
           3506.420434797809,
           3632.2229891475354,
           3758.0255434972614,
           3883.8280978469875,
           4009.6306521967135,
           4135.43320654644
          ],
          [
           2500,
           2625.802554349726,
           2751.605108699452,
           2877.407663049178,
           3003.2102173989047,
           3129.0127717486307,
           3254.8153260983568,
           3380.617880448083,
           3506.420434797809,
           3632.2229891475354,
           3758.0255434972614,
           3883.8280978469875,
           4009.6306521967135,
           4135.43320654644
          ],
          [
           2500,
           2625.802554349726,
           2751.605108699452,
           2877.407663049178,
           3003.2102173989047,
           3129.0127717486307,
           3254.8153260983568,
           3380.617880448083,
           3506.420434797809,
           3632.2229891475354,
           3758.0255434972614,
           3883.8280978469875,
           4009.6306521967135,
           4135.43320654644
          ]
         ],
         "y": [
          [
           -20,
           -20,
           -20,
           -20,
           -20,
           -20,
           -20,
           -20,
           -20,
           -20,
           -20,
           -20,
           -20,
           -20
          ],
          [
           -22.307692307692307,
           -22.307692307692307,
           -22.307692307692307,
           -22.307692307692307,
           -22.307692307692307,
           -22.307692307692307,
           -22.307692307692307,
           -22.307692307692307,
           -22.307692307692307,
           -22.307692307692307,
           -22.307692307692307,
           -22.307692307692307,
           -22.307692307692307,
           -22.307692307692307
          ],
          [
           -24.615384615384613,
           -24.615384615384613,
           -24.615384615384613,
           -24.615384615384613,
           -24.615384615384613,
           -24.615384615384613,
           -24.615384615384613,
           -24.615384615384613,
           -24.615384615384613,
           -24.615384615384613,
           -24.615384615384613,
           -24.615384615384613,
           -24.615384615384613,
           -24.615384615384613
          ],
          [
           -26.923076923076923,
           -26.923076923076923,
           -26.923076923076923,
           -26.923076923076923,
           -26.923076923076923,
           -26.923076923076923,
           -26.923076923076923,
           -26.923076923076923,
           -26.923076923076923,
           -26.923076923076923,
           -26.923076923076923,
           -26.923076923076923,
           -26.923076923076923,
           -26.923076923076923
          ],
          [
           -29.23076923076923,
           -29.23076923076923,
           -29.23076923076923,
           -29.23076923076923,
           -29.23076923076923,
           -29.23076923076923,
           -29.23076923076923,
           -29.23076923076923,
           -29.23076923076923,
           -29.23076923076923,
           -29.23076923076923,
           -29.23076923076923,
           -29.23076923076923,
           -29.23076923076923
          ],
          [
           -31.538461538461537,
           -31.538461538461537,
           -31.538461538461537,
           -31.538461538461537,
           -31.538461538461537,
           -31.538461538461537,
           -31.538461538461537,
           -31.538461538461537,
           -31.538461538461537,
           -31.538461538461537,
           -31.538461538461537,
           -31.538461538461537,
           -31.538461538461537,
           -31.538461538461537
          ],
          [
           -33.84615384615385,
           -33.84615384615385,
           -33.84615384615385,
           -33.84615384615385,
           -33.84615384615385,
           -33.84615384615385,
           -33.84615384615385,
           -33.84615384615385,
           -33.84615384615385,
           -33.84615384615385,
           -33.84615384615385,
           -33.84615384615385,
           -33.84615384615385,
           -33.84615384615385
          ],
          [
           -36.15384615384615,
           -36.15384615384615,
           -36.15384615384615,
           -36.15384615384615,
           -36.15384615384615,
           -36.15384615384615,
           -36.15384615384615,
           -36.15384615384615,
           -36.15384615384615,
           -36.15384615384615,
           -36.15384615384615,
           -36.15384615384615,
           -36.15384615384615,
           -36.15384615384615
          ],
          [
           -38.46153846153846,
           -38.46153846153846,
           -38.46153846153846,
           -38.46153846153846,
           -38.46153846153846,
           -38.46153846153846,
           -38.46153846153846,
           -38.46153846153846,
           -38.46153846153846,
           -38.46153846153846,
           -38.46153846153846,
           -38.46153846153846,
           -38.46153846153846,
           -38.46153846153846
          ],
          [
           -40.76923076923077,
           -40.76923076923077,
           -40.76923076923077,
           -40.76923076923077,
           -40.76923076923077,
           -40.76923076923077,
           -40.76923076923077,
           -40.76923076923077,
           -40.76923076923077,
           -40.76923076923077,
           -40.76923076923077,
           -40.76923076923077,
           -40.76923076923077,
           -40.76923076923077
          ],
          [
           -43.07692307692307,
           -43.07692307692307,
           -43.07692307692307,
           -43.07692307692307,
           -43.07692307692307,
           -43.07692307692307,
           -43.07692307692307,
           -43.07692307692307,
           -43.07692307692307,
           -43.07692307692307,
           -43.07692307692307,
           -43.07692307692307,
           -43.07692307692307,
           -43.07692307692307
          ],
          [
           -45.38461538461539,
           -45.38461538461539,
           -45.38461538461539,
           -45.38461538461539,
           -45.38461538461539,
           -45.38461538461539,
           -45.38461538461539,
           -45.38461538461539,
           -45.38461538461539,
           -45.38461538461539,
           -45.38461538461539,
           -45.38461538461539,
           -45.38461538461539,
           -45.38461538461539
          ],
          [
           -47.69230769230769,
           -47.69230769230769,
           -47.69230769230769,
           -47.69230769230769,
           -47.69230769230769,
           -47.69230769230769,
           -47.69230769230769,
           -47.69230769230769,
           -47.69230769230769,
           -47.69230769230769,
           -47.69230769230769,
           -47.69230769230769,
           -47.69230769230769,
           -47.69230769230769
          ],
          [
           -50,
           -50,
           -50,
           -50,
           -50,
           -50,
           -50,
           -50,
           -50,
           -50,
           -50,
           -50,
           -50,
           -50
          ]
         ],
         "z": [
          [
           0,
           0,
           0,
           0,
           0,
           0,
           0,
           0,
           0,
           0,
           0,
           0,
           0,
           0
          ],
          [
           0,
           0,
           0,
           0,
           0,
           0,
           0,
           0,
           0,
           0,
           0,
           0,
           0,
           0
          ],
          [
           0,
           0,
           0,
           0,
           0,
           0,
           0,
           0,
           0,
           0,
           0,
           0,
           0,
           0
          ],
          [
           36.919999018367356,
           0,
           0,
           0,
           0,
           0,
           0,
           0,
           0,
           0,
           0,
           0,
           0,
           0
          ],
          [
           39.68253083054811,
           38.69048761684692,
           37.882292064555,
           34.99321315821065,
           34.88265370061184,
           0,
           0,
           0,
           0,
           0,
           0,
           0,
           0,
           0
          ],
          [
           40.937764840198156,
           40.920622891142244,
           40.350144903607806,
           40.24237637306178,
           38.29020264610671,
           37.633573911947174,
           36.379114722593044,
           36.40848742193115,
           35.904066827020515,
           34.9921356778722,
           0,
           0,
           0,
           0
          ],
          [
           0,
           40.184188323475574,
           41.51511122145246,
           40.8795916269863,
           40.94124196390509,
           40.77488002556222,
           39.592087074602034,
           40.031880832569136,
           38.40725168993503,
           37.24866071897278,
           37.26591950053619,
           37.116995836746355,
           36.21110405496593,
           36.14321925298259
          ],
          [
           0,
           0,
           0,
           37.523001462832504,
           39.29527056042725,
           41.668663106579004,
           40.341702494797445,
           42.215732049146965,
           41.301888120446236,
           38.439546182273595,
           38.50555777050438,
           38.40009076537903,
           38.52325353820185,
           37.299871688713914
          ],
          [
           0,
           0,
           44.66449859198292,
           46.41931727436887,
           45.9511332293449,
           45.41193562221258,
           45.22083629841256,
           44.06930095850611,
           42.40924234513726,
           40.64090553848458,
           41.61461240459694,
           42.33984739450889,
           39.44828193158662,
           40.349827322642476
          ],
          [
           0,
           0,
           0,
           0,
           0,
           0,
           46.69610329606124,
           41.49341015988649,
           43.49455908782797,
           41.33047494526897,
           38.71806555068772,
           38.12395607717384,
           38.65331926190578,
           34.911009400340674
          ],
          [
           0,
           0,
           0,
           0,
           45.247588243882895,
           0,
           47.04752494500023,
           47.621247915943535,
           44.73541138776022,
           42.177391473756934,
           42.77706297166548,
           46.478633803099676,
           43.99239377912813,
           36.75450916541944
          ],
          [
           0,
           0,
           0,
           0,
           0,
           0,
           0,
           0,
           46.38529180435543,
           45.65699800276361,
           45.36481571981817,
           46.86509041452969,
           45.185947445964764,
           43.906829617674944
          ],
          [
           0,
           0,
           0,
           0,
           0,
           0,
           0,
           0,
           0,
           0,
           46.828461810350866,
           46.15817251934705,
           45.676120942320686,
           44.23548646115791
          ],
          [
           0,
           0,
           0,
           0,
           0,
           0,
           0,
           0,
           0,
           0,
           0,
           0,
           0,
           0
          ]
         ]
        }
       ],
       "layout": {
        "autosize": true,
        "margin": {
         "b": 65,
         "l": 65,
         "r": 50,
         "t": 90
        },
        "scene": {
         "camera": {
          "eye": {
           "x": 1.8,
           "y": 1.8,
           "z": 1.8
          }
         },
         "xaxis": {
          "title": {
           "text": "RPM"
          }
         },
         "yaxis": {
          "title": {
           "text": "Pitch change"
          }
         },
         "zaxis": {
          "title": {
           "text": "Efficiency [N]"
          }
         }
        },
        "template": {
         "data": {
          "bar": [
           {
            "error_x": {
             "color": "#2a3f5f"
            },
            "error_y": {
             "color": "#2a3f5f"
            },
            "marker": {
             "line": {
              "color": "#E5ECF6",
              "width": 0.5
             },
             "pattern": {
              "fillmode": "overlay",
              "size": 10,
              "solidity": 0.2
             }
            },
            "type": "bar"
           }
          ],
          "barpolar": [
           {
            "marker": {
             "line": {
              "color": "#E5ECF6",
              "width": 0.5
             },
             "pattern": {
              "fillmode": "overlay",
              "size": 10,
              "solidity": 0.2
             }
            },
            "type": "barpolar"
           }
          ],
          "carpet": [
           {
            "aaxis": {
             "endlinecolor": "#2a3f5f",
             "gridcolor": "white",
             "linecolor": "white",
             "minorgridcolor": "white",
             "startlinecolor": "#2a3f5f"
            },
            "baxis": {
             "endlinecolor": "#2a3f5f",
             "gridcolor": "white",
             "linecolor": "white",
             "minorgridcolor": "white",
             "startlinecolor": "#2a3f5f"
            },
            "type": "carpet"
           }
          ],
          "choropleth": [
           {
            "colorbar": {
             "outlinewidth": 0,
             "ticks": ""
            },
            "type": "choropleth"
           }
          ],
          "contour": [
           {
            "colorbar": {
             "outlinewidth": 0,
             "ticks": ""
            },
            "colorscale": [
             [
              0,
              "#0d0887"
             ],
             [
              0.1111111111111111,
              "#46039f"
             ],
             [
              0.2222222222222222,
              "#7201a8"
             ],
             [
              0.3333333333333333,
              "#9c179e"
             ],
             [
              0.4444444444444444,
              "#bd3786"
             ],
             [
              0.5555555555555556,
              "#d8576b"
             ],
             [
              0.6666666666666666,
              "#ed7953"
             ],
             [
              0.7777777777777778,
              "#fb9f3a"
             ],
             [
              0.8888888888888888,
              "#fdca26"
             ],
             [
              1,
              "#f0f921"
             ]
            ],
            "type": "contour"
           }
          ],
          "contourcarpet": [
           {
            "colorbar": {
             "outlinewidth": 0,
             "ticks": ""
            },
            "type": "contourcarpet"
           }
          ],
          "heatmap": [
           {
            "colorbar": {
             "outlinewidth": 0,
             "ticks": ""
            },
            "colorscale": [
             [
              0,
              "#0d0887"
             ],
             [
              0.1111111111111111,
              "#46039f"
             ],
             [
              0.2222222222222222,
              "#7201a8"
             ],
             [
              0.3333333333333333,
              "#9c179e"
             ],
             [
              0.4444444444444444,
              "#bd3786"
             ],
             [
              0.5555555555555556,
              "#d8576b"
             ],
             [
              0.6666666666666666,
              "#ed7953"
             ],
             [
              0.7777777777777778,
              "#fb9f3a"
             ],
             [
              0.8888888888888888,
              "#fdca26"
             ],
             [
              1,
              "#f0f921"
             ]
            ],
            "type": "heatmap"
           }
          ],
          "heatmapgl": [
           {
            "colorbar": {
             "outlinewidth": 0,
             "ticks": ""
            },
            "colorscale": [
             [
              0,
              "#0d0887"
             ],
             [
              0.1111111111111111,
              "#46039f"
             ],
             [
              0.2222222222222222,
              "#7201a8"
             ],
             [
              0.3333333333333333,
              "#9c179e"
             ],
             [
              0.4444444444444444,
              "#bd3786"
             ],
             [
              0.5555555555555556,
              "#d8576b"
             ],
             [
              0.6666666666666666,
              "#ed7953"
             ],
             [
              0.7777777777777778,
              "#fb9f3a"
             ],
             [
              0.8888888888888888,
              "#fdca26"
             ],
             [
              1,
              "#f0f921"
             ]
            ],
            "type": "heatmapgl"
           }
          ],
          "histogram": [
           {
            "marker": {
             "pattern": {
              "fillmode": "overlay",
              "size": 10,
              "solidity": 0.2
             }
            },
            "type": "histogram"
           }
          ],
          "histogram2d": [
           {
            "colorbar": {
             "outlinewidth": 0,
             "ticks": ""
            },
            "colorscale": [
             [
              0,
              "#0d0887"
             ],
             [
              0.1111111111111111,
              "#46039f"
             ],
             [
              0.2222222222222222,
              "#7201a8"
             ],
             [
              0.3333333333333333,
              "#9c179e"
             ],
             [
              0.4444444444444444,
              "#bd3786"
             ],
             [
              0.5555555555555556,
              "#d8576b"
             ],
             [
              0.6666666666666666,
              "#ed7953"
             ],
             [
              0.7777777777777778,
              "#fb9f3a"
             ],
             [
              0.8888888888888888,
              "#fdca26"
             ],
             [
              1,
              "#f0f921"
             ]
            ],
            "type": "histogram2d"
           }
          ],
          "histogram2dcontour": [
           {
            "colorbar": {
             "outlinewidth": 0,
             "ticks": ""
            },
            "colorscale": [
             [
              0,
              "#0d0887"
             ],
             [
              0.1111111111111111,
              "#46039f"
             ],
             [
              0.2222222222222222,
              "#7201a8"
             ],
             [
              0.3333333333333333,
              "#9c179e"
             ],
             [
              0.4444444444444444,
              "#bd3786"
             ],
             [
              0.5555555555555556,
              "#d8576b"
             ],
             [
              0.6666666666666666,
              "#ed7953"
             ],
             [
              0.7777777777777778,
              "#fb9f3a"
             ],
             [
              0.8888888888888888,
              "#fdca26"
             ],
             [
              1,
              "#f0f921"
             ]
            ],
            "type": "histogram2dcontour"
           }
          ],
          "mesh3d": [
           {
            "colorbar": {
             "outlinewidth": 0,
             "ticks": ""
            },
            "type": "mesh3d"
           }
          ],
          "parcoords": [
           {
            "line": {
             "colorbar": {
              "outlinewidth": 0,
              "ticks": ""
             }
            },
            "type": "parcoords"
           }
          ],
          "pie": [
           {
            "automargin": true,
            "type": "pie"
           }
          ],
          "scatter": [
           {
            "fillpattern": {
             "fillmode": "overlay",
             "size": 10,
             "solidity": 0.2
            },
            "type": "scatter"
           }
          ],
          "scatter3d": [
           {
            "line": {
             "colorbar": {
              "outlinewidth": 0,
              "ticks": ""
             }
            },
            "marker": {
             "colorbar": {
              "outlinewidth": 0,
              "ticks": ""
             }
            },
            "type": "scatter3d"
           }
          ],
          "scattercarpet": [
           {
            "marker": {
             "colorbar": {
              "outlinewidth": 0,
              "ticks": ""
             }
            },
            "type": "scattercarpet"
           }
          ],
          "scattergeo": [
           {
            "marker": {
             "colorbar": {
              "outlinewidth": 0,
              "ticks": ""
             }
            },
            "type": "scattergeo"
           }
          ],
          "scattergl": [
           {
            "marker": {
             "colorbar": {
              "outlinewidth": 0,
              "ticks": ""
             }
            },
            "type": "scattergl"
           }
          ],
          "scattermapbox": [
           {
            "marker": {
             "colorbar": {
              "outlinewidth": 0,
              "ticks": ""
             }
            },
            "type": "scattermapbox"
           }
          ],
          "scatterpolar": [
           {
            "marker": {
             "colorbar": {
              "outlinewidth": 0,
              "ticks": ""
             }
            },
            "type": "scatterpolar"
           }
          ],
          "scatterpolargl": [
           {
            "marker": {
             "colorbar": {
              "outlinewidth": 0,
              "ticks": ""
             }
            },
            "type": "scatterpolargl"
           }
          ],
          "scatterternary": [
           {
            "marker": {
             "colorbar": {
              "outlinewidth": 0,
              "ticks": ""
             }
            },
            "type": "scatterternary"
           }
          ],
          "surface": [
           {
            "colorbar": {
             "outlinewidth": 0,
             "ticks": ""
            },
            "colorscale": [
             [
              0,
              "#0d0887"
             ],
             [
              0.1111111111111111,
              "#46039f"
             ],
             [
              0.2222222222222222,
              "#7201a8"
             ],
             [
              0.3333333333333333,
              "#9c179e"
             ],
             [
              0.4444444444444444,
              "#bd3786"
             ],
             [
              0.5555555555555556,
              "#d8576b"
             ],
             [
              0.6666666666666666,
              "#ed7953"
             ],
             [
              0.7777777777777778,
              "#fb9f3a"
             ],
             [
              0.8888888888888888,
              "#fdca26"
             ],
             [
              1,
              "#f0f921"
             ]
            ],
            "type": "surface"
           }
          ],
          "table": [
           {
            "cells": {
             "fill": {
              "color": "#EBF0F8"
             },
             "line": {
              "color": "white"
             }
            },
            "header": {
             "fill": {
              "color": "#C8D4E3"
             },
             "line": {
              "color": "white"
             }
            },
            "type": "table"
           }
          ]
         },
         "layout": {
          "annotationdefaults": {
           "arrowcolor": "#2a3f5f",
           "arrowhead": 0,
           "arrowwidth": 1
          },
          "autotypenumbers": "strict",
          "coloraxis": {
           "colorbar": {
            "outlinewidth": 0,
            "ticks": ""
           }
          },
          "colorscale": {
           "diverging": [
            [
             0,
             "#8e0152"
            ],
            [
             0.1,
             "#c51b7d"
            ],
            [
             0.2,
             "#de77ae"
            ],
            [
             0.3,
             "#f1b6da"
            ],
            [
             0.4,
             "#fde0ef"
            ],
            [
             0.5,
             "#f7f7f7"
            ],
            [
             0.6,
             "#e6f5d0"
            ],
            [
             0.7,
             "#b8e186"
            ],
            [
             0.8,
             "#7fbc41"
            ],
            [
             0.9,
             "#4d9221"
            ],
            [
             1,
             "#276419"
            ]
           ],
           "sequential": [
            [
             0,
             "#0d0887"
            ],
            [
             0.1111111111111111,
             "#46039f"
            ],
            [
             0.2222222222222222,
             "#7201a8"
            ],
            [
             0.3333333333333333,
             "#9c179e"
            ],
            [
             0.4444444444444444,
             "#bd3786"
            ],
            [
             0.5555555555555556,
             "#d8576b"
            ],
            [
             0.6666666666666666,
             "#ed7953"
            ],
            [
             0.7777777777777778,
             "#fb9f3a"
            ],
            [
             0.8888888888888888,
             "#fdca26"
            ],
            [
             1,
             "#f0f921"
            ]
           ],
           "sequentialminus": [
            [
             0,
             "#0d0887"
            ],
            [
             0.1111111111111111,
             "#46039f"
            ],
            [
             0.2222222222222222,
             "#7201a8"
            ],
            [
             0.3333333333333333,
             "#9c179e"
            ],
            [
             0.4444444444444444,
             "#bd3786"
            ],
            [
             0.5555555555555556,
             "#d8576b"
            ],
            [
             0.6666666666666666,
             "#ed7953"
            ],
            [
             0.7777777777777778,
             "#fb9f3a"
            ],
            [
             0.8888888888888888,
             "#fdca26"
            ],
            [
             1,
             "#f0f921"
            ]
           ]
          },
          "colorway": [
           "#636efa",
           "#EF553B",
           "#00cc96",
           "#ab63fa",
           "#FFA15A",
           "#19d3f3",
           "#FF6692",
           "#B6E880",
           "#FF97FF",
           "#FECB52"
          ],
          "font": {
           "color": "#2a3f5f"
          },
          "geo": {
           "bgcolor": "white",
           "lakecolor": "white",
           "landcolor": "#E5ECF6",
           "showlakes": true,
           "showland": true,
           "subunitcolor": "white"
          },
          "hoverlabel": {
           "align": "left"
          },
          "hovermode": "closest",
          "mapbox": {
           "style": "light"
          },
          "paper_bgcolor": "white",
          "plot_bgcolor": "#E5ECF6",
          "polar": {
           "angularaxis": {
            "gridcolor": "white",
            "linecolor": "white",
            "ticks": ""
           },
           "bgcolor": "#E5ECF6",
           "radialaxis": {
            "gridcolor": "white",
            "linecolor": "white",
            "ticks": ""
           }
          },
          "scene": {
           "xaxis": {
            "backgroundcolor": "#E5ECF6",
            "gridcolor": "white",
            "gridwidth": 2,
            "linecolor": "white",
            "showbackground": true,
            "ticks": "",
            "zerolinecolor": "white"
           },
           "yaxis": {
            "backgroundcolor": "#E5ECF6",
            "gridcolor": "white",
            "gridwidth": 2,
            "linecolor": "white",
            "showbackground": true,
            "ticks": "",
            "zerolinecolor": "white"
           },
           "zaxis": {
            "backgroundcolor": "#E5ECF6",
            "gridcolor": "white",
            "gridwidth": 2,
            "linecolor": "white",
            "showbackground": true,
            "ticks": "",
            "zerolinecolor": "white"
           }
          },
          "shapedefaults": {
           "line": {
            "color": "#2a3f5f"
           }
          },
          "ternary": {
           "aaxis": {
            "gridcolor": "white",
            "linecolor": "white",
            "ticks": ""
           },
           "baxis": {
            "gridcolor": "white",
            "linecolor": "white",
            "ticks": ""
           },
           "bgcolor": "#E5ECF6",
           "caxis": {
            "gridcolor": "white",
            "linecolor": "white",
            "ticks": ""
           }
          },
          "title": {
           "x": 0.05
          },
          "xaxis": {
           "automargin": true,
           "gridcolor": "white",
           "linecolor": "white",
           "ticks": "",
           "title": {
            "standoff": 15
           },
           "zerolinecolor": "white",
           "zerolinewidth": 2
          },
          "yaxis": {
           "automargin": true,
           "gridcolor": "white",
           "linecolor": "white",
           "ticks": "",
           "title": {
            "standoff": 15
           },
           "zerolinecolor": "white",
           "zerolinewidth": 2
          }
         }
        },
        "title": {
         "text": "Efficiency plot 14 x 14 mesh "
        }
       }
      }
     },
     "metadata": {},
     "output_type": "display_data"
    },
    {
     "data": {
      "application/vnd.plotly.v1+json": {
       "config": {
        "plotlyServerURL": "https://plot.ly"
       },
       "data": [
        {
         "type": "surface",
         "x": [
          [
           2500,
           2625.802554349726,
           2751.605108699452,
           2877.407663049178,
           3003.2102173989047,
           3129.0127717486307,
           3254.8153260983568,
           3380.617880448083,
           3506.420434797809,
           3632.2229891475354,
           3758.0255434972614,
           3883.8280978469875,
           4009.6306521967135,
           4135.43320654644
          ],
          [
           2500,
           2625.802554349726,
           2751.605108699452,
           2877.407663049178,
           3003.2102173989047,
           3129.0127717486307,
           3254.8153260983568,
           3380.617880448083,
           3506.420434797809,
           3632.2229891475354,
           3758.0255434972614,
           3883.8280978469875,
           4009.6306521967135,
           4135.43320654644
          ],
          [
           2500,
           2625.802554349726,
           2751.605108699452,
           2877.407663049178,
           3003.2102173989047,
           3129.0127717486307,
           3254.8153260983568,
           3380.617880448083,
           3506.420434797809,
           3632.2229891475354,
           3758.0255434972614,
           3883.8280978469875,
           4009.6306521967135,
           4135.43320654644
          ],
          [
           2500,
           2625.802554349726,
           2751.605108699452,
           2877.407663049178,
           3003.2102173989047,
           3129.0127717486307,
           3254.8153260983568,
           3380.617880448083,
           3506.420434797809,
           3632.2229891475354,
           3758.0255434972614,
           3883.8280978469875,
           4009.6306521967135,
           4135.43320654644
          ],
          [
           2500,
           2625.802554349726,
           2751.605108699452,
           2877.407663049178,
           3003.2102173989047,
           3129.0127717486307,
           3254.8153260983568,
           3380.617880448083,
           3506.420434797809,
           3632.2229891475354,
           3758.0255434972614,
           3883.8280978469875,
           4009.6306521967135,
           4135.43320654644
          ],
          [
           2500,
           2625.802554349726,
           2751.605108699452,
           2877.407663049178,
           3003.2102173989047,
           3129.0127717486307,
           3254.8153260983568,
           3380.617880448083,
           3506.420434797809,
           3632.2229891475354,
           3758.0255434972614,
           3883.8280978469875,
           4009.6306521967135,
           4135.43320654644
          ],
          [
           2500,
           2625.802554349726,
           2751.605108699452,
           2877.407663049178,
           3003.2102173989047,
           3129.0127717486307,
           3254.8153260983568,
           3380.617880448083,
           3506.420434797809,
           3632.2229891475354,
           3758.0255434972614,
           3883.8280978469875,
           4009.6306521967135,
           4135.43320654644
          ],
          [
           2500,
           2625.802554349726,
           2751.605108699452,
           2877.407663049178,
           3003.2102173989047,
           3129.0127717486307,
           3254.8153260983568,
           3380.617880448083,
           3506.420434797809,
           3632.2229891475354,
           3758.0255434972614,
           3883.8280978469875,
           4009.6306521967135,
           4135.43320654644
          ],
          [
           2500,
           2625.802554349726,
           2751.605108699452,
           2877.407663049178,
           3003.2102173989047,
           3129.0127717486307,
           3254.8153260983568,
           3380.617880448083,
           3506.420434797809,
           3632.2229891475354,
           3758.0255434972614,
           3883.8280978469875,
           4009.6306521967135,
           4135.43320654644
          ],
          [
           2500,
           2625.802554349726,
           2751.605108699452,
           2877.407663049178,
           3003.2102173989047,
           3129.0127717486307,
           3254.8153260983568,
           3380.617880448083,
           3506.420434797809,
           3632.2229891475354,
           3758.0255434972614,
           3883.8280978469875,
           4009.6306521967135,
           4135.43320654644
          ],
          [
           2500,
           2625.802554349726,
           2751.605108699452,
           2877.407663049178,
           3003.2102173989047,
           3129.0127717486307,
           3254.8153260983568,
           3380.617880448083,
           3506.420434797809,
           3632.2229891475354,
           3758.0255434972614,
           3883.8280978469875,
           4009.6306521967135,
           4135.43320654644
          ],
          [
           2500,
           2625.802554349726,
           2751.605108699452,
           2877.407663049178,
           3003.2102173989047,
           3129.0127717486307,
           3254.8153260983568,
           3380.617880448083,
           3506.420434797809,
           3632.2229891475354,
           3758.0255434972614,
           3883.8280978469875,
           4009.6306521967135,
           4135.43320654644
          ],
          [
           2500,
           2625.802554349726,
           2751.605108699452,
           2877.407663049178,
           3003.2102173989047,
           3129.0127717486307,
           3254.8153260983568,
           3380.617880448083,
           3506.420434797809,
           3632.2229891475354,
           3758.0255434972614,
           3883.8280978469875,
           4009.6306521967135,
           4135.43320654644
          ],
          [
           2500,
           2625.802554349726,
           2751.605108699452,
           2877.407663049178,
           3003.2102173989047,
           3129.0127717486307,
           3254.8153260983568,
           3380.617880448083,
           3506.420434797809,
           3632.2229891475354,
           3758.0255434972614,
           3883.8280978469875,
           4009.6306521967135,
           4135.43320654644
          ]
         ],
         "y": [
          [
           -20,
           -20,
           -20,
           -20,
           -20,
           -20,
           -20,
           -20,
           -20,
           -20,
           -20,
           -20,
           -20,
           -20
          ],
          [
           -22.307692307692307,
           -22.307692307692307,
           -22.307692307692307,
           -22.307692307692307,
           -22.307692307692307,
           -22.307692307692307,
           -22.307692307692307,
           -22.307692307692307,
           -22.307692307692307,
           -22.307692307692307,
           -22.307692307692307,
           -22.307692307692307,
           -22.307692307692307,
           -22.307692307692307
          ],
          [
           -24.615384615384613,
           -24.615384615384613,
           -24.615384615384613,
           -24.615384615384613,
           -24.615384615384613,
           -24.615384615384613,
           -24.615384615384613,
           -24.615384615384613,
           -24.615384615384613,
           -24.615384615384613,
           -24.615384615384613,
           -24.615384615384613,
           -24.615384615384613,
           -24.615384615384613
          ],
          [
           -26.923076923076923,
           -26.923076923076923,
           -26.923076923076923,
           -26.923076923076923,
           -26.923076923076923,
           -26.923076923076923,
           -26.923076923076923,
           -26.923076923076923,
           -26.923076923076923,
           -26.923076923076923,
           -26.923076923076923,
           -26.923076923076923,
           -26.923076923076923,
           -26.923076923076923
          ],
          [
           -29.23076923076923,
           -29.23076923076923,
           -29.23076923076923,
           -29.23076923076923,
           -29.23076923076923,
           -29.23076923076923,
           -29.23076923076923,
           -29.23076923076923,
           -29.23076923076923,
           -29.23076923076923,
           -29.23076923076923,
           -29.23076923076923,
           -29.23076923076923,
           -29.23076923076923
          ],
          [
           -31.538461538461537,
           -31.538461538461537,
           -31.538461538461537,
           -31.538461538461537,
           -31.538461538461537,
           -31.538461538461537,
           -31.538461538461537,
           -31.538461538461537,
           -31.538461538461537,
           -31.538461538461537,
           -31.538461538461537,
           -31.538461538461537,
           -31.538461538461537,
           -31.538461538461537
          ],
          [
           -33.84615384615385,
           -33.84615384615385,
           -33.84615384615385,
           -33.84615384615385,
           -33.84615384615385,
           -33.84615384615385,
           -33.84615384615385,
           -33.84615384615385,
           -33.84615384615385,
           -33.84615384615385,
           -33.84615384615385,
           -33.84615384615385,
           -33.84615384615385,
           -33.84615384615385
          ],
          [
           -36.15384615384615,
           -36.15384615384615,
           -36.15384615384615,
           -36.15384615384615,
           -36.15384615384615,
           -36.15384615384615,
           -36.15384615384615,
           -36.15384615384615,
           -36.15384615384615,
           -36.15384615384615,
           -36.15384615384615,
           -36.15384615384615,
           -36.15384615384615,
           -36.15384615384615
          ],
          [
           -38.46153846153846,
           -38.46153846153846,
           -38.46153846153846,
           -38.46153846153846,
           -38.46153846153846,
           -38.46153846153846,
           -38.46153846153846,
           -38.46153846153846,
           -38.46153846153846,
           -38.46153846153846,
           -38.46153846153846,
           -38.46153846153846,
           -38.46153846153846,
           -38.46153846153846
          ],
          [
           -40.76923076923077,
           -40.76923076923077,
           -40.76923076923077,
           -40.76923076923077,
           -40.76923076923077,
           -40.76923076923077,
           -40.76923076923077,
           -40.76923076923077,
           -40.76923076923077,
           -40.76923076923077,
           -40.76923076923077,
           -40.76923076923077,
           -40.76923076923077,
           -40.76923076923077
          ],
          [
           -43.07692307692307,
           -43.07692307692307,
           -43.07692307692307,
           -43.07692307692307,
           -43.07692307692307,
           -43.07692307692307,
           -43.07692307692307,
           -43.07692307692307,
           -43.07692307692307,
           -43.07692307692307,
           -43.07692307692307,
           -43.07692307692307,
           -43.07692307692307,
           -43.07692307692307
          ],
          [
           -45.38461538461539,
           -45.38461538461539,
           -45.38461538461539,
           -45.38461538461539,
           -45.38461538461539,
           -45.38461538461539,
           -45.38461538461539,
           -45.38461538461539,
           -45.38461538461539,
           -45.38461538461539,
           -45.38461538461539,
           -45.38461538461539,
           -45.38461538461539,
           -45.38461538461539
          ],
          [
           -47.69230769230769,
           -47.69230769230769,
           -47.69230769230769,
           -47.69230769230769,
           -47.69230769230769,
           -47.69230769230769,
           -47.69230769230769,
           -47.69230769230769,
           -47.69230769230769,
           -47.69230769230769,
           -47.69230769230769,
           -47.69230769230769,
           -47.69230769230769,
           -47.69230769230769
          ],
          [
           -50,
           -50,
           -50,
           -50,
           -50,
           -50,
           -50,
           -50,
           -50,
           -50,
           -50,
           -50,
           -50,
           -50
          ]
         ],
         "z": [
          [
           0,
           0,
           0,
           0,
           0,
           0,
           0,
           0,
           0,
           0,
           0,
           0,
           0,
           0
          ],
          [
           0,
           0,
           0,
           0,
           0,
           0,
           0,
           0,
           0,
           0,
           0,
           0,
           0,
           0
          ],
          [
           0,
           0,
           0,
           0,
           0,
           0,
           0,
           0,
           0,
           0,
           0,
           0,
           0,
           0
          ],
          [
           201.67037426532107,
           0,
           0,
           0,
           0,
           0,
           0,
           0,
           0,
           0,
           0,
           0,
           0,
           0
          ],
          [
           200.10844432564883,
           192.82703264573195,
           187.71474610810805,
           189.0071539851446,
           181.43948101597638,
           0,
           0,
           0,
           0,
           0,
           0,
           0,
           0,
           0
          ],
          [
           197.71338566344275,
           190.9392824632414,
           184.27406587909553,
           174.9329277277505,
           174.46659945310896,
           168.05428074842592,
           166.4893985305065,
           161.63841345675212,
           158.38921709270105,
           157.54424475603096,
           0,
           0,
           0,
           0
          ],
          [
           0,
           191.13557481612708,
           179.76359818215963,
           174.7679038002537,
           167.6133502182875,
           160.8564618995192,
           159.3029351896729,
           151.49755110614936,
           153.23743648668486,
           150.8213947119173,
           144.74577318629136,
           142.05853399757015,
           141.2956622982754,
           136.6941635891213
          ],
          [
           0,
           0,
           0,
           185.2532529146575,
           174.12099992241514,
           158.49638605006513,
           156.09159296903448,
           144.93013633265335,
           143.6168490111487,
           149.1586976754141,
           143.74954812956886,
           138.35074758726086,
           134.60258682959883,
           135.31766772710972
          ],
          [
           0,
           0,
           157.51786330605162,
           149.04768429783536,
           145.32895147889872,
           143.1244342819934,
           137.72764977610615,
           133.2553477784245,
           138.58749069758994,
           135.42440903218045,
           131.99361205492974,
           125.99463423405619,
           130.17686863812045,
           125.08166747948168
          ],
          [
           0,
           0,
           0,
           0,
           0,
           0,
           127.11343836291032,
           136.82173146269682,
           129.65498117986377,
           123.95304244849412,
           136.563867942606,
           129.84722064494076,
           121.65799575735628,
           134.1982476063244
          ],
          [
           0,
           0,
           0,
           0,
           121.38833250857152,
           0,
           114.63526276210939,
           109.7652651332345,
           113.32017013782881,
           116.15507971504434,
           114.6722936111786,
           101.2021934506742,
           100.73525880535992,
           123.15605947141366
          ],
          [
           0,
           0,
           0,
           0,
           0,
           0,
           0,
           0,
           96.88748963330609,
           97.54224755319053,
           96.72282916915582,
           90.76708983327235,
           94.13844689266027,
           94.56433902276883
          ],
          [
           0,
           0,
           0,
           0,
           0,
           0,
           0,
           0,
           0,
           0,
           78.5932888912977,
           79.32416650043425,
           79.88523815496073,
           80.50320139952356
          ],
          [
           0,
           0,
           0,
           0,
           0,
           0,
           0,
           0,
           0,
           0,
           0,
           0,
           0,
           0
          ]
         ]
        }
       ],
       "layout": {
        "autosize": true,
        "margin": {
         "b": 65,
         "l": 65,
         "r": 50,
         "t": 90
        },
        "scene": {
         "camera": {
          "eye": {
           "x": 1.8,
           "y": 1.8,
           "z": 1.8
          }
         },
         "xaxis": {
          "title": {
           "text": "RPM"
          }
         },
         "yaxis": {
          "title": {
           "text": "Pitch change"
          }
         },
         "zaxis": {
          "title": {
           "text": "Power [N]"
          }
         }
        },
        "template": {
         "data": {
          "bar": [
           {
            "error_x": {
             "color": "#2a3f5f"
            },
            "error_y": {
             "color": "#2a3f5f"
            },
            "marker": {
             "line": {
              "color": "#E5ECF6",
              "width": 0.5
             },
             "pattern": {
              "fillmode": "overlay",
              "size": 10,
              "solidity": 0.2
             }
            },
            "type": "bar"
           }
          ],
          "barpolar": [
           {
            "marker": {
             "line": {
              "color": "#E5ECF6",
              "width": 0.5
             },
             "pattern": {
              "fillmode": "overlay",
              "size": 10,
              "solidity": 0.2
             }
            },
            "type": "barpolar"
           }
          ],
          "carpet": [
           {
            "aaxis": {
             "endlinecolor": "#2a3f5f",
             "gridcolor": "white",
             "linecolor": "white",
             "minorgridcolor": "white",
             "startlinecolor": "#2a3f5f"
            },
            "baxis": {
             "endlinecolor": "#2a3f5f",
             "gridcolor": "white",
             "linecolor": "white",
             "minorgridcolor": "white",
             "startlinecolor": "#2a3f5f"
            },
            "type": "carpet"
           }
          ],
          "choropleth": [
           {
            "colorbar": {
             "outlinewidth": 0,
             "ticks": ""
            },
            "type": "choropleth"
           }
          ],
          "contour": [
           {
            "colorbar": {
             "outlinewidth": 0,
             "ticks": ""
            },
            "colorscale": [
             [
              0,
              "#0d0887"
             ],
             [
              0.1111111111111111,
              "#46039f"
             ],
             [
              0.2222222222222222,
              "#7201a8"
             ],
             [
              0.3333333333333333,
              "#9c179e"
             ],
             [
              0.4444444444444444,
              "#bd3786"
             ],
             [
              0.5555555555555556,
              "#d8576b"
             ],
             [
              0.6666666666666666,
              "#ed7953"
             ],
             [
              0.7777777777777778,
              "#fb9f3a"
             ],
             [
              0.8888888888888888,
              "#fdca26"
             ],
             [
              1,
              "#f0f921"
             ]
            ],
            "type": "contour"
           }
          ],
          "contourcarpet": [
           {
            "colorbar": {
             "outlinewidth": 0,
             "ticks": ""
            },
            "type": "contourcarpet"
           }
          ],
          "heatmap": [
           {
            "colorbar": {
             "outlinewidth": 0,
             "ticks": ""
            },
            "colorscale": [
             [
              0,
              "#0d0887"
             ],
             [
              0.1111111111111111,
              "#46039f"
             ],
             [
              0.2222222222222222,
              "#7201a8"
             ],
             [
              0.3333333333333333,
              "#9c179e"
             ],
             [
              0.4444444444444444,
              "#bd3786"
             ],
             [
              0.5555555555555556,
              "#d8576b"
             ],
             [
              0.6666666666666666,
              "#ed7953"
             ],
             [
              0.7777777777777778,
              "#fb9f3a"
             ],
             [
              0.8888888888888888,
              "#fdca26"
             ],
             [
              1,
              "#f0f921"
             ]
            ],
            "type": "heatmap"
           }
          ],
          "heatmapgl": [
           {
            "colorbar": {
             "outlinewidth": 0,
             "ticks": ""
            },
            "colorscale": [
             [
              0,
              "#0d0887"
             ],
             [
              0.1111111111111111,
              "#46039f"
             ],
             [
              0.2222222222222222,
              "#7201a8"
             ],
             [
              0.3333333333333333,
              "#9c179e"
             ],
             [
              0.4444444444444444,
              "#bd3786"
             ],
             [
              0.5555555555555556,
              "#d8576b"
             ],
             [
              0.6666666666666666,
              "#ed7953"
             ],
             [
              0.7777777777777778,
              "#fb9f3a"
             ],
             [
              0.8888888888888888,
              "#fdca26"
             ],
             [
              1,
              "#f0f921"
             ]
            ],
            "type": "heatmapgl"
           }
          ],
          "histogram": [
           {
            "marker": {
             "pattern": {
              "fillmode": "overlay",
              "size": 10,
              "solidity": 0.2
             }
            },
            "type": "histogram"
           }
          ],
          "histogram2d": [
           {
            "colorbar": {
             "outlinewidth": 0,
             "ticks": ""
            },
            "colorscale": [
             [
              0,
              "#0d0887"
             ],
             [
              0.1111111111111111,
              "#46039f"
             ],
             [
              0.2222222222222222,
              "#7201a8"
             ],
             [
              0.3333333333333333,
              "#9c179e"
             ],
             [
              0.4444444444444444,
              "#bd3786"
             ],
             [
              0.5555555555555556,
              "#d8576b"
             ],
             [
              0.6666666666666666,
              "#ed7953"
             ],
             [
              0.7777777777777778,
              "#fb9f3a"
             ],
             [
              0.8888888888888888,
              "#fdca26"
             ],
             [
              1,
              "#f0f921"
             ]
            ],
            "type": "histogram2d"
           }
          ],
          "histogram2dcontour": [
           {
            "colorbar": {
             "outlinewidth": 0,
             "ticks": ""
            },
            "colorscale": [
             [
              0,
              "#0d0887"
             ],
             [
              0.1111111111111111,
              "#46039f"
             ],
             [
              0.2222222222222222,
              "#7201a8"
             ],
             [
              0.3333333333333333,
              "#9c179e"
             ],
             [
              0.4444444444444444,
              "#bd3786"
             ],
             [
              0.5555555555555556,
              "#d8576b"
             ],
             [
              0.6666666666666666,
              "#ed7953"
             ],
             [
              0.7777777777777778,
              "#fb9f3a"
             ],
             [
              0.8888888888888888,
              "#fdca26"
             ],
             [
              1,
              "#f0f921"
             ]
            ],
            "type": "histogram2dcontour"
           }
          ],
          "mesh3d": [
           {
            "colorbar": {
             "outlinewidth": 0,
             "ticks": ""
            },
            "type": "mesh3d"
           }
          ],
          "parcoords": [
           {
            "line": {
             "colorbar": {
              "outlinewidth": 0,
              "ticks": ""
             }
            },
            "type": "parcoords"
           }
          ],
          "pie": [
           {
            "automargin": true,
            "type": "pie"
           }
          ],
          "scatter": [
           {
            "fillpattern": {
             "fillmode": "overlay",
             "size": 10,
             "solidity": 0.2
            },
            "type": "scatter"
           }
          ],
          "scatter3d": [
           {
            "line": {
             "colorbar": {
              "outlinewidth": 0,
              "ticks": ""
             }
            },
            "marker": {
             "colorbar": {
              "outlinewidth": 0,
              "ticks": ""
             }
            },
            "type": "scatter3d"
           }
          ],
          "scattercarpet": [
           {
            "marker": {
             "colorbar": {
              "outlinewidth": 0,
              "ticks": ""
             }
            },
            "type": "scattercarpet"
           }
          ],
          "scattergeo": [
           {
            "marker": {
             "colorbar": {
              "outlinewidth": 0,
              "ticks": ""
             }
            },
            "type": "scattergeo"
           }
          ],
          "scattergl": [
           {
            "marker": {
             "colorbar": {
              "outlinewidth": 0,
              "ticks": ""
             }
            },
            "type": "scattergl"
           }
          ],
          "scattermapbox": [
           {
            "marker": {
             "colorbar": {
              "outlinewidth": 0,
              "ticks": ""
             }
            },
            "type": "scattermapbox"
           }
          ],
          "scatterpolar": [
           {
            "marker": {
             "colorbar": {
              "outlinewidth": 0,
              "ticks": ""
             }
            },
            "type": "scatterpolar"
           }
          ],
          "scatterpolargl": [
           {
            "marker": {
             "colorbar": {
              "outlinewidth": 0,
              "ticks": ""
             }
            },
            "type": "scatterpolargl"
           }
          ],
          "scatterternary": [
           {
            "marker": {
             "colorbar": {
              "outlinewidth": 0,
              "ticks": ""
             }
            },
            "type": "scatterternary"
           }
          ],
          "surface": [
           {
            "colorbar": {
             "outlinewidth": 0,
             "ticks": ""
            },
            "colorscale": [
             [
              0,
              "#0d0887"
             ],
             [
              0.1111111111111111,
              "#46039f"
             ],
             [
              0.2222222222222222,
              "#7201a8"
             ],
             [
              0.3333333333333333,
              "#9c179e"
             ],
             [
              0.4444444444444444,
              "#bd3786"
             ],
             [
              0.5555555555555556,
              "#d8576b"
             ],
             [
              0.6666666666666666,
              "#ed7953"
             ],
             [
              0.7777777777777778,
              "#fb9f3a"
             ],
             [
              0.8888888888888888,
              "#fdca26"
             ],
             [
              1,
              "#f0f921"
             ]
            ],
            "type": "surface"
           }
          ],
          "table": [
           {
            "cells": {
             "fill": {
              "color": "#EBF0F8"
             },
             "line": {
              "color": "white"
             }
            },
            "header": {
             "fill": {
              "color": "#C8D4E3"
             },
             "line": {
              "color": "white"
             }
            },
            "type": "table"
           }
          ]
         },
         "layout": {
          "annotationdefaults": {
           "arrowcolor": "#2a3f5f",
           "arrowhead": 0,
           "arrowwidth": 1
          },
          "autotypenumbers": "strict",
          "coloraxis": {
           "colorbar": {
            "outlinewidth": 0,
            "ticks": ""
           }
          },
          "colorscale": {
           "diverging": [
            [
             0,
             "#8e0152"
            ],
            [
             0.1,
             "#c51b7d"
            ],
            [
             0.2,
             "#de77ae"
            ],
            [
             0.3,
             "#f1b6da"
            ],
            [
             0.4,
             "#fde0ef"
            ],
            [
             0.5,
             "#f7f7f7"
            ],
            [
             0.6,
             "#e6f5d0"
            ],
            [
             0.7,
             "#b8e186"
            ],
            [
             0.8,
             "#7fbc41"
            ],
            [
             0.9,
             "#4d9221"
            ],
            [
             1,
             "#276419"
            ]
           ],
           "sequential": [
            [
             0,
             "#0d0887"
            ],
            [
             0.1111111111111111,
             "#46039f"
            ],
            [
             0.2222222222222222,
             "#7201a8"
            ],
            [
             0.3333333333333333,
             "#9c179e"
            ],
            [
             0.4444444444444444,
             "#bd3786"
            ],
            [
             0.5555555555555556,
             "#d8576b"
            ],
            [
             0.6666666666666666,
             "#ed7953"
            ],
            [
             0.7777777777777778,
             "#fb9f3a"
            ],
            [
             0.8888888888888888,
             "#fdca26"
            ],
            [
             1,
             "#f0f921"
            ]
           ],
           "sequentialminus": [
            [
             0,
             "#0d0887"
            ],
            [
             0.1111111111111111,
             "#46039f"
            ],
            [
             0.2222222222222222,
             "#7201a8"
            ],
            [
             0.3333333333333333,
             "#9c179e"
            ],
            [
             0.4444444444444444,
             "#bd3786"
            ],
            [
             0.5555555555555556,
             "#d8576b"
            ],
            [
             0.6666666666666666,
             "#ed7953"
            ],
            [
             0.7777777777777778,
             "#fb9f3a"
            ],
            [
             0.8888888888888888,
             "#fdca26"
            ],
            [
             1,
             "#f0f921"
            ]
           ]
          },
          "colorway": [
           "#636efa",
           "#EF553B",
           "#00cc96",
           "#ab63fa",
           "#FFA15A",
           "#19d3f3",
           "#FF6692",
           "#B6E880",
           "#FF97FF",
           "#FECB52"
          ],
          "font": {
           "color": "#2a3f5f"
          },
          "geo": {
           "bgcolor": "white",
           "lakecolor": "white",
           "landcolor": "#E5ECF6",
           "showlakes": true,
           "showland": true,
           "subunitcolor": "white"
          },
          "hoverlabel": {
           "align": "left"
          },
          "hovermode": "closest",
          "mapbox": {
           "style": "light"
          },
          "paper_bgcolor": "white",
          "plot_bgcolor": "#E5ECF6",
          "polar": {
           "angularaxis": {
            "gridcolor": "white",
            "linecolor": "white",
            "ticks": ""
           },
           "bgcolor": "#E5ECF6",
           "radialaxis": {
            "gridcolor": "white",
            "linecolor": "white",
            "ticks": ""
           }
          },
          "scene": {
           "xaxis": {
            "backgroundcolor": "#E5ECF6",
            "gridcolor": "white",
            "gridwidth": 2,
            "linecolor": "white",
            "showbackground": true,
            "ticks": "",
            "zerolinecolor": "white"
           },
           "yaxis": {
            "backgroundcolor": "#E5ECF6",
            "gridcolor": "white",
            "gridwidth": 2,
            "linecolor": "white",
            "showbackground": true,
            "ticks": "",
            "zerolinecolor": "white"
           },
           "zaxis": {
            "backgroundcolor": "#E5ECF6",
            "gridcolor": "white",
            "gridwidth": 2,
            "linecolor": "white",
            "showbackground": true,
            "ticks": "",
            "zerolinecolor": "white"
           }
          },
          "shapedefaults": {
           "line": {
            "color": "#2a3f5f"
           }
          },
          "ternary": {
           "aaxis": {
            "gridcolor": "white",
            "linecolor": "white",
            "ticks": ""
           },
           "baxis": {
            "gridcolor": "white",
            "linecolor": "white",
            "ticks": ""
           },
           "bgcolor": "#E5ECF6",
           "caxis": {
            "gridcolor": "white",
            "linecolor": "white",
            "ticks": ""
           }
          },
          "title": {
           "x": 0.05
          },
          "xaxis": {
           "automargin": true,
           "gridcolor": "white",
           "linecolor": "white",
           "ticks": "",
           "title": {
            "standoff": 15
           },
           "zerolinecolor": "white",
           "zerolinewidth": 2
          },
          "yaxis": {
           "automargin": true,
           "gridcolor": "white",
           "linecolor": "white",
           "ticks": "",
           "title": {
            "standoff": 15
           },
           "zerolinecolor": "white",
           "zerolinewidth": 2
          }
         }
        },
        "title": {
         "text": "Power plot 14 x 14 mesh "
        }
       }
      }
     },
     "metadata": {},
     "output_type": "display_data"
    }
   ],
   "source": [
    "import plotly.graph_objects as go\n",
    "\n",
    "n = 14 # Mesh size\n",
    "\n",
    "pitch_arr  = np.linspace(-20, -50, n)\n",
    "rpm_arr = np.linspace(2500,rpm_hvr, n)\n",
    "X,Y = np.meshgrid(rpm_arr,pitch_arr)\n",
    "Z_thrust = np.zeros(X.shape)\n",
    "Z_eff = np.zeros(X.shape)\n",
    "Z_power = np.zeros(X.shape)\n",
    "\n",
    "for col, rpm in enumerate(rpm_arr):\n",
    "    hover_cond = prop.OffDesignAnalysisBEM(data_path, prop_class, v_hvr, rpm, rho, dyn_vis, a_snd)\n",
    "\n",
    "    for row, dpitch in enumerate(np.radians(pitch_arr)):\n",
    "        try:\n",
    "            res = hover_cond.analyse_propeller(dpitch, abs_extrapolation=7)\n",
    "        except ValueError:\n",
    "            continue\n",
    "        except RuntimeError as error:\n",
    "            continue\n",
    "\n",
    "        power_req = res[\"power_coeff\"]*rho*(rpm_hvr/60)**3*32*prop_class.r_prop**5/1e3\n",
    "\n",
    "        Z_thrust[row,col] = res[\"thrust\"]\n",
    "        Z_eff[row,col] = res[\"eff\"]*100\n",
    "        Z_power[row,col] =  power_req\n",
    "\n",
    "\n",
    "for type, data in zip([\"thrust\", \"Efficiency\", \"Power\"],[Z_thrust, Z_eff, Z_power]):\n",
    "    # Create the figure\n",
    "    fig = go.Figure(data=[go.Surface(z=data, x=X, y=Y)])\n",
    "    fig.update_layout(\n",
    "        scene=dict(\n",
    "            xaxis_title='RPM',\n",
    "            yaxis_title=r'Pitch change',\n",
    "            zaxis_title=f'{type} [N]'))\n",
    "\n",
    "    fig.update_layout(\n",
    "        scene_camera=dict(\n",
    "            eye=dict(x=1.8, y=1.8, z=1.8)))\n",
    "\n",
    "    fig.update_layout(title=f'{type} plot {n} x {n} mesh ', autosize=True,\n",
    "                    margin=dict(l=65, r=50, b=65, t=90))\n",
    "\n",
    "    # Show the plot\n",
    "    fig.show()\n"
   ]
  },
  {
   "cell_type": "markdown",
   "metadata": {},
   "source": [
    "# Iteration of the rotor design.\n",
    "\n",
    "So what happens if the maximum thrust we find is not sufficient? Remember when a thrust or power value was specified for which the rotor would be optimized? We can increase this value  to increase the maximum thrust value, this however does come a cost that the blade is less efficient at the cruise setting. With the updated geometry we can then perform the offdesign analysis again to find the newly acquired maximum thrust. This process is then repeated until the engineer is  sufficiently happy with the margin on the maximum thrust and the design thrust of the propeller.\n",
    "\n",
    "The opportunity is given below to go through this process yourself with the code cell below where all of the relevant code has been appended. The mesh spacing has been increased to decrease computation time, however if nearing to your final design you can decrease the mesh spacing again. The design point is described in the first few lines of code. Sometimes the results are odd with the majority failing or having no solution at all. In this case it is advised to increase the radius of your propeller or change the amount of blades."
   ]
  },
  {
   "cell_type": "code",
   "execution_count": 14,
   "metadata": {},
   "outputs": [
    {
     "ename": "OSError",
     "evalue": "[Errno 22] Invalid argument: 'https://raw.githubusercontent.com/saullocastro/tuduam/main/examples/naca_4412.txt'",
     "output_type": "error",
     "traceback": [
      "\u001b[1;31m---------------------------------------------------------------------------\u001b[0m",
      "\u001b[1;31mOSError\u001b[0m                                   Traceback (most recent call last)",
      "Cell \u001b[1;32mIn[14], line 27\u001b[0m\n\u001b[0;32m     25\u001b[0m res_dict \u001b[38;5;241m=\u001b[39m design\u001b[38;5;241m.\u001b[39moptimise_blade(zeta_init\u001b[38;5;241m=\u001b[39m\u001b[38;5;241m0\u001b[39m)\n\u001b[0;32m     26\u001b[0m plot \u001b[38;5;241m=\u001b[39m prop\u001b[38;5;241m.\u001b[39mPlotBlade(prop_class, coord_path)\n\u001b[1;32m---> 27\u001b[0m \u001b[43mplot\u001b[49m\u001b[38;5;241;43m.\u001b[39;49m\u001b[43mplot_3D_plotly\u001b[49m\u001b[43m(\u001b[49m\u001b[43m)\u001b[49m \u001b[38;5;66;03m# Creates an interactive 3D plot\u001b[39;00m\n\u001b[0;32m     29\u001b[0m \u001b[38;5;66;03m#------------------- Off design analysis ---------------------------------------------------------\u001b[39;00m\n\u001b[0;32m     30\u001b[0m n \u001b[38;5;241m=\u001b[39m \u001b[38;5;241m5\u001b[39m \u001b[38;5;66;03m# Mesh size\u001b[39;00m\n",
      "File \u001b[1;32mc:\\Users\\damie\\anaconda3\\envs\\honours\\Lib\\site-packages\\tuduam\\propulsion.py:264\u001b[0m, in \u001b[0;36mPlotBlade.plot_3D_plotly\u001b[1;34m(self, tst)\u001b[0m\n\u001b[0;32m    261\u001b[0m fig \u001b[38;5;241m=\u001b[39m go\u001b[38;5;241m.\u001b[39mFigure()\n\u001b[0;32m    263\u001b[0m \u001b[38;5;28;01mfor\u001b[39;00m i \u001b[38;5;129;01min\u001b[39;00m \u001b[38;5;28mrange\u001b[39m(\u001b[38;5;28mlen\u001b[39m(\u001b[38;5;28mself\u001b[39m\u001b[38;5;241m.\u001b[39mchords)):\n\u001b[1;32m--> 264\u001b[0m     x_coords \u001b[38;5;241m=\u001b[39m \u001b[38;5;28;43mself\u001b[39;49m\u001b[38;5;241;43m.\u001b[39;49m\u001b[43m_load_airfoil\u001b[49m\u001b[43m(\u001b[49m\u001b[43m)\u001b[49m[\u001b[38;5;241m0\u001b[39m] \u001b[38;5;241m*\u001b[39m \u001b[38;5;28mself\u001b[39m\u001b[38;5;241m.\u001b[39mchords[i]\n\u001b[0;32m    265\u001b[0m     y_coords \u001b[38;5;241m=\u001b[39m \u001b[38;5;28mself\u001b[39m\u001b[38;5;241m.\u001b[39m_load_airfoil()[\u001b[38;5;241m1\u001b[39m] \u001b[38;5;241m*\u001b[39m \u001b[38;5;28mself\u001b[39m\u001b[38;5;241m.\u001b[39mchords[i]\n\u001b[0;32m    266\u001b[0m     x_coords_n \u001b[38;5;241m=\u001b[39m []\n",
      "File \u001b[1;32mc:\\Users\\damie\\anaconda3\\envs\\honours\\Lib\\site-packages\\tuduam\\propulsion.py:104\u001b[0m, in \u001b[0;36mPlotBlade._load_airfoil\u001b[1;34m(self)\u001b[0m\n\u001b[0;32m     97\u001b[0m \u001b[38;5;28;01mdef\u001b[39;00m \u001b[38;5;21m_load_airfoil\u001b[39m(\u001b[38;5;28mself\u001b[39m) \u001b[38;5;241m-\u001b[39m\u001b[38;5;241m>\u001b[39m np\u001b[38;5;241m.\u001b[39mndarray:\n\u001b[0;32m     98\u001b[0m \u001b[38;5;250m    \u001b[39m\u001b[38;5;124;03m\"\"\" Returns an array Using a path to coordinate file of the airfoil\u001b[39;00m\n\u001b[0;32m     99\u001b[0m \n\u001b[0;32m    100\u001b[0m \u001b[38;5;124;03m    :return: Returns an array with the airfoil coordinates\u001b[39;00m\n\u001b[0;32m    101\u001b[0m \u001b[38;5;124;03m    :rtype: np.ndarray\u001b[39;00m\n\u001b[0;32m    102\u001b[0m \u001b[38;5;124;03m    \"\"\"\u001b[39;00m        \n\u001b[1;32m--> 104\u001b[0m     file \u001b[38;5;241m=\u001b[39m \u001b[38;5;28;43mopen\u001b[39;49m\u001b[43m(\u001b[49m\u001b[38;5;28;43mself\u001b[39;49m\u001b[38;5;241;43m.\u001b[39;49m\u001b[43mpath_coord\u001b[49m\u001b[43m)\u001b[49m\n\u001b[0;32m    105\u001b[0m     airfoil \u001b[38;5;241m=\u001b[39m file\u001b[38;5;241m.\u001b[39mreadlines()\n\u001b[0;32m    106\u001b[0m     file\u001b[38;5;241m.\u001b[39mclose()\n",
      "\u001b[1;31mOSError\u001b[0m: [Errno 22] Invalid argument: 'https://raw.githubusercontent.com/saullocastro/tuduam/main/examples/naca_4412.txt'"
     ]
    }
   ],
   "source": [
    "# Define operatonal parameters\n",
    "thrust_req = 350\n",
    "v_cruise = 210/3.6\n",
    "h_cruise = 1200\n",
    "isa = tud.ISA(h_cruise) \n",
    "a_snd = isa.soundspeed() # Speed of sound\n",
    "rho_cr = isa.density() # Air density\n",
    "dyn_vis = isa.viscosity_dyn() # Dynamic viscosity\n",
    "\n",
    "# Define the specified conditions for the propeller geometry in the data structure\n",
    "prop_class = tud.Propeller(\n",
    "                    n_blades=6, # Number of blades\n",
    "                    r_prop=0.525, # propeller radius\n",
    "                    rpm_cruise=1200, \n",
    "                    tc_ratio=0.12,  # Thickness to chord ratio of airfoil\n",
    "                    xi_0=0.1 # nondimensional hub radius (r_hub/R)\n",
    "                    ) \n",
    "\n",
    "#---------------------------- Blade geometry optimization ---------------------------------\n",
    "# Initiazlie BEM class\n",
    "design = prop.BEM(data_path, prop_class, rho_cr, \n",
    "                  dyn_vis, v_cruise, n_stations, a_snd, T=thrust_req)\n",
    "\n",
    "# Execute the BEM optimisation with initial estimate of 0\n",
    "res_dict = design.optimise_blade(zeta_init=0)\n",
    "plot = prop.PlotBlade(prop_class, coord_path)\n",
    "plot.plot_3D_plotly() # Creates an interactive 3D plot\n",
    "\n",
    "#------------------- Off design analysis ---------------------------------------------------------\n",
    "n = 5 # Mesh size\n",
    "\n",
    "pitch_arr  = np.linspace(-20, -50, n)\n",
    "rpm_arr = np.linspace(2500,rpm_hvr, n)\n",
    "X,Y = np.meshgrid(rpm_arr,pitch_arr)\n",
    "Z_thrust = np.zeros(X.shape)\n",
    "Z_eff = np.zeros(X.shape)\n",
    "Z_power = np.zeros(X.shape)\n",
    "\n",
    "for col, rpm in enumerate(rpm_arr):\n",
    "    hover_cond = prop.OffDesignAnalysisBEM(data_path, prop_class, v_hvr, rpm, rho, dyn_vis, a_snd)\n",
    "\n",
    "    for row, dpitch in enumerate(np.radians(pitch_arr)):\n",
    "        try:\n",
    "            res = hover_cond.analyse_propeller(dpitch, abs_extrapolation=7)\n",
    "        except ValueError:\n",
    "            continue\n",
    "        except RuntimeError as error:\n",
    "            continue\n",
    "\n",
    "        power_req = res[\"power_coeff\"]*rho*(rpm_hvr/60)**3*32*prop_class.r_prop**5/1e3\n",
    "\n",
    "        Z_thrust[row,col] = res[\"thrust\"]\n",
    "        Z_eff[row,col] = res[\"eff\"]*100\n",
    "        Z_power[row,col] =  power_req\n",
    "\n",
    "\n",
    "# Create the figure\n",
    "fig = go.Figure(data=[go.Surface(z=Z_thrust, x=X, y=Y)])\n",
    "fig.update_layout(\n",
    "    scene=dict(\n",
    "        xaxis_title='RPM',\n",
    "        yaxis_title=r'Pitch change',\n",
    "        zaxis_title=f'Thrust [N]'))\n",
    "\n",
    "fig.update_layout(\n",
    "    scene_camera=dict(\n",
    "        eye=dict(x=1.8, y=1.8, z=1.8)))\n",
    "\n",
    "fig.update_layout(title=f'power plot {n} x {n} mesh ', autosize=True,\n",
    "                margin=dict(l=65, r=50, b=65, t=90))\n",
    "\n",
    "# Show the plot\n",
    "fig.show()\n"
   ]
  }
 ],
 "metadata": {
  "kernelspec": {
   "display_name": "honours",
   "language": "python",
   "name": "python3"
  },
  "language_info": {
   "codemirror_mode": {
    "name": "ipython",
    "version": 3
   },
   "file_extension": ".py",
   "mimetype": "text/x-python",
   "name": "python",
   "nbconvert_exporter": "python",
   "pygments_lexer": "ipython3",
   "version": "3.11.3"
  }
 },
 "nbformat": 4,
 "nbformat_minor": 2
}
