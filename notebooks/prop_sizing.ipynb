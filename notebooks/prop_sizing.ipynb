{
 "cells": [
  {
   "cell_type": "markdown",
   "metadata": {},
   "source": [
    "# Preliminary sizing of a rotor blade\n",
    "\n",
    "As previously mentioned we will use the work of Adkins and Liebeck to perform both optimisation and off design analysis. Let us start with the rotor blade optimisation.\n",
    "\n",
    "The method has been implemented in Python in the package called `tuduam`, i.e TU Delft Urban Air Mobility. Hence, when creating the input we have to keep in mind the [documentation]() (<span style=\"color: red;\"> TODO: insert missing link) </span> on what the functions expect. Feel free to roam around the documentatin to see what other functionalities are offered by the package. Keep in mind however that the package is under active development.\n",
    "\n",
    "The design is initiated with the specified conditions of power (or thrust), hub and tip radius, rotational rate, freestream velocity, number of blades, and a finite number of stations at which blade geometry is to be determined. Let us define this in the next block\n",
    "\n",
    "## Defining the conditions\n",
    "\n",
    "Most of the code below does not need explaining, however as previusly mentioned we must take into account the [API documentation]() (<span style=\"color: red;\"> TODO: insert missing link).</span> Here it says that the blade parameter must be defined in the `Propeller` data structure. Furthermore, BEM analysis requires airfoil polar at a large range of reynolds numbers. `tuduam` relies on the user to input this data in the form of a path to a directory which contains all the polars. These files should be in the common format outputted by [xfoil](https://web.mit.edu/drela/Public/web/xfoil/). A tutorial on how to create this data has also been made [here]()(<span style=\"color: red;\"> TODO: insert missing link to data creation notebook). </span>. Sample data for the NACA 4412, a common propeller, is readily available however in the `tuduam` repository. The NACA 4412 is shown in [Figure 1](#figure1)\n",
    "\n",
    "<br>\n",
    "<p align=\"center\"  id=\"figure1\" style=\"background-color: white;\">\n",
    "<img src=\"https://raw.githubusercontent.com/saullocastro/tuduam/076078cd60feddd2ee2d784fcd93ccbed26041c6/notebooks/static/naca4412-il.svg\" width=\"400\" /> \n",
    " <br>\n",
    "</p>\n",
    "<p align=\"center\">\n",
    "<em>Figure 1: The NACA 4412 airfoil</em>\n",
    "</p>\n",
    "<br>\n",
    "\n",
    "The conditions required for the optimisation are loaded into the Python kernel below. Carefully read the comments surrounding the code for more pointers. Note that the repository makes use of data structures in order to limit input size into functions, in this case we have to make use of the `Propeller` data structure."
   ]
  },
  {
   "cell_type": "code",
   "execution_count": 12,
   "metadata": {},
   "outputs": [
    {
     "data": {
      "text/html": [
       "<pre style=\"white-space:pre;overflow-x:auto;line-height:normal;font-family:Menlo,'DejaVu Sans Mono',consolas,'Courier New',monospace\"><span style=\"color: #808000; text-decoration-color: #808000\">a_snd</span>=<span style=\"color: #008080; text-decoration-color: #008080; font-weight: bold\">335.62572904948746</span>  \n",
       "<span style=\"color: #808000; text-decoration-color: #808000\">rho_cr</span>=<span style=\"color: #008080; text-decoration-color: #008080; font-weight: bold\">1.0899402822825992</span>  \n",
       "<span style=\"color: #808000; text-decoration-color: #808000\">dyn_vis</span>=<span style=\"color: #008080; text-decoration-color: #008080; font-weight: bold\">1.7736932645281385e-05</span>  \n",
       "<span style=\"color: #808000; text-decoration-color: #808000\">prop_class</span>=<span style=\"color: #800080; text-decoration-color: #800080; font-weight: bold\">Propeller</span><span style=\"font-weight: bold\">(</span><span style=\"color: #808000; text-decoration-color: #808000\">n_blades</span>=<span style=\"color: #008080; text-decoration-color: #008080; font-weight: bold\">6.0</span>, <span style=\"color: #808000; text-decoration-color: #808000\">r_prop</span>=<span style=\"color: #008080; text-decoration-color: #008080; font-weight: bold\">0.48</span>, <span style=\"color: #808000; text-decoration-color: #808000\">rpm_cruise</span>=<span style=\"color: #008080; text-decoration-color: #008080; font-weight: bold\">1200.0</span>, <span style=\"color: #808000; text-decoration-color: #808000\">xi_0</span>=<span style=\"color: #008080; text-decoration-color: #008080; font-weight: bold\">0.1</span>, <span style=\"color: #808000; text-decoration-color: #808000\">chord_arr</span>=<span style=\"color: #800080; text-decoration-color: #800080; font-style: italic\">None</span>, <span style=\"color: #808000; text-decoration-color: #808000\">rad_arr</span>=<span style=\"color: #800080; text-decoration-color: #800080; font-style: italic\">None</span>, \n",
       "<span style=\"color: #808000; text-decoration-color: #808000\">pitch_arr</span>=<span style=\"color: #800080; text-decoration-color: #800080; font-style: italic\">None</span>, <span style=\"color: #808000; text-decoration-color: #808000\">tc_ratio</span>=<span style=\"color: #008080; text-decoration-color: #008080; font-weight: bold\">0.12</span><span style=\"font-weight: bold\">)</span>\n",
       "</pre>\n"
      ],
      "text/plain": [
       "\u001b[33ma_snd\u001b[0m=\u001b[1;36m335\u001b[0m\u001b[1;36m.62572904948746\u001b[0m  \n",
       "\u001b[33mrho_cr\u001b[0m=\u001b[1;36m1\u001b[0m\u001b[1;36m.0899402822825992\u001b[0m  \n",
       "\u001b[33mdyn_vis\u001b[0m=\u001b[1;36m1\u001b[0m\u001b[1;36m.7736932645281385e-05\u001b[0m  \n",
       "\u001b[33mprop_class\u001b[0m=\u001b[1;35mPropeller\u001b[0m\u001b[1m(\u001b[0m\u001b[33mn_blades\u001b[0m=\u001b[1;36m6\u001b[0m\u001b[1;36m.0\u001b[0m, \u001b[33mr_prop\u001b[0m=\u001b[1;36m0\u001b[0m\u001b[1;36m.48\u001b[0m, \u001b[33mrpm_cruise\u001b[0m=\u001b[1;36m1200\u001b[0m\u001b[1;36m.0\u001b[0m, \u001b[33mxi_0\u001b[0m=\u001b[1;36m0\u001b[0m\u001b[1;36m.1\u001b[0m, \u001b[33mchord_arr\u001b[0m=\u001b[3;35mNone\u001b[0m, \u001b[33mrad_arr\u001b[0m=\u001b[3;35mNone\u001b[0m, \n",
       "\u001b[33mpitch_arr\u001b[0m=\u001b[3;35mNone\u001b[0m, \u001b[33mtc_ratio\u001b[0m=\u001b[1;36m0\u001b[0m\u001b[1;36m.12\u001b[0m\u001b[1m)\u001b[0m\n"
      ]
     },
     "metadata": {},
     "output_type": "display_data"
    }
   ],
   "source": [
    "import sys\n",
    "import os\n",
    "sys.path.insert(0, os.path.dirname(os.path.abspath('')))\n",
    "\n",
    "import tuduam as tud\n",
    "import rich\n",
    "import tuduam.propulsion as prop\n",
    "\n",
    "# Define parameters required according to API documentation\n",
    "data_path = os.path.realpath(os.path.join(os.path.abspath('.'), '..', 'examples', 'data')) # Path to airfoil data\n",
    "coord_path = os.path.realpath(os.path.join(os.path.abspath('.'), '..', 'examples', 'naca_4412.txt')) # Path to airfoil coordinates\n",
    "n_stations = 25\n",
    "\n",
    "# Define operatonal parameters\n",
    "thrust_req = 300\n",
    "v_cruise = 210/3.6\n",
    "h_cruise = 1200\n",
    "isa = tud.ISA(h_cruise) \n",
    "a_snd = isa.soundspeed() # Speed of sound\n",
    "rho_cr = isa.density() # Air density\n",
    "dyn_vis = isa.viscosity_dyn() # Dynamic viscosity\n",
    "\n",
    "# Define the specified conditions for the propeller geometry in the data structure\n",
    "prop_class = tud.Propeller(\n",
    "                    n_blades=6, # Number of blades\n",
    "                    r_prop=0.48, # propeller radius\n",
    "                    rpm_cruise=1200, \n",
    "                    tc_ratio=0.12,  # Thickness to chord ratio of airfoil\n",
    "                    xi_0=0.1 # nondimensional hub radius (r_hub/R)\n",
    "                    ) \n",
    "\n",
    "rich.print(f\"{a_snd=}  \\n{rho_cr=}  \\n{dyn_vis=}  \\n{prop_class=}\")\n",
    "\n"
   ]
  },
  {
   "cell_type": "markdown",
   "metadata": {},
   "source": [
    "# Running the optimisation\n",
    "\n",
    "Having defined the conditions we now run the actual optimisation. In the code it will be as simple as calling a single line however there is much going on in the background. A general overview of procedure is described here however for a full description refer to the paper (download link available in the course in sources). \n",
    "\n",
    "The general procedure can be condensed to the following:\n",
    "\n",
    "1. Select an initial estimate for $\\zeta$, the displacement velocity ratio ($\\zeta$ = 0 will work).\n",
    "2. Determine the values for $F$, the Prandtl momentum loss factor, and $\\phi$, the flow angle, at each blade station.\n",
    "3. Determine the product $Wc$, the local velocity multiplied by the local chord. Additionally, compute the Reynolds number.\n",
    "4. Determine $\\epsilon$, the drag-to-lift ratio, and $\\alpha$, the angle of attack, from airfoil section data.\n",
    "5. If $\\epsilon$ is to be minimized, change $C_l$, and repeat Steps 3 and 4 until this is accomplished at each station.\n",
    "6. Determine $\\alpha$ and $\\alpha'$, the axial and rotational interference factor, respectively.\n",
    "7. Compute the chord from Step 3, and the blade twist $\\beta = \\alpha + \\phi$.\n",
    "8. Determine the four derivatives in I and J, and numerically integrate these from the non-dimensional hub radius, $\\xi_0$ to the non-dimensional radius $\\xi$ = 1.\n",
    "9. Determine $\\zeta$ and $T_c$, the thrust coefficient.\n",
    "10. If this new value for $\\zeta$ is not sufficiently close to the old one (e.g., within 0.1\\%), start over at step 2 using the new $\\zeta$.\n",
    "11. Determine propeller efficiency as $\\eta = \\frac{T}{P_c}$, and other features such as solidity.\n",
    "\n",
    "Let us now run the optimisation and plot the resulting blade geometry. The plotting is performed using a class called `PlotBlade`, which has a method for both a 3D and 2D plot. Feel free to play with the parameters of the rotor by rerunning the above code box with new parameters. Note that the optimisation will crash however for infeasible designs."
   ]
  },
  {
   "cell_type": "code",
   "execution_count": 13,
   "metadata": {},
   "outputs": [
    {
     "data": {
      "text/html": [
       "<pre style=\"white-space:pre;overflow-x:auto;line-height:normal;font-family:Menlo,'DejaVu Sans Mono',consolas,'Courier New',monospace\"><span style=\"font-weight: bold\">{</span>\n",
       "    <span style=\"color: #008000; text-decoration-color: #008000\">'chord_arr'</span>: <span style=\"color: #800080; text-decoration-color: #800080; font-weight: bold\">array</span><span style=\"font-weight: bold\">([</span><span style=\"color: #008080; text-decoration-color: #008080; font-weight: bold\">0.05599376</span>, <span style=\"color: #008080; text-decoration-color: #008080; font-weight: bold\">0.07139863</span>, <span style=\"color: #008080; text-decoration-color: #008080; font-weight: bold\">0.08577855</span>, <span style=\"color: #008080; text-decoration-color: #008080; font-weight: bold\">0.09902369</span>, <span style=\"color: #008080; text-decoration-color: #008080; font-weight: bold\">0.11104297</span>,\n",
       "       <span style=\"color: #008080; text-decoration-color: #008080; font-weight: bold\">0.12176176</span>, <span style=\"color: #008080; text-decoration-color: #008080; font-weight: bold\">0.13112863</span>, <span style=\"color: #008080; text-decoration-color: #008080; font-weight: bold\">0.13910638</span>, <span style=\"color: #008080; text-decoration-color: #008080; font-weight: bold\">0.14552351</span>, <span style=\"color: #008080; text-decoration-color: #008080; font-weight: bold\">0.15066436</span>,\n",
       "       <span style=\"color: #008080; text-decoration-color: #008080; font-weight: bold\">0.15439824</span>, <span style=\"color: #008080; text-decoration-color: #008080; font-weight: bold\">0.15673775</span>, <span style=\"color: #008080; text-decoration-color: #008080; font-weight: bold\">0.15769999</span>, <span style=\"color: #008080; text-decoration-color: #008080; font-weight: bold\">0.15730515</span>, <span style=\"color: #008080; text-decoration-color: #008080; font-weight: bold\">0.15556807</span>,\n",
       "       <span style=\"color: #008080; text-decoration-color: #008080; font-weight: bold\">0.15249916</span>, <span style=\"color: #008080; text-decoration-color: #008080; font-weight: bold\">0.14809407</span>, <span style=\"color: #008080; text-decoration-color: #008080; font-weight: bold\">0.1423272</span> , <span style=\"color: #008080; text-decoration-color: #008080; font-weight: bold\">0.13514545</span>, <span style=\"color: #008080; text-decoration-color: #008080; font-weight: bold\">0.12644173</span>,\n",
       "       <span style=\"color: #008080; text-decoration-color: #008080; font-weight: bold\">0.11620314</span>, <span style=\"color: #008080; text-decoration-color: #008080; font-weight: bold\">0.1037258</span> , <span style=\"color: #008080; text-decoration-color: #008080; font-weight: bold\">0.08853714</span>, <span style=\"color: #008080; text-decoration-color: #008080; font-weight: bold\">0.06912588</span>, <span style=\"color: #008080; text-decoration-color: #008080; font-weight: bold\">0.04015294</span><span style=\"font-weight: bold\">])</span>,\n",
       "    <span style=\"color: #008000; text-decoration-color: #008000\">'pitch_arr'</span>: <span style=\"color: #800080; text-decoration-color: #800080; font-weight: bold\">array</span><span style=\"font-weight: bold\">([</span><span style=\"color: #008080; text-decoration-color: #008080; font-weight: bold\">1.52933606</span>, <span style=\"color: #008080; text-decoration-color: #008080; font-weight: bold\">1.5016736</span> , <span style=\"color: #008080; text-decoration-color: #008080; font-weight: bold\">1.47248448</span>, <span style=\"color: #008080; text-decoration-color: #008080; font-weight: bold\">1.44530601</span>, <span style=\"color: #008080; text-decoration-color: #008080; font-weight: bold\">1.41843694</span>,\n",
       "       <span style=\"color: #008080; text-decoration-color: #008080; font-weight: bold\">1.39017304</span>, <span style=\"color: #008080; text-decoration-color: #008080; font-weight: bold\">1.36404283</span>, <span style=\"color: #008080; text-decoration-color: #008080; font-weight: bold\">1.33659008</span>, <span style=\"color: #008080; text-decoration-color: #008080; font-weight: bold\">1.30784565</span>, <span style=\"color: #008080; text-decoration-color: #008080; font-weight: bold\">1.28132738</span>,\n",
       "       <span style=\"color: #008080; text-decoration-color: #008080; font-weight: bold\">1.25705883</span>, <span style=\"color: #008080; text-decoration-color: #008080; font-weight: bold\">1.23331457</span>, <span style=\"color: #008080; text-decoration-color: #008080; font-weight: bold\">1.2083657</span> , <span style=\"color: #008080; text-decoration-color: #008080; font-weight: bold\">1.18571591</span>, <span style=\"color: #008080; text-decoration-color: #008080; font-weight: bold\">1.16188436</span>,\n",
       "       <span style=\"color: #008080; text-decoration-color: #008080; font-weight: bold\">1.14036854</span>, <span style=\"color: #008080; text-decoration-color: #008080; font-weight: bold\">1.11942714</span>, <span style=\"color: #008080; text-decoration-color: #008080; font-weight: bold\">1.09731632</span>, <span style=\"color: #008080; text-decoration-color: #008080; font-weight: bold\">1.07752587</span>, <span style=\"color: #008080; text-decoration-color: #008080; font-weight: bold\">1.05656219</span>,\n",
       "       <span style=\"color: #008080; text-decoration-color: #008080; font-weight: bold\">1.04140181</span>, <span style=\"color: #008080; text-decoration-color: #008080; font-weight: bold\">1.02331164</span>, <span style=\"color: #008080; text-decoration-color: #008080; font-weight: bold\">1.00402916</span>, <span style=\"color: #008080; text-decoration-color: #008080; font-weight: bold\">0.98703598</span>, <span style=\"color: #008080; text-decoration-color: #008080; font-weight: bold\">0.96883135</span><span style=\"font-weight: bold\">])</span>,\n",
       "    <span style=\"color: #008000; text-decoration-color: #008000\">'alpha_arr'</span>: <span style=\"color: #800080; text-decoration-color: #800080; font-weight: bold\">array</span><span style=\"font-weight: bold\">([</span><span style=\"color: #008080; text-decoration-color: #008080; font-weight: bold\">0.05585054</span>, <span style=\"color: #008080; text-decoration-color: #008080; font-weight: bold\">0.05759587</span>, <span style=\"color: #008080; text-decoration-color: #008080; font-weight: bold\">0.05759587</span>, <span style=\"color: #008080; text-decoration-color: #008080; font-weight: bold\">0.05934119</span>, <span style=\"color: #008080; text-decoration-color: #008080; font-weight: bold\">0.06108652</span>,\n",
       "       <span style=\"color: #008080; text-decoration-color: #008080; font-weight: bold\">0.06108652</span>, <span style=\"color: #008080; text-decoration-color: #008080; font-weight: bold\">0.06283185</span>, <span style=\"color: #008080; text-decoration-color: #008080; font-weight: bold\">0.06283185</span>, <span style=\"color: #008080; text-decoration-color: #008080; font-weight: bold\">0.06108652</span>, <span style=\"color: #008080; text-decoration-color: #008080; font-weight: bold\">0.06108652</span>,\n",
       "       <span style=\"color: #008080; text-decoration-color: #008080; font-weight: bold\">0.06283185</span>, <span style=\"color: #008080; text-decoration-color: #008080; font-weight: bold\">0.06457718</span>, <span style=\"color: #008080; text-decoration-color: #008080; font-weight: bold\">0.06457718</span>, <span style=\"color: #008080; text-decoration-color: #008080; font-weight: bold\">0.06632251</span>, <span style=\"color: #008080; text-decoration-color: #008080; font-weight: bold\">0.06632251</span>,\n",
       "       <span style=\"color: #008080; text-decoration-color: #008080; font-weight: bold\">0.06806784</span>, <span style=\"color: #008080; text-decoration-color: #008080; font-weight: bold\">0.06981317</span>, <span style=\"color: #008080; text-decoration-color: #008080; font-weight: bold\">0.06981317</span>, <span style=\"color: #008080; text-decoration-color: #008080; font-weight: bold\">0.0715585</span> , <span style=\"color: #008080; text-decoration-color: #008080; font-weight: bold\">0.0715585</span> ,\n",
       "       <span style=\"color: #008080; text-decoration-color: #008080; font-weight: bold\">0.07679449</span>, <span style=\"color: #008080; text-decoration-color: #008080; font-weight: bold\">0.07853982</span>, <span style=\"color: #008080; text-decoration-color: #008080; font-weight: bold\">0.07853982</span>, <span style=\"color: #008080; text-decoration-color: #008080; font-weight: bold\">0.08028515</span>, <span style=\"color: #008080; text-decoration-color: #008080; font-weight: bold\">0.08028515</span><span style=\"font-weight: bold\">])</span>,\n",
       "    <span style=\"color: #008000; text-decoration-color: #008000\">'station_arr'</span>: <span style=\"color: #800080; text-decoration-color: #800080; font-weight: bold\">array</span><span style=\"font-weight: bold\">([</span><span style=\"color: #008080; text-decoration-color: #008080; font-weight: bold\">0.05664</span>, <span style=\"color: #008080; text-decoration-color: #008080; font-weight: bold\">0.07392</span>, <span style=\"color: #008080; text-decoration-color: #008080; font-weight: bold\">0.0912</span> , <span style=\"color: #008080; text-decoration-color: #008080; font-weight: bold\">0.10848</span>, <span style=\"color: #008080; text-decoration-color: #008080; font-weight: bold\">0.12576</span>, <span style=\"color: #008080; text-decoration-color: #008080; font-weight: bold\">0.14304</span>, <span style=\"color: #008080; text-decoration-color: #008080; font-weight: bold\">0.16032</span>,\n",
       "       <span style=\"color: #008080; text-decoration-color: #008080; font-weight: bold\">0.1776</span> , <span style=\"color: #008080; text-decoration-color: #008080; font-weight: bold\">0.19488</span>, <span style=\"color: #008080; text-decoration-color: #008080; font-weight: bold\">0.21216</span>, <span style=\"color: #008080; text-decoration-color: #008080; font-weight: bold\">0.22944</span>, <span style=\"color: #008080; text-decoration-color: #008080; font-weight: bold\">0.24672</span>, <span style=\"color: #008080; text-decoration-color: #008080; font-weight: bold\">0.264</span>  , <span style=\"color: #008080; text-decoration-color: #008080; font-weight: bold\">0.28128</span>,\n",
       "       <span style=\"color: #008080; text-decoration-color: #008080; font-weight: bold\">0.29856</span>, <span style=\"color: #008080; text-decoration-color: #008080; font-weight: bold\">0.31584</span>, <span style=\"color: #008080; text-decoration-color: #008080; font-weight: bold\">0.33312</span>, <span style=\"color: #008080; text-decoration-color: #008080; font-weight: bold\">0.3504</span> , <span style=\"color: #008080; text-decoration-color: #008080; font-weight: bold\">0.36768</span>, <span style=\"color: #008080; text-decoration-color: #008080; font-weight: bold\">0.38496</span>, <span style=\"color: #008080; text-decoration-color: #008080; font-weight: bold\">0.40224</span>,\n",
       "       <span style=\"color: #008080; text-decoration-color: #008080; font-weight: bold\">0.41952</span>, <span style=\"color: #008080; text-decoration-color: #008080; font-weight: bold\">0.4368</span> , <span style=\"color: #008080; text-decoration-color: #008080; font-weight: bold\">0.45408</span>, <span style=\"color: #008080; text-decoration-color: #008080; font-weight: bold\">0.47136</span><span style=\"font-weight: bold\">])</span>,\n",
       "    <span style=\"color: #008000; text-decoration-color: #008000\">'drag_to_lift_arr'</span>: <span style=\"color: #800080; text-decoration-color: #800080; font-weight: bold\">array</span><span style=\"font-weight: bold\">([</span><span style=\"color: #008080; text-decoration-color: #008080; font-weight: bold\">0.02329602</span>, <span style=\"color: #008080; text-decoration-color: #008080; font-weight: bold\">0.02309855</span>, <span style=\"color: #008080; text-decoration-color: #008080; font-weight: bold\">0.02290547</span>, <span style=\"color: #008080; text-decoration-color: #008080; font-weight: bold\">0.02286218</span>, <span style=\"color: #008080; text-decoration-color: #008080; font-weight: bold\">0.02295302</span>,\n",
       "       <span style=\"color: #008080; text-decoration-color: #008080; font-weight: bold\">0.02276904</span>, <span style=\"color: #008080; text-decoration-color: #008080; font-weight: bold\">0.0226838</span> , <span style=\"color: #008080; text-decoration-color: #008080; font-weight: bold\">0.02250705</span>, <span style=\"color: #008080; text-decoration-color: #008080; font-weight: bold\">0.00812469</span>, <span style=\"color: #008080; text-decoration-color: #008080; font-weight: bold\">0.00806317</span>,\n",
       "       <span style=\"color: #008080; text-decoration-color: #008080; font-weight: bold\">0.00804892</span>, <span style=\"color: #008080; text-decoration-color: #008080; font-weight: bold\">0.0080353</span> , <span style=\"color: #008080; text-decoration-color: #008080; font-weight: bold\">0.00797705</span>, <span style=\"color: #008080; text-decoration-color: #008080; font-weight: bold\">0.007965</span>  , <span style=\"color: #008080; text-decoration-color: #008080; font-weight: bold\">0.00790894</span>,\n",
       "       <span style=\"color: #008080; text-decoration-color: #008080; font-weight: bold\">0.00790949</span>, <span style=\"color: #008080; text-decoration-color: #008080; font-weight: bold\">0.00793248</span>, <span style=\"color: #008080; text-decoration-color: #008080; font-weight: bold\">0.00787912</span>, <span style=\"color: #008080; text-decoration-color: #008080; font-weight: bold\">0.00790291</span>, <span style=\"color: #008080; text-decoration-color: #008080; font-weight: bold\">0.00785137</span>,\n",
       "       <span style=\"color: #008080; text-decoration-color: #008080; font-weight: bold\">0.02159191</span>, <span style=\"color: #008080; text-decoration-color: #008080; font-weight: bold\">0.02150867</span>, <span style=\"color: #008080; text-decoration-color: #008080; font-weight: bold\">0.02137488</span>, <span style=\"color: #008080; text-decoration-color: #008080; font-weight: bold\">0.02126508</span>, <span style=\"color: #008080; text-decoration-color: #008080; font-weight: bold\">0.02113704</span><span style=\"font-weight: bold\">])</span>,\n",
       "    <span style=\"color: #008000; text-decoration-color: #008000\">'v_e'</span>: <span style=\"color: #008080; text-decoration-color: #008080; font-weight: bold\">87.49038368597466</span>,\n",
       "    <span style=\"color: #008000; text-decoration-color: #008000\">'solidity'</span>: <span style=\"color: #800080; text-decoration-color: #800080; font-weight: bold\">array</span><span style=\"font-weight: bold\">([</span><span style=\"color: #008080; text-decoration-color: #008080; font-weight: bold\">0.94403429</span>, <span style=\"color: #008080; text-decoration-color: #008080; font-weight: bold\">0.92235755</span>, <span style=\"color: #008080; text-decoration-color: #008080; font-weight: bold\">0.89816313</span>, <span style=\"color: #008080; text-decoration-color: #008080; font-weight: bold\">0.87168752</span>, <span style=\"color: #008080; text-decoration-color: #008080; font-weight: bold\">0.8431793</span> ,\n",
       "       <span style=\"color: #008080; text-decoration-color: #008080; font-weight: bold\">0.81287695</span>, <span style=\"color: #008080; text-decoration-color: #008080; font-weight: bold\">0.78105426</span>, <span style=\"color: #008080; text-decoration-color: #008080; font-weight: bold\">0.74795501</span>, <span style=\"color: #008080; text-decoration-color: #008080; font-weight: bold\">0.71307837</span>, <span style=\"color: #008080; text-decoration-color: #008080; font-weight: bold\">0.67813851</span>,\n",
       "       <span style=\"color: #008080; text-decoration-color: #008080; font-weight: bold\">0.64260574</span>, <span style=\"color: #008080; text-decoration-color: #008080; font-weight: bold\">0.60665339</span>, <span style=\"color: #008080; text-decoration-color: #008080; font-weight: bold\">0.57042575</span>, <span style=\"color: #008080; text-decoration-color: #008080; font-weight: bold\">0.53404206</span>, <span style=\"color: #008080; text-decoration-color: #008080; font-weight: bold\">0.4975769</span> ,\n",
       "       <span style=\"color: #008080; text-decoration-color: #008080; font-weight: bold\">0.46107515</span>, <span style=\"color: #008080; text-decoration-color: #008080; font-weight: bold\">0.42452996</span>, <span style=\"color: #008080; text-decoration-color: #008080; font-weight: bold\">0.38787804</span>, <span style=\"color: #008080; text-decoration-color: #008080; font-weight: bold\">0.35099652</span>, <span style=\"color: #008080; text-decoration-color: #008080; font-weight: bold\">0.31365065</span>,\n",
       "       <span style=\"color: #008080; text-decoration-color: #008080; font-weight: bold\">0.2758697</span> , <span style=\"color: #008080; text-decoration-color: #008080; font-weight: bold\">0.23610518</span>, <span style=\"color: #008080; text-decoration-color: #008080; font-weight: bold\">0.19355939</span>, <span style=\"color: #008080; text-decoration-color: #008080; font-weight: bold\">0.14537164</span>, <span style=\"color: #008080; text-decoration-color: #008080; font-weight: bold\">0.08134597</span><span style=\"font-weight: bold\">])</span>,\n",
       "    <span style=\"color: #008000; text-decoration-color: #008000\">'cl'</span>: <span style=\"color: #800080; text-decoration-color: #800080; font-weight: bold\">array</span><span style=\"font-weight: bold\">([</span><span style=\"color: #008080; text-decoration-color: #008080; font-weight: bold\">0.81661538</span>, <span style=\"color: #008080; text-decoration-color: #008080; font-weight: bold\">0.82373077</span>, <span style=\"color: #008080; text-decoration-color: #008080; font-weight: bold\">0.83084615</span>, <span style=\"color: #008080; text-decoration-color: #008080; font-weight: bold\">0.83796154</span>, <span style=\"color: #008080; text-decoration-color: #008080; font-weight: bold\">0.84507692</span>,\n",
       "       <span style=\"color: #008080; text-decoration-color: #008080; font-weight: bold\">0.85219231</span>, <span style=\"color: #008080; text-decoration-color: #008080; font-weight: bold\">0.85930769</span>, <span style=\"color: #008080; text-decoration-color: #008080; font-weight: bold\">0.86642308</span>, <span style=\"color: #008080; text-decoration-color: #008080; font-weight: bold\">0.87353846</span>, <span style=\"color: #008080; text-decoration-color: #008080; font-weight: bold\">0.88065385</span>,\n",
       "       <span style=\"color: #008080; text-decoration-color: #008080; font-weight: bold\">0.88776923</span>, <span style=\"color: #008080; text-decoration-color: #008080; font-weight: bold\">0.89488462</span>, <span style=\"color: #008080; text-decoration-color: #008080; font-weight: bold\">0.902</span>     , <span style=\"color: #008080; text-decoration-color: #008080; font-weight: bold\">0.90911538</span>, <span style=\"color: #008080; text-decoration-color: #008080; font-weight: bold\">0.91623077</span>,\n",
       "       <span style=\"color: #008080; text-decoration-color: #008080; font-weight: bold\">0.92334615</span>, <span style=\"color: #008080; text-decoration-color: #008080; font-weight: bold\">0.93046154</span>, <span style=\"color: #008080; text-decoration-color: #008080; font-weight: bold\">0.93757692</span>, <span style=\"color: #008080; text-decoration-color: #008080; font-weight: bold\">0.94469231</span>, <span style=\"color: #008080; text-decoration-color: #008080; font-weight: bold\">0.95180769</span>,\n",
       "       <span style=\"color: #008080; text-decoration-color: #008080; font-weight: bold\">0.95892308</span>, <span style=\"color: #008080; text-decoration-color: #008080; font-weight: bold\">0.96603846</span>, <span style=\"color: #008080; text-decoration-color: #008080; font-weight: bold\">0.97315385</span>, <span style=\"color: #008080; text-decoration-color: #008080; font-weight: bold\">0.98026923</span>, <span style=\"color: #008080; text-decoration-color: #008080; font-weight: bold\">0.98738462</span><span style=\"font-weight: bold\">])</span>,\n",
       "    <span style=\"color: #008000; text-decoration-color: #008000\">'cd'</span>: <span style=\"color: #800080; text-decoration-color: #800080; font-weight: bold\">array</span><span style=\"font-weight: bold\">([</span><span style=\"color: #008080; text-decoration-color: #008080; font-weight: bold\">0.01902389</span>, <span style=\"color: #008080; text-decoration-color: #008080; font-weight: bold\">0.01902699</span>, <span style=\"color: #008080; text-decoration-color: #008080; font-weight: bold\">0.01903092</span>, <span style=\"color: #008080; text-decoration-color: #008080; font-weight: bold\">0.01915763</span>, <span style=\"color: #008080; text-decoration-color: #008080; font-weight: bold\">0.01939707</span>,\n",
       "       <span style=\"color: #008080; text-decoration-color: #008080; font-weight: bold\">0.0194036</span> , <span style=\"color: #008080; text-decoration-color: #008080; font-weight: bold\">0.01949236</span>, <span style=\"color: #008080; text-decoration-color: #008080; font-weight: bold\">0.01950063</span>, <span style=\"color: #008080; text-decoration-color: #008080; font-weight: bold\">0.00709723</span>, <span style=\"color: #008080; text-decoration-color: #008080; font-weight: bold\">0.00710086</span>,\n",
       "       <span style=\"color: #008080; text-decoration-color: #008080; font-weight: bold\">0.00714558</span>, <span style=\"color: #008080; text-decoration-color: #008080; font-weight: bold\">0.00719066</span>, <span style=\"color: #008080; text-decoration-color: #008080; font-weight: bold\">0.0071953</span> , <span style=\"color: #008080; text-decoration-color: #008080; font-weight: bold\">0.0072411</span> , <span style=\"color: #008080; text-decoration-color: #008080; font-weight: bold\">0.00724641</span>,\n",
       "       <span style=\"color: #008080; text-decoration-color: #008080; font-weight: bold\">0.0073032</span> , <span style=\"color: #008080; text-decoration-color: #008080; font-weight: bold\">0.00738087</span>, <span style=\"color: #008080; text-decoration-color: #008080; font-weight: bold\">0.00738728</span>, <span style=\"color: #008080; text-decoration-color: #008080; font-weight: bold\">0.00746582</span>, <span style=\"color: #008080; text-decoration-color: #008080; font-weight: bold\">0.00747299</span>,\n",
       "       <span style=\"color: #008080; text-decoration-color: #008080; font-weight: bold\">0.02070498</span>, <span style=\"color: #008080; text-decoration-color: #008080; font-weight: bold\">0.02077821</span>, <span style=\"color: #008080; text-decoration-color: #008080; font-weight: bold\">0.02080105</span>, <span style=\"color: #008080; text-decoration-color: #008080; font-weight: bold\">0.02084551</span>, <span style=\"color: #008080; text-decoration-color: #008080; font-weight: bold\">0.02087038</span><span style=\"font-weight: bold\">])</span>,\n",
       "    <span style=\"color: #008000; text-decoration-color: #008000\">'eff'</span>: <span style=\"color: #008080; text-decoration-color: #008080; font-weight: bold\">0.7680638314288806</span>,\n",
       "    <span style=\"color: #008000; text-decoration-color: #008000\">'tc'</span>: <span style=\"color: #008080; text-decoration-color: #008080; font-weight: bold\">0.2235026163289662</span>,\n",
       "    <span style=\"color: #008000; text-decoration-color: #008000\">'pc'</span>: <span style=\"color: #008080; text-decoration-color: #008080; font-weight: bold\">0.2909948459793626</span>,\n",
       "    <span style=\"color: #008000; text-decoration-color: #008000\">'zeta'</span>: <span style=\"color: #008080; text-decoration-color: #008080; font-weight: bold\">0.49980988396753423</span>\n",
       "<span style=\"font-weight: bold\">}</span>\n",
       "</pre>\n"
      ],
      "text/plain": [
       "\u001b[1m{\u001b[0m\n",
       "    \u001b[32m'chord_arr'\u001b[0m: \u001b[1;35marray\u001b[0m\u001b[1m(\u001b[0m\u001b[1m[\u001b[0m\u001b[1;36m0.05599376\u001b[0m, \u001b[1;36m0.07139863\u001b[0m, \u001b[1;36m0.08577855\u001b[0m, \u001b[1;36m0.09902369\u001b[0m, \u001b[1;36m0.11104297\u001b[0m,\n",
       "       \u001b[1;36m0.12176176\u001b[0m, \u001b[1;36m0.13112863\u001b[0m, \u001b[1;36m0.13910638\u001b[0m, \u001b[1;36m0.14552351\u001b[0m, \u001b[1;36m0.15066436\u001b[0m,\n",
       "       \u001b[1;36m0.15439824\u001b[0m, \u001b[1;36m0.15673775\u001b[0m, \u001b[1;36m0.15769999\u001b[0m, \u001b[1;36m0.15730515\u001b[0m, \u001b[1;36m0.15556807\u001b[0m,\n",
       "       \u001b[1;36m0.15249916\u001b[0m, \u001b[1;36m0.14809407\u001b[0m, \u001b[1;36m0.1423272\u001b[0m , \u001b[1;36m0.13514545\u001b[0m, \u001b[1;36m0.12644173\u001b[0m,\n",
       "       \u001b[1;36m0.11620314\u001b[0m, \u001b[1;36m0.1037258\u001b[0m , \u001b[1;36m0.08853714\u001b[0m, \u001b[1;36m0.06912588\u001b[0m, \u001b[1;36m0.04015294\u001b[0m\u001b[1m]\u001b[0m\u001b[1m)\u001b[0m,\n",
       "    \u001b[32m'pitch_arr'\u001b[0m: \u001b[1;35marray\u001b[0m\u001b[1m(\u001b[0m\u001b[1m[\u001b[0m\u001b[1;36m1.52933606\u001b[0m, \u001b[1;36m1.5016736\u001b[0m , \u001b[1;36m1.47248448\u001b[0m, \u001b[1;36m1.44530601\u001b[0m, \u001b[1;36m1.41843694\u001b[0m,\n",
       "       \u001b[1;36m1.39017304\u001b[0m, \u001b[1;36m1.36404283\u001b[0m, \u001b[1;36m1.33659008\u001b[0m, \u001b[1;36m1.30784565\u001b[0m, \u001b[1;36m1.28132738\u001b[0m,\n",
       "       \u001b[1;36m1.25705883\u001b[0m, \u001b[1;36m1.23331457\u001b[0m, \u001b[1;36m1.2083657\u001b[0m , \u001b[1;36m1.18571591\u001b[0m, \u001b[1;36m1.16188436\u001b[0m,\n",
       "       \u001b[1;36m1.14036854\u001b[0m, \u001b[1;36m1.11942714\u001b[0m, \u001b[1;36m1.09731632\u001b[0m, \u001b[1;36m1.07752587\u001b[0m, \u001b[1;36m1.05656219\u001b[0m,\n",
       "       \u001b[1;36m1.04140181\u001b[0m, \u001b[1;36m1.02331164\u001b[0m, \u001b[1;36m1.00402916\u001b[0m, \u001b[1;36m0.98703598\u001b[0m, \u001b[1;36m0.96883135\u001b[0m\u001b[1m]\u001b[0m\u001b[1m)\u001b[0m,\n",
       "    \u001b[32m'alpha_arr'\u001b[0m: \u001b[1;35marray\u001b[0m\u001b[1m(\u001b[0m\u001b[1m[\u001b[0m\u001b[1;36m0.05585054\u001b[0m, \u001b[1;36m0.05759587\u001b[0m, \u001b[1;36m0.05759587\u001b[0m, \u001b[1;36m0.05934119\u001b[0m, \u001b[1;36m0.06108652\u001b[0m,\n",
       "       \u001b[1;36m0.06108652\u001b[0m, \u001b[1;36m0.06283185\u001b[0m, \u001b[1;36m0.06283185\u001b[0m, \u001b[1;36m0.06108652\u001b[0m, \u001b[1;36m0.06108652\u001b[0m,\n",
       "       \u001b[1;36m0.06283185\u001b[0m, \u001b[1;36m0.06457718\u001b[0m, \u001b[1;36m0.06457718\u001b[0m, \u001b[1;36m0.06632251\u001b[0m, \u001b[1;36m0.06632251\u001b[0m,\n",
       "       \u001b[1;36m0.06806784\u001b[0m, \u001b[1;36m0.06981317\u001b[0m, \u001b[1;36m0.06981317\u001b[0m, \u001b[1;36m0.0715585\u001b[0m , \u001b[1;36m0.0715585\u001b[0m ,\n",
       "       \u001b[1;36m0.07679449\u001b[0m, \u001b[1;36m0.07853982\u001b[0m, \u001b[1;36m0.07853982\u001b[0m, \u001b[1;36m0.08028515\u001b[0m, \u001b[1;36m0.08028515\u001b[0m\u001b[1m]\u001b[0m\u001b[1m)\u001b[0m,\n",
       "    \u001b[32m'station_arr'\u001b[0m: \u001b[1;35marray\u001b[0m\u001b[1m(\u001b[0m\u001b[1m[\u001b[0m\u001b[1;36m0.05664\u001b[0m, \u001b[1;36m0.07392\u001b[0m, \u001b[1;36m0.0912\u001b[0m , \u001b[1;36m0.10848\u001b[0m, \u001b[1;36m0.12576\u001b[0m, \u001b[1;36m0.14304\u001b[0m, \u001b[1;36m0.16032\u001b[0m,\n",
       "       \u001b[1;36m0.1776\u001b[0m , \u001b[1;36m0.19488\u001b[0m, \u001b[1;36m0.21216\u001b[0m, \u001b[1;36m0.22944\u001b[0m, \u001b[1;36m0.24672\u001b[0m, \u001b[1;36m0.264\u001b[0m  , \u001b[1;36m0.28128\u001b[0m,\n",
       "       \u001b[1;36m0.29856\u001b[0m, \u001b[1;36m0.31584\u001b[0m, \u001b[1;36m0.33312\u001b[0m, \u001b[1;36m0.3504\u001b[0m , \u001b[1;36m0.36768\u001b[0m, \u001b[1;36m0.38496\u001b[0m, \u001b[1;36m0.40224\u001b[0m,\n",
       "       \u001b[1;36m0.41952\u001b[0m, \u001b[1;36m0.4368\u001b[0m , \u001b[1;36m0.45408\u001b[0m, \u001b[1;36m0.47136\u001b[0m\u001b[1m]\u001b[0m\u001b[1m)\u001b[0m,\n",
       "    \u001b[32m'drag_to_lift_arr'\u001b[0m: \u001b[1;35marray\u001b[0m\u001b[1m(\u001b[0m\u001b[1m[\u001b[0m\u001b[1;36m0.02329602\u001b[0m, \u001b[1;36m0.02309855\u001b[0m, \u001b[1;36m0.02290547\u001b[0m, \u001b[1;36m0.02286218\u001b[0m, \u001b[1;36m0.02295302\u001b[0m,\n",
       "       \u001b[1;36m0.02276904\u001b[0m, \u001b[1;36m0.0226838\u001b[0m , \u001b[1;36m0.02250705\u001b[0m, \u001b[1;36m0.00812469\u001b[0m, \u001b[1;36m0.00806317\u001b[0m,\n",
       "       \u001b[1;36m0.00804892\u001b[0m, \u001b[1;36m0.0080353\u001b[0m , \u001b[1;36m0.00797705\u001b[0m, \u001b[1;36m0.007965\u001b[0m  , \u001b[1;36m0.00790894\u001b[0m,\n",
       "       \u001b[1;36m0.00790949\u001b[0m, \u001b[1;36m0.00793248\u001b[0m, \u001b[1;36m0.00787912\u001b[0m, \u001b[1;36m0.00790291\u001b[0m, \u001b[1;36m0.00785137\u001b[0m,\n",
       "       \u001b[1;36m0.02159191\u001b[0m, \u001b[1;36m0.02150867\u001b[0m, \u001b[1;36m0.02137488\u001b[0m, \u001b[1;36m0.02126508\u001b[0m, \u001b[1;36m0.02113704\u001b[0m\u001b[1m]\u001b[0m\u001b[1m)\u001b[0m,\n",
       "    \u001b[32m'v_e'\u001b[0m: \u001b[1;36m87.49038368597466\u001b[0m,\n",
       "    \u001b[32m'solidity'\u001b[0m: \u001b[1;35marray\u001b[0m\u001b[1m(\u001b[0m\u001b[1m[\u001b[0m\u001b[1;36m0.94403429\u001b[0m, \u001b[1;36m0.92235755\u001b[0m, \u001b[1;36m0.89816313\u001b[0m, \u001b[1;36m0.87168752\u001b[0m, \u001b[1;36m0.8431793\u001b[0m ,\n",
       "       \u001b[1;36m0.81287695\u001b[0m, \u001b[1;36m0.78105426\u001b[0m, \u001b[1;36m0.74795501\u001b[0m, \u001b[1;36m0.71307837\u001b[0m, \u001b[1;36m0.67813851\u001b[0m,\n",
       "       \u001b[1;36m0.64260574\u001b[0m, \u001b[1;36m0.60665339\u001b[0m, \u001b[1;36m0.57042575\u001b[0m, \u001b[1;36m0.53404206\u001b[0m, \u001b[1;36m0.4975769\u001b[0m ,\n",
       "       \u001b[1;36m0.46107515\u001b[0m, \u001b[1;36m0.42452996\u001b[0m, \u001b[1;36m0.38787804\u001b[0m, \u001b[1;36m0.35099652\u001b[0m, \u001b[1;36m0.31365065\u001b[0m,\n",
       "       \u001b[1;36m0.2758697\u001b[0m , \u001b[1;36m0.23610518\u001b[0m, \u001b[1;36m0.19355939\u001b[0m, \u001b[1;36m0.14537164\u001b[0m, \u001b[1;36m0.08134597\u001b[0m\u001b[1m]\u001b[0m\u001b[1m)\u001b[0m,\n",
       "    \u001b[32m'cl'\u001b[0m: \u001b[1;35marray\u001b[0m\u001b[1m(\u001b[0m\u001b[1m[\u001b[0m\u001b[1;36m0.81661538\u001b[0m, \u001b[1;36m0.82373077\u001b[0m, \u001b[1;36m0.83084615\u001b[0m, \u001b[1;36m0.83796154\u001b[0m, \u001b[1;36m0.84507692\u001b[0m,\n",
       "       \u001b[1;36m0.85219231\u001b[0m, \u001b[1;36m0.85930769\u001b[0m, \u001b[1;36m0.86642308\u001b[0m, \u001b[1;36m0.87353846\u001b[0m, \u001b[1;36m0.88065385\u001b[0m,\n",
       "       \u001b[1;36m0.88776923\u001b[0m, \u001b[1;36m0.89488462\u001b[0m, \u001b[1;36m0.902\u001b[0m     , \u001b[1;36m0.90911538\u001b[0m, \u001b[1;36m0.91623077\u001b[0m,\n",
       "       \u001b[1;36m0.92334615\u001b[0m, \u001b[1;36m0.93046154\u001b[0m, \u001b[1;36m0.93757692\u001b[0m, \u001b[1;36m0.94469231\u001b[0m, \u001b[1;36m0.95180769\u001b[0m,\n",
       "       \u001b[1;36m0.95892308\u001b[0m, \u001b[1;36m0.96603846\u001b[0m, \u001b[1;36m0.97315385\u001b[0m, \u001b[1;36m0.98026923\u001b[0m, \u001b[1;36m0.98738462\u001b[0m\u001b[1m]\u001b[0m\u001b[1m)\u001b[0m,\n",
       "    \u001b[32m'cd'\u001b[0m: \u001b[1;35marray\u001b[0m\u001b[1m(\u001b[0m\u001b[1m[\u001b[0m\u001b[1;36m0.01902389\u001b[0m, \u001b[1;36m0.01902699\u001b[0m, \u001b[1;36m0.01903092\u001b[0m, \u001b[1;36m0.01915763\u001b[0m, \u001b[1;36m0.01939707\u001b[0m,\n",
       "       \u001b[1;36m0.0194036\u001b[0m , \u001b[1;36m0.01949236\u001b[0m, \u001b[1;36m0.01950063\u001b[0m, \u001b[1;36m0.00709723\u001b[0m, \u001b[1;36m0.00710086\u001b[0m,\n",
       "       \u001b[1;36m0.00714558\u001b[0m, \u001b[1;36m0.00719066\u001b[0m, \u001b[1;36m0.0071953\u001b[0m , \u001b[1;36m0.0072411\u001b[0m , \u001b[1;36m0.00724641\u001b[0m,\n",
       "       \u001b[1;36m0.0073032\u001b[0m , \u001b[1;36m0.00738087\u001b[0m, \u001b[1;36m0.00738728\u001b[0m, \u001b[1;36m0.00746582\u001b[0m, \u001b[1;36m0.00747299\u001b[0m,\n",
       "       \u001b[1;36m0.02070498\u001b[0m, \u001b[1;36m0.02077821\u001b[0m, \u001b[1;36m0.02080105\u001b[0m, \u001b[1;36m0.02084551\u001b[0m, \u001b[1;36m0.02087038\u001b[0m\u001b[1m]\u001b[0m\u001b[1m)\u001b[0m,\n",
       "    \u001b[32m'eff'\u001b[0m: \u001b[1;36m0.7680638314288806\u001b[0m,\n",
       "    \u001b[32m'tc'\u001b[0m: \u001b[1;36m0.2235026163289662\u001b[0m,\n",
       "    \u001b[32m'pc'\u001b[0m: \u001b[1;36m0.2909948459793626\u001b[0m,\n",
       "    \u001b[32m'zeta'\u001b[0m: \u001b[1;36m0.49980988396753423\u001b[0m\n",
       "\u001b[1m}\u001b[0m\n"
      ]
     },
     "metadata": {},
     "output_type": "display_data"
    },
    {
     "data": {
      "text/html": [
       "<pre style=\"white-space:pre;overflow-x:auto;line-height:normal;font-family:Menlo,'DejaVu Sans Mono',consolas,'Courier New',monospace\">power required = <span style=\"color: #008080; text-decoration-color: #008080; font-weight: bold\">2.06887452884454</span> Kw\n",
       "</pre>\n"
      ],
      "text/plain": [
       "power required = \u001b[1;36m2.06887452884454\u001b[0m Kw\n"
      ]
     },
     "metadata": {},
     "output_type": "display_data"
    },
    {
     "data": {
      "image/png": "[encoded data removed]",
      "text/plain": [
       "<Figure size 640x480 with 2 Axes>"
      ]
     },
     "metadata": {},
     "output_type": "display_data"
    },
    {
     "data": {
      "application/vnd.plotly.v1+json": {
       "config": {
        "plotlyServerURL": "https://plot.ly"
       },
       "data": [
        {
         "line": {
          "color": "black"
         },
         "mode": "lines",
         "showlegend": false,
         "type": "scatter3d",
         "x": [
          0.001813367838362709,
          0.0024469968659118517,
          0.003024680252078889,
          0.00401221010026665,
          0.00478714651120241,
          0.005366273177300804,
          0.005721617277870777,
          0.005830800556359489,
          0.005576337165864517,
          0.005264484854056084,
          0.004807173874654179,
          0.004182025971105958,
          0.003338690066167528,
          0.002816319959210524,
          0.002182058569489309,
          0.001374365691483569,
          0.0008138714566108051,
          -0.0005802128348553242,
          -0.0013512248648766601,
          -0.00161313155832084,
          -0.0018572167382986749,
          -0.001939059558268405,
          -0.0019481730444413986,
          -0.001843319605746755,
          -0.0016489531408407428,
          -0.0013986410345526261,
          -0.0011483289282645092,
          -0.0006588938439646961,
          -0.0002030261444941465,
          0.00025284155497640344,
          0.0006807364337559007,
          0.0010582802352915035,
          0.0013854729595832117,
          0.0015350829113835397,
          0.0016679091707692362
         ],
         "y": [
          -0.04195621392983753,
          -0.039127832452784034,
          -0.036301771827069965,
          -0.030656613129660074,
          -0.025020273667339984,
          -0.01939205718470787,
          -0.013773124107433444,
          -0.008164402776052472,
          -0.002570766978377733,
          0.00021839211103954402,
          0.0030015169869743253,
          0.005777679308890845,
          0.00854479031058362,
          0.009924168279019048,
          0.011298904544775636,
          0.012666446171380016,
          0.013343718600931826,
          0.01398641034552626,
          0.013253901654096222,
          0.012542512709854918,
          0.01113133907806942,
          0.009726895915168237,
          0.008325469859008307,
          0.005527723619635171,
          0.002733690742405108,
          -0.00005802128348553242,
          -0.002849733309376173,
          -0.008433621531425342,
          -0.014018902264278158,
          -0.019604182997130976,
          -0.025190624155653506,
          -0.030779154080381517,
          -0.036369772771315007,
          -0.0391656623296166,
          -0.04196224814332003
         ],
         "z": [
          0.05664,
          0.05664,
          0.05664,
          0.05664,
          0.05664,
          0.05664,
          0.05664,
          0.05664,
          0.05664,
          0.05664,
          0.05664,
          0.05664,
          0.05664,
          0.05664,
          0.05664,
          0.05664,
          0.05664,
          0.05664,
          0.05664,
          0.05664,
          0.05664,
          0.05664,
          0.05664,
          0.05664,
          0.05664,
          0.05664,
          0.05664,
          0.05664,
          0.05664,
          0.05664,
          0.05664,
          0.05664,
          0.05664,
          0.05664,
          0.05664
         ]
        },
        {
         "line": {
          "color": "black"
         },
         "mode": "lines",
         "showlegend": false,
         "type": "scatter3d",
         "x": [
          0.003791100590225867,
          0.004498990585749358,
          0.005135652452142458,
          0.006195291797537484,
          0.006984264252237019,
          0.007523938254980185,
          0.007778699741201784,
          0.00772005745924966,
          0.007198432337949988,
          0.00670256695116986,
          0.006021508428650713,
          0.005126765518740391,
          0.003954232905221543,
          0.003239755966027412,
          0.002382822768572499,
          0.0013050823708133715,
          0.0005667734103687113,
          -0.001232834674118786,
          -0.002189755186977448,
          -0.0024984997247495455,
          -0.002759848154641782,
          -0.002814635010055883,
          -0.0027768252976004743,
          -0.0025445039886027956,
          -0.00219821767299649,
          -0.0017807032282597928,
          -0.0013631887835230953,
          -0.000542405519875779,
          0.00023564086629330192,
          0.0010136872524623831,
          0.001756119574066268,
          0.0024344465794528015,
          0.0030486682686219815,
          0.003337972080923974,
          0.0036059074544868485
         ],
         "y": [
          -0.05341468610748836,
          -0.04978719971243601,
          -0.04616464465608013,
          -0.03893432855945781,
          -0.03172275154988207,
          -0.02452843422574402,
          -0.017353842256391864,
          -0.010200948177304195,
          -0.0030801077997436106,
          0.000464038971338311,
          0.0039953642618093975,
          0.00751189553619106,
          0.011009194589656468,
          0.012748967706735516,
          0.014478878146421617,
          0.01619350143614864,
          0.017037005332662024,
          0.017807032282597928,
          0.016846162525108437,
          0.01593016794975687,
          0.014122835492536111,
          0.01232980391753513,
          0.010543183082839566,
          0.0069807903585806875,
          0.0034262877762361657,
          -0.0001232834674118786,
          -0.003672854711059923,
          -0.010772983466095312,
          -0.01787607102434858,
          -0.024979158582601847,
          -0.03208471181020335,
          -0.0391947032426317,
          -0.046309132879886854,
          -0.04986758053318855,
          -0.0534275075880992
         ],
         "z": [
          0.07392,
          0.07392,
          0.07392,
          0.07392,
          0.07392,
          0.07392,
          0.07392,
          0.07392,
          0.07392,
          0.07392,
          0.07392,
          0.07392,
          0.07392,
          0.07392,
          0.07392,
          0.07392,
          0.07392,
          0.07392,
          0.07392,
          0.07392,
          0.07392,
          0.07392,
          0.07392,
          0.07392,
          0.07392,
          0.07392,
          0.07392,
          0.07392,
          0.07392,
          0.07392,
          0.07392,
          0.07392,
          0.07392,
          0.07392,
          0.07392
         ]
        },
        {
         "line": {
          "color": "black"
         },
         "mode": "lines",
         "showlegend": false,
         "type": "scatter3d",
         "x": [
          0.006425575862281516,
          0.00714848461198108,
          0.007786029016115765,
          0.0088050247876905,
          0.009499636046118693,
          0.009895472095069812,
          0.009949850761761416,
          0.009628626307967554,
          0.008752533608001978,
          0.008032784917655092,
          0.007091088928839519,
          0.005893299903329311,
          0.004362589930116076,
          0.0034435791214926757,
          0.0023538396217395196,
          0.000999470650735238,
          0.00008326599765143706,
          -0.002104867404349058,
          -0.003220334175709371,
          -0.0035589854024292884,
          -0.0038094661280447277,
          -0.0038123902515220186,
          -0.003704340725764967,
          -0.003300440114008131,
          -0.00275995654934749,
          -0.0021341086391219693,
          -0.0015082607288964486,
          -0.0002736377775583829,
          0.0009097665664407552,
          0.0020931709104398933,
          0.0032338930816565915,
          0.0042977873418649,
          0.005284853691064818,
          0.005757045779273556,
          0.0062036285638128325
         ],
         "y": [
          -0.06401231386315645,
          -0.05963127569203941,
          -0.055258656990539765,
          -0.04653867799639265,
          -0.037850692986791626,
          -0.029192176120851513,
          -0.020567337133380978,
          -0.011979543812226986,
          -0.0034464770435860656,
          0.0007922720909969855,
          0.005009130604574806,
          0.00920073070930044,
          0.013359494882518226,
          0.015423721923815806,
          0.017471110025878596,
          0.019492397772127454,
          0.020479467130323177,
          0.02134108639121969,
          0.020153633656129943,
          0.019042798094558496,
          0.016863224319502587,
          0.014708067006337127,
          0.012563855003674284,
          0.008293953831506867,
          0.004037523810727281,
          -0.0002104867404349058,
          -0.0044584972915970925,
          -0.01295620228784495,
          -0.021458958965863237,
          -0.029961715643881528,
          -0.03846868205670851,
          -0.04698322599219117,
          -0.05550534745032947,
          -0.05976851304680297,
          -0.0640342044841617
         ],
         "z": [
          0.0912,
          0.0912,
          0.0912,
          0.0912,
          0.0912,
          0.0912,
          0.0912,
          0.0912,
          0.0912,
          0.0912,
          0.0912,
          0.0912,
          0.0912,
          0.0912,
          0.0912,
          0.0912,
          0.0912,
          0.0912,
          0.0912,
          0.0912,
          0.0912,
          0.0912,
          0.0912,
          0.0912,
          0.0912,
          0.0912,
          0.0912,
          0.0912,
          0.0912,
          0.0912,
          0.0912,
          0.0912,
          0.0912,
          0.0912,
          0.0912
         ]
        },
        {
         "line": {
          "color": "black"
         },
         "mode": "lines",
         "showlegend": false,
         "type": "scatter3d",
         "x": [
          0.009423162424306856,
          0.01011994934237645,
          0.010718491247122514,
          0.011620840016644034,
          0.012149857735536129,
          0.01233501790779586,
          0.012127198026761456,
          0.011487100087103507,
          0.010208409560842593,
          0.009244855753744475,
          0.008025864912005172,
          0.006512139030295268,
          0.004615257596623587,
          0.003489975855805385,
          0.002168204088340118,
          0.0005418727795718967,
          -0.000546378912118106,
          -0.003098481302328754,
          -0.004348460927738842,
          -0.0047044109319047765,
          -0.00492508587361898,
          -0.004860850276694938,
          -0.004668896162450302,
          -0.004068848904649258,
          -0.003311609625530561,
          -0.0024561253330883303,
          -0.0016006410406460996,
          0.00009067854157365513,
          0.0017230511157992894,
          0.003355423690024924,
          0.0049386737575887905,
          0.00643350331316148,
          0.00783991235674299,
          0.008518555625202859,
          0.00916772538966567
         ],
         "y": [
          -0.07366764788987779,
          -0.06858931862589632,
          -0.06352338328712416,
          -0.05342869438520777,
          -0.04338110239908676,
          -0.03337688915119838,
          -0.02342225160414725,
          -0.013522147328017112,
          -0.003702603565747514,
          0.0011662683621965432,
          0.006002916084596382,
          0.010802382031368275,
          0.015553511669823841,
          0.017906767423674856,
          0.02023523532710724,
          0.02252528206239075,
          0.023635602439446422,
          0.0245612533308833,
          0.02315595753384593,
          0.02186344645621333,
          0.019340393926994697,
          0.01685328378088308,
          0.014382285737543573,
          0.009467556286325049,
          0.004572657115441428,
          -0.0003098481302328754,
          -0.005192353375907179,
          -0.014959842652297654,
          -0.024734768283813713,
          -0.03450969391532977,
          -0.04429081650945048,
          -0.0540830936362596,
          -0.06388652529575709,
          -0.06879133960680815,
          -0.073699872095422
         ],
         "z": [
          0.10848,
          0.10848,
          0.10848,
          0.10848,
          0.10848,
          0.10848,
          0.10848,
          0.10848,
          0.10848,
          0.10848,
          0.10848,
          0.10848,
          0.10848,
          0.10848,
          0.10848,
          0.10848,
          0.10848,
          0.10848,
          0.10848,
          0.10848,
          0.10848,
          0.10848,
          0.10848,
          0.10848,
          0.10848,
          0.10848,
          0.10848,
          0.10848,
          0.10848,
          0.10848,
          0.10848,
          0.10848,
          0.10848,
          0.10848,
          0.10848
         ]
        },
        {
         "line": {
          "color": "black"
         },
         "mode": "lines",
         "showlegend": false,
         "type": "scatter3d",
         "x": [
          0.012782478224751113,
          0.013410563996419492,
          0.013928893145251609,
          0.014636281574407035,
          0.014926594836784646,
          0.014832759919235324,
          0.014299898510340933,
          0.013284107960966967,
          0.011554899363157265,
          0.010328098208892732,
          0.008815929835253904,
          0.006974491593106277,
          0.0047050025218972075,
          0.003372696065187392,
          0.001820876362805042,
          -0.00007118887036973573,
          -0.001324540030898672,
          -0.004213264871687989,
          -0.005572121334662208,
          -0.005932192529826397,
          -0.006103551805973441,
          -0.00595661687589531,
          -0.005666998336130031,
          -0.004846296686359688,
          -0.0038499844400513156,
          -0.002743915570906677,
          -0.0016378467017620388,
          0.000552339711959986,
          0.0026766721519802493,
          0.004801004592000512,
          0.006870458720602643,
          0.008841131888652133,
          0.010713024096148983,
          0.01162153104418834,
          0.012497111005376819
         ],
         "y": [
          -0.08229555814986754,
          -0.07658189601093171,
          -0.07088508693148263,
          -0.059542027951044726,
          -0.048263010596656476,
          -0.03704297895047187,
          -0.025890359542234266,
          -0.014811893595738373,
          -0.0038429725359063614,
          0.0015858728977033588,
          0.006970900376647524,
          0.012305368677131437,
          0.017574110045617014,
          0.020178145222783654,
          0.022748474280976785,
          0.025266558854760986,
          0.026478412575090177,
          0.02743915570906677,
          0.025826199172952875,
          0.02436660547816843,
          0.02153168338603329,
          0.018745635166409737,
          0.015981495924118953,
          0.01049029417040825,
          0.005026057311876349,
          -0.00042132648716879887,
          -0.005868710286213947,
          -0.016766848496201598,
          -0.0276750985418813,
          -0.038583348587560996,
          -0.04950002516298407,
          -0.060431869491945234,
          -0.07137888157444447,
          -0.07685660088056576,
          -0.08233937610453308
         ],
         "z": [
          0.12576,
          0.12576,
          0.12576,
          0.12576,
          0.12576,
          0.12576,
          0.12576,
          0.12576,
          0.12576,
          0.12576,
          0.12576,
          0.12576,
          0.12576,
          0.12576,
          0.12576,
          0.12576,
          0.12576,
          0.12576,
          0.12576,
          0.12576,
          0.12576,
          0.12576,
          0.12576,
          0.12576,
          0.12576,
          0.12576,
          0.12576,
          0.12576,
          0.12576,
          0.12576,
          0.12576,
          0.12576,
          0.12576,
          0.12576,
          0.12576
         ]
        },
        {
         "line": {
          "color": "black"
         },
         "mode": "lines",
         "showlegend": false,
         "type": "scatter3d",
         "x": [
          0.01656092945115472,
          0.01707231299095766,
          0.01746391559873787,
          0.017887778018230084,
          0.017856472896035914,
          0.017405934511762183,
          0.016476272399397515,
          0.015019574186132832,
          0.012784299914720383,
          0.01127138570333914,
          0.009447041068698795,
          0.007263353637990249,
          0.004612520572393046,
          0.0030714983619535277,
          0.0012909142874685418,
          -0.0008609906762869135,
          -0.002272329767828293,
          -0.0054684047465083895,
          -0.0069078518371080465,
          -0.007257292446300837,
          -0.007357269004572754,
          -0.007109880859978747,
          -0.0067067775037551874,
          -0.0056370527408580555,
          -0.004375678486724552,
          -0.002994523300568316,
          -0.0016133681144120799,
          0.0011249860714958471,
          0.0037914716981901327,
          0.006457957324884418,
          0.009064552485567338,
          0.0115633448074298,
          0.013954334290471802,
          0.015119883798987117,
          0.016249499027895617
         ],
         "y": [
          -0.08980726331236763,
          -0.08352511021681816,
          -0.07726483074025471,
          -0.06480989264408592,
          -0.05243807430006404,
          -0.04014281362249329,
          -0.027935047420866676,
          -0.01582352514277861,
          -0.003854181388099755,
          0.0020583075465857577,
          0.007913925071907583,
          0.013703921740271312,
          0.019408611294589505,
          0.022221583557573747,
          0.024990808582585917,
          0.027692225388741384,
          0.02898168765865822,
          0.02994523300568316,
          0.02813517860389872,
          0.02652417413488719,
          0.023411533291794292,
          0.020362325943760893,
          0.017341554300409335,
          0.011348132975475498,
          0.005389709440919311,
          -0.000546840474650839,
          -0.006483390390220989,
          -0.0183608649451585,
          -0.03025146367148763,
          -0.04214206239781676,
          -0.0540435979336389,
          -0.06596481972654848,
          -0.07790572777654549,
          -0.0838816502062905,
          -0.08986413472173133
         ],
         "z": [
          0.14304,
          0.14304,
          0.14304,
          0.14304,
          0.14304,
          0.14304,
          0.14304,
          0.14304,
          0.14304,
          0.14304,
          0.14304,
          0.14304,
          0.14304,
          0.14304,
          0.14304,
          0.14304,
          0.14304,
          0.14304,
          0.14304,
          0.14304,
          0.14304,
          0.14304,
          0.14304,
          0.14304,
          0.14304,
          0.14304,
          0.14304,
          0.14304,
          0.14304,
          0.14304,
          0.14304,
          0.14304,
          0.14304,
          0.14304,
          0.14304
         ]
        },
        {
         "line": {
          "color": "black"
         },
         "mode": "lines",
         "showlegend": false,
         "type": "scatter3d",
         "x": [
          0.020355757685492856,
          0.02072953098400569,
          0.020974968359813703,
          0.021080835343315268,
          0.020699025820538508,
          0.019868040568294873,
          0.018523711625231955,
          0.01661470462226782,
          0.013871514121722347,
          0.012076410326523698,
          0.009947633132292515,
          0.007433848169946866,
          0.004419553109052415,
          0.0026814009177365114,
          0.0006865768810109642,
          -0.00170608851609953,
          -0.0032617617982282753,
          -0.0067296403286588626,
          -0.008228362006904865,
          -0.008559226788536996,
          -0.008579276738277145,
          -0.008227152512173312,
          -0.00770819158655321,
          -0.006387930705362402,
          -0.00486233234784388,
          -0.0032083980676205362,
          -0.0015544637873971924,
          0.0017277375885085323,
          0.004932937410791362,
          0.008138137233074192,
          0.011279169094004612,
          0.014304698624500695,
          0.017214725824562436,
          0.0186376554439171,
          0.02002208428646032
         ],
         "y": [
          -0.09621694789890706,
          -0.08943944304204986,
          -0.08268885674650733,
          -0.06926843983936613,
          -0.05595031346522053,
          -0.042726402055676176,
          -0.029610164891390362,
          -0.016612369396888944,
          -0.003789544550932651,
          0.002533036619707196,
          0.00878562953092899,
          0.014957466758206882,
          0.02102432159635769,
          0.024009295605066754,
          0.026940432491146547,
          0.029788121837150967,
          0.031136594538472197,
          0.03208398067620536,
          0.030094846215595807,
          0.028350670662949433,
          0.024996912364229868,
          0.02172121789332274,
          0.018480517552124643,
          0.012058337704620644,
          0.005679227555220059,
          -0.0006729640328658863,
          -0.0070251556209518316,
          -0.019734922509386656,
          -0.03246084053461026,
          -0.04518675855983385,
          -0.057926135865714774,
          -0.07068973987677889,
          -0.08347757059302614,
          -0.08987821559147842,
          -0.09628693615832512
         ],
         "z": [
          0.16032,
          0.16032,
          0.16032,
          0.16032,
          0.16032,
          0.16032,
          0.16032,
          0.16032,
          0.16032,
          0.16032,
          0.16032,
          0.16032,
          0.16032,
          0.16032,
          0.16032,
          0.16032,
          0.16032,
          0.16032,
          0.16032,
          0.16032,
          0.16032,
          0.16032,
          0.16032,
          0.16032,
          0.16032,
          0.16032,
          0.16032,
          0.16032,
          0.16032,
          0.16032,
          0.16032,
          0.16032,
          0.16032,
          0.16032,
          0.16032
         ]
        },
        {
         "line": {
          "color": "black"
         },
         "mode": "lines",
         "showlegend": false,
         "type": "scatter3d",
         "x": [
          0.024387816205512877,
          0.0245868240157319,
          0.024650523208260375,
          0.024371995740245667,
          0.02357929552500687,
          0.022313015147851153,
          0.020505500299933237,
          0.018102627534176904,
          0.014820248753431995,
          0.012732540924680727,
          0.010293030689934028,
          0.007447594602115682,
          0.004074454905304193,
          0.0021443295450554577,
          -0.0000564130505743771,
          -0.0026766123610449154,
          -0.004365576145813722,
          -0.008070638334171721,
          -0.009602019650437995,
          -0.009902092545720269,
          -0.009825695247832065,
          -0.009356902958641266,
          -0.008712209466452753,
          -0.00712514352315652,
          -0.005321583791555406,
          -0.0033827154422637427,
          -0.001443847092972079,
          0.0024068278820731388,
          0.006176317686504025,
          0.009945807490934912,
          0.013647642986520521,
          0.017227700726184642,
          0.020685980709927266,
          0.02238129354737594,
          0.024036013799517447
         ],
         "y": [
          -0.10143949594857457,
          -0.09424147884933548,
          -0.0870757443034331,
          -0.07284112287163835,
          -0.058729175142522995,
          -0.044730216350086074,
          -0.0308603877709959,
          -0.01713260242658714,
          -0.0036146536788668427,
          0.003037788268982236,
          0.009606295578155928,
          0.016077955227319567,
          0.022423712918470118,
          0.025538483168039357,
          0.02858868831093523,
          0.03153881753848737,
          0.03292349100292071,
          0.03382715442263742,
          0.03167415618879093,
          0.029814929190308287,
          0.026257887960026437,
          0.022794466134420974,
          0.01937301162815321,
          0.012601124232958389,
          0.005880888923102262,
          -0.0008070638334171722,
          -0.007495016589936607,
          -0.02087737861364282,
          -0.03427911016935104,
          -0.04768084172505926,
          -0.06109871455743582,
          -0.07454564168781543,
          -0.08802162311619802,
          -0.09476768446872347,
          -0.10152343058724997
         ],
         "z": [
          0.1776,
          0.1776,
          0.1776,
          0.1776,
          0.1776,
          0.1776,
          0.1776,
          0.1776,
          0.1776,
          0.1776,
          0.1776,
          0.1776,
          0.1776,
          0.1776,
          0.1776,
          0.1776,
          0.1776,
          0.1776,
          0.1776,
          0.1776,
          0.1776,
          0.1776,
          0.1776,
          0.1776,
          0.1776,
          0.1776,
          0.1776,
          0.1776,
          0.1776,
          0.1776,
          0.1776,
          0.1776,
          0.1776,
          0.1776,
          0.1776
         ]
        },
        {
         "line": {
          "color": "black"
         },
         "mode": "lines",
         "showlegend": false,
         "type": "scatter3d",
         "x": [
          0.02855222366502747,
          0.02854390814561723,
          0.028395071168600104,
          0.02767583284174518,
          0.02642261297598407,
          0.024677568008598848,
          0.02237043721078606,
          0.019445011999502958,
          0.015606197313775064,
          0.013223069160808381,
          0.01047458521806378,
          0.007304536902498513,
          0.003586454902266372,
          0.0014744752784578976,
          -0.0009185472605643561,
          -0.0037471863181679716,
          -0.0055549659282690695,
          -0.009456515256712837,
          -0.010993146337655725,
          -0.011251032154375916,
          -0.01106419649978184,
          -0.01046984861812778,
          -0.009692822841584766,
          -0.007829624081763575,
          -0.005741590989771362,
          -0.0035130364401722586,
          -0.0012844818905731548,
          0.0031445229171036776,
          0.007489214850216372,
          0.011833906783329068,
          0.01610833798763832,
          0.020256299880101372,
          0.024277792460718216,
          0.02625340838662492,
          0.028186867875249554
         ],
         "y": [
          -0.10534191932583285,
          -0.09780897722772852,
          -0.09031386119065105,
          -0.07543710729957666,
          -0.060704092440404284,
          -0.046103468794825915,
          -0.031654149393354945,
          -0.017371264660402123,
          -0.0033342493241238238,
          0.0035594323426267117,
          0.010354766250707434,
          0.017036621975707607,
          0.02357095606270305,
          0.026770036196352445,
          0.02989346420794814,
          0.032899631430360586,
          0.03429680207069163,
          0.03513036440172258,
          0.03283293350895248,
          0.030879719771526724,
          0.027162422601809472,
          0.02355482100907008,
          0.0199963932956656,
          0.012962755203115716,
          0.005989638808208788,
          -0.0009456515256712837,
          -0.007880941859551356,
          -0.021759087739516878,
          -0.0356599292560985,
          -0.04956077077268013,
          -0.06348052531977517,
          -0.07743432332179441,
          -0.0914221647787378,
          -0.0984255420224662,
          -0.10544026708450267
         ],
         "z": [
          0.19488,
          0.19488,
          0.19488,
          0.19488,
          0.19488,
          0.19488,
          0.19488,
          0.19488,
          0.19488,
          0.19488,
          0.19488,
          0.19488,
          0.19488,
          0.19488,
          0.19488,
          0.19488,
          0.19488,
          0.19488,
          0.19488,
          0.19488,
          0.19488,
          0.19488,
          0.19488,
          0.19488,
          0.19488,
          0.19488,
          0.19488,
          0.19488,
          0.19488,
          0.19488,
          0.19488,
          0.19488,
          0.19488,
          0.19488,
          0.19488
         ]
        },
        {
         "line": {
          "color": "black"
         },
         "mode": "lines",
         "showlegend": false,
         "type": "scatter3d",
         "x": [
          0.03244231459159995,
          0.03222691515590447,
          0.03186711965962487,
          0.030714340485313303,
          0.029012856280782075,
          0.02680598586420642,
          0.02402153120529428,
          0.020601733879812012,
          0.01624336216053295,
          0.013587669300965818,
          0.01055654668387997,
          0.007092235885041762,
          0.0030647804499254784,
          0.0007911398233159169,
          -0.0017712929244618853,
          -0.004781353460050465,
          -0.006690692697480294,
          -0.010751533237613532,
          -0.01227882024208579,
          -0.012492103095242544,
          -0.012196688498635446,
          -0.011482525326334397,
          -0.01058064727527399,
          -0.008459219839868106,
          -0.0061067587075276306,
          -0.003609901514603034,
          -0.0011130443216784362,
          0.0038517908520539364,
          0.008729988389435834,
          0.01360818592681773,
          0.01841418543390757,
          0.023090228486471697,
          0.027636315084510112,
          0.029873259368383292,
          0.03206688483408124
         ],
         "y": [
          -0.10824113746525542,
          -0.10044505225451326,
          -0.09269197317672156,
          -0.07731483341998954,
          -0.06210111696846922,
          -0.0470379219822755,
          -0.032146751527883606,
          -0.0174448080584737,
          -0.003022404453241743,
          0.004046877110637733,
          0.011004342728846029,
          0.017832789948202966,
          0.024493513249053127,
          0.02774646386016739,
          0.03091340220538075,
          0.0339470215384477,
          0.0353434140327199,
          0.03609901514603034,
          0.03367907668753733,
          0.031650494038893445,
          0.027808359406357962,
          0.02409094255937879,
          0.020429433685235213,
          0.013201029429439057,
          0.006041434986363623,
          -0.0010751533237613531,
          -0.00819174163388633,
          -0.02243351948072638,
          -0.036701101007336694,
          -0.05096868253394701,
          -0.06525776712703255,
          -0.07958555723977351,
          -0.09395205287216987,
          -0.10114605222160566,
          -0.10835295341092659
         ],
         "z": [
          0.21216,
          0.21216,
          0.21216,
          0.21216,
          0.21216,
          0.21216,
          0.21216,
          0.21216,
          0.21216,
          0.21216,
          0.21216,
          0.21216,
          0.21216,
          0.21216,
          0.21216,
          0.21216,
          0.21216,
          0.21216,
          0.21216,
          0.21216,
          0.21216,
          0.21216,
          0.21216,
          0.21216,
          0.21216,
          0.21216,
          0.21216,
          0.21216,
          0.21216,
          0.21216,
          0.21216,
          0.21216,
          0.21216,
          0.21216,
          0.21216
         ]
        },
        {
         "line": {
          "color": "black"
         },
         "mode": "lines",
         "showlegend": false,
         "type": "scatter3d",
         "x": [
          0.03592822819002883,
          0.03551368594576625,
          0.03495228213686656,
          0.033388889825155796,
          0.03126742356782396,
          0.02863194183426218,
          0.025409013842151912,
          0.0215398949656383,
          0.016716175918983372,
          0.013819673232353398,
          0.010541330477666902,
          0.006822403029069032,
          0.0025307154783863767,
          0.00012052088669822769,
          -0.0025833968342641716,
          -0.005742585405601659,
          -0.007733392072254345,
          -0.011912436052000189,
          -0.013416934623711057,
          -0.013584992957224096,
          -0.013186801801064548,
          -0.01236271210745734,
          -0.01134770237982187,
          -0.008994587482349256,
          -0.006406494081457244,
          -0.0036715391159281075,
          -0.0009365841503989718,
          0.004503953467731877,
          0.00985637414708045,
          0.015208794826429022,
          0.02048778472345903,
          0.025634599212315635,
          0.030649238292998822,
          0.03311984244218113,
          0.035546388121972305
         ],
         "y": [
          -0.11008422881037282,
          -0.10210264400612941,
          -0.09416870894609398,
          -0.07844378805864714,
          -0.06289993619919068,
          -0.047522858444462246,
          -0.03233637966656581,
          -0.017359559763184575,
          -0.0026924631971553398,
          0.0044838409299728715,
          0.011536255722160282,
          0.01844572128172369,
          0.025169352838875895,
          0.0284453990778776,
          0.0316261458284633,
          0.0346591783720042,
          0.03604227535999224,
          0.036715391159281074,
          0.03419823025914261,
          0.03211468203129696,
          0.028185834296645642,
          0.024395170820197536,
          0.020666452011219826,
          0.013313843830522008,
          0.006037475240556993,
          -0.001191243605200019,
          -0.008419962450957032,
          -0.022886930091312662,
          -0.03738248757819308,
          -0.05187804506507352,
          -0.06639742742405794,
          -0.08095969455282959,
          -0.09556484645138841,
          -0.10287933483671982,
          -0.11020811814531363
         ],
         "z": [
          0.22944,
          0.22944,
          0.22944,
          0.22944,
          0.22944,
          0.22944,
          0.22944,
          0.22944,
          0.22944,
          0.22944,
          0.22944,
          0.22944,
          0.22944,
          0.22944,
          0.22944,
          0.22944,
          0.22944,
          0.22944,
          0.22944,
          0.22944,
          0.22944,
          0.22944,
          0.22944,
          0.22944,
          0.22944,
          0.22944,
          0.22944,
          0.22944,
          0.22944,
          0.22944,
          0.22944,
          0.22944,
          0.22944,
          0.22944,
          0.22944
         ]
        },
        {
         "line": {
          "color": "black"
         },
         "mode": "lines",
         "showlegend": false,
         "type": "scatter3d",
         "x": [
          0.039115571315501294,
          0.03850249604092212,
          0.037741524363985986,
          0.03577589180304282,
          0.03324825291314318,
          0.03020297661499418,
          0.026566114707417328,
          0.02227850862946984,
          0.017029575936202086,
          0.013917051461790233,
          0.010419996341250274,
          0.006479252013639426,
          0.001961711716836423,
          -0.0005632719558076125,
          -0.003384048433165575,
          -0.006663303757830123,
          -0.008717041346761894,
          -0.012974435330812415,
          -0.014440632117976367,
          -0.014560971643691956,
          -0.014062168683338315,
          -0.01313446615614948,
          -0.012014498305896595,
          -0.009449190520205505,
          -0.006647248490743274,
          -0.003697410058924079,
          -0.0007475716271048843,
          0.005122525956062113,
          0.010903885697814931,
          0.016685245439567748,
          0.022392656980142082,
          0.02796696175859516,
          0.03340815977492696,
          0.03609178468250362,
          0.03873104066937319
         ],
         "y": [
          -0.11085483470400213,
          -0.10276458485242243,
          -0.09472623274216599,
          -0.07880522174562284,
          -0.06308142216610801,
          -0.047539264681224574,
          -0.03220469816163415,
          -0.017098481703866006,
          -0.002329600564698989,
          0.004883577458517793,
          0.011961821354294126,
          0.018884372026100715,
          0.025604521506746622,
          0.02887118031268773,
          0.03203404363598234,
          0.035036023961174875,
          0.03639170044806604,
          0.03697410058924079,
          0.03438325785885628,
          0.03226468457451334,
          0.028287026712443715,
          0.02445987230021151,
          0.02070018495169953,
          0.013294985285586727,
          0.005972822005591115,
          -0.0012974435330812416,
          -0.0085677090717536,
          -0.02311861969736297,
          -0.03770066896776628,
          -0.052282718238169594,
          -0.06689071637923454,
          -0.08154542248749042,
          -0.0962468365629372,
          -0.1036105180359914,
          -0.11098976883144258
         ],
         "z": [
          0.24672,
          0.24672,
          0.24672,
          0.24672,
          0.24672,
          0.24672,
          0.24672,
          0.24672,
          0.24672,
          0.24672,
          0.24672,
          0.24672,
          0.24672,
          0.24672,
          0.24672,
          0.24672,
          0.24672,
          0.24672,
          0.24672,
          0.24672,
          0.24672,
          0.24672,
          0.24672,
          0.24672,
          0.24672,
          0.24672,
          0.24672,
          0.24672,
          0.24672,
          0.24672,
          0.24672,
          0.24672,
          0.24672,
          0.24672,
          0.24672
         ]
        },
        {
         "line": {
          "color": "black"
         },
         "mode": "lines",
         "showlegend": false,
         "type": "scatter3d",
         "x": [
          0.04212585521666485,
          0.0413061474388805,
          0.040338984206079356,
          0.03796229137542664,
          0.035025267815710075,
          0.03157215016343468,
          0.02752921069109207,
          0.02283746721667552,
          0.017187263284649732,
          0.013875558317081378,
          0.010180469166469332,
          0.006043013650806871,
          0.00133048186057887,
          -0.0012912038535653793,
          -0.004207800477743243,
          -0.007581509012473201,
          -0.009681238553885235,
          -0.013978054375047667,
          -0.015387764663035599,
          -0.015455630310370602,
          -0.014854084329956586,
          -0.013824917529993831,
          -0.012604058638509233,
          -0.00983793885450306,
          -0.006835890342469998,
          -0.0036863863754201327,
          -0.0005368824083702667,
          0.005732634434726105,
          0.011913678004812392,
          0.01809472157489868,
          0.024202037417476566,
          0.030176643350539326,
          0.036018539374086965,
          0.03890262352210658,
          0.04174247103362116
         ],
         "y": [
          -0.11051890537985373,
          -0.1023969089145109,
          -0.09433082466666827,
          -0.07836639282348361,
          -0.06261442740679962,
          -0.047058154751366335,
          -0.0317255309659338,
          -0.016638920937502112,
          -0.001915740322821654,
          0.0052613396667679415,
          0.012293047890857042,
          0.019157019462445576,
          0.02580293338578336,
          0.02902524835595191,
          0.03213573889112008,
          0.035072901552037655,
          0.036384928673495916,
          0.03686386375420132,
          0.034221125856238536,
          0.03208718913752747,
          0.028098876787606315,
          0.024272709868435702,
          0.02051922883201534,
          0.013135273637675039,
          0.005840777991335039,
          -0.0013978054375047668,
          -0.008636388866344573,
          -0.02312473816752423,
          -0.03764663479920399,
          -0.052168531430883756,
          -0.06671838417131362,
          -0.08131855790749366,
          -0.09596905263942386,
          -0.10330827805976402,
          -0.11066427714535423
         ],
         "z": [
          0.264,
          0.264,
          0.264,
          0.264,
          0.264,
          0.264,
          0.264,
          0.264,
          0.264,
          0.264,
          0.264,
          0.264,
          0.264,
          0.264,
          0.264,
          0.264,
          0.264,
          0.264,
          0.264,
          0.264,
          0.264,
          0.264,
          0.264,
          0.264,
          0.264,
          0.264,
          0.264,
          0.264,
          0.264,
          0.264,
          0.264,
          0.264,
          0.264,
          0.264,
          0.264
         ]
        },
        {
         "line": {
          "color": "black"
         },
         "mode": "lines",
         "showlegend": false,
         "type": "scatter3d",
         "x": [
          0.04450635307088705,
          0.04350542212105135,
          0.04235870575933551,
          0.039627916800263424,
          0.03634314327604682,
          0.03254812081024974,
          0.02816995669693212,
          0.0231503367713419,
          0.017183111668530794,
          0.013718407257920793,
          0.009874660776422437,
          0.005593558059283673,
          0.0007438922358123847,
          -0.0019433544173075093,
          -0.004922171894187672,
          -0.008352924147896254,
          -0.010476499428014926,
          -0.014772277345147626,
          -0.016118394867776185,
          -0.016137865142295513,
          -0.015447878631933486,
          -0.014335114427119064,
          -0.01303282918686046,
          -0.010107530800206967,
          -0.00694897575454525,
          -0.003644635297003399,
          -0.0003402948394615477,
          0.006239228993246131,
          0.012731281578825722,
          0.019223334164405317,
          0.02564249404404484,
          0.03193044705299225,
          0.03808719319124753,
          0.041129119907405136,
          0.044127310999998705
         ],
         "y": [
          -0.10926224306790719,
          -0.10118117840820047,
          -0.09315920285787437,
          -0.0772925190853639,
          -0.06165037392849966,
          -0.04621504065446751,
          -0.03101606381795772,
          -0.016077079062722523,
          -0.001522173518461161,
          0.005560285192713566,
          0.01248911221949876,
          0.019240671918142188,
          0.025761784090201304,
          0.0289159797793458,
          0.03195199724972912,
          0.0348048384810326,
          0.03606580959041869,
          0.036446352970033985,
          0.03377906105738984,
          0.03164948004010907,
          0.02768576355245049,
          0.02389340548199561,
          0.020177863253735502,
          0.01287677483785259,
          0.005670228996978615,
          -0.0014772277345147628,
          -0.00862468446600814,
          -0.022931415750871022,
          -0.037273600501362254,
          -0.05161578525185348,
          -0.06598751455703501,
          -0.08041242406065907,
          -0.09489051376272566,
          -0.1021443308911041,
          -0.10941587475229672
         ],
         "z": [
          0.28128000000000003,
          0.28128000000000003,
          0.28128000000000003,
          0.28128000000000003,
          0.28128000000000003,
          0.28128000000000003,
          0.28128000000000003,
          0.28128000000000003,
          0.28128000000000003,
          0.28128000000000003,
          0.28128000000000003,
          0.28128000000000003,
          0.28128000000000003,
          0.28128000000000003,
          0.28128000000000003,
          0.28128000000000003,
          0.28128000000000003,
          0.28128000000000003,
          0.28128000000000003,
          0.28128000000000003,
          0.28128000000000003,
          0.28128000000000003,
          0.28128000000000003,
          0.28128000000000003,
          0.28128000000000003,
          0.28128000000000003,
          0.28128000000000003,
          0.28128000000000003,
          0.28128000000000003,
          0.28128000000000003,
          0.28128000000000003,
          0.28128000000000003,
          0.28128000000000003,
          0.28128000000000003,
          0.28128000000000003
         ]
        },
        {
         "line": {
          "color": "black"
         },
         "mode": "lines",
         "showlegend": false,
         "type": "scatter3d",
         "x": [
          0.04657727291069665,
          0.045397236476776084,
          0.044074457944971744,
          0.041000674587711734,
          0.03738447125849336,
          0.03326867058668177,
          0.02858190152333507,
          0.023267067229299755,
          0.017024409299019876,
          0.013432031410863472,
          0.009468524068209246,
          0.005076790431903687,
          0.00012836261385139845,
          -0.0026027870713655477,
          -0.0056194209523500495,
          -0.00907855533677426,
          -0.011207800403060941,
          -0.015463902727815912,
          -0.016731919591163134,
          -0.016700983363767984,
          -0.015925400419558793,
          -0.014735865391486646,
          -0.013360765636165586,
          -0.01029653351017916,
          -0.007003914027578689,
          -0.00356855244709444,
          -0.00013319086661019164,
          0.006708983874781553,
          0.013465513357443025,
          0.0202220428401045,
          0.026907201273824084,
          0.033463891819448276,
          0.03989211447697706,
          0.043070540281270504,
          0.04620614345619883
         ],
         "y": [
          -0.10697616111864858,
          -0.09901019103824875,
          -0.0911060765687602,
          -0.0754834144625169,
          -0.06009580367773638,
          -0.0449246875311453,
          -0.03000099382819927,
          -0.015349464813262808,
          -0.0010999972692495464,
          0.005820612986749909,
          0.012580398654380077,
          0.019154617489276462,
          0.025487599441618915,
          0.028542750318149866,
          0.031474189972858294,
          0.0342138772337418,
          0.035410525153632015,
          0.0356855244709444,
          0.03301671301136611,
          0.030910787611080324,
          0.027008214865065057,
          0.023285023390692456,
          0.0196422442105045,
          0.012492768194133367,
          0.0054422611552202545,
          -0.0015463902727815913,
          -0.008535041700783437,
          -0.022524715678969392,
          -0.03655150302370209,
          -0.050578290368434795,
          -0.06463600551862313,
          -0.07874939071863161,
          -0.09291844596846022,
          -0.10001843749610234,
          -0.10713698570701785
         ],
         "z": [
          0.29856,
          0.29856,
          0.29856,
          0.29856,
          0.29856,
          0.29856,
          0.29856,
          0.29856,
          0.29856,
          0.29856,
          0.29856,
          0.29856,
          0.29856,
          0.29856,
          0.29856,
          0.29856,
          0.29856,
          0.29856,
          0.29856,
          0.29856,
          0.29856,
          0.29856,
          0.29856,
          0.29856,
          0.29856,
          0.29856,
          0.29856,
          0.29856,
          0.29856,
          0.29856,
          0.29856,
          0.29856,
          0.29856,
          0.29856,
          0.29856
         ]
        },
        {
         "line": {
          "color": "black"
         },
         "mode": "lines",
         "showlegend": false,
         "type": "scatter3d",
         "x": [
          0.04790397251495487,
          0.04657948215229974,
          0.045116402481314766,
          0.041774475214355275,
          0.03790590857574236,
          0.033552279357974994,
          0.028644292906888236,
          0.02312651349915016,
          0.016707903587268078,
          0.013041253913838544,
          0.009014272038751409,
          0.004571522238674734,
          -0.0004117258638883393,
          -0.0031528106701636006,
          -0.0061710740930985535,
          -0.009618964371856033,
          -0.01173095957455834,
          -0.015907935471375357,
          -0.017094365806923393,
          -0.017019633436669828,
          -0.016177222154513463,
          -0.01493290187820054,
          -0.013508415501058822,
          -0.010354546268449718,
          -0.006978934142512862,
          -0.003464732708246159,
          0.00004946872602054359,
          0.007050153732887983,
          0.013967685154757508,
          0.020885216576627036,
          0.027733453344331638,
          0.03445695973453939,
          0.041055735747250265,
          0.044320476426523245,
          0.047543640313297275
         ],
         "y": [
          -0.10385925998293362,
          -0.09607712922517557,
          -0.08835863020930305,
          -0.07311252740321449,
          -0.05810822521629081,
          -0.04332663412596641,
          -0.028799570003184012,
          -0.014552485544697817,
          -0.000719007408467376,
          0.005987746911425685,
          0.012529058702416442,
          0.0188794752677507,
          0.024981728039731498,
          0.027918317290327992,
          0.03072764305715349,
          0.03333971042413393,
          0.03446757523034475,
          0.03464732708246159,
          0.032005026819375844,
          0.029941775407448155,
          0.026133431293020287,
          0.02250961923006037,
          0.018968528431551612,
          0.012026336666682196,
          0.0051859556888295775,
          -0.0015907935471375359,
          -0.00836754278310465,
          -0.021933767603415984,
          -0.03553817146885861,
          -0.04914257533430124,
          -0.06277879507068661,
          -0.07647228337476897,
          -0.09022304024654824,
          -0.09711432661790925,
          -0.10402470251183592
         ],
         "z": [
          0.31584,
          0.31584,
          0.31584,
          0.31584,
          0.31584,
          0.31584,
          0.31584,
          0.31584,
          0.31584,
          0.31584,
          0.31584,
          0.31584,
          0.31584,
          0.31584,
          0.31584,
          0.31584,
          0.31584,
          0.31584,
          0.31584,
          0.31584,
          0.31584,
          0.31584,
          0.31584,
          0.31584,
          0.31584,
          0.31584,
          0.31584,
          0.31584,
          0.31584,
          0.31584,
          0.31584,
          0.31584,
          0.31584,
          0.31584,
          0.31584
         ]
        },
        {
         "line": {
          "color": "black"
         },
         "mode": "lines",
         "showlegend": false,
         "type": "scatter3d",
         "x": [
          0.04862199452839483,
          0.04717779586075451,
          0.04560033463990712,
          0.04204562453859114,
          0.03798451673508829,
          0.0334569899953607,
          0.028396413042804842,
          0.02274948085613788,
          0.016236342073624965,
          0.01254000625678518,
          0.008497187801607017,
          0.004054581686807647,
          -0.0009077483854992921,
          -0.003628786017425483,
          -0.006616348755765815,
          -0.01001702540904806,
          -0.012090498884668972,
          -0.016149584403075214,
          -0.017247759693782536,
          -0.017133245750305538,
          -0.016237905097316187,
          -0.014956103040026335,
          -0.0135010596635673,
          -0.010297795293593669,
          -0.00688131083848873,
          -0.0033315638301767217,
          0.0002181831781352863,
          0.00729102468411789,
          0.01428390865817625,
          0.021276792632234608,
          0.028203045329689435,
          0.03500936172925791,
          0.041695741830940006,
          0.045005616243479284,
          0.04827551189005645
         ],
         "y": [
          -0.09986293706640566,
          -0.09233419168204737,
          -0.0848700446353014,
          -0.07013554555464636,
          -0.05564652015691805,
          -0.041383588940832806,
          -0.027379051075196767,
          -0.01365874589505485,
          -0.00035832990939287795,
          0.006078703569317511,
          0.012347781370235917,
          0.018423064158317425,
          0.024246413429710956,
          0.02704181105770558,
          0.029708012010475605,
          0.03217395811664749,
          0.033226055824418996,
          0.03331563830176722,
          0.03072610015882295,
          0.02872440688815063,
          0.02504401203486748,
          0.021550952360660004,
          0.018141870525348526,
          0.011465823197472622,
          0.0048931332097763985,
          -0.0016149584403075215,
          -0.00812305009039144,
          -0.021152153058081748,
          -0.03422001502833943,
          -0.04728787699859711,
          -0.06038803813766093,
          -0.07354633778057586,
          -0.08676277592734181,
          -0.09338714458512787,
          -0.10003089274419764
         ],
         "z": [
          0.33312,
          0.33312,
          0.33312,
          0.33312,
          0.33312,
          0.33312,
          0.33312,
          0.33312,
          0.33312,
          0.33312,
          0.33312,
          0.33312,
          0.33312,
          0.33312,
          0.33312,
          0.33312,
          0.33312,
          0.33312,
          0.33312,
          0.33312,
          0.33312,
          0.33312,
          0.33312,
          0.33312,
          0.33312,
          0.33312,
          0.33312,
          0.33312,
          0.33312,
          0.33312,
          0.33312,
          0.33312,
          0.33312,
          0.33312,
          0.33312
         ]
        },
        {
         "line": {
          "color": "black"
         },
         "mode": "lines",
         "showlegend": false,
         "type": "scatter3d",
         "x": [
          0.048839100329742854,
          0.04729150742646308,
          0.0456172451866507,
          0.041888712697428124,
          0.037678836729381646,
          0.03302561808347104,
          0.02786572209143002,
          0.022148481018645527,
          0.015607889258399085,
          0.011919584567718267,
          0.00790193960205267,
          0.003504286626789254,
          -0.0013873767609513272,
          -0.004061213260580309,
          -0.006988388433274505,
          -0.01030823854921978,
          -0.012322837749483713,
          -0.016224810064083488,
          -0.017224941073295582,
          -0.017072381120060962,
          -0.01613391453092869,
          -0.014828106865851856,
          -0.013357629063282635,
          -0.01013800091777246,
          -0.006715701833810114,
          -0.0031667334133151613,
          0.0003822350071797909,
          0.007454837980863178,
          0.014451439352626997,
          0.021448040724390816,
          0.028381307427888334,
          0.035200571728506505,
          0.04190583362624534,
          0.04522679724098159,
          0.04850976005475807
         ],
         "y": [
          -0.0949176333871216,
          -0.08771451674105639,
          -0.08057629933524756,
          -0.06649456224439881,
          -0.05265944226652416,
          -0.03905146962954667,
          -0.025703093953594523,
          -0.012640274934770244,
          6.990223878726443e-7,
          0.006107018508121025,
          0.012044599969187709,
          0.017787483709485394,
          0.02327726041278337,
          0.02590533013197096,
          0.028403601370645886,
          0.03070068496452617,
          0.03166750888874858,
          0.03166733413315161,
          0.029155908290828453,
          0.027235065534837937,
          0.023717876224138575,
          0.020388894710182577,
          0.017144282208559812,
          0.010797835533878229,
          0.0045552276436067705,
          -0.0016224810064083487,
          -0.0078001896564234684,
          -0.020168586804504982,
          -0.03257592349674029,
          -0.04498326018897559,
          -0.057423046501339066,
          -0.06992124212993324,
          -0.08247784707475814,
          -0.08877237435723463,
          -0.09508637141178806
         ],
         "z": [
          0.35040000000000004,
          0.35040000000000004,
          0.35040000000000004,
          0.35040000000000004,
          0.35040000000000004,
          0.35040000000000004,
          0.35040000000000004,
          0.35040000000000004,
          0.35040000000000004,
          0.35040000000000004,
          0.35040000000000004,
          0.35040000000000004,
          0.35040000000000004,
          0.35040000000000004,
          0.35040000000000004,
          0.35040000000000004,
          0.35040000000000004,
          0.35040000000000004,
          0.35040000000000004,
          0.35040000000000004,
          0.35040000000000004,
          0.35040000000000004,
          0.35040000000000004,
          0.35040000000000004,
          0.35040000000000004,
          0.35040000000000004,
          0.35040000000000004,
          0.35040000000000004,
          0.35040000000000004,
          0.35040000000000004,
          0.35040000000000004,
          0.35040000000000004,
          0.35040000000000004,
          0.35040000000000004,
          0.35040000000000004
         ]
        },
        {
         "line": {
          "color": "black"
         },
         "mode": "lines",
         "showlegend": false,
         "type": "scatter3d",
         "x": [
          0.04814918552438012,
          0.04654462011067946,
          0.04482102007355385,
          0.04101671612902771,
          0.036760080615486704,
          0.03208682391995833,
          0.0269374287307301,
          0.02126428119843203,
          0.014817408613871689,
          0.011201158064289136,
          0.007275417493801676,
          0.0029925730530393248,
          -0.0017545064190803879,
          -0.00434230847730518,
          -0.0071681797823799,
          -0.01036305842007201,
          -0.012293794684507964,
          -0.015998146837975888,
          -0.01690043461105408,
          -0.016719507310965102,
          -0.015762479593662317,
          -0.014460251468427141,
          -0.01300327833273951,
          -0.009827455889829325,
          -0.006461178049439197,
          -0.0029758655856241063,
          0.000509446878190985,
          0.007456264881136177,
          0.01433166211002639,
          0.0212070593389166,
          0.028022939256094326,
          0.03473168801218959,
          0.04133330560720239,
          0.04460435574885254,
          0.04783969550347521
         ],
         "y": [
          -0.08919277720516572,
          -0.08238354536340199,
          -0.07563830610899018,
          -0.06233980536222226,
          -0.04928447644739156,
          -0.036453121588292545,
          -0.023877737078601125,
          -0.011583919953258092,
          0.00029394535429757597,
          0.006021702469814124,
          0.011583078858215724,
          0.016952477484561614,
          0.022072305020235085,
          0.02451703213083839,
          0.026833774066737887,
          0.02895213898184649,
          0.029832142194815458,
          0.029758655856241063,
          0.02735562906429679,
          0.02553493481725484,
          0.02221350925993045,
          0.019077662205926587,
          0.0160250055154802,
          0.010060475826761603,
          0.004198334277806054,
          -0.0015998146837975886,
          -0.007397963645401231,
          -0.019007060086078904,
          -0.030654552079167712,
          -0.042302044072256524,
          -0.05398153235902128,
          -0.06571861397440276,
          -0.07751328891840095,
          -0.08342662453723802,
          -0.08935915793228066
         ],
         "z": [
          0.36768,
          0.36768,
          0.36768,
          0.36768,
          0.36768,
          0.36768,
          0.36768,
          0.36768,
          0.36768,
          0.36768,
          0.36768,
          0.36768,
          0.36768,
          0.36768,
          0.36768,
          0.36768,
          0.36768,
          0.36768,
          0.36768,
          0.36768,
          0.36768,
          0.36768,
          0.36768,
          0.36768,
          0.36768,
          0.36768,
          0.36768,
          0.36768,
          0.36768,
          0.36768,
          0.36768,
          0.36768,
          0.36768,
          0.36768,
          0.36768
         ]
        },
        {
         "line": {
          "color": "black"
         },
         "mode": "lines",
         "showlegend": false,
         "type": "scatter3d",
         "x": [
          0.046787611935547056,
          0.045153171148084495,
          0.043408641383243754,
          0.03958931492142768,
          0.035351650345574456,
          0.030728674348897554,
          0.02566534244270788,
          0.02011761903605415,
          0.01385431727644215,
          0.010359372771288108,
          0.006578196924950763,
          0.0024667541464788298,
          -0.002074035643768058,
          -0.004542590698172252,
          -0.007231323707332839,
          -0.010261332546365824,
          -0.012084586102541263,
          -0.0155481654216518,
          -0.016345029527077393,
          -0.016140083938361416,
          -0.015179747874038488,
          -0.01390015377531879,
          -0.012477444006007445,
          -0.009389828717152725,
          -0.006126071064492891,
          -0.0027522244344548646,
          0.0006216221955831621,
          0.007347297660183581,
          0.014006919738357075,
          0.020666541816530572,
          0.02727111940601497,
          0.033776616915859,
          0.04018303434606265,
          0.04335872081681993,
          0.046501380594363755
         ],
         "y": [
          -0.08248588257345335,
          -0.07614805203794306,
          -0.06987241416411942,
          -0.057507716401531926,
          -0.04537935075335353,
          -0.03346865942107827,
          -0.021806738735549443,
          -0.010418465761441682,
          0.000565554911703136,
          0.005852329464709738,
          0.01097740309733116,
          0.015915898744892767,
          0.0206118430118766,
          0.022847868354332623,
          0.024959508373415436,
          0.02687835114126976,
          0.02766363307247443,
          0.027522244344548644,
          0.02525677706520273,
          0.02355726300720494,
          0.020469198199642397,
          0.01756149211097101,
          0.01473463648249222,
          0.009217749081245171,
          0.0038003699386966903,
          -0.0015548165421651803,
          -0.00691000302302705,
          -0.01763281451708812,
          -0.028392941608161144,
          -0.03915306869923417,
          -0.0499442921211505,
          -0.06079148893858479,
          -0.07169465915153701,
          -0.07716179242343477,
          -0.08264758349383852
         ],
         "z": [
          0.38496,
          0.38496,
          0.38496,
          0.38496,
          0.38496,
          0.38496,
          0.38496,
          0.38496,
          0.38496,
          0.38496,
          0.38496,
          0.38496,
          0.38496,
          0.38496,
          0.38496,
          0.38496,
          0.38496,
          0.38496,
          0.38496,
          0.38496,
          0.38496,
          0.38496,
          0.38496,
          0.38496,
          0.38496,
          0.38496,
          0.38496,
          0.38496,
          0.38496,
          0.38496,
          0.38496,
          0.38496,
          0.38496,
          0.38496,
          0.38496
         ]
        },
        {
         "line": {
          "color": "black"
         },
         "mode": "lines",
         "showlegend": false,
         "type": "scatter3d",
         "x": [
          0.04414326995587851,
          0.04255304998397295,
          0.04086253356927306,
          0.03718061141149025,
          0.03311756277108894,
          0.02870347658090744,
          0.023888204619548575,
          0.018631628309894607,
          0.012723125122077425,
          0.009437895266947506,
          0.0058918946605523,
          0.0020450047257740732,
          -0.0021930413359020854,
          -0.004492597963769981,
          -0.0069927474772265566,
          -0.009803815963345591,
          -0.011490180246229264,
          -0.014670961526748618,
          -0.015371652582370268,
          -0.015159646008563413,
          -0.01423415064697799,
          -0.013017795601288983,
          -0.011671055179967329,
          -0.008756922163176474,
          -0.005682314837914672,
          -0.0025074110698585297,
          0.0006674926981976121,
          0.0069972409457510305,
          0.013266811327627841,
          0.019536381709504655,
          0.025755803869984297,
          0.03188495923194903,
          0.03792384779539886,
          0.04091821796642519,
          0.043882499204613214
         ],
         "y": [
          -0.0751460430958168,
          -0.06934485741826601,
          -0.06360235558682224,
          -0.052293403462255625,
          -0.0412074499528956,
          -0.030326889904910066,
          -0.019681065241352505,
          -0.009293449500665721,
          0.0007127212403256027,
          0.00552214991866818,
          0.010179000597132573,
          0.014659799737275984,
          0.018911731877602114,
          0.02093206702477259,
          0.022835034479729076,
          0.024556082011753882,
          0.0252522910086667,
          0.025074110698585297,
          0.02298122616432601,
          0.021422364629640377,
          0.018598060790804075,
          0.01594394010567806,
          0.013366108420491135,
          0.008339549511552679,
          0.00340688475638541,
          -0.0014670961526748619,
          -0.006341077061735133,
          -0.01610077564907708,
          -0.02589568454408322,
          -0.03569059343908936,
          -0.045514844257149,
          -0.05539191053670493,
          -0.06532179227775717,
          -0.07030140410981002,
          -0.07529862109569499
         ],
         "z": [
          0.40224000000000004,
          0.40224000000000004,
          0.40224000000000004,
          0.40224000000000004,
          0.40224000000000004,
          0.40224000000000004,
          0.40224000000000004,
          0.40224000000000004,
          0.40224000000000004,
          0.40224000000000004,
          0.40224000000000004,
          0.40224000000000004,
          0.40224000000000004,
          0.40224000000000004,
          0.40224000000000004,
          0.40224000000000004,
          0.40224000000000004,
          0.40224000000000004,
          0.40224000000000004,
          0.40224000000000004,
          0.40224000000000004,
          0.40224000000000004,
          0.40224000000000004,
          0.40224000000000004,
          0.40224000000000004,
          0.40224000000000004,
          0.40224000000000004,
          0.40224000000000004,
          0.40224000000000004,
          0.40224000000000004,
          0.40224000000000004,
          0.40224000000000004,
          0.40224000000000004,
          0.40224000000000004,
          0.40224000000000004
         ]
        },
        {
         "line": {
          "color": "black"
         },
         "mode": "lines",
         "showlegend": false,
         "type": "scatter3d",
         "x": [
          0.040610300436498686,
          0.039097392086132284,
          0.03749591885597842,
          0.03402727775630833,
          0.03022209011344589,
          0.02610692539132736,
          0.021637501150058996,
          0.01677839143772582,
          0.01134361000677417,
          0.008333955187999736,
          0.005094031681777914,
          0.0015884135361937174,
          -0.00226260764056156,
          -0.004347535012556623,
          -0.006609592144126601,
          -0.009146200403037694,
          -0.010662486195898123,
          -0.013498388697591665,
          -0.014089947043672722,
          -0.013875564983687916,
          -0.013003976464781021,
          -0.011875549794490497,
          -0.01063198878047628,
          -0.007950024016915438,
          -0.005126355445694664,
          -0.002214121994686434,
          0.0006981114563217967,
          0.006504865382380769,
          0.012258480380567262,
          0.018012095378753756,
          0.02372142793704652,
          0.029351052103530582,
          0.03490096787820592,
          0.03765378454559673,
          0.040380031749051304
         ],
         "y": [
          -0.06635346821936552,
          -0.06120171059580175,
          -0.05610394652702834,
          -0.046070399053852615,
          -0.036242027088880274,
          -0.02660263256567422,
          -0.017179212261629637,
          -0.007993363598662671,
          0.0008415269581669204,
          0.005080793505773503,
          0.009179676810925132,
          0.013116579451705666,
          0.016842907228803765,
          0.018608882718730152,
          0.020266871099075812,
          0.02175747945957133,
          0.022351601686406063,
          0.022141219946864334,
          0.02026205111601887,
          0.01887422363376575,
          0.016368536443211342,
          0.014019430561548987,
          0.011740516301114114,
          0.007301473600783175,
          0.0029488205881168196,
          -0.0013498388697591667,
          -0.005648498327635153,
          -0.014256615954345204,
          -0.022897129713929466,
          -0.03153764347351373,
          -0.04020515401049318,
          -0.04892125874678397,
          -0.05768595768238608,
          -0.06208180553888472,
          -0.06649385146182049
         ],
         "z": [
          0.41952,
          0.41952,
          0.41952,
          0.41952,
          0.41952,
          0.41952,
          0.41952,
          0.41952,
          0.41952,
          0.41952,
          0.41952,
          0.41952,
          0.41952,
          0.41952,
          0.41952,
          0.41952,
          0.41952,
          0.41952,
          0.41952,
          0.41952,
          0.41952,
          0.41952,
          0.41952,
          0.41952,
          0.41952,
          0.41952,
          0.41952,
          0.41952,
          0.41952,
          0.41952,
          0.41952,
          0.41952,
          0.41952,
          0.41952,
          0.41952
         ]
        },
        {
         "line": {
          "color": "black"
         },
         "mode": "lines",
         "showlegend": false,
         "type": "scatter3d",
         "x": [
          0.03574929341711186,
          0.03437337450070962,
          0.03292276201203314,
          0.029797456317857476,
          0.0263883150490397,
          0.0227177462772621,
          0.018748403216387547,
          0.014450408437506352,
          0.009666905438842608,
          0.007028665151005754,
          0.004196221575255879,
          0.0011396972826832946,
          -0.0022081319417588162,
          -0.0040164949840734996,
          -0.005974245170936658,
          -0.008163545431849953,
          -0.009467337564674464,
          -0.011884063924385117,
          -0.012357978811687459,
          -0.012152182191294238,
          -0.011367121089136609,
          -0.010365448627383691,
          -0.009266674521674264,
          -0.006904800451252089,
          -0.004423416665191132,
          -0.0018673393068559384,
          0.0006887380514792548,
          0.005785954053694795,
          0.010838353912545791,
          0.015890753771396787,
          0.020905806844110662,
          0.025853635701777736,
          0.030734240344397982,
          0.03315586927263955,
          0.035555090129198844
         ],
         "y": [
          -0.055958382073271355,
          -0.05158671763321243,
          -0.047262589448851054,
          -0.03875694184722092,
          -0.030431932017241432,
          -0.02227329908220334,
          -0.014304811169955415,
          -0.0065454827827766664,
          0.0009048599423680742,
          0.004473161661138559,
          0.007917869115095438,
          0.011219967801959697,
          0.014336675091603548,
          0.015809463476169898,
          0.01718717934934117,
          0.01841753282985007,
          0.018899608054151404,
          0.018673393068559384,
          0.01705995495865659,
          0.01587909677560141,
          0.01375506168797875,
          0.01176888174187896,
          0.009844498928185973,
          0.006100313063334588,
          0.0024321852075992675,
          -0.0011884063924385117,
          -0.004808997992476291,
          -0.01205968844369136,
          -0.019338900648324952,
          -0.02661811285295854,
          -0.033921093185440905,
          -0.04126685614805106,
          -0.048655401740788994,
          -0.05236155860108234,
          -0.05608197633808496
         ],
         "z": [
          0.4368,
          0.4368,
          0.4368,
          0.4368,
          0.4368,
          0.4368,
          0.4368,
          0.4368,
          0.4368,
          0.4368,
          0.4368,
          0.4368,
          0.4368,
          0.4368,
          0.4368,
          0.4368,
          0.4368,
          0.4368,
          0.4368,
          0.4368,
          0.4368,
          0.4368,
          0.4368,
          0.4368,
          0.4368,
          0.4368,
          0.4368,
          0.4368,
          0.4368,
          0.4368,
          0.4368,
          0.4368,
          0.4368,
          0.4368,
          0.4368
         ]
        },
        {
         "line": {
          "color": "black"
         },
         "mode": "lines",
         "showlegend": false,
         "type": "scatter3d",
         "x": [
          0.028649830231601052,
          0.02751773034597943,
          0.02632795210174547,
          0.023775360537440532,
          0.02100359121040868,
          0.018029947628233636,
          0.014825590611609228,
          0.011367448817090514,
          0.007534397691591576,
          0.005427533545421378,
          0.003170705666859092,
          0.0007408427124597789,
          -0.0019139658405276675,
          -0.0033451911625236043,
          -0.0048917732017442275,
          -0.006617158152663109,
          -0.007641350032237109,
          -0.009524949455135002,
          -0.009873502510534742,
          -0.00969718250256217,
          -0.009056150693555316,
          -0.00824785164457267,
          -0.007364570729393982,
          -0.00547111651008945,
          -0.00348537691700517,
          -0.001441958965308549,
          0.0006014589863880722,
          0.004676759218058848,
          0.008717452434562215,
          0.012758145651065582,
          0.01676999968826278,
          0.020729943202708875,
          0.024637976194403853,
          0.026577573100598256,
          0.028499866499208965
         ],
         "y": [
          -0.04320923922208976,
          -0.03981478400067743,
          -0.03645842857708563,
          -0.029860017123363676,
          -0.02340638490135975,
          -0.017086101971727725,
          -0.010918218233377863,
          -0.004917973605438374,
          0.000834622336667608,
          0.0035851909749128152,
          0.006236700138824618,
          0.008773909909274803,
          0.01116253046822488,
          0.012288261111622945,
          0.013337792159379934,
          0.014269213833893245,
          0.01462824523725239,
          0.014419589653085488,
          0.01315378306159749,
          0.012234684630276408,
          0.010586986756736945,
          0.009049778296877045,
          0.007562099574183849,
          0.004670561684002643,
          0.0018399834703343007,
          -0.0009524949455135003,
          -0.003744973361361301,
          -0.009337550152621015,
          -0.01495298682257305,
          -0.020568423492525082,
          -0.026202910061387388,
          -0.03187168644828819,
          -0.037574752653227454,
          -0.04043581070515223,
          -0.043308298696423164
         ],
         "z": [
          0.45408000000000004,
          0.45408000000000004,
          0.45408000000000004,
          0.45408000000000004,
          0.45408000000000004,
          0.45408000000000004,
          0.45408000000000004,
          0.45408000000000004,
          0.45408000000000004,
          0.45408000000000004,
          0.45408000000000004,
          0.45408000000000004,
          0.45408000000000004,
          0.45408000000000004,
          0.45408000000000004,
          0.45408000000000004,
          0.45408000000000004,
          0.45408000000000004,
          0.45408000000000004,
          0.45408000000000004,
          0.45408000000000004,
          0.45408000000000004,
          0.45408000000000004,
          0.45408000000000004,
          0.45408000000000004,
          0.45408000000000004,
          0.45408000000000004,
          0.45408000000000004,
          0.45408000000000004,
          0.45408000000000004,
          0.45408000000000004,
          0.45408000000000004,
          0.45408000000000004,
          0.45408000000000004,
          0.45408000000000004
         ]
        },
        {
         "line": {
          "color": "black"
         },
         "mode": "lines",
         "showlegend": false,
         "type": "scatter3d",
         "x": [
          0.0170958731628682,
          0.01640249007173586,
          0.0156760119395957,
          0.014123770552291899,
          0.01244576800915836,
          0.01065193282249743,
          0.008725717471805198,
          0.006653883940678533,
          0.004366932643001,
          0.0031142433588364077,
          0.001775506968051469,
          0.0003374854542430531,
          -0.0012296067194958842,
          -0.0020727238801794387,
          -0.002982031122878645,
          -0.003993932992702113,
          -0.004592550042435757,
          -0.005684283203186007,
          -0.005873328129438616,
          -0.00576120818252001,
          -0.005371493083643668,
          -0.004885802365844632,
          -0.004357088094735422,
          -0.003226850462299786,
          -0.0020436607642516282,
          -0.000827376025195645,
          0.0003889087138603381,
          0.0028148591837707402,
          0.005220952629076446,
          0.007627046074382152,
          0.010016591999183946,
          0.012376352387078697,
          0.014706327238066403,
          0.015863040903308298,
          0.01700982605624785
         ],
         "y": [
          -0.024791722483212784,
          -0.02283229285313072,
          -0.02089560035586141,
          -0.01709042675976101,
          -0.013371654268349032,
          -0.009732461741781665,
          -0.006184217746465274,
          -0.0027360171355249557,
          0.0005643921121325278,
          0.0021395641976792133,
          0.0036556197379127645,
          0.005103463879708084,
          0.006462633203533702,
          0.00710129102638357,
          0.007694474583607953,
          0.008217173029112828,
          0.008414858279989581,
          0.00827376025195645,
          0.007534931240136386,
          0.007003010136912297,
          0.006052853594527834,
          0.005168634737300328,
          0.004313974152729392,
          0.0026546746757755524,
          0.0010317546113221031,
          -0.0005684283203186007,
          -0.002168611251959305,
          -0.005373524541803263,
          -0.008592080111334867,
          -0.011810635680866469,
          -0.015040559816804444,
          -0.018290947372273894,
          -0.02156179834727481,
          -0.023202908117978448,
          -0.024850839028525917
         ],
         "z": [
          0.47136,
          0.47136,
          0.47136,
          0.47136,
          0.47136,
          0.47136,
          0.47136,
          0.47136,
          0.47136,
          0.47136,
          0.47136,
          0.47136,
          0.47136,
          0.47136,
          0.47136,
          0.47136,
          0.47136,
          0.47136,
          0.47136,
          0.47136,
          0.47136,
          0.47136,
          0.47136,
          0.47136,
          0.47136,
          0.47136,
          0.47136,
          0.47136,
          0.47136,
          0.47136,
          0.47136,
          0.47136,
          0.47136,
          0.47136,
          0.47136
         ]
        },
        {
         "marker": {
          "color": "white",
          "size": 0.1
         },
         "mode": "markers",
         "showlegend": false,
         "type": "scatter3d",
         "x": [
          -0.18760664785783526
         ],
         "y": [
          -0.22991119774294022
         ],
         "z": [
          0
         ]
        },
        {
         "marker": {
          "color": "white",
          "size": 0.1
         },
         "mode": "markers",
         "showlegend": false,
         "type": "scatter3d",
         "x": [
          -0.18760664785783526
         ],
         "y": [
          -0.22991119774294022
         ],
         "z": [
          0.47136
         ]
        },
        {
         "marker": {
          "color": "white",
          "size": 0.1
         },
         "mode": "markers",
         "showlegend": false,
         "type": "scatter3d",
         "x": [
          -0.18760664785783526
         ],
         "y": [
          0.24144880225705978
         ],
         "z": [
          0
         ]
        },
        {
         "marker": {
          "color": "white",
          "size": 0.1
         },
         "mode": "markers",
         "showlegend": false,
         "type": "scatter3d",
         "x": [
          -0.18760664785783526
         ],
         "y": [
          0.24144880225705978
         ],
         "z": [
          0.47136
         ]
        },
        {
         "marker": {
          "color": "white",
          "size": 0.1
         },
         "mode": "markers",
         "showlegend": false,
         "type": "scatter3d",
         "x": [
          0.28375335214216474
         ],
         "y": [
          -0.22991119774294022
         ],
         "z": [
          0
         ]
        },
        {
         "marker": {
          "color": "white",
          "size": 0.1
         },
         "mode": "markers",
         "showlegend": false,
         "type": "scatter3d",
         "x": [
          0.28375335214216474
         ],
         "y": [
          -0.22991119774294022
         ],
         "z": [
          0.47136
         ]
        },
        {
         "marker": {
          "color": "white",
          "size": 0.1
         },
         "mode": "markers",
         "showlegend": false,
         "type": "scatter3d",
         "x": [
          0.28375335214216474
         ],
         "y": [
          0.24144880225705978
         ],
         "z": [
          0
         ]
        },
        {
         "marker": {
          "color": "white",
          "size": 0.1
         },
         "mode": "markers",
         "showlegend": false,
         "type": "scatter3d",
         "x": [
          0.28375335214216474
         ],
         "y": [
          0.24144880225705978
         ],
         "z": [
          0.47136
         ]
        }
       ],
       "layout": {
        "scene": {
         "aspectmode": "data"
        },
        "template": {
         "data": {
          "bar": [
           {
            "error_x": {
             "color": "#2a3f5f"
            },
            "error_y": {
             "color": "#2a3f5f"
            },
            "marker": {
             "line": {
              "color": "#E5ECF6",
              "width": 0.5
             },
             "pattern": {
              "fillmode": "overlay",
              "size": 10,
              "solidity": 0.2
             }
            },
            "type": "bar"
           }
          ],
          "barpolar": [
           {
            "marker": {
             "line": {
              "color": "#E5ECF6",
              "width": 0.5
             },
             "pattern": {
              "fillmode": "overlay",
              "size": 10,
              "solidity": 0.2
             }
            },
            "type": "barpolar"
           }
          ],
          "carpet": [
           {
            "aaxis": {
             "endlinecolor": "#2a3f5f",
             "gridcolor": "white",
             "linecolor": "white",
             "minorgridcolor": "white",
             "startlinecolor": "#2a3f5f"
            },
            "baxis": {
             "endlinecolor": "#2a3f5f",
             "gridcolor": "white",
             "linecolor": "white",
             "minorgridcolor": "white",
             "startlinecolor": "#2a3f5f"
            },
            "type": "carpet"
           }
          ],
          "choropleth": [
           {
            "colorbar": {
             "outlinewidth": 0,
             "ticks": ""
            },
            "type": "choropleth"
           }
          ],
          "contour": [
           {
            "colorbar": {
             "outlinewidth": 0,
             "ticks": ""
            },
            "colorscale": [
             [
              0,
              "#0d0887"
             ],
             [
              0.1111111111111111,
              "#46039f"
             ],
             [
              0.2222222222222222,
              "#7201a8"
             ],
             [
              0.3333333333333333,
              "#9c179e"
             ],
             [
              0.4444444444444444,
              "#bd3786"
             ],
             [
              0.5555555555555556,
              "#d8576b"
             ],
             [
              0.6666666666666666,
              "#ed7953"
             ],
             [
              0.7777777777777778,
              "#fb9f3a"
             ],
             [
              0.8888888888888888,
              "#fdca26"
             ],
             [
              1,
              "#f0f921"
             ]
            ],
            "type": "contour"
           }
          ],
          "contourcarpet": [
           {
            "colorbar": {
             "outlinewidth": 0,
             "ticks": ""
            },
            "type": "contourcarpet"
           }
          ],
          "heatmap": [
           {
            "colorbar": {
             "outlinewidth": 0,
             "ticks": ""
            },
            "colorscale": [
             [
              0,
              "#0d0887"
             ],
             [
              0.1111111111111111,
              "#46039f"
             ],
             [
              0.2222222222222222,
              "#7201a8"
             ],
             [
              0.3333333333333333,
              "#9c179e"
             ],
             [
              0.4444444444444444,
              "#bd3786"
             ],
             [
              0.5555555555555556,
              "#d8576b"
             ],
             [
              0.6666666666666666,
              "#ed7953"
             ],
             [
              0.7777777777777778,
              "#fb9f3a"
             ],
             [
              0.8888888888888888,
              "#fdca26"
             ],
             [
              1,
              "#f0f921"
             ]
            ],
            "type": "heatmap"
           }
          ],
          "heatmapgl": [
           {
            "colorbar": {
             "outlinewidth": 0,
             "ticks": ""
            },
            "colorscale": [
             [
              0,
              "#0d0887"
             ],
             [
              0.1111111111111111,
              "#46039f"
             ],
             [
              0.2222222222222222,
              "#7201a8"
             ],
             [
              0.3333333333333333,
              "#9c179e"
             ],
             [
              0.4444444444444444,
              "#bd3786"
             ],
             [
              0.5555555555555556,
              "#d8576b"
             ],
             [
              0.6666666666666666,
              "#ed7953"
             ],
             [
              0.7777777777777778,
              "#fb9f3a"
             ],
             [
              0.8888888888888888,
              "#fdca26"
             ],
             [
              1,
              "#f0f921"
             ]
            ],
            "type": "heatmapgl"
           }
          ],
          "histogram": [
           {
            "marker": {
             "pattern": {
              "fillmode": "overlay",
              "size": 10,
              "solidity": 0.2
             }
            },
            "type": "histogram"
           }
          ],
          "histogram2d": [
           {
            "colorbar": {
             "outlinewidth": 0,
             "ticks": ""
            },
            "colorscale": [
             [
              0,
              "#0d0887"
             ],
             [
              0.1111111111111111,
              "#46039f"
             ],
             [
              0.2222222222222222,
              "#7201a8"
             ],
             [
              0.3333333333333333,
              "#9c179e"
             ],
             [
              0.4444444444444444,
              "#bd3786"
             ],
             [
              0.5555555555555556,
              "#d8576b"
             ],
             [
              0.6666666666666666,
              "#ed7953"
             ],
             [
              0.7777777777777778,
              "#fb9f3a"
             ],
             [
              0.8888888888888888,
              "#fdca26"
             ],
             [
              1,
              "#f0f921"
             ]
            ],
            "type": "histogram2d"
           }
          ],
          "histogram2dcontour": [
           {
            "colorbar": {
             "outlinewidth": 0,
             "ticks": ""
            },
            "colorscale": [
             [
              0,
              "#0d0887"
             ],
             [
              0.1111111111111111,
              "#46039f"
             ],
             [
              0.2222222222222222,
              "#7201a8"
             ],
             [
              0.3333333333333333,
              "#9c179e"
             ],
             [
              0.4444444444444444,
              "#bd3786"
             ],
             [
              0.5555555555555556,
              "#d8576b"
             ],
             [
              0.6666666666666666,
              "#ed7953"
             ],
             [
              0.7777777777777778,
              "#fb9f3a"
             ],
             [
              0.8888888888888888,
              "#fdca26"
             ],
             [
              1,
              "#f0f921"
             ]
            ],
            "type": "histogram2dcontour"
           }
          ],
          "mesh3d": [
           {
            "colorbar": {
             "outlinewidth": 0,
             "ticks": ""
            },
            "type": "mesh3d"
           }
          ],
          "parcoords": [
           {
            "line": {
             "colorbar": {
              "outlinewidth": 0,
              "ticks": ""
             }
            },
            "type": "parcoords"
           }
          ],
          "pie": [
           {
            "automargin": true,
            "type": "pie"
           }
          ],
          "scatter": [
           {
            "fillpattern": {
             "fillmode": "overlay",
             "size": 10,
             "solidity": 0.2
            },
            "type": "scatter"
           }
          ],
          "scatter3d": [
           {
            "line": {
             "colorbar": {
              "outlinewidth": 0,
              "ticks": ""
             }
            },
            "marker": {
             "colorbar": {
              "outlinewidth": 0,
              "ticks": ""
             }
            },
            "type": "scatter3d"
           }
          ],
          "scattercarpet": [
           {
            "marker": {
             "colorbar": {
              "outlinewidth": 0,
              "ticks": ""
             }
            },
            "type": "scattercarpet"
           }
          ],
          "scattergeo": [
           {
            "marker": {
             "colorbar": {
              "outlinewidth": 0,
              "ticks": ""
             }
            },
            "type": "scattergeo"
           }
          ],
          "scattergl": [
           {
            "marker": {
             "colorbar": {
              "outlinewidth": 0,
              "ticks": ""
             }
            },
            "type": "scattergl"
           }
          ],
          "scattermapbox": [
           {
            "marker": {
             "colorbar": {
              "outlinewidth": 0,
              "ticks": ""
             }
            },
            "type": "scattermapbox"
           }
          ],
          "scatterpolar": [
           {
            "marker": {
             "colorbar": {
              "outlinewidth": 0,
              "ticks": ""
             }
            },
            "type": "scatterpolar"
           }
          ],
          "scatterpolargl": [
           {
            "marker": {
             "colorbar": {
              "outlinewidth": 0,
              "ticks": ""
             }
            },
            "type": "scatterpolargl"
           }
          ],
          "scatterternary": [
           {
            "marker": {
             "colorbar": {
              "outlinewidth": 0,
              "ticks": ""
             }
            },
            "type": "scatterternary"
           }
          ],
          "surface": [
           {
            "colorbar": {
             "outlinewidth": 0,
             "ticks": ""
            },
            "colorscale": [
             [
              0,
              "#0d0887"
             ],
             [
              0.1111111111111111,
              "#46039f"
             ],
             [
              0.2222222222222222,
              "#7201a8"
             ],
             [
              0.3333333333333333,
              "#9c179e"
             ],
             [
              0.4444444444444444,
              "#bd3786"
             ],
             [
              0.5555555555555556,
              "#d8576b"
             ],
             [
              0.6666666666666666,
              "#ed7953"
             ],
             [
              0.7777777777777778,
              "#fb9f3a"
             ],
             [
              0.8888888888888888,
              "#fdca26"
             ],
             [
              1,
              "#f0f921"
             ]
            ],
            "type": "surface"
           }
          ],
          "table": [
           {
            "cells": {
             "fill": {
              "color": "#EBF0F8"
             },
             "line": {
              "color": "white"
             }
            },
            "header": {
             "fill": {
              "color": "#C8D4E3"
             },
             "line": {
              "color": "white"
             }
            },
            "type": "table"
           }
          ]
         },
         "layout": {
          "annotationdefaults": {
           "arrowcolor": "#2a3f5f",
           "arrowhead": 0,
           "arrowwidth": 1
          },
          "autotypenumbers": "strict",
          "coloraxis": {
           "colorbar": {
            "outlinewidth": 0,
            "ticks": ""
           }
          },
          "colorscale": {
           "diverging": [
            [
             0,
             "#8e0152"
            ],
            [
             0.1,
             "#c51b7d"
            ],
            [
             0.2,
             "#de77ae"
            ],
            [
             0.3,
             "#f1b6da"
            ],
            [
             0.4,
             "#fde0ef"
            ],
            [
             0.5,
             "#f7f7f7"
            ],
            [
             0.6,
             "#e6f5d0"
            ],
            [
             0.7,
             "#b8e186"
            ],
            [
             0.8,
             "#7fbc41"
            ],
            [
             0.9,
             "#4d9221"
            ],
            [
             1,
             "#276419"
            ]
           ],
           "sequential": [
            [
             0,
             "#0d0887"
            ],
            [
             0.1111111111111111,
             "#46039f"
            ],
            [
             0.2222222222222222,
             "#7201a8"
            ],
            [
             0.3333333333333333,
             "#9c179e"
            ],
            [
             0.4444444444444444,
             "#bd3786"
            ],
            [
             0.5555555555555556,
             "#d8576b"
            ],
            [
             0.6666666666666666,
             "#ed7953"
            ],
            [
             0.7777777777777778,
             "#fb9f3a"
            ],
            [
             0.8888888888888888,
             "#fdca26"
            ],
            [
             1,
             "#f0f921"
            ]
           ],
           "sequentialminus": [
            [
             0,
             "#0d0887"
            ],
            [
             0.1111111111111111,
             "#46039f"
            ],
            [
             0.2222222222222222,
             "#7201a8"
            ],
            [
             0.3333333333333333,
             "#9c179e"
            ],
            [
             0.4444444444444444,
             "#bd3786"
            ],
            [
             0.5555555555555556,
             "#d8576b"
            ],
            [
             0.6666666666666666,
             "#ed7953"
            ],
            [
             0.7777777777777778,
             "#fb9f3a"
            ],
            [
             0.8888888888888888,
             "#fdca26"
            ],
            [
             1,
             "#f0f921"
            ]
           ]
          },
          "colorway": [
           "#636efa",
           "#EF553B",
           "#00cc96",
           "#ab63fa",
           "#FFA15A",
           "#19d3f3",
           "#FF6692",
           "#B6E880",
           "#FF97FF",
           "#FECB52"
          ],
          "font": {
           "color": "#2a3f5f"
          },
          "geo": {
           "bgcolor": "white",
           "lakecolor": "white",
           "landcolor": "#E5ECF6",
           "showlakes": true,
           "showland": true,
           "subunitcolor": "white"
          },
          "hoverlabel": {
           "align": "left"
          },
          "hovermode": "closest",
          "mapbox": {
           "style": "light"
          },
          "paper_bgcolor": "white",
          "plot_bgcolor": "#E5ECF6",
          "polar": {
           "angularaxis": {
            "gridcolor": "white",
            "linecolor": "white",
            "ticks": ""
           },
           "bgcolor": "#E5ECF6",
           "radialaxis": {
            "gridcolor": "white",
            "linecolor": "white",
            "ticks": ""
           }
          },
          "scene": {
           "xaxis": {
            "backgroundcolor": "#E5ECF6",
            "gridcolor": "white",
            "gridwidth": 2,
            "linecolor": "white",
            "showbackground": true,
            "ticks": "",
            "zerolinecolor": "white"
           },
           "yaxis": {
            "backgroundcolor": "#E5ECF6",
            "gridcolor": "white",
            "gridwidth": 2,
            "linecolor": "white",
            "showbackground": true,
            "ticks": "",
            "zerolinecolor": "white"
           },
           "zaxis": {
            "backgroundcolor": "#E5ECF6",
            "gridcolor": "white",
            "gridwidth": 2,
            "linecolor": "white",
            "showbackground": true,
            "ticks": "",
            "zerolinecolor": "white"
           }
          },
          "shapedefaults": {
           "line": {
            "color": "#2a3f5f"
           }
          },
          "ternary": {
           "aaxis": {
            "gridcolor": "white",
            "linecolor": "white",
            "ticks": ""
           },
           "baxis": {
            "gridcolor": "white",
            "linecolor": "white",
            "ticks": ""
           },
           "bgcolor": "#E5ECF6",
           "caxis": {
            "gridcolor": "white",
            "linecolor": "white",
            "ticks": ""
           }
          },
          "title": {
           "x": 0.05
          },
          "xaxis": {
           "automargin": true,
           "gridcolor": "white",
           "linecolor": "white",
           "ticks": "",
           "title": {
            "standoff": 15
           },
           "zerolinecolor": "white",
           "zerolinewidth": 2
          },
          "yaxis": {
           "automargin": true,
           "gridcolor": "white",
           "linecolor": "white",
           "ticks": "",
           "title": {
            "standoff": 15
           },
           "zerolinecolor": "white",
           "zerolinewidth": 2
          }
         }
        }
       }
      }
     },
     "metadata": {},
     "output_type": "display_data"
    }
   ],
   "source": [
    "# Initiazlie BEM class\n",
    "design = prop.BEM(data_path, prop_class, rho_cr, \n",
    "                  dyn_vis, v_cruise, n_stations, a_snd, T=thrust_req)\n",
    "\n",
    "# Execute the BEM optimisation with initial estimate of 0\n",
    "res_dict = design.optimise_blade(zeta_init=0)\n",
    "\n",
    "# Print the resulting dictionary \n",
    "rich.print(res_dict)\n",
    "rich.print(f'power required = {res_dict[\"pc\"]*rho_cr*(prop_class.rpm_cruise/60)**3*32*prop_class.r_prop**5/1e3} Kw')\n",
    "\n",
    "# Plot the resulting blade geometry \n",
    "plot = prop.PlotBlade(prop_class, coord_path)\n",
    "plot.plot_blade() # Creates two 2D plots\n",
    "plot.plot_3D_plotly() # Creates an interactive 3D plot"
   ]
  },
  {
   "cell_type": "markdown",
   "metadata": {},
   "source": [
    "# Offdesign analysis\n",
    "\n",
    "We now have an optimised blade which is stored in the `Propeller` data structure and in the output of the function, i.e `res_dict`. We can do a quick test in order to check this.  Run the following cell to see what the data structure now contains. As seen it now contains 3 extra arrays describing the propeller blade.\n",
    "\n",
    "We would now like to test whether it can meet a certain off design condition. If you want to know more about  a specific step, please refer to the paper which is available on the course site. The general procedure for doing so is as follows:\n",
    "\n",
    "1. Specify a freestream velocity, RPM and $\\Delta \\beta$\n",
    "2. Make in initial estimate on the flow angle using $\\phi = \\frac{\\lambda}{\\xi}$ where $\\xi$ is the nondimensional spanwise location and $\\lambda= \\frac{V_{inf}}{\\omega*R} $\n",
    "3. Since $\\beta$ is known, compute $\\alpha = \\beta - \\phi$ and the Reynolds number at each station.\n",
    "4. The airfoil coefficients are then known from the airfoil section data.\n",
    "5. The new estimate for $\\phi$ can then be computed as in equation 1. Let a and $a`$ be the axial and rotational interference factor, r the local radius and V the freestream velocity. Note that a and $a`$  are clipped to -0.7 and 0.7 respectively. This is required for adequate convergence near the tip (Viterna and Janetzke (1981)). For more details please see Adkins and Liebeck (1984) on the course site.\n",
    "\n",
    "$$\n",
    "\\begin{equation}\n",
    "\\tag{1}\n",
    "\\tan \\phi = \\frac{V(1 + a)}{\\Omega r (1 -  a`)}\n",
    "\\end{equation}\n",
    "$$\n",
    "6. Steps 1 to 5 are then repeated until convergence is reached.\n",
    "7. The thrust and torque per unit radius can then be found using:\n",
    "\n",
    "$$\n",
    "\\begin{align}\n",
    "\\tag{2}\n",
    "T` & = \\frac{1}{2} \\rho W^2 cB  C_y \\\\ \n",
    "\\tag{3}\n",
    "Q`/r & = \\frac{1}{2} \\rho W^2 cB  C_x \\\\\n",
    "\\end{align}\n",
    "$$\n",
    "\n",
    "8. Then finally the thrust and power coefficient are defined as folows. Where n is the rounds per second.\n",
    "\n",
    "$$\n",
    "\\begin{align}\n",
    "\\tag{4}\n",
    "C_T & = \\frac{T}{\\rho n^2 16 R^4} \\\\\n",
    "\\tag{5}\n",
    "C_P & = \\frac{P}{\\rho n^3 32 R^5} \\\\\n",
    "\\end{align}\n",
    "$$\n",
    "\n",
    "Finally, this can then be integrated. In the source code this is done using a simple trapezoid integration, more specifically  the `scipy.integrate.trapezoid` function. \n",
    "\n",
    "# Hover example\n",
    "\n",
    "Let's do an sample example of a vtol rising vertically to see how this would look like using the `tuduam` repository. The inflow from the freestream is now significantly reduced. The parameter that significantly changes is the freestream velocity, the only significant component left is the induced velocity caused by the rotor. Determining the value of the induced velocity is difficult, engineering judgement is used. [1] mentions an equation to estimate it however it is only reliable for higher flight speeds. Thus in our script we have assumed the freestream velocity to be 10.\n",
    "\n",
    "Furthermore it is important to consider how we should change our pitch control of the rotor.  As seen in [Figure 2](#figure2), the resultant relative wind will lay nearly in parrallel to tip-path axis. Therefore if we would keep the same pitch as the one during cruise the blade will most surely stall. The implication in the code being an error that an angle of attack outside of the dataset has been encountered. \n",
    "\n",
    "<p align=\"center\"  id=\"figure2\" style=\"background-color: white;\">\n",
    "<img src=\"https://github.com/saullocastro/tuduam/blob/main/notebooks/static/hover_blade_cross_sectin.gif?raw=true\" width=\"400\" /> \n",
    " <br>\n",
    "</p>\n",
    "\n",
    "Therefore we would like to lower our pitch angle. To increase the thrust for hover we would like to increase our RPM. However keep in mind that our rpm is limited by the onset of shock waves at the tip of the blade. Thus we have to compute the maximum rpm and limit the rpm to that value.  WE will now analyse the propeller at a singular offdesign conditions. Namely a freestream velocity of 10 m/s, a maximum mach number of 0.7 at the tip and a 39 degree decrease in pitch on the rotor blades. Read and run the code below for the results.\n",
    "\n",
    "\n",
    "## Sources\n",
    "\n",
    "[1] Castles, W. Jr., & De Leeuw, J. H. (1954). The normal component of the induced velocity in the vicinity of a lifting rotor and some examples of its application (Report No. 1184). Georgia Institute of Technology.\n",
    "\n"
   ]
  },
  {
   "cell_type": "code",
   "execution_count": 14,
   "metadata": {},
   "outputs": [
    {
     "data": {
      "text/html": [
       "<pre style=\"white-space:pre;overflow-x:auto;line-height:normal;font-family:Menlo,'DejaVu Sans Mono',consolas,'Courier New',monospace\"><span style=\"color: #808000; text-decoration-color: #808000\">rpm_hvr</span>=<span style=\"color: #008080; text-decoration-color: #008080; font-weight: bold\">4738.517215834462</span>\n",
       "</pre>\n"
      ],
      "text/plain": [
       "\u001b[33mrpm_hvr\u001b[0m=\u001b[1;36m4738\u001b[0m\u001b[1;36m.517215834462\u001b[0m\n"
      ]
     },
     "metadata": {},
     "output_type": "display_data"
    },
    {
     "data": {
      "text/html": [
       "<pre style=\"white-space:pre;overflow-x:auto;line-height:normal;font-family:Menlo,'DejaVu Sans Mono',consolas,'Courier New',monospace\"><span style=\"font-weight: bold\">{</span>\n",
       "    <span style=\"color: #008000; text-decoration-color: #008000\">'thrust'</span>: <span style=\"color: #008080; text-decoration-color: #008080; font-weight: bold\">4419.032502473501</span>,\n",
       "    <span style=\"color: #008000; text-decoration-color: #008000\">'torque'</span>: <span style=\"color: #008080; text-decoration-color: #008080; font-weight: bold\">250.73183574196435</span>,\n",
       "    <span style=\"color: #008000; text-decoration-color: #008000\">'eff'</span>: <span style=\"color: #008080; text-decoration-color: #008080; font-weight: bold\">0.3551784721041339</span>,\n",
       "    <span style=\"color: #008000; text-decoration-color: #008000\">'thrust_coeff'</span>: <span style=\"color: #008080; text-decoration-color: #008080; font-weight: bold\">0.6809633682639923</span>,\n",
       "    <span style=\"color: #008000; text-decoration-color: #008000\">'power_coeff'</span>: <span style=\"color: #008080; text-decoration-color: #008080; font-weight: bold\">0.25288010895744534</span>,\n",
       "    <span style=\"color: #008000; text-decoration-color: #008000\">'AoA'</span>: <span style=\"color: #800080; text-decoration-color: #800080; font-weight: bold\">array</span><span style=\"font-weight: bold\">([</span><span style=\"color: #008080; text-decoration-color: #008080; font-weight: bold\">0.1423678</span> , <span style=\"color: #008080; text-decoration-color: #008080; font-weight: bold\">0.23904863</span>, <span style=\"color: #008080; text-decoration-color: #008080; font-weight: bold\">0.31567315</span>, <span style=\"color: #008080; text-decoration-color: #008080; font-weight: bold\">0.35780088</span>, <span style=\"color: #008080; text-decoration-color: #008080; font-weight: bold\">0.3832793</span> ,\n",
       "       <span style=\"color: #008080; text-decoration-color: #008080; font-weight: bold\">0.39591067</span>, <span style=\"color: #008080; text-decoration-color: #008080; font-weight: bold\">0.40261618</span>, <span style=\"color: #008080; text-decoration-color: #008080; font-weight: bold\">0.39008215</span>, <span style=\"color: #008080; text-decoration-color: #008080; font-weight: bold\">0.38604095</span>, <span style=\"color: #008080; text-decoration-color: #008080; font-weight: bold\">0.38045883</span>,\n",
       "       <span style=\"color: #008080; text-decoration-color: #008080; font-weight: bold\">0.37423864</span>, <span style=\"color: #008080; text-decoration-color: #008080; font-weight: bold\">0.36333966</span>, <span style=\"color: #008080; text-decoration-color: #008080; font-weight: bold\">0.36745979</span>, <span style=\"color: #008080; text-decoration-color: #008080; font-weight: bold\">0.34352246</span>, <span style=\"color: #008080; text-decoration-color: #008080; font-weight: bold\">0.34106323</span>,\n",
       "       <span style=\"color: #008080; text-decoration-color: #008080; font-weight: bold\">0.32180639</span>, <span style=\"color: #008080; text-decoration-color: #008080; font-weight: bold\">0.31494238</span>, <span style=\"color: #008080; text-decoration-color: #008080; font-weight: bold\">0.2993096</span> , <span style=\"color: #008080; text-decoration-color: #008080; font-weight: bold\">0.28451342</span>, <span style=\"color: #008080; text-decoration-color: #008080; font-weight: bold\">0.26940751</span>,\n",
       "       <span style=\"color: #008080; text-decoration-color: #008080; font-weight: bold\">0.26085072</span>, <span style=\"color: #008080; text-decoration-color: #008080; font-weight: bold\">0.24988789</span>, <span style=\"color: #008080; text-decoration-color: #008080; font-weight: bold\">0.23592288</span>, <span style=\"color: #008080; text-decoration-color: #008080; font-weight: bold\">0.22123105</span>, <span style=\"color: #008080; text-decoration-color: #008080; font-weight: bold\">0.20721302</span><span style=\"font-weight: bold\">])</span>,\n",
       "    <span style=\"color: #008000; text-decoration-color: #008000\">'lift_coeff'</span>: <span style=\"color: #800080; text-decoration-color: #800080; font-weight: bold\">array</span><span style=\"font-weight: bold\">([</span><span style=\"color: #008080; text-decoration-color: #008080; font-weight: bold\">1.30557414</span>, <span style=\"color: #008080; text-decoration-color: #008080; font-weight: bold\">1.4332331</span> , <span style=\"color: #008080; text-decoration-color: #008080; font-weight: bold\">1.18948776</span>, <span style=\"color: #008080; text-decoration-color: #008080; font-weight: bold\">1.19193914</span>, <span style=\"color: #008080; text-decoration-color: #008080; font-weight: bold\">1.19484236</span>,\n",
       "       <span style=\"color: #008080; text-decoration-color: #008080; font-weight: bold\">1.19822076</span>, <span style=\"color: #008080; text-decoration-color: #008080; font-weight: bold\">1.20210434</span>, <span style=\"color: #008080; text-decoration-color: #008080; font-weight: bold\">1.48031609</span>, <span style=\"color: #008080; text-decoration-color: #008080; font-weight: bold\">1.48987353</span>, <span style=\"color: #008080; text-decoration-color: #008080; font-weight: bold\">1.5066467</span> ,\n",
       "       <span style=\"color: #008080; text-decoration-color: #008080; font-weight: bold\">1.52992904</span>, <span style=\"color: #008080; text-decoration-color: #008080; font-weight: bold\">1.55843736</span>, <span style=\"color: #008080; text-decoration-color: #008080; font-weight: bold\">1.5713342</span> , <span style=\"color: #008080; text-decoration-color: #008080; font-weight: bold\">1.61628175</span>, <span style=\"color: #008080; text-decoration-color: #008080; font-weight: bold\">1.6520912</span> ,\n",
       "       <span style=\"color: #008080; text-decoration-color: #008080; font-weight: bold\">1.68914404</span>, <span style=\"color: #008080; text-decoration-color: #008080; font-weight: bold\">1.72705699</span>, <span style=\"color: #008080; text-decoration-color: #008080; font-weight: bold\">1.78770459</span>, <span style=\"color: #008080; text-decoration-color: #008080; font-weight: bold\">1.81470819</span>, <span style=\"color: #008080; text-decoration-color: #008080; font-weight: bold\">1.83479384</span>,\n",
       "       <span style=\"color: #008080; text-decoration-color: #008080; font-weight: bold\">1.87820904</span>, <span style=\"color: #008080; text-decoration-color: #008080; font-weight: bold\">1.91970041</span>, <span style=\"color: #008080; text-decoration-color: #008080; font-weight: bold\">1.94726879</span>, <span style=\"color: #008080; text-decoration-color: #008080; font-weight: bold\">1.93847994</span>, <span style=\"color: #008080; text-decoration-color: #008080; font-weight: bold\">1.95414693</span><span style=\"font-weight: bold\">])</span>,\n",
       "    <span style=\"color: #008000; text-decoration-color: #008000\">'drag_coeff'</span>: <span style=\"color: #800080; text-decoration-color: #800080; font-weight: bold\">array</span><span style=\"font-weight: bold\">([</span><span style=\"color: #008080; text-decoration-color: #008080; font-weight: bold\">0.02381066</span>, <span style=\"color: #008080; text-decoration-color: #008080; font-weight: bold\">0.05729719</span>, <span style=\"color: #008080; text-decoration-color: #008080; font-weight: bold\">0.14762968</span>, <span style=\"color: #008080; text-decoration-color: #008080; font-weight: bold\">0.14793392</span>, <span style=\"color: #008080; text-decoration-color: #008080; font-weight: bold\">0.14829425</span>,\n",
       "       <span style=\"color: #008080; text-decoration-color: #008080; font-weight: bold\">0.14871355</span>, <span style=\"color: #008080; text-decoration-color: #008080; font-weight: bold\">0.14919554</span>, <span style=\"color: #008080; text-decoration-color: #008080; font-weight: bold\">0.16721165</span>, <span style=\"color: #008080; text-decoration-color: #008080; font-weight: bold\">0.16787538</span>, <span style=\"color: #008080; text-decoration-color: #008080; font-weight: bold\">0.16015633</span>,\n",
       "       <span style=\"color: #008080; text-decoration-color: #008080; font-weight: bold\">0.15200172</span>, <span style=\"color: #008080; text-decoration-color: #008080; font-weight: bold\">0.13986003</span>, <span style=\"color: #008080; text-decoration-color: #008080; font-weight: bold\">0.02057486</span>, <span style=\"color: #008080; text-decoration-color: #008080; font-weight: bold\">0.02371346</span>, <span style=\"color: #008080; text-decoration-color: #008080; font-weight: bold\">0.02450081</span>,\n",
       "       <span style=\"color: #008080; text-decoration-color: #008080; font-weight: bold\">0.09862643</span>, <span style=\"color: #008080; text-decoration-color: #008080; font-weight: bold\">0.02944767</span>, <span style=\"color: #008080; text-decoration-color: #008080; font-weight: bold\">0.07611041</span>, <span style=\"color: #008080; text-decoration-color: #008080; font-weight: bold\">0.06442242</span>, <span style=\"color: #008080; text-decoration-color: #008080; font-weight: bold\">0.07619482</span>,\n",
       "       <span style=\"color: #008080; text-decoration-color: #008080; font-weight: bold\">0.06663979</span>, <span style=\"color: #008080; text-decoration-color: #008080; font-weight: bold\">0.08174522</span>, <span style=\"color: #008080; text-decoration-color: #008080; font-weight: bold\">0.0369091</span> , <span style=\"color: #008080; text-decoration-color: #008080; font-weight: bold\">0.11566614</span>, <span style=\"color: #008080; text-decoration-color: #008080; font-weight: bold\">0.14686628</span><span style=\"font-weight: bold\">])</span>\n",
       "<span style=\"font-weight: bold\">}</span>\n",
       "</pre>\n"
      ],
      "text/plain": [
       "\u001b[1m{\u001b[0m\n",
       "    \u001b[32m'thrust'\u001b[0m: \u001b[1;36m4419.032502473501\u001b[0m,\n",
       "    \u001b[32m'torque'\u001b[0m: \u001b[1;36m250.73183574196435\u001b[0m,\n",
       "    \u001b[32m'eff'\u001b[0m: \u001b[1;36m0.3551784721041339\u001b[0m,\n",
       "    \u001b[32m'thrust_coeff'\u001b[0m: \u001b[1;36m0.6809633682639923\u001b[0m,\n",
       "    \u001b[32m'power_coeff'\u001b[0m: \u001b[1;36m0.25288010895744534\u001b[0m,\n",
       "    \u001b[32m'AoA'\u001b[0m: \u001b[1;35marray\u001b[0m\u001b[1m(\u001b[0m\u001b[1m[\u001b[0m\u001b[1;36m0.1423678\u001b[0m , \u001b[1;36m0.23904863\u001b[0m, \u001b[1;36m0.31567315\u001b[0m, \u001b[1;36m0.35780088\u001b[0m, \u001b[1;36m0.3832793\u001b[0m ,\n",
       "       \u001b[1;36m0.39591067\u001b[0m, \u001b[1;36m0.40261618\u001b[0m, \u001b[1;36m0.39008215\u001b[0m, \u001b[1;36m0.38604095\u001b[0m, \u001b[1;36m0.38045883\u001b[0m,\n",
       "       \u001b[1;36m0.37423864\u001b[0m, \u001b[1;36m0.36333966\u001b[0m, \u001b[1;36m0.36745979\u001b[0m, \u001b[1;36m0.34352246\u001b[0m, \u001b[1;36m0.34106323\u001b[0m,\n",
       "       \u001b[1;36m0.32180639\u001b[0m, \u001b[1;36m0.31494238\u001b[0m, \u001b[1;36m0.2993096\u001b[0m , \u001b[1;36m0.28451342\u001b[0m, \u001b[1;36m0.26940751\u001b[0m,\n",
       "       \u001b[1;36m0.26085072\u001b[0m, \u001b[1;36m0.24988789\u001b[0m, \u001b[1;36m0.23592288\u001b[0m, \u001b[1;36m0.22123105\u001b[0m, \u001b[1;36m0.20721302\u001b[0m\u001b[1m]\u001b[0m\u001b[1m)\u001b[0m,\n",
       "    \u001b[32m'lift_coeff'\u001b[0m: \u001b[1;35marray\u001b[0m\u001b[1m(\u001b[0m\u001b[1m[\u001b[0m\u001b[1;36m1.30557414\u001b[0m, \u001b[1;36m1.4332331\u001b[0m , \u001b[1;36m1.18948776\u001b[0m, \u001b[1;36m1.19193914\u001b[0m, \u001b[1;36m1.19484236\u001b[0m,\n",
       "       \u001b[1;36m1.19822076\u001b[0m, \u001b[1;36m1.20210434\u001b[0m, \u001b[1;36m1.48031609\u001b[0m, \u001b[1;36m1.48987353\u001b[0m, \u001b[1;36m1.5066467\u001b[0m ,\n",
       "       \u001b[1;36m1.52992904\u001b[0m, \u001b[1;36m1.55843736\u001b[0m, \u001b[1;36m1.5713342\u001b[0m , \u001b[1;36m1.61628175\u001b[0m, \u001b[1;36m1.6520912\u001b[0m ,\n",
       "       \u001b[1;36m1.68914404\u001b[0m, \u001b[1;36m1.72705699\u001b[0m, \u001b[1;36m1.78770459\u001b[0m, \u001b[1;36m1.81470819\u001b[0m, \u001b[1;36m1.83479384\u001b[0m,\n",
       "       \u001b[1;36m1.87820904\u001b[0m, \u001b[1;36m1.91970041\u001b[0m, \u001b[1;36m1.94726879\u001b[0m, \u001b[1;36m1.93847994\u001b[0m, \u001b[1;36m1.95414693\u001b[0m\u001b[1m]\u001b[0m\u001b[1m)\u001b[0m,\n",
       "    \u001b[32m'drag_coeff'\u001b[0m: \u001b[1;35marray\u001b[0m\u001b[1m(\u001b[0m\u001b[1m[\u001b[0m\u001b[1;36m0.02381066\u001b[0m, \u001b[1;36m0.05729719\u001b[0m, \u001b[1;36m0.14762968\u001b[0m, \u001b[1;36m0.14793392\u001b[0m, \u001b[1;36m0.14829425\u001b[0m,\n",
       "       \u001b[1;36m0.14871355\u001b[0m, \u001b[1;36m0.14919554\u001b[0m, \u001b[1;36m0.16721165\u001b[0m, \u001b[1;36m0.16787538\u001b[0m, \u001b[1;36m0.16015633\u001b[0m,\n",
       "       \u001b[1;36m0.15200172\u001b[0m, \u001b[1;36m0.13986003\u001b[0m, \u001b[1;36m0.02057486\u001b[0m, \u001b[1;36m0.02371346\u001b[0m, \u001b[1;36m0.02450081\u001b[0m,\n",
       "       \u001b[1;36m0.09862643\u001b[0m, \u001b[1;36m0.02944767\u001b[0m, \u001b[1;36m0.07611041\u001b[0m, \u001b[1;36m0.06442242\u001b[0m, \u001b[1;36m0.07619482\u001b[0m,\n",
       "       \u001b[1;36m0.06663979\u001b[0m, \u001b[1;36m0.08174522\u001b[0m, \u001b[1;36m0.0369091\u001b[0m , \u001b[1;36m0.11566614\u001b[0m, \u001b[1;36m0.14686628\u001b[0m\u001b[1m]\u001b[0m\u001b[1m)\u001b[0m\n",
       "\u001b[1m}\u001b[0m\n"
      ]
     },
     "metadata": {},
     "output_type": "display_data"
    },
    {
     "data": {
      "text/html": [
       "<pre style=\"white-space:pre;overflow-x:auto;line-height:normal;font-family:Menlo,'DejaVu Sans Mono',consolas,'Courier New',monospace\">The power required for a single rotor is <span style=\"color: #008080; text-decoration-color: #008080; font-weight: bold\">124.4172394879241</span> kW\n",
       "</pre>\n"
      ],
      "text/plain": [
       "The power required for a single rotor is \u001b[1;36m124.4172394879241\u001b[0m kW\n"
      ]
     },
     "metadata": {},
     "output_type": "display_data"
    }
   ],
   "source": [
    "import numpy as np\n",
    "from scipy.optimize import minimize\n",
    "\n",
    "# Define constants required for analysis\n",
    "mach_max = 0.7 # Point when shockwave occurs over the airfoil\n",
    "isa = tud.ISA(0) # Assume sea level\n",
    "rho = isa.density()\n",
    "dyn_vis = isa.viscosity_dyn()\n",
    "a_snd = isa.soundspeed()\n",
    "\n",
    "# Operations conditions\n",
    "vtip_max =  mach_max*a_snd\n",
    "omega_max = vtip_max/prop_class.r_prop\n",
    "rpm_hvr = omega_max/(2*np.pi)*60 # Vertical speed of the vtol\n",
    "v_hvr = 10 # Vertical speed of the vtol plus additional \n",
    "delta_pitch = np.radians(-39)\n",
    "\n",
    "rich.print(f\"{rpm_hvr=}\")\n",
    "\n",
    "hover_cond = prop.OffDesignAnalysisBEM(data_path, prop_class, v_hvr, rpm_hvr, rho, dyn_vis, a_snd)\n",
    "res = hover_cond.analyse_propeller(delta_pitch, abs_extrapolation=7)\n",
    "\n",
    "power_req = res[\"power_coeff\"]*rho*(rpm_hvr/60)**3*32*prop_class.r_prop**5/1e3\n",
    "\n",
    "rich.print(res)\n",
    "rich.print(f\"The power required for a single rotor is {power_req} kW\")"
   ]
  },
  {
   "cell_type": "markdown",
   "metadata": {},
   "source": [
    "# Finding the max thrust of a blade\n",
    "\n",
    " Let us now try a range of values for the both the change in pitch and rpm values to see if we can achieve better thrust values. We could opt to use `scipy.optimize` for this purpose however the analysis is prone to failure due to either to high AoA or a non-convergent solutions. This will complicate the optimization where we'll have to assign penalization when such an error occurs. Instead we'll use a  brute force method since the analysis is swift. We'll create a mesh where x will be the rpm and y the pitch. Then for each coordinate we'll compute the thrust and plot a surface. This is implemented below, the cell takes about 30 seconds to run, so some patience is required. Additionally besides the thrust, the efficiency and power are also be plotted.\n",
    "\n",
    "Feel free to play with the parameters!"
   ]
  },
  {
   "cell_type": "code",
   "execution_count": 15,
   "metadata": {},
   "outputs": [
    {
     "name": "stdout",
     "output_type": "stream",
     "text": [
      "pitch -0.006092348395734171 results in AoA outside of the dataset and the additional extrapolation range\n",
      "pitch -0.006745100009562833 results in AoA outside of the dataset and the additional extrapolation range\n",
      "pitch -0.007397851623391494 results in AoA outside of the dataset and the additional extrapolation range\n",
      "pitch -0.008050603237220157 results in AoA outside of the dataset and the additional extrapolation range\n",
      "Convergence failed maximum amount of iterations was reached\n",
      "Convergence failed maximum amount of iterations was reached\n",
      "Convergence failed maximum amount of iterations was reached\n",
      "Convergence failed maximum amount of iterations was reached\n",
      "Convergence failed maximum amount of iterations was reached\n",
      "Convergence failed maximum amount of iterations was reached\n",
      "Convergence failed maximum amount of iterations was reached\n",
      "Convergence failed maximum amount of iterations was reached\n",
      "Convergence failed maximum amount of iterations was reached\n",
      "pitch -0.006092348395734171 results in AoA outside of the dataset and the additional extrapolation range\n",
      "pitch -0.006745100009562833 results in AoA outside of the dataset and the additional extrapolation range\n",
      "pitch -0.007397851623391494 results in AoA outside of the dataset and the additional extrapolation range\n",
      "pitch -0.008050603237220157 results in AoA outside of the dataset and the additional extrapolation range\n",
      "Convergence failed maximum amount of iterations was reached\n",
      "Convergence failed maximum amount of iterations was reached\n",
      "Convergence failed maximum amount of iterations was reached\n",
      "Convergence failed maximum amount of iterations was reached\n",
      "Convergence failed maximum amount of iterations was reached\n",
      "Convergence failed maximum amount of iterations was reached\n",
      "Convergence failed maximum amount of iterations was reached\n",
      "pitch -0.006092348395734171 results in AoA outside of the dataset and the additional extrapolation range\n",
      "pitch -0.006745100009562833 results in AoA outside of the dataset and the additional extrapolation range\n",
      "pitch -0.007397851623391494 results in AoA outside of the dataset and the additional extrapolation range\n",
      "pitch -0.008050603237220157 results in AoA outside of the dataset and the additional extrapolation range\n",
      "pitch -0.008703354851048816 results in AoA outside of the dataset and the additional extrapolation range\n",
      "Convergence failed maximum amount of iterations was reached\n",
      "Convergence failed maximum amount of iterations was reached\n",
      "Convergence failed maximum amount of iterations was reached\n",
      "Convergence failed maximum amount of iterations was reached\n",
      "Convergence failed maximum amount of iterations was reached\n",
      "Convergence failed maximum amount of iterations was reached\n",
      "Convergence failed maximum amount of iterations was reached\n",
      "pitch -0.006092348395734171 results in AoA outside of the dataset and the additional extrapolation range\n",
      "pitch -0.006745100009562833 results in AoA outside of the dataset and the additional extrapolation range\n",
      "pitch -0.007397851623391494 results in AoA outside of the dataset and the additional extrapolation range\n",
      "pitch -0.008050603237220157 results in AoA outside of the dataset and the additional extrapolation range\n",
      "pitch -0.008703354851048816 results in AoA outside of the dataset and the additional extrapolation range\n",
      "Convergence failed maximum amount of iterations was reached\n",
      "Convergence failed maximum amount of iterations was reached\n",
      "Convergence failed maximum amount of iterations was reached\n",
      "Convergence failed maximum amount of iterations was reached\n",
      "Convergence failed maximum amount of iterations was reached\n",
      "Convergence failed maximum amount of iterations was reached\n",
      "pitch -0.006092348395734171 results in AoA outside of the dataset and the additional extrapolation range\n",
      "pitch -0.006745100009562833 results in AoA outside of the dataset and the additional extrapolation range\n",
      "pitch -0.007397851623391494 results in AoA outside of the dataset and the additional extrapolation range\n",
      "pitch -0.008050603237220157 results in AoA outside of the dataset and the additional extrapolation range\n",
      "pitch -0.008703354851048816 results in AoA outside of the dataset and the additional extrapolation range\n",
      "Convergence failed maximum amount of iterations was reached\n",
      "Convergence failed maximum amount of iterations was reached\n",
      "Convergence failed maximum amount of iterations was reached\n",
      "Convergence failed maximum amount of iterations was reached\n",
      "Convergence failed maximum amount of iterations was reached\n",
      "Convergence failed maximum amount of iterations was reached\n",
      "pitch -0.006092348395734171 results in AoA outside of the dataset and the additional extrapolation range\n",
      "pitch -0.006745100009562833 results in AoA outside of the dataset and the additional extrapolation range\n",
      "pitch -0.007397851623391494 results in AoA outside of the dataset and the additional extrapolation range\n",
      "pitch -0.008050603237220157 results in AoA outside of the dataset and the additional extrapolation range\n",
      "pitch -0.008703354851048816 results in AoA outside of the dataset and the additional extrapolation range\n",
      "pitch -0.009356106464877478 results in AoA outside of the dataset and the additional extrapolation range\n",
      "Convergence failed maximum amount of iterations was reached\n",
      "Convergence failed maximum amount of iterations was reached\n",
      "Convergence failed maximum amount of iterations was reached\n",
      "pitch -0.006092348395734171 results in AoA outside of the dataset and the additional extrapolation range\n",
      "pitch -0.006745100009562833 results in AoA outside of the dataset and the additional extrapolation range\n",
      "pitch -0.007397851623391494 results in AoA outside of the dataset and the additional extrapolation range\n",
      "pitch -0.008050603237220157 results in AoA outside of the dataset and the additional extrapolation range\n",
      "pitch -0.008703354851048816 results in AoA outside of the dataset and the additional extrapolation range\n",
      "pitch -0.009356106464877478 results in AoA outside of the dataset and the additional extrapolation range\n",
      "Convergence failed maximum amount of iterations was reached\n",
      "Convergence failed maximum amount of iterations was reached\n",
      "Convergence failed maximum amount of iterations was reached\n",
      "Convergence failed maximum amount of iterations was reached\n",
      "pitch -0.006092348395734171 results in AoA outside of the dataset and the additional extrapolation range\n",
      "pitch -0.006745100009562833 results in AoA outside of the dataset and the additional extrapolation range\n",
      "pitch -0.007397851623391494 results in AoA outside of the dataset and the additional extrapolation range\n",
      "pitch -0.008050603237220157 results in AoA outside of the dataset and the additional extrapolation range\n",
      "pitch -0.008703354851048816 results in AoA outside of the dataset and the additional extrapolation range\n",
      "pitch -0.009356106464877478 results in AoA outside of the dataset and the additional extrapolation range\n",
      "Convergence failed maximum amount of iterations was reached\n",
      "Convergence failed maximum amount of iterations was reached\n",
      "Convergence failed maximum amount of iterations was reached\n",
      "Convergence failed maximum amount of iterations was reached\n",
      "pitch -0.006092348395734171 results in AoA outside of the dataset and the additional extrapolation range\n",
      "pitch -0.006745100009562833 results in AoA outside of the dataset and the additional extrapolation range\n",
      "pitch -0.007397851623391494 results in AoA outside of the dataset and the additional extrapolation range\n",
      "pitch -0.008050603237220157 results in AoA outside of the dataset and the additional extrapolation range\n",
      "pitch -0.008703354851048816 results in AoA outside of the dataset and the additional extrapolation range\n",
      "pitch -0.009356106464877478 results in AoA outside of the dataset and the additional extrapolation range\n",
      "pitch -0.01000885807870614 results in AoA outside of the dataset and the additional extrapolation range\n",
      "Convergence failed maximum amount of iterations was reached\n",
      "Convergence failed maximum amount of iterations was reached\n",
      "Convergence failed maximum amount of iterations was reached\n",
      "pitch -0.006092348395734171 results in AoA outside of the dataset and the additional extrapolation range\n",
      "pitch -0.006745100009562833 results in AoA outside of the dataset and the additional extrapolation range\n",
      "pitch -0.007397851623391494 results in AoA outside of the dataset and the additional extrapolation range\n",
      "pitch -0.008050603237220157 results in AoA outside of the dataset and the additional extrapolation range\n",
      "pitch -0.008703354851048816 results in AoA outside of the dataset and the additional extrapolation range\n",
      "pitch -0.009356106464877478 results in AoA outside of the dataset and the additional extrapolation range\n",
      "pitch -0.01000885807870614 results in AoA outside of the dataset and the additional extrapolation range\n",
      "Convergence failed maximum amount of iterations was reached\n",
      "pitch -0.006092348395734171 results in AoA outside of the dataset and the additional extrapolation range\n",
      "pitch -0.006745100009562833 results in AoA outside of the dataset and the additional extrapolation range\n",
      "pitch -0.007397851623391494 results in AoA outside of the dataset and the additional extrapolation range\n",
      "pitch -0.008050603237220157 results in AoA outside of the dataset and the additional extrapolation range\n",
      "pitch -0.008703354851048816 results in AoA outside of the dataset and the additional extrapolation range\n",
      "pitch -0.009356106464877478 results in AoA outside of the dataset and the additional extrapolation range\n",
      "pitch -0.01000885807870614 results in AoA outside of the dataset and the additional extrapolation range\n",
      "Convergence failed maximum amount of iterations was reached\n",
      "Convergence failed maximum amount of iterations was reached\n",
      "pitch -0.006092348395734171 results in AoA outside of the dataset and the additional extrapolation range\n",
      "pitch -0.006745100009562833 results in AoA outside of the dataset and the additional extrapolation range\n",
      "pitch -0.007397851623391494 results in AoA outside of the dataset and the additional extrapolation range\n",
      "pitch -0.008050603237220157 results in AoA outside of the dataset and the additional extrapolation range\n",
      "pitch -0.008703354851048816 results in AoA outside of the dataset and the additional extrapolation range\n",
      "pitch -0.009356106464877478 results in AoA outside of the dataset and the additional extrapolation range\n",
      "pitch -0.01000885807870614 results in AoA outside of the dataset and the additional extrapolation range\n",
      "pitch -0.006092348395734171 results in AoA outside of the dataset and the additional extrapolation range\n",
      "pitch -0.006745100009562833 results in AoA outside of the dataset and the additional extrapolation range\n",
      "pitch -0.007397851623391494 results in AoA outside of the dataset and the additional extrapolation range\n",
      "pitch -0.008050603237220157 results in AoA outside of the dataset and the additional extrapolation range\n",
      "pitch -0.008703354851048816 results in AoA outside of the dataset and the additional extrapolation range\n",
      "pitch -0.009356106464877478 results in AoA outside of the dataset and the additional extrapolation range\n",
      "pitch -0.01000885807870614 results in AoA outside of the dataset and the additional extrapolation range\n",
      "Convergence failed maximum amount of iterations was reached\n",
      "pitch -0.006092348395734171 results in AoA outside of the dataset and the additional extrapolation range\n",
      "pitch -0.006745100009562833 results in AoA outside of the dataset and the additional extrapolation range\n",
      "pitch -0.007397851623391494 results in AoA outside of the dataset and the additional extrapolation range\n",
      "pitch -0.008050603237220157 results in AoA outside of the dataset and the additional extrapolation range\n",
      "pitch -0.008703354851048816 results in AoA outside of the dataset and the additional extrapolation range\n",
      "pitch -0.009356106464877478 results in AoA outside of the dataset and the additional extrapolation range\n",
      "pitch -0.01000885807870614 results in AoA outside of the dataset and the additional extrapolation range\n",
      "pitch -0.006092348395734171 results in AoA outside of the dataset and the additional extrapolation range\n",
      "pitch -0.006745100009562833 results in AoA outside of the dataset and the additional extrapolation range\n",
      "pitch -0.007397851623391494 results in AoA outside of the dataset and the additional extrapolation range\n",
      "pitch -0.008050603237220157 results in AoA outside of the dataset and the additional extrapolation range\n",
      "pitch -0.008703354851048816 results in AoA outside of the dataset and the additional extrapolation range\n",
      "pitch -0.009356106464877478 results in AoA outside of the dataset and the additional extrapolation range\n",
      "pitch -0.01000885807870614 results in AoA outside of the dataset and the additional extrapolation range\n",
      "pitch -0.0106616096925348 results in AoA outside of the dataset and the additional extrapolation range\n"
     ]
    },
    {
     "data": {
      "application/vnd.plotly.v1+json": {
       "config": {
        "plotlyServerURL": "https://plot.ly"
       },
       "data": [
        {
         "type": "surface",
         "x": [
          [
           2500,
           2659.8940868453187,
           2819.7881736906374,
           2979.682260535956,
           3139.576347381275,
           3299.4704342265936,
           3459.3645210719123,
           3619.258607917231,
           3779.15269476255,
           3939.0467816078685,
           4098.940868453187,
           4258.8349552985055,
           4418.729042143825,
           4578.623128989144,
           4738.517215834462
          ],
          [
           2500,
           2659.8940868453187,
           2819.7881736906374,
           2979.682260535956,
           3139.576347381275,
           3299.4704342265936,
           3459.3645210719123,
           3619.258607917231,
           3779.15269476255,
           3939.0467816078685,
           4098.940868453187,
           4258.8349552985055,
           4418.729042143825,
           4578.623128989144,
           4738.517215834462
          ],
          [
           2500,
           2659.8940868453187,
           2819.7881736906374,
           2979.682260535956,
           3139.576347381275,
           3299.4704342265936,
           3459.3645210719123,
           3619.258607917231,
           3779.15269476255,
           3939.0467816078685,
           4098.940868453187,
           4258.8349552985055,
           4418.729042143825,
           4578.623128989144,
           4738.517215834462
          ],
          [
           2500,
           2659.8940868453187,
           2819.7881736906374,
           2979.682260535956,
           3139.576347381275,
           3299.4704342265936,
           3459.3645210719123,
           3619.258607917231,
           3779.15269476255,
           3939.0467816078685,
           4098.940868453187,
           4258.8349552985055,
           4418.729042143825,
           4578.623128989144,
           4738.517215834462
          ],
          [
           2500,
           2659.8940868453187,
           2819.7881736906374,
           2979.682260535956,
           3139.576347381275,
           3299.4704342265936,
           3459.3645210719123,
           3619.258607917231,
           3779.15269476255,
           3939.0467816078685,
           4098.940868453187,
           4258.8349552985055,
           4418.729042143825,
           4578.623128989144,
           4738.517215834462
          ],
          [
           2500,
           2659.8940868453187,
           2819.7881736906374,
           2979.682260535956,
           3139.576347381275,
           3299.4704342265936,
           3459.3645210719123,
           3619.258607917231,
           3779.15269476255,
           3939.0467816078685,
           4098.940868453187,
           4258.8349552985055,
           4418.729042143825,
           4578.623128989144,
           4738.517215834462
          ],
          [
           2500,
           2659.8940868453187,
           2819.7881736906374,
           2979.682260535956,
           3139.576347381275,
           3299.4704342265936,
           3459.3645210719123,
           3619.258607917231,
           3779.15269476255,
           3939.0467816078685,
           4098.940868453187,
           4258.8349552985055,
           4418.729042143825,
           4578.623128989144,
           4738.517215834462
          ],
          [
           2500,
           2659.8940868453187,
           2819.7881736906374,
           2979.682260535956,
           3139.576347381275,
           3299.4704342265936,
           3459.3645210719123,
           3619.258607917231,
           3779.15269476255,
           3939.0467816078685,
           4098.940868453187,
           4258.8349552985055,
           4418.729042143825,
           4578.623128989144,
           4738.517215834462
          ],
          [
           2500,
           2659.8940868453187,
           2819.7881736906374,
           2979.682260535956,
           3139.576347381275,
           3299.4704342265936,
           3459.3645210719123,
           3619.258607917231,
           3779.15269476255,
           3939.0467816078685,
           4098.940868453187,
           4258.8349552985055,
           4418.729042143825,
           4578.623128989144,
           4738.517215834462
          ],
          [
           2500,
           2659.8940868453187,
           2819.7881736906374,
           2979.682260535956,
           3139.576347381275,
           3299.4704342265936,
           3459.3645210719123,
           3619.258607917231,
           3779.15269476255,
           3939.0467816078685,
           4098.940868453187,
           4258.8349552985055,
           4418.729042143825,
           4578.623128989144,
           4738.517215834462
          ],
          [
           2500,
           2659.8940868453187,
           2819.7881736906374,
           2979.682260535956,
           3139.576347381275,
           3299.4704342265936,
           3459.3645210719123,
           3619.258607917231,
           3779.15269476255,
           3939.0467816078685,
           4098.940868453187,
           4258.8349552985055,
           4418.729042143825,
           4578.623128989144,
           4738.517215834462
          ],
          [
           2500,
           2659.8940868453187,
           2819.7881736906374,
           2979.682260535956,
           3139.576347381275,
           3299.4704342265936,
           3459.3645210719123,
           3619.258607917231,
           3779.15269476255,
           3939.0467816078685,
           4098.940868453187,
           4258.8349552985055,
           4418.729042143825,
           4578.623128989144,
           4738.517215834462
          ],
          [
           2500,
           2659.8940868453187,
           2819.7881736906374,
           2979.682260535956,
           3139.576347381275,
           3299.4704342265936,
           3459.3645210719123,
           3619.258607917231,
           3779.15269476255,
           3939.0467816078685,
           4098.940868453187,
           4258.8349552985055,
           4418.729042143825,
           4578.623128989144,
           4738.517215834462
          ],
          [
           2500,
           2659.8940868453187,
           2819.7881736906374,
           2979.682260535956,
           3139.576347381275,
           3299.4704342265936,
           3459.3645210719123,
           3619.258607917231,
           3779.15269476255,
           3939.0467816078685,
           4098.940868453187,
           4258.8349552985055,
           4418.729042143825,
           4578.623128989144,
           4738.517215834462
          ],
          [
           2500,
           2659.8940868453187,
           2819.7881736906374,
           2979.682260535956,
           3139.576347381275,
           3299.4704342265936,
           3459.3645210719123,
           3619.258607917231,
           3779.15269476255,
           3939.0467816078685,
           4098.940868453187,
           4258.8349552985055,
           4418.729042143825,
           4578.623128989144,
           4738.517215834462
          ]
         ],
         "y": [
          [
           -20,
           -20,
           -20,
           -20,
           -20,
           -20,
           -20,
           -20,
           -20,
           -20,
           -20,
           -20,
           -20,
           -20,
           -20
          ],
          [
           -22.142857142857142,
           -22.142857142857142,
           -22.142857142857142,
           -22.142857142857142,
           -22.142857142857142,
           -22.142857142857142,
           -22.142857142857142,
           -22.142857142857142,
           -22.142857142857142,
           -22.142857142857142,
           -22.142857142857142,
           -22.142857142857142,
           -22.142857142857142,
           -22.142857142857142,
           -22.142857142857142
          ],
          [
           -24.285714285714285,
           -24.285714285714285,
           -24.285714285714285,
           -24.285714285714285,
           -24.285714285714285,
           -24.285714285714285,
           -24.285714285714285,
           -24.285714285714285,
           -24.285714285714285,
           -24.285714285714285,
           -24.285714285714285,
           -24.285714285714285,
           -24.285714285714285,
           -24.285714285714285,
           -24.285714285714285
          ],
          [
           -26.42857142857143,
           -26.42857142857143,
           -26.42857142857143,
           -26.42857142857143,
           -26.42857142857143,
           -26.42857142857143,
           -26.42857142857143,
           -26.42857142857143,
           -26.42857142857143,
           -26.42857142857143,
           -26.42857142857143,
           -26.42857142857143,
           -26.42857142857143,
           -26.42857142857143,
           -26.42857142857143
          ],
          [
           -28.57142857142857,
           -28.57142857142857,
           -28.57142857142857,
           -28.57142857142857,
           -28.57142857142857,
           -28.57142857142857,
           -28.57142857142857,
           -28.57142857142857,
           -28.57142857142857,
           -28.57142857142857,
           -28.57142857142857,
           -28.57142857142857,
           -28.57142857142857,
           -28.57142857142857,
           -28.57142857142857
          ],
          [
           -30.714285714285715,
           -30.714285714285715,
           -30.714285714285715,
           -30.714285714285715,
           -30.714285714285715,
           -30.714285714285715,
           -30.714285714285715,
           -30.714285714285715,
           -30.714285714285715,
           -30.714285714285715,
           -30.714285714285715,
           -30.714285714285715,
           -30.714285714285715,
           -30.714285714285715,
           -30.714285714285715
          ],
          [
           -32.85714285714286,
           -32.85714285714286,
           -32.85714285714286,
           -32.85714285714286,
           -32.85714285714286,
           -32.85714285714286,
           -32.85714285714286,
           -32.85714285714286,
           -32.85714285714286,
           -32.85714285714286,
           -32.85714285714286,
           -32.85714285714286,
           -32.85714285714286,
           -32.85714285714286,
           -32.85714285714286
          ],
          [
           -35,
           -35,
           -35,
           -35,
           -35,
           -35,
           -35,
           -35,
           -35,
           -35,
           -35,
           -35,
           -35,
           -35,
           -35
          ],
          [
           -37.14285714285714,
           -37.14285714285714,
           -37.14285714285714,
           -37.14285714285714,
           -37.14285714285714,
           -37.14285714285714,
           -37.14285714285714,
           -37.14285714285714,
           -37.14285714285714,
           -37.14285714285714,
           -37.14285714285714,
           -37.14285714285714,
           -37.14285714285714,
           -37.14285714285714,
           -37.14285714285714
          ],
          [
           -39.285714285714285,
           -39.285714285714285,
           -39.285714285714285,
           -39.285714285714285,
           -39.285714285714285,
           -39.285714285714285,
           -39.285714285714285,
           -39.285714285714285,
           -39.285714285714285,
           -39.285714285714285,
           -39.285714285714285,
           -39.285714285714285,
           -39.285714285714285,
           -39.285714285714285,
           -39.285714285714285
          ],
          [
           -41.42857142857143,
           -41.42857142857143,
           -41.42857142857143,
           -41.42857142857143,
           -41.42857142857143,
           -41.42857142857143,
           -41.42857142857143,
           -41.42857142857143,
           -41.42857142857143,
           -41.42857142857143,
           -41.42857142857143,
           -41.42857142857143,
           -41.42857142857143,
           -41.42857142857143,
           -41.42857142857143
          ],
          [
           -43.57142857142857,
           -43.57142857142857,
           -43.57142857142857,
           -43.57142857142857,
           -43.57142857142857,
           -43.57142857142857,
           -43.57142857142857,
           -43.57142857142857,
           -43.57142857142857,
           -43.57142857142857,
           -43.57142857142857,
           -43.57142857142857,
           -43.57142857142857,
           -43.57142857142857,
           -43.57142857142857
          ],
          [
           -45.714285714285715,
           -45.714285714285715,
           -45.714285714285715,
           -45.714285714285715,
           -45.714285714285715,
           -45.714285714285715,
           -45.714285714285715,
           -45.714285714285715,
           -45.714285714285715,
           -45.714285714285715,
           -45.714285714285715,
           -45.714285714285715,
           -45.714285714285715,
           -45.714285714285715,
           -45.714285714285715
          ],
          [
           -47.85714285714286,
           -47.85714285714286,
           -47.85714285714286,
           -47.85714285714286,
           -47.85714285714286,
           -47.85714285714286,
           -47.85714285714286,
           -47.85714285714286,
           -47.85714285714286,
           -47.85714285714286,
           -47.85714285714286,
           -47.85714285714286,
           -47.85714285714286,
           -47.85714285714286,
           -47.85714285714286
          ],
          [
           -50,
           -50,
           -50,
           -50,
           -50,
           -50,
           -50,
           -50,
           -50,
           -50,
           -50,
           -50,
           -50,
           -50,
           -50
          ]
         ],
         "z": [
          [
           0,
           0,
           0,
           0,
           0,
           0,
           0,
           0,
           0,
           0,
           0,
           0,
           0,
           0,
           0
          ],
          [
           0,
           0,
           0,
           0,
           0,
           0,
           0,
           0,
           0,
           0,
           0,
           0,
           0,
           0,
           0
          ],
          [
           0,
           0,
           0,
           0,
           0,
           0,
           0,
           0,
           0,
           0,
           0,
           0,
           0,
           0,
           0
          ],
          [
           0,
           0,
           0,
           0,
           0,
           0,
           0,
           0,
           0,
           0,
           0,
           0,
           0,
           0,
           0
          ],
          [
           1085.1005549868755,
           1179.006816064033,
           0,
           0,
           0,
           0,
           0,
           0,
           0,
           0,
           0,
           0,
           0,
           0,
           0
          ],
          [
           1148.4176423038662,
           1242.3674737343479,
           1410.1356230905094,
           1555.0671100162667,
           1698.3569473680438,
           0,
           0,
           0,
           0,
           0,
           0,
           0,
           0,
           0,
           0
          ],
          [
           0,
           1341.1067484142925,
           1516.3587239775306,
           1644.3809552078178,
           1786.686680948746,
           1958.3221143739434,
           2104.325758506286,
           2282.009577853258,
           0,
           0,
           0,
           0,
           0,
           0,
           0
          ],
          [
           0,
           1352.2132586807775,
           1543.4845126674,
           1723.883415450185,
           1895.8023509888055,
           2072.145612730518,
           2236.7702776229103,
           2416.4764703862343,
           2668.769984283651,
           2876.5851989934426,
           3111.9103520088292,
           3396.0689082803983,
           3615.998732565352,
           3878.3758441785926,
           0
          ],
          [
           0,
           0,
           0,
           1723.1397942728709,
           1926.9438074563604,
           2120.6134082496574,
           2333.8714808157374,
           2534.705275075122,
           2767.3926618393943,
           2983.570016446194,
           3224.8510931383353,
           3470.1045403198013,
           3772.7401472758847,
           4087.457297176011,
           4369.80320769515
          ],
          [
           0,
           0,
           0,
           0,
           0,
           2137.74009776122,
           2339.4210538637217,
           2553.7434483144457,
           2798.306420081278,
           3067.868914634566,
           3287.2766945960047,
           3544.893338970419,
           3840.97084779416,
           4164.8659087933875,
           4379.611274245388
          ],
          [
           0,
           0,
           0,
           0,
           0,
           2098.2852407787186,
           2293.071364013903,
           2501.192162056388,
           2804.1669822594267,
           3012.7278056024097,
           3230.470148936508,
           3493.960030994793,
           3732.6920476284813,
           4046.7987777186054,
           4508.563004820583
          ],
          [
           0,
           0,
           0,
           0,
           0,
           2005.4644447131598,
           0,
           0,
           2725.765855379016,
           2922.456909654351,
           3119.0905560407496,
           3351.5452538665036,
           3748.335882706551,
           3853.0378180900047,
           4105.546628498341
          ],
          [
           0,
           0,
           0,
           0,
           0,
           0,
           0,
           0,
           0,
           2799.766619367075,
           0,
           3243.1364510148605,
           3613.504984202583,
           3837.027972014423,
           3946.9074800154203
          ],
          [
           0,
           0,
           0,
           0,
           0,
           0,
           0,
           0,
           0,
           2543.5076891466833,
           2833.5349649484724,
           3065.157629368211,
           0,
           3586.4714443319517,
           3862.1007970865444
          ],
          [
           0,
           0,
           0,
           0,
           0,
           0,
           0,
           0,
           0,
           0,
           0,
           2740.8346518114313,
           2938.2950887547404,
           3246.579941521638,
           3549.513737331915
          ]
         ]
        }
       ],
       "layout": {
        "autosize": true,
        "margin": {
         "b": 65,
         "l": 65,
         "r": 50,
         "t": 90
        },
        "scene": {
         "camera": {
          "eye": {
           "x": 1.8,
           "y": 1.8,
           "z": 1.8
          }
         },
         "xaxis": {
          "title": {
           "text": "RPM"
          }
         },
         "yaxis": {
          "title": {
           "text": "$\\Delta \\beta$"
          }
         },
         "zaxis": {
          "title": {
           "text": "thrust [N]"
          }
         }
        },
        "template": {
         "data": {
          "bar": [
           {
            "error_x": {
             "color": "#2a3f5f"
            },
            "error_y": {
             "color": "#2a3f5f"
            },
            "marker": {
             "line": {
              "color": "#E5ECF6",
              "width": 0.5
             },
             "pattern": {
              "fillmode": "overlay",
              "size": 10,
              "solidity": 0.2
             }
            },
            "type": "bar"
           }
          ],
          "barpolar": [
           {
            "marker": {
             "line": {
              "color": "#E5ECF6",
              "width": 0.5
             },
             "pattern": {
              "fillmode": "overlay",
              "size": 10,
              "solidity": 0.2
             }
            },
            "type": "barpolar"
           }
          ],
          "carpet": [
           {
            "aaxis": {
             "endlinecolor": "#2a3f5f",
             "gridcolor": "white",
             "linecolor": "white",
             "minorgridcolor": "white",
             "startlinecolor": "#2a3f5f"
            },
            "baxis": {
             "endlinecolor": "#2a3f5f",
             "gridcolor": "white",
             "linecolor": "white",
             "minorgridcolor": "white",
             "startlinecolor": "#2a3f5f"
            },
            "type": "carpet"
           }
          ],
          "choropleth": [
           {
            "colorbar": {
             "outlinewidth": 0,
             "ticks": ""
            },
            "type": "choropleth"
           }
          ],
          "contour": [
           {
            "colorbar": {
             "outlinewidth": 0,
             "ticks": ""
            },
            "colorscale": [
             [
              0,
              "#0d0887"
             ],
             [
              0.1111111111111111,
              "#46039f"
             ],
             [
              0.2222222222222222,
              "#7201a8"
             ],
             [
              0.3333333333333333,
              "#9c179e"
             ],
             [
              0.4444444444444444,
              "#bd3786"
             ],
             [
              0.5555555555555556,
              "#d8576b"
             ],
             [
              0.6666666666666666,
              "#ed7953"
             ],
             [
              0.7777777777777778,
              "#fb9f3a"
             ],
             [
              0.8888888888888888,
              "#fdca26"
             ],
             [
              1,
              "#f0f921"
             ]
            ],
            "type": "contour"
           }
          ],
          "contourcarpet": [
           {
            "colorbar": {
             "outlinewidth": 0,
             "ticks": ""
            },
            "type": "contourcarpet"
           }
          ],
          "heatmap": [
           {
            "colorbar": {
             "outlinewidth": 0,
             "ticks": ""
            },
            "colorscale": [
             [
              0,
              "#0d0887"
             ],
             [
              0.1111111111111111,
              "#46039f"
             ],
             [
              0.2222222222222222,
              "#7201a8"
             ],
             [
              0.3333333333333333,
              "#9c179e"
             ],
             [
              0.4444444444444444,
              "#bd3786"
             ],
             [
              0.5555555555555556,
              "#d8576b"
             ],
             [
              0.6666666666666666,
              "#ed7953"
             ],
             [
              0.7777777777777778,
              "#fb9f3a"
             ],
             [
              0.8888888888888888,
              "#fdca26"
             ],
             [
              1,
              "#f0f921"
             ]
            ],
            "type": "heatmap"
           }
          ],
          "heatmapgl": [
           {
            "colorbar": {
             "outlinewidth": 0,
             "ticks": ""
            },
            "colorscale": [
             [
              0,
              "#0d0887"
             ],
             [
              0.1111111111111111,
              "#46039f"
             ],
             [
              0.2222222222222222,
              "#7201a8"
             ],
             [
              0.3333333333333333,
              "#9c179e"
             ],
             [
              0.4444444444444444,
              "#bd3786"
             ],
             [
              0.5555555555555556,
              "#d8576b"
             ],
             [
              0.6666666666666666,
              "#ed7953"
             ],
             [
              0.7777777777777778,
              "#fb9f3a"
             ],
             [
              0.8888888888888888,
              "#fdca26"
             ],
             [
              1,
              "#f0f921"
             ]
            ],
            "type": "heatmapgl"
           }
          ],
          "histogram": [
           {
            "marker": {
             "pattern": {
              "fillmode": "overlay",
              "size": 10,
              "solidity": 0.2
             }
            },
            "type": "histogram"
           }
          ],
          "histogram2d": [
           {
            "colorbar": {
             "outlinewidth": 0,
             "ticks": ""
            },
            "colorscale": [
             [
              0,
              "#0d0887"
             ],
             [
              0.1111111111111111,
              "#46039f"
             ],
             [
              0.2222222222222222,
              "#7201a8"
             ],
             [
              0.3333333333333333,
              "#9c179e"
             ],
             [
              0.4444444444444444,
              "#bd3786"
             ],
             [
              0.5555555555555556,
              "#d8576b"
             ],
             [
              0.6666666666666666,
              "#ed7953"
             ],
             [
              0.7777777777777778,
              "#fb9f3a"
             ],
             [
              0.8888888888888888,
              "#fdca26"
             ],
             [
              1,
              "#f0f921"
             ]
            ],
            "type": "histogram2d"
           }
          ],
          "histogram2dcontour": [
           {
            "colorbar": {
             "outlinewidth": 0,
             "ticks": ""
            },
            "colorscale": [
             [
              0,
              "#0d0887"
             ],
             [
              0.1111111111111111,
              "#46039f"
             ],
             [
              0.2222222222222222,
              "#7201a8"
             ],
             [
              0.3333333333333333,
              "#9c179e"
             ],
             [
              0.4444444444444444,
              "#bd3786"
             ],
             [
              0.5555555555555556,
              "#d8576b"
             ],
             [
              0.6666666666666666,
              "#ed7953"
             ],
             [
              0.7777777777777778,
              "#fb9f3a"
             ],
             [
              0.8888888888888888,
              "#fdca26"
             ],
             [
              1,
              "#f0f921"
             ]
            ],
            "type": "histogram2dcontour"
           }
          ],
          "mesh3d": [
           {
            "colorbar": {
             "outlinewidth": 0,
             "ticks": ""
            },
            "type": "mesh3d"
           }
          ],
          "parcoords": [
           {
            "line": {
             "colorbar": {
              "outlinewidth": 0,
              "ticks": ""
             }
            },
            "type": "parcoords"
           }
          ],
          "pie": [
           {
            "automargin": true,
            "type": "pie"
           }
          ],
          "scatter": [
           {
            "fillpattern": {
             "fillmode": "overlay",
             "size": 10,
             "solidity": 0.2
            },
            "type": "scatter"
           }
          ],
          "scatter3d": [
           {
            "line": {
             "colorbar": {
              "outlinewidth": 0,
              "ticks": ""
             }
            },
            "marker": {
             "colorbar": {
              "outlinewidth": 0,
              "ticks": ""
             }
            },
            "type": "scatter3d"
           }
          ],
          "scattercarpet": [
           {
            "marker": {
             "colorbar": {
              "outlinewidth": 0,
              "ticks": ""
             }
            },
            "type": "scattercarpet"
           }
          ],
          "scattergeo": [
           {
            "marker": {
             "colorbar": {
              "outlinewidth": 0,
              "ticks": ""
             }
            },
            "type": "scattergeo"
           }
          ],
          "scattergl": [
           {
            "marker": {
             "colorbar": {
              "outlinewidth": 0,
              "ticks": ""
             }
            },
            "type": "scattergl"
           }
          ],
          "scattermapbox": [
           {
            "marker": {
             "colorbar": {
              "outlinewidth": 0,
              "ticks": ""
             }
            },
            "type": "scattermapbox"
           }
          ],
          "scatterpolar": [
           {
            "marker": {
             "colorbar": {
              "outlinewidth": 0,
              "ticks": ""
             }
            },
            "type": "scatterpolar"
           }
          ],
          "scatterpolargl": [
           {
            "marker": {
             "colorbar": {
              "outlinewidth": 0,
              "ticks": ""
             }
            },
            "type": "scatterpolargl"
           }
          ],
          "scatterternary": [
           {
            "marker": {
             "colorbar": {
              "outlinewidth": 0,
              "ticks": ""
             }
            },
            "type": "scatterternary"
           }
          ],
          "surface": [
           {
            "colorbar": {
             "outlinewidth": 0,
             "ticks": ""
            },
            "colorscale": [
             [
              0,
              "#0d0887"
             ],
             [
              0.1111111111111111,
              "#46039f"
             ],
             [
              0.2222222222222222,
              "#7201a8"
             ],
             [
              0.3333333333333333,
              "#9c179e"
             ],
             [
              0.4444444444444444,
              "#bd3786"
             ],
             [
              0.5555555555555556,
              "#d8576b"
             ],
             [
              0.6666666666666666,
              "#ed7953"
             ],
             [
              0.7777777777777778,
              "#fb9f3a"
             ],
             [
              0.8888888888888888,
              "#fdca26"
             ],
             [
              1,
              "#f0f921"
             ]
            ],
            "type": "surface"
           }
          ],
          "table": [
           {
            "cells": {
             "fill": {
              "color": "#EBF0F8"
             },
             "line": {
              "color": "white"
             }
            },
            "header": {
             "fill": {
              "color": "#C8D4E3"
             },
             "line": {
              "color": "white"
             }
            },
            "type": "table"
           }
          ]
         },
         "layout": {
          "annotationdefaults": {
           "arrowcolor": "#2a3f5f",
           "arrowhead": 0,
           "arrowwidth": 1
          },
          "autotypenumbers": "strict",
          "coloraxis": {
           "colorbar": {
            "outlinewidth": 0,
            "ticks": ""
           }
          },
          "colorscale": {
           "diverging": [
            [
             0,
             "#8e0152"
            ],
            [
             0.1,
             "#c51b7d"
            ],
            [
             0.2,
             "#de77ae"
            ],
            [
             0.3,
             "#f1b6da"
            ],
            [
             0.4,
             "#fde0ef"
            ],
            [
             0.5,
             "#f7f7f7"
            ],
            [
             0.6,
             "#e6f5d0"
            ],
            [
             0.7,
             "#b8e186"
            ],
            [
             0.8,
             "#7fbc41"
            ],
            [
             0.9,
             "#4d9221"
            ],
            [
             1,
             "#276419"
            ]
           ],
           "sequential": [
            [
             0,
             "#0d0887"
            ],
            [
             0.1111111111111111,
             "#46039f"
            ],
            [
             0.2222222222222222,
             "#7201a8"
            ],
            [
             0.3333333333333333,
             "#9c179e"
            ],
            [
             0.4444444444444444,
             "#bd3786"
            ],
            [
             0.5555555555555556,
             "#d8576b"
            ],
            [
             0.6666666666666666,
             "#ed7953"
            ],
            [
             0.7777777777777778,
             "#fb9f3a"
            ],
            [
             0.8888888888888888,
             "#fdca26"
            ],
            [
             1,
             "#f0f921"
            ]
           ],
           "sequentialminus": [
            [
             0,
             "#0d0887"
            ],
            [
             0.1111111111111111,
             "#46039f"
            ],
            [
             0.2222222222222222,
             "#7201a8"
            ],
            [
             0.3333333333333333,
             "#9c179e"
            ],
            [
             0.4444444444444444,
             "#bd3786"
            ],
            [
             0.5555555555555556,
             "#d8576b"
            ],
            [
             0.6666666666666666,
             "#ed7953"
            ],
            [
             0.7777777777777778,
             "#fb9f3a"
            ],
            [
             0.8888888888888888,
             "#fdca26"
            ],
            [
             1,
             "#f0f921"
            ]
           ]
          },
          "colorway": [
           "#636efa",
           "#EF553B",
           "#00cc96",
           "#ab63fa",
           "#FFA15A",
           "#19d3f3",
           "#FF6692",
           "#B6E880",
           "#FF97FF",
           "#FECB52"
          ],
          "font": {
           "color": "#2a3f5f"
          },
          "geo": {
           "bgcolor": "white",
           "lakecolor": "white",
           "landcolor": "#E5ECF6",
           "showlakes": true,
           "showland": true,
           "subunitcolor": "white"
          },
          "hoverlabel": {
           "align": "left"
          },
          "hovermode": "closest",
          "mapbox": {
           "style": "light"
          },
          "paper_bgcolor": "white",
          "plot_bgcolor": "#E5ECF6",
          "polar": {
           "angularaxis": {
            "gridcolor": "white",
            "linecolor": "white",
            "ticks": ""
           },
           "bgcolor": "#E5ECF6",
           "radialaxis": {
            "gridcolor": "white",
            "linecolor": "white",
            "ticks": ""
           }
          },
          "scene": {
           "xaxis": {
            "backgroundcolor": "#E5ECF6",
            "gridcolor": "white",
            "gridwidth": 2,
            "linecolor": "white",
            "showbackground": true,
            "ticks": "",
            "zerolinecolor": "white"
           },
           "yaxis": {
            "backgroundcolor": "#E5ECF6",
            "gridcolor": "white",
            "gridwidth": 2,
            "linecolor": "white",
            "showbackground": true,
            "ticks": "",
            "zerolinecolor": "white"
           },
           "zaxis": {
            "backgroundcolor": "#E5ECF6",
            "gridcolor": "white",
            "gridwidth": 2,
            "linecolor": "white",
            "showbackground": true,
            "ticks": "",
            "zerolinecolor": "white"
           }
          },
          "shapedefaults": {
           "line": {
            "color": "#2a3f5f"
           }
          },
          "ternary": {
           "aaxis": {
            "gridcolor": "white",
            "linecolor": "white",
            "ticks": ""
           },
           "baxis": {
            "gridcolor": "white",
            "linecolor": "white",
            "ticks": ""
           },
           "bgcolor": "#E5ECF6",
           "caxis": {
            "gridcolor": "white",
            "linecolor": "white",
            "ticks": ""
           }
          },
          "title": {
           "x": 0.05
          },
          "xaxis": {
           "automargin": true,
           "gridcolor": "white",
           "linecolor": "white",
           "ticks": "",
           "title": {
            "standoff": 15
           },
           "zerolinecolor": "white",
           "zerolinewidth": 2
          },
          "yaxis": {
           "automargin": true,
           "gridcolor": "white",
           "linecolor": "white",
           "ticks": "",
           "title": {
            "standoff": 15
           },
           "zerolinecolor": "white",
           "zerolinewidth": 2
          }
         }
        },
        "title": {
         "text": "thrust plot 15 x 15 mesh "
        }
       }
      }
     },
     "metadata": {},
     "output_type": "display_data"
    },
    {
     "data": {
      "application/vnd.plotly.v1+json": {
       "config": {
        "plotlyServerURL": "https://plot.ly"
       },
       "data": [
        {
         "type": "surface",
         "x": [
          [
           2500,
           2659.8940868453187,
           2819.7881736906374,
           2979.682260535956,
           3139.576347381275,
           3299.4704342265936,
           3459.3645210719123,
           3619.258607917231,
           3779.15269476255,
           3939.0467816078685,
           4098.940868453187,
           4258.8349552985055,
           4418.729042143825,
           4578.623128989144,
           4738.517215834462
          ],
          [
           2500,
           2659.8940868453187,
           2819.7881736906374,
           2979.682260535956,
           3139.576347381275,
           3299.4704342265936,
           3459.3645210719123,
           3619.258607917231,
           3779.15269476255,
           3939.0467816078685,
           4098.940868453187,
           4258.8349552985055,
           4418.729042143825,
           4578.623128989144,
           4738.517215834462
          ],
          [
           2500,
           2659.8940868453187,
           2819.7881736906374,
           2979.682260535956,
           3139.576347381275,
           3299.4704342265936,
           3459.3645210719123,
           3619.258607917231,
           3779.15269476255,
           3939.0467816078685,
           4098.940868453187,
           4258.8349552985055,
           4418.729042143825,
           4578.623128989144,
           4738.517215834462
          ],
          [
           2500,
           2659.8940868453187,
           2819.7881736906374,
           2979.682260535956,
           3139.576347381275,
           3299.4704342265936,
           3459.3645210719123,
           3619.258607917231,
           3779.15269476255,
           3939.0467816078685,
           4098.940868453187,
           4258.8349552985055,
           4418.729042143825,
           4578.623128989144,
           4738.517215834462
          ],
          [
           2500,
           2659.8940868453187,
           2819.7881736906374,
           2979.682260535956,
           3139.576347381275,
           3299.4704342265936,
           3459.3645210719123,
           3619.258607917231,
           3779.15269476255,
           3939.0467816078685,
           4098.940868453187,
           4258.8349552985055,
           4418.729042143825,
           4578.623128989144,
           4738.517215834462
          ],
          [
           2500,
           2659.8940868453187,
           2819.7881736906374,
           2979.682260535956,
           3139.576347381275,
           3299.4704342265936,
           3459.3645210719123,
           3619.258607917231,
           3779.15269476255,
           3939.0467816078685,
           4098.940868453187,
           4258.8349552985055,
           4418.729042143825,
           4578.623128989144,
           4738.517215834462
          ],
          [
           2500,
           2659.8940868453187,
           2819.7881736906374,
           2979.682260535956,
           3139.576347381275,
           3299.4704342265936,
           3459.3645210719123,
           3619.258607917231,
           3779.15269476255,
           3939.0467816078685,
           4098.940868453187,
           4258.8349552985055,
           4418.729042143825,
           4578.623128989144,
           4738.517215834462
          ],
          [
           2500,
           2659.8940868453187,
           2819.7881736906374,
           2979.682260535956,
           3139.576347381275,
           3299.4704342265936,
           3459.3645210719123,
           3619.258607917231,
           3779.15269476255,
           3939.0467816078685,
           4098.940868453187,
           4258.8349552985055,
           4418.729042143825,
           4578.623128989144,
           4738.517215834462
          ],
          [
           2500,
           2659.8940868453187,
           2819.7881736906374,
           2979.682260535956,
           3139.576347381275,
           3299.4704342265936,
           3459.3645210719123,
           3619.258607917231,
           3779.15269476255,
           3939.0467816078685,
           4098.940868453187,
           4258.8349552985055,
           4418.729042143825,
           4578.623128989144,
           4738.517215834462
          ],
          [
           2500,
           2659.8940868453187,
           2819.7881736906374,
           2979.682260535956,
           3139.576347381275,
           3299.4704342265936,
           3459.3645210719123,
           3619.258607917231,
           3779.15269476255,
           3939.0467816078685,
           4098.940868453187,
           4258.8349552985055,
           4418.729042143825,
           4578.623128989144,
           4738.517215834462
          ],
          [
           2500,
           2659.8940868453187,
           2819.7881736906374,
           2979.682260535956,
           3139.576347381275,
           3299.4704342265936,
           3459.3645210719123,
           3619.258607917231,
           3779.15269476255,
           3939.0467816078685,
           4098.940868453187,
           4258.8349552985055,
           4418.729042143825,
           4578.623128989144,
           4738.517215834462
          ],
          [
           2500,
           2659.8940868453187,
           2819.7881736906374,
           2979.682260535956,
           3139.576347381275,
           3299.4704342265936,
           3459.3645210719123,
           3619.258607917231,
           3779.15269476255,
           3939.0467816078685,
           4098.940868453187,
           4258.8349552985055,
           4418.729042143825,
           4578.623128989144,
           4738.517215834462
          ],
          [
           2500,
           2659.8940868453187,
           2819.7881736906374,
           2979.682260535956,
           3139.576347381275,
           3299.4704342265936,
           3459.3645210719123,
           3619.258607917231,
           3779.15269476255,
           3939.0467816078685,
           4098.940868453187,
           4258.8349552985055,
           4418.729042143825,
           4578.623128989144,
           4738.517215834462
          ],
          [
           2500,
           2659.8940868453187,
           2819.7881736906374,
           2979.682260535956,
           3139.576347381275,
           3299.4704342265936,
           3459.3645210719123,
           3619.258607917231,
           3779.15269476255,
           3939.0467816078685,
           4098.940868453187,
           4258.8349552985055,
           4418.729042143825,
           4578.623128989144,
           4738.517215834462
          ],
          [
           2500,
           2659.8940868453187,
           2819.7881736906374,
           2979.682260535956,
           3139.576347381275,
           3299.4704342265936,
           3459.3645210719123,
           3619.258607917231,
           3779.15269476255,
           3939.0467816078685,
           4098.940868453187,
           4258.8349552985055,
           4418.729042143825,
           4578.623128989144,
           4738.517215834462
          ]
         ],
         "y": [
          [
           -20,
           -20,
           -20,
           -20,
           -20,
           -20,
           -20,
           -20,
           -20,
           -20,
           -20,
           -20,
           -20,
           -20,
           -20
          ],
          [
           -22.142857142857142,
           -22.142857142857142,
           -22.142857142857142,
           -22.142857142857142,
           -22.142857142857142,
           -22.142857142857142,
           -22.142857142857142,
           -22.142857142857142,
           -22.142857142857142,
           -22.142857142857142,
           -22.142857142857142,
           -22.142857142857142,
           -22.142857142857142,
           -22.142857142857142,
           -22.142857142857142
          ],
          [
           -24.285714285714285,
           -24.285714285714285,
           -24.285714285714285,
           -24.285714285714285,
           -24.285714285714285,
           -24.285714285714285,
           -24.285714285714285,
           -24.285714285714285,
           -24.285714285714285,
           -24.285714285714285,
           -24.285714285714285,
           -24.285714285714285,
           -24.285714285714285,
           -24.285714285714285,
           -24.285714285714285
          ],
          [
           -26.42857142857143,
           -26.42857142857143,
           -26.42857142857143,
           -26.42857142857143,
           -26.42857142857143,
           -26.42857142857143,
           -26.42857142857143,
           -26.42857142857143,
           -26.42857142857143,
           -26.42857142857143,
           -26.42857142857143,
           -26.42857142857143,
           -26.42857142857143,
           -26.42857142857143,
           -26.42857142857143
          ],
          [
           -28.57142857142857,
           -28.57142857142857,
           -28.57142857142857,
           -28.57142857142857,
           -28.57142857142857,
           -28.57142857142857,
           -28.57142857142857,
           -28.57142857142857,
           -28.57142857142857,
           -28.57142857142857,
           -28.57142857142857,
           -28.57142857142857,
           -28.57142857142857,
           -28.57142857142857,
           -28.57142857142857
          ],
          [
           -30.714285714285715,
           -30.714285714285715,
           -30.714285714285715,
           -30.714285714285715,
           -30.714285714285715,
           -30.714285714285715,
           -30.714285714285715,
           -30.714285714285715,
           -30.714285714285715,
           -30.714285714285715,
           -30.714285714285715,
           -30.714285714285715,
           -30.714285714285715,
           -30.714285714285715,
           -30.714285714285715
          ],
          [
           -32.85714285714286,
           -32.85714285714286,
           -32.85714285714286,
           -32.85714285714286,
           -32.85714285714286,
           -32.85714285714286,
           -32.85714285714286,
           -32.85714285714286,
           -32.85714285714286,
           -32.85714285714286,
           -32.85714285714286,
           -32.85714285714286,
           -32.85714285714286,
           -32.85714285714286,
           -32.85714285714286
          ],
          [
           -35,
           -35,
           -35,
           -35,
           -35,
           -35,
           -35,
           -35,
           -35,
           -35,
           -35,
           -35,
           -35,
           -35,
           -35
          ],
          [
           -37.14285714285714,
           -37.14285714285714,
           -37.14285714285714,
           -37.14285714285714,
           -37.14285714285714,
           -37.14285714285714,
           -37.14285714285714,
           -37.14285714285714,
           -37.14285714285714,
           -37.14285714285714,
           -37.14285714285714,
           -37.14285714285714,
           -37.14285714285714,
           -37.14285714285714,
           -37.14285714285714
          ],
          [
           -39.285714285714285,
           -39.285714285714285,
           -39.285714285714285,
           -39.285714285714285,
           -39.285714285714285,
           -39.285714285714285,
           -39.285714285714285,
           -39.285714285714285,
           -39.285714285714285,
           -39.285714285714285,
           -39.285714285714285,
           -39.285714285714285,
           -39.285714285714285,
           -39.285714285714285,
           -39.285714285714285
          ],
          [
           -41.42857142857143,
           -41.42857142857143,
           -41.42857142857143,
           -41.42857142857143,
           -41.42857142857143,
           -41.42857142857143,
           -41.42857142857143,
           -41.42857142857143,
           -41.42857142857143,
           -41.42857142857143,
           -41.42857142857143,
           -41.42857142857143,
           -41.42857142857143,
           -41.42857142857143,
           -41.42857142857143
          ],
          [
           -43.57142857142857,
           -43.57142857142857,
           -43.57142857142857,
           -43.57142857142857,
           -43.57142857142857,
           -43.57142857142857,
           -43.57142857142857,
           -43.57142857142857,
           -43.57142857142857,
           -43.57142857142857,
           -43.57142857142857,
           -43.57142857142857,
           -43.57142857142857,
           -43.57142857142857,
           -43.57142857142857
          ],
          [
           -45.714285714285715,
           -45.714285714285715,
           -45.714285714285715,
           -45.714285714285715,
           -45.714285714285715,
           -45.714285714285715,
           -45.714285714285715,
           -45.714285714285715,
           -45.714285714285715,
           -45.714285714285715,
           -45.714285714285715,
           -45.714285714285715,
           -45.714285714285715,
           -45.714285714285715,
           -45.714285714285715
          ],
          [
           -47.85714285714286,
           -47.85714285714286,
           -47.85714285714286,
           -47.85714285714286,
           -47.85714285714286,
           -47.85714285714286,
           -47.85714285714286,
           -47.85714285714286,
           -47.85714285714286,
           -47.85714285714286,
           -47.85714285714286,
           -47.85714285714286,
           -47.85714285714286,
           -47.85714285714286,
           -47.85714285714286
          ],
          [
           -50,
           -50,
           -50,
           -50,
           -50,
           -50,
           -50,
           -50,
           -50,
           -50,
           -50,
           -50,
           -50,
           -50,
           -50
          ]
         ],
         "z": [
          [
           0,
           0,
           0,
           0,
           0,
           0,
           0,
           0,
           0,
           0,
           0,
           0,
           0,
           0,
           0
          ],
          [
           0,
           0,
           0,
           0,
           0,
           0,
           0,
           0,
           0,
           0,
           0,
           0,
           0,
           0,
           0
          ],
          [
           0,
           0,
           0,
           0,
           0,
           0,
           0,
           0,
           0,
           0,
           0,
           0,
           0,
           0,
           0
          ],
          [
           0,
           0,
           0,
           0,
           0,
           0,
           0,
           0,
           0,
           0,
           0,
           0,
           0,
           0,
           0
          ],
          [
           37.96969956153492,
           37.29586678536778,
           0,
           0,
           0,
           0,
           0,
           0,
           0,
           0,
           0,
           0,
           0,
           0,
           0
          ],
          [
           41.82332816815651,
           37.931029547458905,
           35.305543152426026,
           37.10208929945713,
           32.29352235182478,
           0,
           0,
           0,
           0,
           0,
           0,
           0,
           0,
           0,
           0
          ],
          [
           0,
           40.22183148781859,
           39.437157949898115,
           41.10022867375675,
           36.30059549878864,
           34.825826819970594,
           32.569507015274404,
           31.85127616648758,
           0,
           0,
           0,
           0,
           0,
           0,
           0
          ],
          [
           0,
           40.9438586734174,
           41.44877703665299,
           40.46955800123125,
           39.41584676942729,
           38.984162235916415,
           37.2146368490029,
           34.85874730541082,
           36.1267365395139,
           33.69255146267008,
           34.36585005918905,
           33.567440164049934,
           35.30437841834856,
           33.349035113509835,
           0
          ],
          [
           0,
           0,
           0,
           41.18056543980561,
           41.00067706268284,
           41.177099072200356,
           41.18929391584184,
           39.21254695202999,
           37.97657117406734,
           37.17126473715396,
           36.97609505569336,
           34.14951334573668,
           38.260145065771916,
           35.55286308183907,
           35.021295398294974
          ],
          [
           0,
           0,
           0,
           0,
           0,
           41.576895089543534,
           41.56427935585009,
           38.97250016156924,
           41.06559521707086,
           40.034417764976396,
           39.55385748683703,
           38.65829812704137,
           37.31080791963442,
           37.26668996941382,
           36.724420434905994
          ],
          [
           0,
           0,
           0,
           0,
           0,
           40.39642967430914,
           44.48600472026414,
           41.54228786278475,
           41.717744390287514,
           41.637793785725705,
           36.14418325392782,
           39.857778362731864,
           39.680635871708894,
           36.92489506469213,
           36.89393092827184
          ],
          [
           0,
           0,
           0,
           0,
           0,
           46.88759203527739,
           0,
           0,
           43.71629585063821,
           38.10311743078025,
           40.27117154419981,
           37.305420997982516,
           37.47145330824596,
           36.88388440796612,
           30.156187704873233
          ],
          [
           0,
           0,
           0,
           0,
           0,
           0,
           0,
           0,
           0,
           43.790225660409135,
           0,
           40.067214904329994,
           39.674248733411716,
           41.96315241288057,
           38.72581122833713
          ],
          [
           0,
           0,
           0,
           0,
           0,
           0,
           0,
           0,
           0,
           46.04898536898309,
           46.13994795376028,
           45.49413312460705,
           0,
           41.036142696434084,
           36.65220143766256
          ],
          [
           0,
           0,
           0,
           0,
           0,
           0,
           0,
           0,
           0,
           0,
           0,
           45.618770346337634,
           46.93071418905876,
           45.523933014267065,
           45.61547572008094
          ]
         ]
        }
       ],
       "layout": {
        "autosize": true,
        "margin": {
         "b": 65,
         "l": 65,
         "r": 50,
         "t": 90
        },
        "scene": {
         "camera": {
          "eye": {
           "x": 1.8,
           "y": 1.8,
           "z": 1.8
          }
         },
         "xaxis": {
          "title": {
           "text": "RPM"
          }
         },
         "yaxis": {
          "title": {
           "text": "$\\Delta \\beta$"
          }
         },
         "zaxis": {
          "title": {
           "text": "Efficiency [N]"
          }
         }
        },
        "template": {
         "data": {
          "bar": [
           {
            "error_x": {
             "color": "#2a3f5f"
            },
            "error_y": {
             "color": "#2a3f5f"
            },
            "marker": {
             "line": {
              "color": "#E5ECF6",
              "width": 0.5
             },
             "pattern": {
              "fillmode": "overlay",
              "size": 10,
              "solidity": 0.2
             }
            },
            "type": "bar"
           }
          ],
          "barpolar": [
           {
            "marker": {
             "line": {
              "color": "#E5ECF6",
              "width": 0.5
             },
             "pattern": {
              "fillmode": "overlay",
              "size": 10,
              "solidity": 0.2
             }
            },
            "type": "barpolar"
           }
          ],
          "carpet": [
           {
            "aaxis": {
             "endlinecolor": "#2a3f5f",
             "gridcolor": "white",
             "linecolor": "white",
             "minorgridcolor": "white",
             "startlinecolor": "#2a3f5f"
            },
            "baxis": {
             "endlinecolor": "#2a3f5f",
             "gridcolor": "white",
             "linecolor": "white",
             "minorgridcolor": "white",
             "startlinecolor": "#2a3f5f"
            },
            "type": "carpet"
           }
          ],
          "choropleth": [
           {
            "colorbar": {
             "outlinewidth": 0,
             "ticks": ""
            },
            "type": "choropleth"
           }
          ],
          "contour": [
           {
            "colorbar": {
             "outlinewidth": 0,
             "ticks": ""
            },
            "colorscale": [
             [
              0,
              "#0d0887"
             ],
             [
              0.1111111111111111,
              "#46039f"
             ],
             [
              0.2222222222222222,
              "#7201a8"
             ],
             [
              0.3333333333333333,
              "#9c179e"
             ],
             [
              0.4444444444444444,
              "#bd3786"
             ],
             [
              0.5555555555555556,
              "#d8576b"
             ],
             [
              0.6666666666666666,
              "#ed7953"
             ],
             [
              0.7777777777777778,
              "#fb9f3a"
             ],
             [
              0.8888888888888888,
              "#fdca26"
             ],
             [
              1,
              "#f0f921"
             ]
            ],
            "type": "contour"
           }
          ],
          "contourcarpet": [
           {
            "colorbar": {
             "outlinewidth": 0,
             "ticks": ""
            },
            "type": "contourcarpet"
           }
          ],
          "heatmap": [
           {
            "colorbar": {
             "outlinewidth": 0,
             "ticks": ""
            },
            "colorscale": [
             [
              0,
              "#0d0887"
             ],
             [
              0.1111111111111111,
              "#46039f"
             ],
             [
              0.2222222222222222,
              "#7201a8"
             ],
             [
              0.3333333333333333,
              "#9c179e"
             ],
             [
              0.4444444444444444,
              "#bd3786"
             ],
             [
              0.5555555555555556,
              "#d8576b"
             ],
             [
              0.6666666666666666,
              "#ed7953"
             ],
             [
              0.7777777777777778,
              "#fb9f3a"
             ],
             [
              0.8888888888888888,
              "#fdca26"
             ],
             [
              1,
              "#f0f921"
             ]
            ],
            "type": "heatmap"
           }
          ],
          "heatmapgl": [
           {
            "colorbar": {
             "outlinewidth": 0,
             "ticks": ""
            },
            "colorscale": [
             [
              0,
              "#0d0887"
             ],
             [
              0.1111111111111111,
              "#46039f"
             ],
             [
              0.2222222222222222,
              "#7201a8"
             ],
             [
              0.3333333333333333,
              "#9c179e"
             ],
             [
              0.4444444444444444,
              "#bd3786"
             ],
             [
              0.5555555555555556,
              "#d8576b"
             ],
             [
              0.6666666666666666,
              "#ed7953"
             ],
             [
              0.7777777777777778,
              "#fb9f3a"
             ],
             [
              0.8888888888888888,
              "#fdca26"
             ],
             [
              1,
              "#f0f921"
             ]
            ],
            "type": "heatmapgl"
           }
          ],
          "histogram": [
           {
            "marker": {
             "pattern": {
              "fillmode": "overlay",
              "size": 10,
              "solidity": 0.2
             }
            },
            "type": "histogram"
           }
          ],
          "histogram2d": [
           {
            "colorbar": {
             "outlinewidth": 0,
             "ticks": ""
            },
            "colorscale": [
             [
              0,
              "#0d0887"
             ],
             [
              0.1111111111111111,
              "#46039f"
             ],
             [
              0.2222222222222222,
              "#7201a8"
             ],
             [
              0.3333333333333333,
              "#9c179e"
             ],
             [
              0.4444444444444444,
              "#bd3786"
             ],
             [
              0.5555555555555556,
              "#d8576b"
             ],
             [
              0.6666666666666666,
              "#ed7953"
             ],
             [
              0.7777777777777778,
              "#fb9f3a"
             ],
             [
              0.8888888888888888,
              "#fdca26"
             ],
             [
              1,
              "#f0f921"
             ]
            ],
            "type": "histogram2d"
           }
          ],
          "histogram2dcontour": [
           {
            "colorbar": {
             "outlinewidth": 0,
             "ticks": ""
            },
            "colorscale": [
             [
              0,
              "#0d0887"
             ],
             [
              0.1111111111111111,
              "#46039f"
             ],
             [
              0.2222222222222222,
              "#7201a8"
             ],
             [
              0.3333333333333333,
              "#9c179e"
             ],
             [
              0.4444444444444444,
              "#bd3786"
             ],
             [
              0.5555555555555556,
              "#d8576b"
             ],
             [
              0.6666666666666666,
              "#ed7953"
             ],
             [
              0.7777777777777778,
              "#fb9f3a"
             ],
             [
              0.8888888888888888,
              "#fdca26"
             ],
             [
              1,
              "#f0f921"
             ]
            ],
            "type": "histogram2dcontour"
           }
          ],
          "mesh3d": [
           {
            "colorbar": {
             "outlinewidth": 0,
             "ticks": ""
            },
            "type": "mesh3d"
           }
          ],
          "parcoords": [
           {
            "line": {
             "colorbar": {
              "outlinewidth": 0,
              "ticks": ""
             }
            },
            "type": "parcoords"
           }
          ],
          "pie": [
           {
            "automargin": true,
            "type": "pie"
           }
          ],
          "scatter": [
           {
            "fillpattern": {
             "fillmode": "overlay",
             "size": 10,
             "solidity": 0.2
            },
            "type": "scatter"
           }
          ],
          "scatter3d": [
           {
            "line": {
             "colorbar": {
              "outlinewidth": 0,
              "ticks": ""
             }
            },
            "marker": {
             "colorbar": {
              "outlinewidth": 0,
              "ticks": ""
             }
            },
            "type": "scatter3d"
           }
          ],
          "scattercarpet": [
           {
            "marker": {
             "colorbar": {
              "outlinewidth": 0,
              "ticks": ""
             }
            },
            "type": "scattercarpet"
           }
          ],
          "scattergeo": [
           {
            "marker": {
             "colorbar": {
              "outlinewidth": 0,
              "ticks": ""
             }
            },
            "type": "scattergeo"
           }
          ],
          "scattergl": [
           {
            "marker": {
             "colorbar": {
              "outlinewidth": 0,
              "ticks": ""
             }
            },
            "type": "scattergl"
           }
          ],
          "scattermapbox": [
           {
            "marker": {
             "colorbar": {
              "outlinewidth": 0,
              "ticks": ""
             }
            },
            "type": "scattermapbox"
           }
          ],
          "scatterpolar": [
           {
            "marker": {
             "colorbar": {
              "outlinewidth": 0,
              "ticks": ""
             }
            },
            "type": "scatterpolar"
           }
          ],
          "scatterpolargl": [
           {
            "marker": {
             "colorbar": {
              "outlinewidth": 0,
              "ticks": ""
             }
            },
            "type": "scatterpolargl"
           }
          ],
          "scatterternary": [
           {
            "marker": {
             "colorbar": {
              "outlinewidth": 0,
              "ticks": ""
             }
            },
            "type": "scatterternary"
           }
          ],
          "surface": [
           {
            "colorbar": {
             "outlinewidth": 0,
             "ticks": ""
            },
            "colorscale": [
             [
              0,
              "#0d0887"
             ],
             [
              0.1111111111111111,
              "#46039f"
             ],
             [
              0.2222222222222222,
              "#7201a8"
             ],
             [
              0.3333333333333333,
              "#9c179e"
             ],
             [
              0.4444444444444444,
              "#bd3786"
             ],
             [
              0.5555555555555556,
              "#d8576b"
             ],
             [
              0.6666666666666666,
              "#ed7953"
             ],
             [
              0.7777777777777778,
              "#fb9f3a"
             ],
             [
              0.8888888888888888,
              "#fdca26"
             ],
             [
              1,
              "#f0f921"
             ]
            ],
            "type": "surface"
           }
          ],
          "table": [
           {
            "cells": {
             "fill": {
              "color": "#EBF0F8"
             },
             "line": {
              "color": "white"
             }
            },
            "header": {
             "fill": {
              "color": "#C8D4E3"
             },
             "line": {
              "color": "white"
             }
            },
            "type": "table"
           }
          ]
         },
         "layout": {
          "annotationdefaults": {
           "arrowcolor": "#2a3f5f",
           "arrowhead": 0,
           "arrowwidth": 1
          },
          "autotypenumbers": "strict",
          "coloraxis": {
           "colorbar": {
            "outlinewidth": 0,
            "ticks": ""
           }
          },
          "colorscale": {
           "diverging": [
            [
             0,
             "#8e0152"
            ],
            [
             0.1,
             "#c51b7d"
            ],
            [
             0.2,
             "#de77ae"
            ],
            [
             0.3,
             "#f1b6da"
            ],
            [
             0.4,
             "#fde0ef"
            ],
            [
             0.5,
             "#f7f7f7"
            ],
            [
             0.6,
             "#e6f5d0"
            ],
            [
             0.7,
             "#b8e186"
            ],
            [
             0.8,
             "#7fbc41"
            ],
            [
             0.9,
             "#4d9221"
            ],
            [
             1,
             "#276419"
            ]
           ],
           "sequential": [
            [
             0,
             "#0d0887"
            ],
            [
             0.1111111111111111,
             "#46039f"
            ],
            [
             0.2222222222222222,
             "#7201a8"
            ],
            [
             0.3333333333333333,
             "#9c179e"
            ],
            [
             0.4444444444444444,
             "#bd3786"
            ],
            [
             0.5555555555555556,
             "#d8576b"
            ],
            [
             0.6666666666666666,
             "#ed7953"
            ],
            [
             0.7777777777777778,
             "#fb9f3a"
            ],
            [
             0.8888888888888888,
             "#fdca26"
            ],
            [
             1,
             "#f0f921"
            ]
           ],
           "sequentialminus": [
            [
             0,
             "#0d0887"
            ],
            [
             0.1111111111111111,
             "#46039f"
            ],
            [
             0.2222222222222222,
             "#7201a8"
            ],
            [
             0.3333333333333333,
             "#9c179e"
            ],
            [
             0.4444444444444444,
             "#bd3786"
            ],
            [
             0.5555555555555556,
             "#d8576b"
            ],
            [
             0.6666666666666666,
             "#ed7953"
            ],
            [
             0.7777777777777778,
             "#fb9f3a"
            ],
            [
             0.8888888888888888,
             "#fdca26"
            ],
            [
             1,
             "#f0f921"
            ]
           ]
          },
          "colorway": [
           "#636efa",
           "#EF553B",
           "#00cc96",
           "#ab63fa",
           "#FFA15A",
           "#19d3f3",
           "#FF6692",
           "#B6E880",
           "#FF97FF",
           "#FECB52"
          ],
          "font": {
           "color": "#2a3f5f"
          },
          "geo": {
           "bgcolor": "white",
           "lakecolor": "white",
           "landcolor": "#E5ECF6",
           "showlakes": true,
           "showland": true,
           "subunitcolor": "white"
          },
          "hoverlabel": {
           "align": "left"
          },
          "hovermode": "closest",
          "mapbox": {
           "style": "light"
          },
          "paper_bgcolor": "white",
          "plot_bgcolor": "#E5ECF6",
          "polar": {
           "angularaxis": {
            "gridcolor": "white",
            "linecolor": "white",
            "ticks": ""
           },
           "bgcolor": "#E5ECF6",
           "radialaxis": {
            "gridcolor": "white",
            "linecolor": "white",
            "ticks": ""
           }
          },
          "scene": {
           "xaxis": {
            "backgroundcolor": "#E5ECF6",
            "gridcolor": "white",
            "gridwidth": 2,
            "linecolor": "white",
            "showbackground": true,
            "ticks": "",
            "zerolinecolor": "white"
           },
           "yaxis": {
            "backgroundcolor": "#E5ECF6",
            "gridcolor": "white",
            "gridwidth": 2,
            "linecolor": "white",
            "showbackground": true,
            "ticks": "",
            "zerolinecolor": "white"
           },
           "zaxis": {
            "backgroundcolor": "#E5ECF6",
            "gridcolor": "white",
            "gridwidth": 2,
            "linecolor": "white",
            "showbackground": true,
            "ticks": "",
            "zerolinecolor": "white"
           }
          },
          "shapedefaults": {
           "line": {
            "color": "#2a3f5f"
           }
          },
          "ternary": {
           "aaxis": {
            "gridcolor": "white",
            "linecolor": "white",
            "ticks": ""
           },
           "baxis": {
            "gridcolor": "white",
            "linecolor": "white",
            "ticks": ""
           },
           "bgcolor": "#E5ECF6",
           "caxis": {
            "gridcolor": "white",
            "linecolor": "white",
            "ticks": ""
           }
          },
          "title": {
           "x": 0.05
          },
          "xaxis": {
           "automargin": true,
           "gridcolor": "white",
           "linecolor": "white",
           "ticks": "",
           "title": {
            "standoff": 15
           },
           "zerolinecolor": "white",
           "zerolinewidth": 2
          },
          "yaxis": {
           "automargin": true,
           "gridcolor": "white",
           "linecolor": "white",
           "ticks": "",
           "title": {
            "standoff": 15
           },
           "zerolinecolor": "white",
           "zerolinewidth": 2
          }
         }
        },
        "title": {
         "text": "Efficiency plot 15 x 15 mesh "
        }
       }
      }
     },
     "metadata": {},
     "output_type": "display_data"
    },
    {
     "data": {
      "application/vnd.plotly.v1+json": {
       "config": {
        "plotlyServerURL": "https://plot.ly"
       },
       "data": [
        {
         "type": "surface",
         "x": [
          [
           2500,
           2659.8940868453187,
           2819.7881736906374,
           2979.682260535956,
           3139.576347381275,
           3299.4704342265936,
           3459.3645210719123,
           3619.258607917231,
           3779.15269476255,
           3939.0467816078685,
           4098.940868453187,
           4258.8349552985055,
           4418.729042143825,
           4578.623128989144,
           4738.517215834462
          ],
          [
           2500,
           2659.8940868453187,
           2819.7881736906374,
           2979.682260535956,
           3139.576347381275,
           3299.4704342265936,
           3459.3645210719123,
           3619.258607917231,
           3779.15269476255,
           3939.0467816078685,
           4098.940868453187,
           4258.8349552985055,
           4418.729042143825,
           4578.623128989144,
           4738.517215834462
          ],
          [
           2500,
           2659.8940868453187,
           2819.7881736906374,
           2979.682260535956,
           3139.576347381275,
           3299.4704342265936,
           3459.3645210719123,
           3619.258607917231,
           3779.15269476255,
           3939.0467816078685,
           4098.940868453187,
           4258.8349552985055,
           4418.729042143825,
           4578.623128989144,
           4738.517215834462
          ],
          [
           2500,
           2659.8940868453187,
           2819.7881736906374,
           2979.682260535956,
           3139.576347381275,
           3299.4704342265936,
           3459.3645210719123,
           3619.258607917231,
           3779.15269476255,
           3939.0467816078685,
           4098.940868453187,
           4258.8349552985055,
           4418.729042143825,
           4578.623128989144,
           4738.517215834462
          ],
          [
           2500,
           2659.8940868453187,
           2819.7881736906374,
           2979.682260535956,
           3139.576347381275,
           3299.4704342265936,
           3459.3645210719123,
           3619.258607917231,
           3779.15269476255,
           3939.0467816078685,
           4098.940868453187,
           4258.8349552985055,
           4418.729042143825,
           4578.623128989144,
           4738.517215834462
          ],
          [
           2500,
           2659.8940868453187,
           2819.7881736906374,
           2979.682260535956,
           3139.576347381275,
           3299.4704342265936,
           3459.3645210719123,
           3619.258607917231,
           3779.15269476255,
           3939.0467816078685,
           4098.940868453187,
           4258.8349552985055,
           4418.729042143825,
           4578.623128989144,
           4738.517215834462
          ],
          [
           2500,
           2659.8940868453187,
           2819.7881736906374,
           2979.682260535956,
           3139.576347381275,
           3299.4704342265936,
           3459.3645210719123,
           3619.258607917231,
           3779.15269476255,
           3939.0467816078685,
           4098.940868453187,
           4258.8349552985055,
           4418.729042143825,
           4578.623128989144,
           4738.517215834462
          ],
          [
           2500,
           2659.8940868453187,
           2819.7881736906374,
           2979.682260535956,
           3139.576347381275,
           3299.4704342265936,
           3459.3645210719123,
           3619.258607917231,
           3779.15269476255,
           3939.0467816078685,
           4098.940868453187,
           4258.8349552985055,
           4418.729042143825,
           4578.623128989144,
           4738.517215834462
          ],
          [
           2500,
           2659.8940868453187,
           2819.7881736906374,
           2979.682260535956,
           3139.576347381275,
           3299.4704342265936,
           3459.3645210719123,
           3619.258607917231,
           3779.15269476255,
           3939.0467816078685,
           4098.940868453187,
           4258.8349552985055,
           4418.729042143825,
           4578.623128989144,
           4738.517215834462
          ],
          [
           2500,
           2659.8940868453187,
           2819.7881736906374,
           2979.682260535956,
           3139.576347381275,
           3299.4704342265936,
           3459.3645210719123,
           3619.258607917231,
           3779.15269476255,
           3939.0467816078685,
           4098.940868453187,
           4258.8349552985055,
           4418.729042143825,
           4578.623128989144,
           4738.517215834462
          ],
          [
           2500,
           2659.8940868453187,
           2819.7881736906374,
           2979.682260535956,
           3139.576347381275,
           3299.4704342265936,
           3459.3645210719123,
           3619.258607917231,
           3779.15269476255,
           3939.0467816078685,
           4098.940868453187,
           4258.8349552985055,
           4418.729042143825,
           4578.623128989144,
           4738.517215834462
          ],
          [
           2500,
           2659.8940868453187,
           2819.7881736906374,
           2979.682260535956,
           3139.576347381275,
           3299.4704342265936,
           3459.3645210719123,
           3619.258607917231,
           3779.15269476255,
           3939.0467816078685,
           4098.940868453187,
           4258.8349552985055,
           4418.729042143825,
           4578.623128989144,
           4738.517215834462
          ],
          [
           2500,
           2659.8940868453187,
           2819.7881736906374,
           2979.682260535956,
           3139.576347381275,
           3299.4704342265936,
           3459.3645210719123,
           3619.258607917231,
           3779.15269476255,
           3939.0467816078685,
           4098.940868453187,
           4258.8349552985055,
           4418.729042143825,
           4578.623128989144,
           4738.517215834462
          ],
          [
           2500,
           2659.8940868453187,
           2819.7881736906374,
           2979.682260535956,
           3139.576347381275,
           3299.4704342265936,
           3459.3645210719123,
           3619.258607917231,
           3779.15269476255,
           3939.0467816078685,
           4098.940868453187,
           4258.8349552985055,
           4418.729042143825,
           4578.623128989144,
           4738.517215834462
          ],
          [
           2500,
           2659.8940868453187,
           2819.7881736906374,
           2979.682260535956,
           3139.576347381275,
           3299.4704342265936,
           3459.3645210719123,
           3619.258607917231,
           3779.15269476255,
           3939.0467816078685,
           4098.940868453187,
           4258.8349552985055,
           4418.729042143825,
           4578.623128989144,
           4738.517215834462
          ]
         ],
         "y": [
          [
           -20,
           -20,
           -20,
           -20,
           -20,
           -20,
           -20,
           -20,
           -20,
           -20,
           -20,
           -20,
           -20,
           -20,
           -20
          ],
          [
           -22.142857142857142,
           -22.142857142857142,
           -22.142857142857142,
           -22.142857142857142,
           -22.142857142857142,
           -22.142857142857142,
           -22.142857142857142,
           -22.142857142857142,
           -22.142857142857142,
           -22.142857142857142,
           -22.142857142857142,
           -22.142857142857142,
           -22.142857142857142,
           -22.142857142857142,
           -22.142857142857142
          ],
          [
           -24.285714285714285,
           -24.285714285714285,
           -24.285714285714285,
           -24.285714285714285,
           -24.285714285714285,
           -24.285714285714285,
           -24.285714285714285,
           -24.285714285714285,
           -24.285714285714285,
           -24.285714285714285,
           -24.285714285714285,
           -24.285714285714285,
           -24.285714285714285,
           -24.285714285714285,
           -24.285714285714285
          ],
          [
           -26.42857142857143,
           -26.42857142857143,
           -26.42857142857143,
           -26.42857142857143,
           -26.42857142857143,
           -26.42857142857143,
           -26.42857142857143,
           -26.42857142857143,
           -26.42857142857143,
           -26.42857142857143,
           -26.42857142857143,
           -26.42857142857143,
           -26.42857142857143,
           -26.42857142857143,
           -26.42857142857143
          ],
          [
           -28.57142857142857,
           -28.57142857142857,
           -28.57142857142857,
           -28.57142857142857,
           -28.57142857142857,
           -28.57142857142857,
           -28.57142857142857,
           -28.57142857142857,
           -28.57142857142857,
           -28.57142857142857,
           -28.57142857142857,
           -28.57142857142857,
           -28.57142857142857,
           -28.57142857142857,
           -28.57142857142857
          ],
          [
           -30.714285714285715,
           -30.714285714285715,
           -30.714285714285715,
           -30.714285714285715,
           -30.714285714285715,
           -30.714285714285715,
           -30.714285714285715,
           -30.714285714285715,
           -30.714285714285715,
           -30.714285714285715,
           -30.714285714285715,
           -30.714285714285715,
           -30.714285714285715,
           -30.714285714285715,
           -30.714285714285715
          ],
          [
           -32.85714285714286,
           -32.85714285714286,
           -32.85714285714286,
           -32.85714285714286,
           -32.85714285714286,
           -32.85714285714286,
           -32.85714285714286,
           -32.85714285714286,
           -32.85714285714286,
           -32.85714285714286,
           -32.85714285714286,
           -32.85714285714286,
           -32.85714285714286,
           -32.85714285714286,
           -32.85714285714286
          ],
          [
           -35,
           -35,
           -35,
           -35,
           -35,
           -35,
           -35,
           -35,
           -35,
           -35,
           -35,
           -35,
           -35,
           -35,
           -35
          ],
          [
           -37.14285714285714,
           -37.14285714285714,
           -37.14285714285714,
           -37.14285714285714,
           -37.14285714285714,
           -37.14285714285714,
           -37.14285714285714,
           -37.14285714285714,
           -37.14285714285714,
           -37.14285714285714,
           -37.14285714285714,
           -37.14285714285714,
           -37.14285714285714,
           -37.14285714285714,
           -37.14285714285714
          ],
          [
           -39.285714285714285,
           -39.285714285714285,
           -39.285714285714285,
           -39.285714285714285,
           -39.285714285714285,
           -39.285714285714285,
           -39.285714285714285,
           -39.285714285714285,
           -39.285714285714285,
           -39.285714285714285,
           -39.285714285714285,
           -39.285714285714285,
           -39.285714285714285,
           -39.285714285714285,
           -39.285714285714285
          ],
          [
           -41.42857142857143,
           -41.42857142857143,
           -41.42857142857143,
           -41.42857142857143,
           -41.42857142857143,
           -41.42857142857143,
           -41.42857142857143,
           -41.42857142857143,
           -41.42857142857143,
           -41.42857142857143,
           -41.42857142857143,
           -41.42857142857143,
           -41.42857142857143,
           -41.42857142857143,
           -41.42857142857143
          ],
          [
           -43.57142857142857,
           -43.57142857142857,
           -43.57142857142857,
           -43.57142857142857,
           -43.57142857142857,
           -43.57142857142857,
           -43.57142857142857,
           -43.57142857142857,
           -43.57142857142857,
           -43.57142857142857,
           -43.57142857142857,
           -43.57142857142857,
           -43.57142857142857,
           -43.57142857142857,
           -43.57142857142857
          ],
          [
           -45.714285714285715,
           -45.714285714285715,
           -45.714285714285715,
           -45.714285714285715,
           -45.714285714285715,
           -45.714285714285715,
           -45.714285714285715,
           -45.714285714285715,
           -45.714285714285715,
           -45.714285714285715,
           -45.714285714285715,
           -45.714285714285715,
           -45.714285714285715,
           -45.714285714285715,
           -45.714285714285715
          ],
          [
           -47.85714285714286,
           -47.85714285714286,
           -47.85714285714286,
           -47.85714285714286,
           -47.85714285714286,
           -47.85714285714286,
           -47.85714285714286,
           -47.85714285714286,
           -47.85714285714286,
           -47.85714285714286,
           -47.85714285714286,
           -47.85714285714286,
           -47.85714285714286,
           -47.85714285714286,
           -47.85714285714286
          ],
          [
           -50,
           -50,
           -50,
           -50,
           -50,
           -50,
           -50,
           -50,
           -50,
           -50,
           -50,
           -50,
           -50,
           -50,
           -50
          ]
         ],
         "z": [
          [
           0,
           0,
           0,
           0,
           0,
           0,
           0,
           0,
           0,
           0,
           0,
           0,
           0,
           0,
           0
          ],
          [
           0,
           0,
           0,
           0,
           0,
           0,
           0,
           0,
           0,
           0,
           0,
           0,
           0,
           0,
           0
          ],
          [
           0,
           0,
           0,
           0,
           0,
           0,
           0,
           0,
           0,
           0,
           0,
           0,
           0,
           0,
           0
          ],
          [
           0,
           0,
           0,
           0,
           0,
           0,
           0,
           0,
           0,
           0,
           0,
           0,
           0,
           0,
           0
          ],
          [
           194.59881320329393,
           178.72691841971,
           0,
           0,
           0,
           0,
           0,
           0,
           0,
           0,
           0,
           0,
           0,
           0,
           0
          ],
          [
           186.97718990971106,
           185.1781744733468,
           189.53783734794905,
           168.56534430199895,
           180.81222790815855,
           0,
           0,
           0,
           0,
           0,
           0,
           0,
           0,
           0,
           0
          ],
          [
           0,
           188.51063754355738,
           182.46277626452633,
           160.90729067050358,
           169.21890994025503,
           166.56254856491915,
           166.05050233884612,
           160.79004833405992,
           0,
           0,
           0,
           0,
           0,
           0,
           0
          ],
          [
           0,
           186.71997346043847,
           176.71299572423948,
           171.3156162017642,
           165.36227529385994,
           157.44422304490442,
           154.4706610938646,
           155.57483000943384,
           145.6218291346715,
           148.6268637321631,
           139.89829297252976,
           139.35200729511638,
           126.30919712911535,
           128.91080349215565,
           0
          ],
          [
           0,
           0,
           0,
           168.28512471909121,
           161.58173400802403,
           152.54585833435578,
           145.62334322146074,
           145.0677774837247,
           143.64784122980464,
           139.7278151991279,
           134.74139837806652,
           139.96292115672452,
           121.60335462558167,
           127.43870313996179,
           124.77560175880579
          ],
          [
           0,
           0,
           0,
           0,
           0,
           152.29916243240177,
           144.65270069397593,
           147.05762184535564,
           134.3263506789053,
           133.40043770924964,
           128.39846897166245,
           126.30350422294164,
           126.95260952925183,
           123.88048535785249,
           119.2561032245082
          ],
          [
           0,
           0,
           0,
           0,
           0,
           153.8566273340106,
           132.47458714329468,
           135.12172745246704,
           132.5034303941086,
           125.95811660131008,
           138.08285110724745,
           120.74239978021366,
           116.0055621810089,
           121.48286777018905,
           122.20337847940371
          ],
          [
           0,
           0,
           0,
           0,
           0,
           126.69273225196439,
           0,
           0,
           122.91057769664309,
           133.51854149215316,
           119.65921477302494,
           123.74512562890006,
           123.35968102188976,
           115.79486867219595,
           136.1427601087284
          ],
          [
           0,
           0,
           0,
           0,
           0,
           0,
           0,
           0,
           0,
           111.30088574465957,
           0,
           111.48874445272855,
           112.31951536559305,
           101.35602125966702,
           101.91929761634842
          ],
          [
           0,
           0,
           0,
           0,
           0,
           0,
           0,
           0,
           0,
           96.15391281438104,
           94.87764681431274,
           92.8009405749357,
           0,
           96.87763788469951,
           105.3715914896719
          ],
          [
           0,
           0,
           0,
           0,
           0,
           0,
           0,
           0,
           0,
           0,
           0,
           82.75499565707686,
           77.20999431134591,
           79.05130077990735,
           77.81380510231838
          ]
         ]
        }
       ],
       "layout": {
        "autosize": true,
        "margin": {
         "b": 65,
         "l": 65,
         "r": 50,
         "t": 90
        },
        "scene": {
         "camera": {
          "eye": {
           "x": 1.8,
           "y": 1.8,
           "z": 1.8
          }
         },
         "xaxis": {
          "title": {
           "text": "RPM"
          }
         },
         "yaxis": {
          "title": {
           "text": "$\\Delta \\beta$"
          }
         },
         "zaxis": {
          "title": {
           "text": "Power [N]"
          }
         }
        },
        "template": {
         "data": {
          "bar": [
           {
            "error_x": {
             "color": "#2a3f5f"
            },
            "error_y": {
             "color": "#2a3f5f"
            },
            "marker": {
             "line": {
              "color": "#E5ECF6",
              "width": 0.5
             },
             "pattern": {
              "fillmode": "overlay",
              "size": 10,
              "solidity": 0.2
             }
            },
            "type": "bar"
           }
          ],
          "barpolar": [
           {
            "marker": {
             "line": {
              "color": "#E5ECF6",
              "width": 0.5
             },
             "pattern": {
              "fillmode": "overlay",
              "size": 10,
              "solidity": 0.2
             }
            },
            "type": "barpolar"
           }
          ],
          "carpet": [
           {
            "aaxis": {
             "endlinecolor": "#2a3f5f",
             "gridcolor": "white",
             "linecolor": "white",
             "minorgridcolor": "white",
             "startlinecolor": "#2a3f5f"
            },
            "baxis": {
             "endlinecolor": "#2a3f5f",
             "gridcolor": "white",
             "linecolor": "white",
             "minorgridcolor": "white",
             "startlinecolor": "#2a3f5f"
            },
            "type": "carpet"
           }
          ],
          "choropleth": [
           {
            "colorbar": {
             "outlinewidth": 0,
             "ticks": ""
            },
            "type": "choropleth"
           }
          ],
          "contour": [
           {
            "colorbar": {
             "outlinewidth": 0,
             "ticks": ""
            },
            "colorscale": [
             [
              0,
              "#0d0887"
             ],
             [
              0.1111111111111111,
              "#46039f"
             ],
             [
              0.2222222222222222,
              "#7201a8"
             ],
             [
              0.3333333333333333,
              "#9c179e"
             ],
             [
              0.4444444444444444,
              "#bd3786"
             ],
             [
              0.5555555555555556,
              "#d8576b"
             ],
             [
              0.6666666666666666,
              "#ed7953"
             ],
             [
              0.7777777777777778,
              "#fb9f3a"
             ],
             [
              0.8888888888888888,
              "#fdca26"
             ],
             [
              1,
              "#f0f921"
             ]
            ],
            "type": "contour"
           }
          ],
          "contourcarpet": [
           {
            "colorbar": {
             "outlinewidth": 0,
             "ticks": ""
            },
            "type": "contourcarpet"
           }
          ],
          "heatmap": [
           {
            "colorbar": {
             "outlinewidth": 0,
             "ticks": ""
            },
            "colorscale": [
             [
              0,
              "#0d0887"
             ],
             [
              0.1111111111111111,
              "#46039f"
             ],
             [
              0.2222222222222222,
              "#7201a8"
             ],
             [
              0.3333333333333333,
              "#9c179e"
             ],
             [
              0.4444444444444444,
              "#bd3786"
             ],
             [
              0.5555555555555556,
              "#d8576b"
             ],
             [
              0.6666666666666666,
              "#ed7953"
             ],
             [
              0.7777777777777778,
              "#fb9f3a"
             ],
             [
              0.8888888888888888,
              "#fdca26"
             ],
             [
              1,
              "#f0f921"
             ]
            ],
            "type": "heatmap"
           }
          ],
          "heatmapgl": [
           {
            "colorbar": {
             "outlinewidth": 0,
             "ticks": ""
            },
            "colorscale": [
             [
              0,
              "#0d0887"
             ],
             [
              0.1111111111111111,
              "#46039f"
             ],
             [
              0.2222222222222222,
              "#7201a8"
             ],
             [
              0.3333333333333333,
              "#9c179e"
             ],
             [
              0.4444444444444444,
              "#bd3786"
             ],
             [
              0.5555555555555556,
              "#d8576b"
             ],
             [
              0.6666666666666666,
              "#ed7953"
             ],
             [
              0.7777777777777778,
              "#fb9f3a"
             ],
             [
              0.8888888888888888,
              "#fdca26"
             ],
             [
              1,
              "#f0f921"
             ]
            ],
            "type": "heatmapgl"
           }
          ],
          "histogram": [
           {
            "marker": {
             "pattern": {
              "fillmode": "overlay",
              "size": 10,
              "solidity": 0.2
             }
            },
            "type": "histogram"
           }
          ],
          "histogram2d": [
           {
            "colorbar": {
             "outlinewidth": 0,
             "ticks": ""
            },
            "colorscale": [
             [
              0,
              "#0d0887"
             ],
             [
              0.1111111111111111,
              "#46039f"
             ],
             [
              0.2222222222222222,
              "#7201a8"
             ],
             [
              0.3333333333333333,
              "#9c179e"
             ],
             [
              0.4444444444444444,
              "#bd3786"
             ],
             [
              0.5555555555555556,
              "#d8576b"
             ],
             [
              0.6666666666666666,
              "#ed7953"
             ],
             [
              0.7777777777777778,
              "#fb9f3a"
             ],
             [
              0.8888888888888888,
              "#fdca26"
             ],
             [
              1,
              "#f0f921"
             ]
            ],
            "type": "histogram2d"
           }
          ],
          "histogram2dcontour": [
           {
            "colorbar": {
             "outlinewidth": 0,
             "ticks": ""
            },
            "colorscale": [
             [
              0,
              "#0d0887"
             ],
             [
              0.1111111111111111,
              "#46039f"
             ],
             [
              0.2222222222222222,
              "#7201a8"
             ],
             [
              0.3333333333333333,
              "#9c179e"
             ],
             [
              0.4444444444444444,
              "#bd3786"
             ],
             [
              0.5555555555555556,
              "#d8576b"
             ],
             [
              0.6666666666666666,
              "#ed7953"
             ],
             [
              0.7777777777777778,
              "#fb9f3a"
             ],
             [
              0.8888888888888888,
              "#fdca26"
             ],
             [
              1,
              "#f0f921"
             ]
            ],
            "type": "histogram2dcontour"
           }
          ],
          "mesh3d": [
           {
            "colorbar": {
             "outlinewidth": 0,
             "ticks": ""
            },
            "type": "mesh3d"
           }
          ],
          "parcoords": [
           {
            "line": {
             "colorbar": {
              "outlinewidth": 0,
              "ticks": ""
             }
            },
            "type": "parcoords"
           }
          ],
          "pie": [
           {
            "automargin": true,
            "type": "pie"
           }
          ],
          "scatter": [
           {
            "fillpattern": {
             "fillmode": "overlay",
             "size": 10,
             "solidity": 0.2
            },
            "type": "scatter"
           }
          ],
          "scatter3d": [
           {
            "line": {
             "colorbar": {
              "outlinewidth": 0,
              "ticks": ""
             }
            },
            "marker": {
             "colorbar": {
              "outlinewidth": 0,
              "ticks": ""
             }
            },
            "type": "scatter3d"
           }
          ],
          "scattercarpet": [
           {
            "marker": {
             "colorbar": {
              "outlinewidth": 0,
              "ticks": ""
             }
            },
            "type": "scattercarpet"
           }
          ],
          "scattergeo": [
           {
            "marker": {
             "colorbar": {
              "outlinewidth": 0,
              "ticks": ""
             }
            },
            "type": "scattergeo"
           }
          ],
          "scattergl": [
           {
            "marker": {
             "colorbar": {
              "outlinewidth": 0,
              "ticks": ""
             }
            },
            "type": "scattergl"
           }
          ],
          "scattermapbox": [
           {
            "marker": {
             "colorbar": {
              "outlinewidth": 0,
              "ticks": ""
             }
            },
            "type": "scattermapbox"
           }
          ],
          "scatterpolar": [
           {
            "marker": {
             "colorbar": {
              "outlinewidth": 0,
              "ticks": ""
             }
            },
            "type": "scatterpolar"
           }
          ],
          "scatterpolargl": [
           {
            "marker": {
             "colorbar": {
              "outlinewidth": 0,
              "ticks": ""
             }
            },
            "type": "scatterpolargl"
           }
          ],
          "scatterternary": [
           {
            "marker": {
             "colorbar": {
              "outlinewidth": 0,
              "ticks": ""
             }
            },
            "type": "scatterternary"
           }
          ],
          "surface": [
           {
            "colorbar": {
             "outlinewidth": 0,
             "ticks": ""
            },
            "colorscale": [
             [
              0,
              "#0d0887"
             ],
             [
              0.1111111111111111,
              "#46039f"
             ],
             [
              0.2222222222222222,
              "#7201a8"
             ],
             [
              0.3333333333333333,
              "#9c179e"
             ],
             [
              0.4444444444444444,
              "#bd3786"
             ],
             [
              0.5555555555555556,
              "#d8576b"
             ],
             [
              0.6666666666666666,
              "#ed7953"
             ],
             [
              0.7777777777777778,
              "#fb9f3a"
             ],
             [
              0.8888888888888888,
              "#fdca26"
             ],
             [
              1,
              "#f0f921"
             ]
            ],
            "type": "surface"
           }
          ],
          "table": [
           {
            "cells": {
             "fill": {
              "color": "#EBF0F8"
             },
             "line": {
              "color": "white"
             }
            },
            "header": {
             "fill": {
              "color": "#C8D4E3"
             },
             "line": {
              "color": "white"
             }
            },
            "type": "table"
           }
          ]
         },
         "layout": {
          "annotationdefaults": {
           "arrowcolor": "#2a3f5f",
           "arrowhead": 0,
           "arrowwidth": 1
          },
          "autotypenumbers": "strict",
          "coloraxis": {
           "colorbar": {
            "outlinewidth": 0,
            "ticks": ""
           }
          },
          "colorscale": {
           "diverging": [
            [
             0,
             "#8e0152"
            ],
            [
             0.1,
             "#c51b7d"
            ],
            [
             0.2,
             "#de77ae"
            ],
            [
             0.3,
             "#f1b6da"
            ],
            [
             0.4,
             "#fde0ef"
            ],
            [
             0.5,
             "#f7f7f7"
            ],
            [
             0.6,
             "#e6f5d0"
            ],
            [
             0.7,
             "#b8e186"
            ],
            [
             0.8,
             "#7fbc41"
            ],
            [
             0.9,
             "#4d9221"
            ],
            [
             1,
             "#276419"
            ]
           ],
           "sequential": [
            [
             0,
             "#0d0887"
            ],
            [
             0.1111111111111111,
             "#46039f"
            ],
            [
             0.2222222222222222,
             "#7201a8"
            ],
            [
             0.3333333333333333,
             "#9c179e"
            ],
            [
             0.4444444444444444,
             "#bd3786"
            ],
            [
             0.5555555555555556,
             "#d8576b"
            ],
            [
             0.6666666666666666,
             "#ed7953"
            ],
            [
             0.7777777777777778,
             "#fb9f3a"
            ],
            [
             0.8888888888888888,
             "#fdca26"
            ],
            [
             1,
             "#f0f921"
            ]
           ],
           "sequentialminus": [
            [
             0,
             "#0d0887"
            ],
            [
             0.1111111111111111,
             "#46039f"
            ],
            [
             0.2222222222222222,
             "#7201a8"
            ],
            [
             0.3333333333333333,
             "#9c179e"
            ],
            [
             0.4444444444444444,
             "#bd3786"
            ],
            [
             0.5555555555555556,
             "#d8576b"
            ],
            [
             0.6666666666666666,
             "#ed7953"
            ],
            [
             0.7777777777777778,
             "#fb9f3a"
            ],
            [
             0.8888888888888888,
             "#fdca26"
            ],
            [
             1,
             "#f0f921"
            ]
           ]
          },
          "colorway": [
           "#636efa",
           "#EF553B",
           "#00cc96",
           "#ab63fa",
           "#FFA15A",
           "#19d3f3",
           "#FF6692",
           "#B6E880",
           "#FF97FF",
           "#FECB52"
          ],
          "font": {
           "color": "#2a3f5f"
          },
          "geo": {
           "bgcolor": "white",
           "lakecolor": "white",
           "landcolor": "#E5ECF6",
           "showlakes": true,
           "showland": true,
           "subunitcolor": "white"
          },
          "hoverlabel": {
           "align": "left"
          },
          "hovermode": "closest",
          "mapbox": {
           "style": "light"
          },
          "paper_bgcolor": "white",
          "plot_bgcolor": "#E5ECF6",
          "polar": {
           "angularaxis": {
            "gridcolor": "white",
            "linecolor": "white",
            "ticks": ""
           },
           "bgcolor": "#E5ECF6",
           "radialaxis": {
            "gridcolor": "white",
            "linecolor": "white",
            "ticks": ""
           }
          },
          "scene": {
           "xaxis": {
            "backgroundcolor": "#E5ECF6",
            "gridcolor": "white",
            "gridwidth": 2,
            "linecolor": "white",
            "showbackground": true,
            "ticks": "",
            "zerolinecolor": "white"
           },
           "yaxis": {
            "backgroundcolor": "#E5ECF6",
            "gridcolor": "white",
            "gridwidth": 2,
            "linecolor": "white",
            "showbackground": true,
            "ticks": "",
            "zerolinecolor": "white"
           },
           "zaxis": {
            "backgroundcolor": "#E5ECF6",
            "gridcolor": "white",
            "gridwidth": 2,
            "linecolor": "white",
            "showbackground": true,
            "ticks": "",
            "zerolinecolor": "white"
           }
          },
          "shapedefaults": {
           "line": {
            "color": "#2a3f5f"
           }
          },
          "ternary": {
           "aaxis": {
            "gridcolor": "white",
            "linecolor": "white",
            "ticks": ""
           },
           "baxis": {
            "gridcolor": "white",
            "linecolor": "white",
            "ticks": ""
           },
           "bgcolor": "#E5ECF6",
           "caxis": {
            "gridcolor": "white",
            "linecolor": "white",
            "ticks": ""
           }
          },
          "title": {
           "x": 0.05
          },
          "xaxis": {
           "automargin": true,
           "gridcolor": "white",
           "linecolor": "white",
           "ticks": "",
           "title": {
            "standoff": 15
           },
           "zerolinecolor": "white",
           "zerolinewidth": 2
          },
          "yaxis": {
           "automargin": true,
           "gridcolor": "white",
           "linecolor": "white",
           "ticks": "",
           "title": {
            "standoff": 15
           },
           "zerolinecolor": "white",
           "zerolinewidth": 2
          }
         }
        },
        "title": {
         "text": "Power plot 15 x 15 mesh "
        }
       }
      }
     },
     "metadata": {},
     "output_type": "display_data"
    }
   ],
   "source": [
    "import plotly.graph_objects as go\n",
    "\n",
    "n = 15 # Mesh size\n",
    "\n",
    "pitch_arr  = np.linspace(-20, -50, n)\n",
    "rpm_arr = np.linspace(2500,rpm_hvr, n)\n",
    "X,Y = np.meshgrid(rpm_arr,pitch_arr)\n",
    "Z_thrust = np.zeros(X.shape)\n",
    "Z_eff = np.zeros(X.shape)\n",
    "Z_power = np.zeros(X.shape)\n",
    "\n",
    "for col, rpm in enumerate(rpm_arr):\n",
    "    hover_cond = prop.OffDesignAnalysisBEM(data_path, prop_class, v_hvr, rpm, rho, dyn_vis, a_snd)\n",
    "\n",
    "    for row, dpitch in enumerate(np.radians(pitch_arr)):\n",
    "        try:\n",
    "            res = hover_cond.analyse_propeller(dpitch, abs_extrapolation=7)\n",
    "        except ValueError:\n",
    "            print(f\"pitch {np.radians(dpitch)} results in AoA outside of the dataset and the additional extrapolation range\")\n",
    "            continue\n",
    "        except RuntimeError as error:\n",
    "            print(error)\n",
    "            continue\n",
    "\n",
    "        power_req = res[\"power_coeff\"]*rho*(rpm_hvr/60)**3*32*prop_class.r_prop**5/1e3\n",
    "\n",
    "        Z_thrust[row,col] = res[\"thrust\"]\n",
    "        Z_eff[row,col] = res[\"eff\"]*100\n",
    "        Z_power[row,col] =  power_req\n",
    "\n",
    "\n",
    "for type, data in zip([\"thrust\", \"Efficiency\", \"Power\"],[Z_thrust, Z_eff, Z_power]):\n",
    "    # Create the figure\n",
    "    fig = go.Figure(data=[go.Surface(z=data, x=X, y=Y)])\n",
    "    fig.update_layout(\n",
    "        scene=dict(\n",
    "            xaxis_title='RPM',\n",
    "            yaxis_title=r'$\\Delta \\beta$',\n",
    "            zaxis_title=f'{type} [N]'))\n",
    "\n",
    "    fig.update_layout(\n",
    "        scene_camera=dict(\n",
    "            eye=dict(x=1.8, y=1.8, z=1.8)))\n",
    "\n",
    "    fig.update_layout(title=f'{type} plot {n} x {n} mesh ', autosize=True,\n",
    "                    margin=dict(l=65, r=50, b=65, t=90))\n",
    "\n",
    "    # Show the plot\n",
    "    fig.show()\n"
   ]
  },
  {
   "cell_type": "markdown",
   "metadata": {},
   "source": [
    "# Iteration of the rotor design.\n",
    "\n",
    "So what happens if the maximum thrust we find is not sufficient? Remember when a thrust or power value was specified for which the rotor would be optimized? We can increase this value  to increase the maximum thrust value, this however does come a cost that the blade is less efficient at the cruise setting. With the updated geometry we can then perform the offdesign analysis again to find the newly acquired maximum thrust. This process is then repeated until the engineer is  sufficiently happy with the margin on the maximum thrust and the design thrust of the propeller.\n",
    "\n",
    "The opportunity is given below to go through this process yourself with the code cell below where all of the relevant code has been appended. The mesh spacing has been increased to decrease computation time, however if nearing to your final design you can decrease the mesh spacing again. The design point is described in the first few lines of code. Sometimes the results are odd with the majority failing or having no solution at all. In this case it is advised to increase the radius of your propeller or change the amount of blades."
   ]
  },
  {
   "cell_type": "code",
   "execution_count": 17,
   "metadata": {},
   "outputs": [
    {
     "data": {
      "application/vnd.plotly.v1+json": {
       "config": {
        "plotlyServerURL": "https://plot.ly"
       },
       "data": [
        {
         "line": {
          "color": "black"
         },
         "mode": "lines",
         "showlegend": false,
         "type": "scatter3d",
         "x": [
          0.001813367838362709,
          0.0024469968659118517,
          0.003024680252078889,
          0.00401221010026665,
          0.00478714651120241,
          0.005366273177300804,
          0.005721617277870777,
          0.005830800556359489,
          0.005576337165864517,
          0.005264484854056084,
          0.004807173874654179,
          0.004182025971105958,
          0.003338690066167528,
          0.002816319959210524,
          0.002182058569489309,
          0.001374365691483569,
          0.0008138714566108051,
          -0.0005802128348553242,
          -0.0013512248648766601,
          -0.00161313155832084,
          -0.0018572167382986749,
          -0.001939059558268405,
          -0.0019481730444413986,
          -0.001843319605746755,
          -0.0016489531408407428,
          -0.0013986410345526261,
          -0.0011483289282645092,
          -0.0006588938439646961,
          -0.0002030261444941465,
          0.00025284155497640344,
          0.0006807364337559007,
          0.0010582802352915035,
          0.0013854729595832117,
          0.0015350829113835397,
          0.0016679091707692362
         ],
         "y": [
          -0.04195621392983753,
          -0.039127832452784034,
          -0.036301771827069965,
          -0.030656613129660074,
          -0.025020273667339984,
          -0.01939205718470787,
          -0.013773124107433444,
          -0.008164402776052472,
          -0.002570766978377733,
          0.00021839211103954402,
          0.0030015169869743253,
          0.005777679308890845,
          0.00854479031058362,
          0.009924168279019048,
          0.011298904544775636,
          0.012666446171380016,
          0.013343718600931826,
          0.01398641034552626,
          0.013253901654096222,
          0.012542512709854918,
          0.01113133907806942,
          0.009726895915168237,
          0.008325469859008307,
          0.005527723619635171,
          0.002733690742405108,
          -0.00005802128348553242,
          -0.002849733309376173,
          -0.008433621531425342,
          -0.014018902264278158,
          -0.019604182997130976,
          -0.025190624155653506,
          -0.030779154080381517,
          -0.036369772771315007,
          -0.0391656623296166,
          -0.04196224814332003
         ],
         "z": [
          0.05664,
          0.05664,
          0.05664,
          0.05664,
          0.05664,
          0.05664,
          0.05664,
          0.05664,
          0.05664,
          0.05664,
          0.05664,
          0.05664,
          0.05664,
          0.05664,
          0.05664,
          0.05664,
          0.05664,
          0.05664,
          0.05664,
          0.05664,
          0.05664,
          0.05664,
          0.05664,
          0.05664,
          0.05664,
          0.05664,
          0.05664,
          0.05664,
          0.05664,
          0.05664,
          0.05664,
          0.05664,
          0.05664,
          0.05664,
          0.05664
         ]
        },
        {
         "line": {
          "color": "black"
         },
         "mode": "lines",
         "showlegend": false,
         "type": "scatter3d",
         "x": [
          0.003791100590225867,
          0.004498990585749358,
          0.005135652452142458,
          0.006195291797537484,
          0.006984264252237019,
          0.007523938254980185,
          0.007778699741201784,
          0.00772005745924966,
          0.007198432337949988,
          0.00670256695116986,
          0.006021508428650713,
          0.005126765518740391,
          0.003954232905221543,
          0.003239755966027412,
          0.002382822768572499,
          0.0013050823708133715,
          0.0005667734103687113,
          -0.001232834674118786,
          -0.002189755186977448,
          -0.0024984997247495455,
          -0.002759848154641782,
          -0.002814635010055883,
          -0.0027768252976004743,
          -0.0025445039886027956,
          -0.00219821767299649,
          -0.0017807032282597928,
          -0.0013631887835230953,
          -0.000542405519875779,
          0.00023564086629330192,
          0.0010136872524623831,
          0.001756119574066268,
          0.0024344465794528015,
          0.0030486682686219815,
          0.003337972080923974,
          0.0036059074544868485
         ],
         "y": [
          -0.05341468610748836,
          -0.04978719971243601,
          -0.04616464465608013,
          -0.03893432855945781,
          -0.03172275154988207,
          -0.02452843422574402,
          -0.017353842256391864,
          -0.010200948177304195,
          -0.0030801077997436106,
          0.000464038971338311,
          0.0039953642618093975,
          0.00751189553619106,
          0.011009194589656468,
          0.012748967706735516,
          0.014478878146421617,
          0.01619350143614864,
          0.017037005332662024,
          0.017807032282597928,
          0.016846162525108437,
          0.01593016794975687,
          0.014122835492536111,
          0.01232980391753513,
          0.010543183082839566,
          0.0069807903585806875,
          0.0034262877762361657,
          -0.0001232834674118786,
          -0.003672854711059923,
          -0.010772983466095312,
          -0.01787607102434858,
          -0.024979158582601847,
          -0.03208471181020335,
          -0.0391947032426317,
          -0.046309132879886854,
          -0.04986758053318855,
          -0.0534275075880992
         ],
         "z": [
          0.07392,
          0.07392,
          0.07392,
          0.07392,
          0.07392,
          0.07392,
          0.07392,
          0.07392,
          0.07392,
          0.07392,
          0.07392,
          0.07392,
          0.07392,
          0.07392,
          0.07392,
          0.07392,
          0.07392,
          0.07392,
          0.07392,
          0.07392,
          0.07392,
          0.07392,
          0.07392,
          0.07392,
          0.07392,
          0.07392,
          0.07392,
          0.07392,
          0.07392,
          0.07392,
          0.07392,
          0.07392,
          0.07392,
          0.07392,
          0.07392
         ]
        },
        {
         "line": {
          "color": "black"
         },
         "mode": "lines",
         "showlegend": false,
         "type": "scatter3d",
         "x": [
          0.006425575862281516,
          0.00714848461198108,
          0.007786029016115765,
          0.0088050247876905,
          0.009499636046118693,
          0.009895472095069812,
          0.009949850761761416,
          0.009628626307967554,
          0.008752533608001978,
          0.008032784917655092,
          0.007091088928839519,
          0.005893299903329311,
          0.004362589930116076,
          0.0034435791214926757,
          0.0023538396217395196,
          0.000999470650735238,
          0.00008326599765143706,
          -0.002104867404349058,
          -0.003220334175709371,
          -0.0035589854024292884,
          -0.0038094661280447277,
          -0.0038123902515220186,
          -0.003704340725764967,
          -0.003300440114008131,
          -0.00275995654934749,
          -0.0021341086391219693,
          -0.0015082607288964486,
          -0.0002736377775583829,
          0.0009097665664407552,
          0.0020931709104398933,
          0.0032338930816565915,
          0.0042977873418649,
          0.005284853691064818,
          0.005757045779273556,
          0.0062036285638128325
         ],
         "y": [
          -0.06401231386315645,
          -0.05963127569203941,
          -0.055258656990539765,
          -0.04653867799639265,
          -0.037850692986791626,
          -0.029192176120851513,
          -0.020567337133380978,
          -0.011979543812226986,
          -0.0034464770435860656,
          0.0007922720909969855,
          0.005009130604574806,
          0.00920073070930044,
          0.013359494882518226,
          0.015423721923815806,
          0.017471110025878596,
          0.019492397772127454,
          0.020479467130323177,
          0.02134108639121969,
          0.020153633656129943,
          0.019042798094558496,
          0.016863224319502587,
          0.014708067006337127,
          0.012563855003674284,
          0.008293953831506867,
          0.004037523810727281,
          -0.0002104867404349058,
          -0.0044584972915970925,
          -0.01295620228784495,
          -0.021458958965863237,
          -0.029961715643881528,
          -0.03846868205670851,
          -0.04698322599219117,
          -0.05550534745032947,
          -0.05976851304680297,
          -0.0640342044841617
         ],
         "z": [
          0.0912,
          0.0912,
          0.0912,
          0.0912,
          0.0912,
          0.0912,
          0.0912,
          0.0912,
          0.0912,
          0.0912,
          0.0912,
          0.0912,
          0.0912,
          0.0912,
          0.0912,
          0.0912,
          0.0912,
          0.0912,
          0.0912,
          0.0912,
          0.0912,
          0.0912,
          0.0912,
          0.0912,
          0.0912,
          0.0912,
          0.0912,
          0.0912,
          0.0912,
          0.0912,
          0.0912,
          0.0912,
          0.0912,
          0.0912,
          0.0912
         ]
        },
        {
         "line": {
          "color": "black"
         },
         "mode": "lines",
         "showlegend": false,
         "type": "scatter3d",
         "x": [
          0.009423162424306856,
          0.01011994934237645,
          0.010718491247122514,
          0.011620840016644034,
          0.012149857735536129,
          0.01233501790779586,
          0.012127198026761456,
          0.011487100087103507,
          0.010208409560842593,
          0.009244855753744475,
          0.008025864912005172,
          0.006512139030295268,
          0.004615257596623587,
          0.003489975855805385,
          0.002168204088340118,
          0.0005418727795718967,
          -0.000546378912118106,
          -0.003098481302328754,
          -0.004348460927738842,
          -0.0047044109319047765,
          -0.00492508587361898,
          -0.004860850276694938,
          -0.004668896162450302,
          -0.004068848904649258,
          -0.003311609625530561,
          -0.0024561253330883303,
          -0.0016006410406460996,
          0.00009067854157365513,
          0.0017230511157992894,
          0.003355423690024924,
          0.0049386737575887905,
          0.00643350331316148,
          0.00783991235674299,
          0.008518555625202859,
          0.00916772538966567
         ],
         "y": [
          -0.07366764788987779,
          -0.06858931862589632,
          -0.06352338328712416,
          -0.05342869438520777,
          -0.04338110239908676,
          -0.03337688915119838,
          -0.02342225160414725,
          -0.013522147328017112,
          -0.003702603565747514,
          0.0011662683621965432,
          0.006002916084596382,
          0.010802382031368275,
          0.015553511669823841,
          0.017906767423674856,
          0.02023523532710724,
          0.02252528206239075,
          0.023635602439446422,
          0.0245612533308833,
          0.02315595753384593,
          0.02186344645621333,
          0.019340393926994697,
          0.01685328378088308,
          0.014382285737543573,
          0.009467556286325049,
          0.004572657115441428,
          -0.0003098481302328754,
          -0.005192353375907179,
          -0.014959842652297654,
          -0.024734768283813713,
          -0.03450969391532977,
          -0.04429081650945048,
          -0.0540830936362596,
          -0.06388652529575709,
          -0.06879133960680815,
          -0.073699872095422
         ],
         "z": [
          0.10848,
          0.10848,
          0.10848,
          0.10848,
          0.10848,
          0.10848,
          0.10848,
          0.10848,
          0.10848,
          0.10848,
          0.10848,
          0.10848,
          0.10848,
          0.10848,
          0.10848,
          0.10848,
          0.10848,
          0.10848,
          0.10848,
          0.10848,
          0.10848,
          0.10848,
          0.10848,
          0.10848,
          0.10848,
          0.10848,
          0.10848,
          0.10848,
          0.10848,
          0.10848,
          0.10848,
          0.10848,
          0.10848,
          0.10848,
          0.10848
         ]
        },
        {
         "line": {
          "color": "black"
         },
         "mode": "lines",
         "showlegend": false,
         "type": "scatter3d",
         "x": [
          0.012782478224751113,
          0.013410563996419492,
          0.013928893145251609,
          0.014636281574407035,
          0.014926594836784646,
          0.014832759919235324,
          0.014299898510340933,
          0.013284107960966967,
          0.011554899363157265,
          0.010328098208892732,
          0.008815929835253904,
          0.006974491593106277,
          0.0047050025218972075,
          0.003372696065187392,
          0.001820876362805042,
          -0.00007118887036973573,
          -0.001324540030898672,
          -0.004213264871687989,
          -0.005572121334662208,
          -0.005932192529826397,
          -0.006103551805973441,
          -0.00595661687589531,
          -0.005666998336130031,
          -0.004846296686359688,
          -0.0038499844400513156,
          -0.002743915570906677,
          -0.0016378467017620388,
          0.000552339711959986,
          0.0026766721519802493,
          0.004801004592000512,
          0.006870458720602643,
          0.008841131888652133,
          0.010713024096148983,
          0.01162153104418834,
          0.012497111005376819
         ],
         "y": [
          -0.08229555814986754,
          -0.07658189601093171,
          -0.07088508693148263,
          -0.059542027951044726,
          -0.048263010596656476,
          -0.03704297895047187,
          -0.025890359542234266,
          -0.014811893595738373,
          -0.0038429725359063614,
          0.0015858728977033588,
          0.006970900376647524,
          0.012305368677131437,
          0.017574110045617014,
          0.020178145222783654,
          0.022748474280976785,
          0.025266558854760986,
          0.026478412575090177,
          0.02743915570906677,
          0.025826199172952875,
          0.02436660547816843,
          0.02153168338603329,
          0.018745635166409737,
          0.015981495924118953,
          0.01049029417040825,
          0.005026057311876349,
          -0.00042132648716879887,
          -0.005868710286213947,
          -0.016766848496201598,
          -0.0276750985418813,
          -0.038583348587560996,
          -0.04950002516298407,
          -0.060431869491945234,
          -0.07137888157444447,
          -0.07685660088056576,
          -0.08233937610453308
         ],
         "z": [
          0.12576,
          0.12576,
          0.12576,
          0.12576,
          0.12576,
          0.12576,
          0.12576,
          0.12576,
          0.12576,
          0.12576,
          0.12576,
          0.12576,
          0.12576,
          0.12576,
          0.12576,
          0.12576,
          0.12576,
          0.12576,
          0.12576,
          0.12576,
          0.12576,
          0.12576,
          0.12576,
          0.12576,
          0.12576,
          0.12576,
          0.12576,
          0.12576,
          0.12576,
          0.12576,
          0.12576,
          0.12576,
          0.12576,
          0.12576,
          0.12576
         ]
        },
        {
         "line": {
          "color": "black"
         },
         "mode": "lines",
         "showlegend": false,
         "type": "scatter3d",
         "x": [
          0.01656092945115472,
          0.01707231299095766,
          0.01746391559873787,
          0.017887778018230084,
          0.017856472896035914,
          0.017405934511762183,
          0.016476272399397515,
          0.015019574186132832,
          0.012784299914720383,
          0.01127138570333914,
          0.009447041068698795,
          0.007263353637990249,
          0.004612520572393046,
          0.0030714983619535277,
          0.0012909142874685418,
          -0.0008609906762869135,
          -0.002272329767828293,
          -0.0054684047465083895,
          -0.0069078518371080465,
          -0.007257292446300837,
          -0.007357269004572754,
          -0.007109880859978747,
          -0.0067067775037551874,
          -0.0056370527408580555,
          -0.004375678486724552,
          -0.002994523300568316,
          -0.0016133681144120799,
          0.0011249860714958471,
          0.0037914716981901327,
          0.006457957324884418,
          0.009064552485567338,
          0.0115633448074298,
          0.013954334290471802,
          0.015119883798987117,
          0.016249499027895617
         ],
         "y": [
          -0.08980726331236763,
          -0.08352511021681816,
          -0.07726483074025471,
          -0.06480989264408592,
          -0.05243807430006404,
          -0.04014281362249329,
          -0.027935047420866676,
          -0.01582352514277861,
          -0.003854181388099755,
          0.0020583075465857577,
          0.007913925071907583,
          0.013703921740271312,
          0.019408611294589505,
          0.022221583557573747,
          0.024990808582585917,
          0.027692225388741384,
          0.02898168765865822,
          0.02994523300568316,
          0.02813517860389872,
          0.02652417413488719,
          0.023411533291794292,
          0.020362325943760893,
          0.017341554300409335,
          0.011348132975475498,
          0.005389709440919311,
          -0.000546840474650839,
          -0.006483390390220989,
          -0.0183608649451585,
          -0.03025146367148763,
          -0.04214206239781676,
          -0.0540435979336389,
          -0.06596481972654848,
          -0.07790572777654549,
          -0.0838816502062905,
          -0.08986413472173133
         ],
         "z": [
          0.14304,
          0.14304,
          0.14304,
          0.14304,
          0.14304,
          0.14304,
          0.14304,
          0.14304,
          0.14304,
          0.14304,
          0.14304,
          0.14304,
          0.14304,
          0.14304,
          0.14304,
          0.14304,
          0.14304,
          0.14304,
          0.14304,
          0.14304,
          0.14304,
          0.14304,
          0.14304,
          0.14304,
          0.14304,
          0.14304,
          0.14304,
          0.14304,
          0.14304,
          0.14304,
          0.14304,
          0.14304,
          0.14304,
          0.14304,
          0.14304
         ]
        },
        {
         "line": {
          "color": "black"
         },
         "mode": "lines",
         "showlegend": false,
         "type": "scatter3d",
         "x": [
          0.020355757685492856,
          0.02072953098400569,
          0.020974968359813703,
          0.021080835343315268,
          0.020699025820538508,
          0.019868040568294873,
          0.018523711625231955,
          0.01661470462226782,
          0.013871514121722347,
          0.012076410326523698,
          0.009947633132292515,
          0.007433848169946866,
          0.004419553109052415,
          0.0026814009177365114,
          0.0006865768810109642,
          -0.00170608851609953,
          -0.0032617617982282753,
          -0.0067296403286588626,
          -0.008228362006904865,
          -0.008559226788536996,
          -0.008579276738277145,
          -0.008227152512173312,
          -0.00770819158655321,
          -0.006387930705362402,
          -0.00486233234784388,
          -0.0032083980676205362,
          -0.0015544637873971924,
          0.0017277375885085323,
          0.004932937410791362,
          0.008138137233074192,
          0.011279169094004612,
          0.014304698624500695,
          0.017214725824562436,
          0.0186376554439171,
          0.02002208428646032
         ],
         "y": [
          -0.09621694789890706,
          -0.08943944304204986,
          -0.08268885674650733,
          -0.06926843983936613,
          -0.05595031346522053,
          -0.042726402055676176,
          -0.029610164891390362,
          -0.016612369396888944,
          -0.003789544550932651,
          0.002533036619707196,
          0.00878562953092899,
          0.014957466758206882,
          0.02102432159635769,
          0.024009295605066754,
          0.026940432491146547,
          0.029788121837150967,
          0.031136594538472197,
          0.03208398067620536,
          0.030094846215595807,
          0.028350670662949433,
          0.024996912364229868,
          0.02172121789332274,
          0.018480517552124643,
          0.012058337704620644,
          0.005679227555220059,
          -0.0006729640328658863,
          -0.0070251556209518316,
          -0.019734922509386656,
          -0.03246084053461026,
          -0.04518675855983385,
          -0.057926135865714774,
          -0.07068973987677889,
          -0.08347757059302614,
          -0.08987821559147842,
          -0.09628693615832512
         ],
         "z": [
          0.16032,
          0.16032,
          0.16032,
          0.16032,
          0.16032,
          0.16032,
          0.16032,
          0.16032,
          0.16032,
          0.16032,
          0.16032,
          0.16032,
          0.16032,
          0.16032,
          0.16032,
          0.16032,
          0.16032,
          0.16032,
          0.16032,
          0.16032,
          0.16032,
          0.16032,
          0.16032,
          0.16032,
          0.16032,
          0.16032,
          0.16032,
          0.16032,
          0.16032,
          0.16032,
          0.16032,
          0.16032,
          0.16032,
          0.16032,
          0.16032
         ]
        },
        {
         "line": {
          "color": "black"
         },
         "mode": "lines",
         "showlegend": false,
         "type": "scatter3d",
         "x": [
          0.024387816205512877,
          0.0245868240157319,
          0.024650523208260375,
          0.024371995740245667,
          0.02357929552500687,
          0.022313015147851153,
          0.020505500299933237,
          0.018102627534176904,
          0.014820248753431995,
          0.012732540924680727,
          0.010293030689934028,
          0.007447594602115682,
          0.004074454905304193,
          0.0021443295450554577,
          -0.0000564130505743771,
          -0.0026766123610449154,
          -0.004365576145813722,
          -0.008070638334171721,
          -0.009602019650437995,
          -0.009902092545720269,
          -0.009825695247832065,
          -0.009356902958641266,
          -0.008712209466452753,
          -0.00712514352315652,
          -0.005321583791555406,
          -0.0033827154422637427,
          -0.001443847092972079,
          0.0024068278820731388,
          0.006176317686504025,
          0.009945807490934912,
          0.013647642986520521,
          0.017227700726184642,
          0.020685980709927266,
          0.02238129354737594,
          0.024036013799517447
         ],
         "y": [
          -0.10143949594857457,
          -0.09424147884933548,
          -0.0870757443034331,
          -0.07284112287163835,
          -0.058729175142522995,
          -0.044730216350086074,
          -0.0308603877709959,
          -0.01713260242658714,
          -0.0036146536788668427,
          0.003037788268982236,
          0.009606295578155928,
          0.016077955227319567,
          0.022423712918470118,
          0.025538483168039357,
          0.02858868831093523,
          0.03153881753848737,
          0.03292349100292071,
          0.03382715442263742,
          0.03167415618879093,
          0.029814929190308287,
          0.026257887960026437,
          0.022794466134420974,
          0.01937301162815321,
          0.012601124232958389,
          0.005880888923102262,
          -0.0008070638334171722,
          -0.007495016589936607,
          -0.02087737861364282,
          -0.03427911016935104,
          -0.04768084172505926,
          -0.06109871455743582,
          -0.07454564168781543,
          -0.08802162311619802,
          -0.09476768446872347,
          -0.10152343058724997
         ],
         "z": [
          0.1776,
          0.1776,
          0.1776,
          0.1776,
          0.1776,
          0.1776,
          0.1776,
          0.1776,
          0.1776,
          0.1776,
          0.1776,
          0.1776,
          0.1776,
          0.1776,
          0.1776,
          0.1776,
          0.1776,
          0.1776,
          0.1776,
          0.1776,
          0.1776,
          0.1776,
          0.1776,
          0.1776,
          0.1776,
          0.1776,
          0.1776,
          0.1776,
          0.1776,
          0.1776,
          0.1776,
          0.1776,
          0.1776,
          0.1776,
          0.1776
         ]
        },
        {
         "line": {
          "color": "black"
         },
         "mode": "lines",
         "showlegend": false,
         "type": "scatter3d",
         "x": [
          0.02855222366502747,
          0.02854390814561723,
          0.028395071168600104,
          0.02767583284174518,
          0.02642261297598407,
          0.024677568008598848,
          0.02237043721078606,
          0.019445011999502958,
          0.015606197313775064,
          0.013223069160808381,
          0.01047458521806378,
          0.007304536902498513,
          0.003586454902266372,
          0.0014744752784578976,
          -0.0009185472605643561,
          -0.0037471863181679716,
          -0.0055549659282690695,
          -0.009456515256712837,
          -0.010993146337655725,
          -0.011251032154375916,
          -0.01106419649978184,
          -0.01046984861812778,
          -0.009692822841584766,
          -0.007829624081763575,
          -0.005741590989771362,
          -0.0035130364401722586,
          -0.0012844818905731548,
          0.0031445229171036776,
          0.007489214850216372,
          0.011833906783329068,
          0.01610833798763832,
          0.020256299880101372,
          0.024277792460718216,
          0.02625340838662492,
          0.028186867875249554
         ],
         "y": [
          -0.10534191932583285,
          -0.09780897722772852,
          -0.09031386119065105,
          -0.07543710729957666,
          -0.060704092440404284,
          -0.046103468794825915,
          -0.031654149393354945,
          -0.017371264660402123,
          -0.0033342493241238238,
          0.0035594323426267117,
          0.010354766250707434,
          0.017036621975707607,
          0.02357095606270305,
          0.026770036196352445,
          0.02989346420794814,
          0.032899631430360586,
          0.03429680207069163,
          0.03513036440172258,
          0.03283293350895248,
          0.030879719771526724,
          0.027162422601809472,
          0.02355482100907008,
          0.0199963932956656,
          0.012962755203115716,
          0.005989638808208788,
          -0.0009456515256712837,
          -0.007880941859551356,
          -0.021759087739516878,
          -0.0356599292560985,
          -0.04956077077268013,
          -0.06348052531977517,
          -0.07743432332179441,
          -0.0914221647787378,
          -0.0984255420224662,
          -0.10544026708450267
         ],
         "z": [
          0.19488,
          0.19488,
          0.19488,
          0.19488,
          0.19488,
          0.19488,
          0.19488,
          0.19488,
          0.19488,
          0.19488,
          0.19488,
          0.19488,
          0.19488,
          0.19488,
          0.19488,
          0.19488,
          0.19488,
          0.19488,
          0.19488,
          0.19488,
          0.19488,
          0.19488,
          0.19488,
          0.19488,
          0.19488,
          0.19488,
          0.19488,
          0.19488,
          0.19488,
          0.19488,
          0.19488,
          0.19488,
          0.19488,
          0.19488,
          0.19488
         ]
        },
        {
         "line": {
          "color": "black"
         },
         "mode": "lines",
         "showlegend": false,
         "type": "scatter3d",
         "x": [
          0.03244231459159995,
          0.03222691515590447,
          0.03186711965962487,
          0.030714340485313303,
          0.029012856280782075,
          0.02680598586420642,
          0.02402153120529428,
          0.020601733879812012,
          0.01624336216053295,
          0.013587669300965818,
          0.01055654668387997,
          0.007092235885041762,
          0.0030647804499254784,
          0.0007911398233159169,
          -0.0017712929244618853,
          -0.004781353460050465,
          -0.006690692697480294,
          -0.010751533237613532,
          -0.01227882024208579,
          -0.012492103095242544,
          -0.012196688498635446,
          -0.011482525326334397,
          -0.01058064727527399,
          -0.008459219839868106,
          -0.0061067587075276306,
          -0.003609901514603034,
          -0.0011130443216784362,
          0.0038517908520539364,
          0.008729988389435834,
          0.01360818592681773,
          0.01841418543390757,
          0.023090228486471697,
          0.027636315084510112,
          0.029873259368383292,
          0.03206688483408124
         ],
         "y": [
          -0.10824113746525542,
          -0.10044505225451326,
          -0.09269197317672156,
          -0.07731483341998954,
          -0.06210111696846922,
          -0.0470379219822755,
          -0.032146751527883606,
          -0.0174448080584737,
          -0.003022404453241743,
          0.004046877110637733,
          0.011004342728846029,
          0.017832789948202966,
          0.024493513249053127,
          0.02774646386016739,
          0.03091340220538075,
          0.0339470215384477,
          0.0353434140327199,
          0.03609901514603034,
          0.03367907668753733,
          0.031650494038893445,
          0.027808359406357962,
          0.02409094255937879,
          0.020429433685235213,
          0.013201029429439057,
          0.006041434986363623,
          -0.0010751533237613531,
          -0.00819174163388633,
          -0.02243351948072638,
          -0.036701101007336694,
          -0.05096868253394701,
          -0.06525776712703255,
          -0.07958555723977351,
          -0.09395205287216987,
          -0.10114605222160566,
          -0.10835295341092659
         ],
         "z": [
          0.21216,
          0.21216,
          0.21216,
          0.21216,
          0.21216,
          0.21216,
          0.21216,
          0.21216,
          0.21216,
          0.21216,
          0.21216,
          0.21216,
          0.21216,
          0.21216,
          0.21216,
          0.21216,
          0.21216,
          0.21216,
          0.21216,
          0.21216,
          0.21216,
          0.21216,
          0.21216,
          0.21216,
          0.21216,
          0.21216,
          0.21216,
          0.21216,
          0.21216,
          0.21216,
          0.21216,
          0.21216,
          0.21216,
          0.21216,
          0.21216
         ]
        },
        {
         "line": {
          "color": "black"
         },
         "mode": "lines",
         "showlegend": false,
         "type": "scatter3d",
         "x": [
          0.03592822819002883,
          0.03551368594576625,
          0.03495228213686656,
          0.033388889825155796,
          0.03126742356782396,
          0.02863194183426218,
          0.025409013842151912,
          0.0215398949656383,
          0.016716175918983372,
          0.013819673232353398,
          0.010541330477666902,
          0.006822403029069032,
          0.0025307154783863767,
          0.00012052088669822769,
          -0.0025833968342641716,
          -0.005742585405601659,
          -0.007733392072254345,
          -0.011912436052000189,
          -0.013416934623711057,
          -0.013584992957224096,
          -0.013186801801064548,
          -0.01236271210745734,
          -0.01134770237982187,
          -0.008994587482349256,
          -0.006406494081457244,
          -0.0036715391159281075,
          -0.0009365841503989718,
          0.004503953467731877,
          0.00985637414708045,
          0.015208794826429022,
          0.02048778472345903,
          0.025634599212315635,
          0.030649238292998822,
          0.03311984244218113,
          0.035546388121972305
         ],
         "y": [
          -0.11008422881037282,
          -0.10210264400612941,
          -0.09416870894609398,
          -0.07844378805864714,
          -0.06289993619919068,
          -0.047522858444462246,
          -0.03233637966656581,
          -0.017359559763184575,
          -0.0026924631971553398,
          0.0044838409299728715,
          0.011536255722160282,
          0.01844572128172369,
          0.025169352838875895,
          0.0284453990778776,
          0.0316261458284633,
          0.0346591783720042,
          0.03604227535999224,
          0.036715391159281074,
          0.03419823025914261,
          0.03211468203129696,
          0.028185834296645642,
          0.024395170820197536,
          0.020666452011219826,
          0.013313843830522008,
          0.006037475240556993,
          -0.001191243605200019,
          -0.008419962450957032,
          -0.022886930091312662,
          -0.03738248757819308,
          -0.05187804506507352,
          -0.06639742742405794,
          -0.08095969455282959,
          -0.09556484645138841,
          -0.10287933483671982,
          -0.11020811814531363
         ],
         "z": [
          0.22944,
          0.22944,
          0.22944,
          0.22944,
          0.22944,
          0.22944,
          0.22944,
          0.22944,
          0.22944,
          0.22944,
          0.22944,
          0.22944,
          0.22944,
          0.22944,
          0.22944,
          0.22944,
          0.22944,
          0.22944,
          0.22944,
          0.22944,
          0.22944,
          0.22944,
          0.22944,
          0.22944,
          0.22944,
          0.22944,
          0.22944,
          0.22944,
          0.22944,
          0.22944,
          0.22944,
          0.22944,
          0.22944,
          0.22944,
          0.22944
         ]
        },
        {
         "line": {
          "color": "black"
         },
         "mode": "lines",
         "showlegend": false,
         "type": "scatter3d",
         "x": [
          0.039115571315501294,
          0.03850249604092212,
          0.037741524363985986,
          0.03577589180304282,
          0.03324825291314318,
          0.03020297661499418,
          0.026566114707417328,
          0.02227850862946984,
          0.017029575936202086,
          0.013917051461790233,
          0.010419996341250274,
          0.006479252013639426,
          0.001961711716836423,
          -0.0005632719558076125,
          -0.003384048433165575,
          -0.006663303757830123,
          -0.008717041346761894,
          -0.012974435330812415,
          -0.014440632117976367,
          -0.014560971643691956,
          -0.014062168683338315,
          -0.01313446615614948,
          -0.012014498305896595,
          -0.009449190520205505,
          -0.006647248490743274,
          -0.003697410058924079,
          -0.0007475716271048843,
          0.005122525956062113,
          0.010903885697814931,
          0.016685245439567748,
          0.022392656980142082,
          0.02796696175859516,
          0.03340815977492696,
          0.03609178468250362,
          0.03873104066937319
         ],
         "y": [
          -0.11085483470400213,
          -0.10276458485242243,
          -0.09472623274216599,
          -0.07880522174562284,
          -0.06308142216610801,
          -0.047539264681224574,
          -0.03220469816163415,
          -0.017098481703866006,
          -0.002329600564698989,
          0.004883577458517793,
          0.011961821354294126,
          0.018884372026100715,
          0.025604521506746622,
          0.02887118031268773,
          0.03203404363598234,
          0.035036023961174875,
          0.03639170044806604,
          0.03697410058924079,
          0.03438325785885628,
          0.03226468457451334,
          0.028287026712443715,
          0.02445987230021151,
          0.02070018495169953,
          0.013294985285586727,
          0.005972822005591115,
          -0.0012974435330812416,
          -0.0085677090717536,
          -0.02311861969736297,
          -0.03770066896776628,
          -0.052282718238169594,
          -0.06689071637923454,
          -0.08154542248749042,
          -0.0962468365629372,
          -0.1036105180359914,
          -0.11098976883144258
         ],
         "z": [
          0.24672,
          0.24672,
          0.24672,
          0.24672,
          0.24672,
          0.24672,
          0.24672,
          0.24672,
          0.24672,
          0.24672,
          0.24672,
          0.24672,
          0.24672,
          0.24672,
          0.24672,
          0.24672,
          0.24672,
          0.24672,
          0.24672,
          0.24672,
          0.24672,
          0.24672,
          0.24672,
          0.24672,
          0.24672,
          0.24672,
          0.24672,
          0.24672,
          0.24672,
          0.24672,
          0.24672,
          0.24672,
          0.24672,
          0.24672,
          0.24672
         ]
        },
        {
         "line": {
          "color": "black"
         },
         "mode": "lines",
         "showlegend": false,
         "type": "scatter3d",
         "x": [
          0.04212585521666485,
          0.0413061474388805,
          0.040338984206079356,
          0.03796229137542664,
          0.035025267815710075,
          0.03157215016343468,
          0.02752921069109207,
          0.02283746721667552,
          0.017187263284649732,
          0.013875558317081378,
          0.010180469166469332,
          0.006043013650806871,
          0.00133048186057887,
          -0.0012912038535653793,
          -0.004207800477743243,
          -0.007581509012473201,
          -0.009681238553885235,
          -0.013978054375047667,
          -0.015387764663035599,
          -0.015455630310370602,
          -0.014854084329956586,
          -0.013824917529993831,
          -0.012604058638509233,
          -0.00983793885450306,
          -0.006835890342469998,
          -0.0036863863754201327,
          -0.0005368824083702667,
          0.005732634434726105,
          0.011913678004812392,
          0.01809472157489868,
          0.024202037417476566,
          0.030176643350539326,
          0.036018539374086965,
          0.03890262352210658,
          0.04174247103362116
         ],
         "y": [
          -0.11051890537985373,
          -0.1023969089145109,
          -0.09433082466666827,
          -0.07836639282348361,
          -0.06261442740679962,
          -0.047058154751366335,
          -0.0317255309659338,
          -0.016638920937502112,
          -0.001915740322821654,
          0.0052613396667679415,
          0.012293047890857042,
          0.019157019462445576,
          0.02580293338578336,
          0.02902524835595191,
          0.03213573889112008,
          0.035072901552037655,
          0.036384928673495916,
          0.03686386375420132,
          0.034221125856238536,
          0.03208718913752747,
          0.028098876787606315,
          0.024272709868435702,
          0.02051922883201534,
          0.013135273637675039,
          0.005840777991335039,
          -0.0013978054375047668,
          -0.008636388866344573,
          -0.02312473816752423,
          -0.03764663479920399,
          -0.052168531430883756,
          -0.06671838417131362,
          -0.08131855790749366,
          -0.09596905263942386,
          -0.10330827805976402,
          -0.11066427714535423
         ],
         "z": [
          0.264,
          0.264,
          0.264,
          0.264,
          0.264,
          0.264,
          0.264,
          0.264,
          0.264,
          0.264,
          0.264,
          0.264,
          0.264,
          0.264,
          0.264,
          0.264,
          0.264,
          0.264,
          0.264,
          0.264,
          0.264,
          0.264,
          0.264,
          0.264,
          0.264,
          0.264,
          0.264,
          0.264,
          0.264,
          0.264,
          0.264,
          0.264,
          0.264,
          0.264,
          0.264
         ]
        },
        {
         "line": {
          "color": "black"
         },
         "mode": "lines",
         "showlegend": false,
         "type": "scatter3d",
         "x": [
          0.04450635307088705,
          0.04350542212105135,
          0.04235870575933551,
          0.039627916800263424,
          0.03634314327604682,
          0.03254812081024974,
          0.02816995669693212,
          0.0231503367713419,
          0.017183111668530794,
          0.013718407257920793,
          0.009874660776422437,
          0.005593558059283673,
          0.0007438922358123847,
          -0.0019433544173075093,
          -0.004922171894187672,
          -0.008352924147896254,
          -0.010476499428014926,
          -0.014772277345147626,
          -0.016118394867776185,
          -0.016137865142295513,
          -0.015447878631933486,
          -0.014335114427119064,
          -0.01303282918686046,
          -0.010107530800206967,
          -0.00694897575454525,
          -0.003644635297003399,
          -0.0003402948394615477,
          0.006239228993246131,
          0.012731281578825722,
          0.019223334164405317,
          0.02564249404404484,
          0.03193044705299225,
          0.03808719319124753,
          0.041129119907405136,
          0.044127310999998705
         ],
         "y": [
          -0.10926224306790719,
          -0.10118117840820047,
          -0.09315920285787437,
          -0.0772925190853639,
          -0.06165037392849966,
          -0.04621504065446751,
          -0.03101606381795772,
          -0.016077079062722523,
          -0.001522173518461161,
          0.005560285192713566,
          0.01248911221949876,
          0.019240671918142188,
          0.025761784090201304,
          0.0289159797793458,
          0.03195199724972912,
          0.0348048384810326,
          0.03606580959041869,
          0.036446352970033985,
          0.03377906105738984,
          0.03164948004010907,
          0.02768576355245049,
          0.02389340548199561,
          0.020177863253735502,
          0.01287677483785259,
          0.005670228996978615,
          -0.0014772277345147628,
          -0.00862468446600814,
          -0.022931415750871022,
          -0.037273600501362254,
          -0.05161578525185348,
          -0.06598751455703501,
          -0.08041242406065907,
          -0.09489051376272566,
          -0.1021443308911041,
          -0.10941587475229672
         ],
         "z": [
          0.28128000000000003,
          0.28128000000000003,
          0.28128000000000003,
          0.28128000000000003,
          0.28128000000000003,
          0.28128000000000003,
          0.28128000000000003,
          0.28128000000000003,
          0.28128000000000003,
          0.28128000000000003,
          0.28128000000000003,
          0.28128000000000003,
          0.28128000000000003,
          0.28128000000000003,
          0.28128000000000003,
          0.28128000000000003,
          0.28128000000000003,
          0.28128000000000003,
          0.28128000000000003,
          0.28128000000000003,
          0.28128000000000003,
          0.28128000000000003,
          0.28128000000000003,
          0.28128000000000003,
          0.28128000000000003,
          0.28128000000000003,
          0.28128000000000003,
          0.28128000000000003,
          0.28128000000000003,
          0.28128000000000003,
          0.28128000000000003,
          0.28128000000000003,
          0.28128000000000003,
          0.28128000000000003,
          0.28128000000000003
         ]
        },
        {
         "line": {
          "color": "black"
         },
         "mode": "lines",
         "showlegend": false,
         "type": "scatter3d",
         "x": [
          0.04657727291069665,
          0.045397236476776084,
          0.044074457944971744,
          0.041000674587711734,
          0.03738447125849336,
          0.03326867058668177,
          0.02858190152333507,
          0.023267067229299755,
          0.017024409299019876,
          0.013432031410863472,
          0.009468524068209246,
          0.005076790431903687,
          0.00012836261385139845,
          -0.0026027870713655477,
          -0.0056194209523500495,
          -0.00907855533677426,
          -0.011207800403060941,
          -0.015463902727815912,
          -0.016731919591163134,
          -0.016700983363767984,
          -0.015925400419558793,
          -0.014735865391486646,
          -0.013360765636165586,
          -0.01029653351017916,
          -0.007003914027578689,
          -0.00356855244709444,
          -0.00013319086661019164,
          0.006708983874781553,
          0.013465513357443025,
          0.0202220428401045,
          0.026907201273824084,
          0.033463891819448276,
          0.03989211447697706,
          0.043070540281270504,
          0.04620614345619883
         ],
         "y": [
          -0.10697616111864858,
          -0.09901019103824875,
          -0.0911060765687602,
          -0.0754834144625169,
          -0.06009580367773638,
          -0.0449246875311453,
          -0.03000099382819927,
          -0.015349464813262808,
          -0.0010999972692495464,
          0.005820612986749909,
          0.012580398654380077,
          0.019154617489276462,
          0.025487599441618915,
          0.028542750318149866,
          0.031474189972858294,
          0.0342138772337418,
          0.035410525153632015,
          0.0356855244709444,
          0.03301671301136611,
          0.030910787611080324,
          0.027008214865065057,
          0.023285023390692456,
          0.0196422442105045,
          0.012492768194133367,
          0.0054422611552202545,
          -0.0015463902727815913,
          -0.008535041700783437,
          -0.022524715678969392,
          -0.03655150302370209,
          -0.050578290368434795,
          -0.06463600551862313,
          -0.07874939071863161,
          -0.09291844596846022,
          -0.10001843749610234,
          -0.10713698570701785
         ],
         "z": [
          0.29856,
          0.29856,
          0.29856,
          0.29856,
          0.29856,
          0.29856,
          0.29856,
          0.29856,
          0.29856,
          0.29856,
          0.29856,
          0.29856,
          0.29856,
          0.29856,
          0.29856,
          0.29856,
          0.29856,
          0.29856,
          0.29856,
          0.29856,
          0.29856,
          0.29856,
          0.29856,
          0.29856,
          0.29856,
          0.29856,
          0.29856,
          0.29856,
          0.29856,
          0.29856,
          0.29856,
          0.29856,
          0.29856,
          0.29856,
          0.29856
         ]
        },
        {
         "line": {
          "color": "black"
         },
         "mode": "lines",
         "showlegend": false,
         "type": "scatter3d",
         "x": [
          0.04790397251495487,
          0.04657948215229974,
          0.045116402481314766,
          0.041774475214355275,
          0.03790590857574236,
          0.033552279357974994,
          0.028644292906888236,
          0.02312651349915016,
          0.016707903587268078,
          0.013041253913838544,
          0.009014272038751409,
          0.004571522238674734,
          -0.0004117258638883393,
          -0.0031528106701636006,
          -0.0061710740930985535,
          -0.009618964371856033,
          -0.01173095957455834,
          -0.015907935471375357,
          -0.017094365806923393,
          -0.017019633436669828,
          -0.016177222154513463,
          -0.01493290187820054,
          -0.013508415501058822,
          -0.010354546268449718,
          -0.006978934142512862,
          -0.003464732708246159,
          0.00004946872602054359,
          0.007050153732887983,
          0.013967685154757508,
          0.020885216576627036,
          0.027733453344331638,
          0.03445695973453939,
          0.041055735747250265,
          0.044320476426523245,
          0.047543640313297275
         ],
         "y": [
          -0.10385925998293362,
          -0.09607712922517557,
          -0.08835863020930305,
          -0.07311252740321449,
          -0.05810822521629081,
          -0.04332663412596641,
          -0.028799570003184012,
          -0.014552485544697817,
          -0.000719007408467376,
          0.005987746911425685,
          0.012529058702416442,
          0.0188794752677507,
          0.024981728039731498,
          0.027918317290327992,
          0.03072764305715349,
          0.03333971042413393,
          0.03446757523034475,
          0.03464732708246159,
          0.032005026819375844,
          0.029941775407448155,
          0.026133431293020287,
          0.02250961923006037,
          0.018968528431551612,
          0.012026336666682196,
          0.0051859556888295775,
          -0.0015907935471375359,
          -0.00836754278310465,
          -0.021933767603415984,
          -0.03553817146885861,
          -0.04914257533430124,
          -0.06277879507068661,
          -0.07647228337476897,
          -0.09022304024654824,
          -0.09711432661790925,
          -0.10402470251183592
         ],
         "z": [
          0.31584,
          0.31584,
          0.31584,
          0.31584,
          0.31584,
          0.31584,
          0.31584,
          0.31584,
          0.31584,
          0.31584,
          0.31584,
          0.31584,
          0.31584,
          0.31584,
          0.31584,
          0.31584,
          0.31584,
          0.31584,
          0.31584,
          0.31584,
          0.31584,
          0.31584,
          0.31584,
          0.31584,
          0.31584,
          0.31584,
          0.31584,
          0.31584,
          0.31584,
          0.31584,
          0.31584,
          0.31584,
          0.31584,
          0.31584,
          0.31584
         ]
        },
        {
         "line": {
          "color": "black"
         },
         "mode": "lines",
         "showlegend": false,
         "type": "scatter3d",
         "x": [
          0.04862199452839483,
          0.04717779586075451,
          0.04560033463990712,
          0.04204562453859114,
          0.03798451673508829,
          0.0334569899953607,
          0.028396413042804842,
          0.02274948085613788,
          0.016236342073624965,
          0.01254000625678518,
          0.008497187801607017,
          0.004054581686807647,
          -0.0009077483854992921,
          -0.003628786017425483,
          -0.006616348755765815,
          -0.01001702540904806,
          -0.012090498884668972,
          -0.016149584403075214,
          -0.017247759693782536,
          -0.017133245750305538,
          -0.016237905097316187,
          -0.014956103040026335,
          -0.0135010596635673,
          -0.010297795293593669,
          -0.00688131083848873,
          -0.0033315638301767217,
          0.0002181831781352863,
          0.00729102468411789,
          0.01428390865817625,
          0.021276792632234608,
          0.028203045329689435,
          0.03500936172925791,
          0.041695741830940006,
          0.045005616243479284,
          0.04827551189005645
         ],
         "y": [
          -0.09986293706640566,
          -0.09233419168204737,
          -0.0848700446353014,
          -0.07013554555464636,
          -0.05564652015691805,
          -0.041383588940832806,
          -0.027379051075196767,
          -0.01365874589505485,
          -0.00035832990939287795,
          0.006078703569317511,
          0.012347781370235917,
          0.018423064158317425,
          0.024246413429710956,
          0.02704181105770558,
          0.029708012010475605,
          0.03217395811664749,
          0.033226055824418996,
          0.03331563830176722,
          0.03072610015882295,
          0.02872440688815063,
          0.02504401203486748,
          0.021550952360660004,
          0.018141870525348526,
          0.011465823197472622,
          0.0048931332097763985,
          -0.0016149584403075215,
          -0.00812305009039144,
          -0.021152153058081748,
          -0.03422001502833943,
          -0.04728787699859711,
          -0.06038803813766093,
          -0.07354633778057586,
          -0.08676277592734181,
          -0.09338714458512787,
          -0.10003089274419764
         ],
         "z": [
          0.33312,
          0.33312,
          0.33312,
          0.33312,
          0.33312,
          0.33312,
          0.33312,
          0.33312,
          0.33312,
          0.33312,
          0.33312,
          0.33312,
          0.33312,
          0.33312,
          0.33312,
          0.33312,
          0.33312,
          0.33312,
          0.33312,
          0.33312,
          0.33312,
          0.33312,
          0.33312,
          0.33312,
          0.33312,
          0.33312,
          0.33312,
          0.33312,
          0.33312,
          0.33312,
          0.33312,
          0.33312,
          0.33312,
          0.33312,
          0.33312
         ]
        },
        {
         "line": {
          "color": "black"
         },
         "mode": "lines",
         "showlegend": false,
         "type": "scatter3d",
         "x": [
          0.048839100329742854,
          0.04729150742646308,
          0.0456172451866507,
          0.041888712697428124,
          0.037678836729381646,
          0.03302561808347104,
          0.02786572209143002,
          0.022148481018645527,
          0.015607889258399085,
          0.011919584567718267,
          0.00790193960205267,
          0.003504286626789254,
          -0.0013873767609513272,
          -0.004061213260580309,
          -0.006988388433274505,
          -0.01030823854921978,
          -0.012322837749483713,
          -0.016224810064083488,
          -0.017224941073295582,
          -0.017072381120060962,
          -0.01613391453092869,
          -0.014828106865851856,
          -0.013357629063282635,
          -0.01013800091777246,
          -0.006715701833810114,
          -0.0031667334133151613,
          0.0003822350071797909,
          0.007454837980863178,
          0.014451439352626997,
          0.021448040724390816,
          0.028381307427888334,
          0.035200571728506505,
          0.04190583362624534,
          0.04522679724098159,
          0.04850976005475807
         ],
         "y": [
          -0.0949176333871216,
          -0.08771451674105639,
          -0.08057629933524756,
          -0.06649456224439881,
          -0.05265944226652416,
          -0.03905146962954667,
          -0.025703093953594523,
          -0.012640274934770244,
          6.990223878726443e-7,
          0.006107018508121025,
          0.012044599969187709,
          0.017787483709485394,
          0.02327726041278337,
          0.02590533013197096,
          0.028403601370645886,
          0.03070068496452617,
          0.03166750888874858,
          0.03166733413315161,
          0.029155908290828453,
          0.027235065534837937,
          0.023717876224138575,
          0.020388894710182577,
          0.017144282208559812,
          0.010797835533878229,
          0.0045552276436067705,
          -0.0016224810064083487,
          -0.0078001896564234684,
          -0.020168586804504982,
          -0.03257592349674029,
          -0.04498326018897559,
          -0.057423046501339066,
          -0.06992124212993324,
          -0.08247784707475814,
          -0.08877237435723463,
          -0.09508637141178806
         ],
         "z": [
          0.35040000000000004,
          0.35040000000000004,
          0.35040000000000004,
          0.35040000000000004,
          0.35040000000000004,
          0.35040000000000004,
          0.35040000000000004,
          0.35040000000000004,
          0.35040000000000004,
          0.35040000000000004,
          0.35040000000000004,
          0.35040000000000004,
          0.35040000000000004,
          0.35040000000000004,
          0.35040000000000004,
          0.35040000000000004,
          0.35040000000000004,
          0.35040000000000004,
          0.35040000000000004,
          0.35040000000000004,
          0.35040000000000004,
          0.35040000000000004,
          0.35040000000000004,
          0.35040000000000004,
          0.35040000000000004,
          0.35040000000000004,
          0.35040000000000004,
          0.35040000000000004,
          0.35040000000000004,
          0.35040000000000004,
          0.35040000000000004,
          0.35040000000000004,
          0.35040000000000004,
          0.35040000000000004,
          0.35040000000000004
         ]
        },
        {
         "line": {
          "color": "black"
         },
         "mode": "lines",
         "showlegend": false,
         "type": "scatter3d",
         "x": [
          0.04814918552438012,
          0.04654462011067946,
          0.04482102007355385,
          0.04101671612902771,
          0.036760080615486704,
          0.03208682391995833,
          0.0269374287307301,
          0.02126428119843203,
          0.014817408613871689,
          0.011201158064289136,
          0.007275417493801676,
          0.0029925730530393248,
          -0.0017545064190803879,
          -0.00434230847730518,
          -0.0071681797823799,
          -0.01036305842007201,
          -0.012293794684507964,
          -0.015998146837975888,
          -0.01690043461105408,
          -0.016719507310965102,
          -0.015762479593662317,
          -0.014460251468427141,
          -0.01300327833273951,
          -0.009827455889829325,
          -0.006461178049439197,
          -0.0029758655856241063,
          0.000509446878190985,
          0.007456264881136177,
          0.01433166211002639,
          0.0212070593389166,
          0.028022939256094326,
          0.03473168801218959,
          0.04133330560720239,
          0.04460435574885254,
          0.04783969550347521
         ],
         "y": [
          -0.08919277720516572,
          -0.08238354536340199,
          -0.07563830610899018,
          -0.06233980536222226,
          -0.04928447644739156,
          -0.036453121588292545,
          -0.023877737078601125,
          -0.011583919953258092,
          0.00029394535429757597,
          0.006021702469814124,
          0.011583078858215724,
          0.016952477484561614,
          0.022072305020235085,
          0.02451703213083839,
          0.026833774066737887,
          0.02895213898184649,
          0.029832142194815458,
          0.029758655856241063,
          0.02735562906429679,
          0.02553493481725484,
          0.02221350925993045,
          0.019077662205926587,
          0.0160250055154802,
          0.010060475826761603,
          0.004198334277806054,
          -0.0015998146837975886,
          -0.007397963645401231,
          -0.019007060086078904,
          -0.030654552079167712,
          -0.042302044072256524,
          -0.05398153235902128,
          -0.06571861397440276,
          -0.07751328891840095,
          -0.08342662453723802,
          -0.08935915793228066
         ],
         "z": [
          0.36768,
          0.36768,
          0.36768,
          0.36768,
          0.36768,
          0.36768,
          0.36768,
          0.36768,
          0.36768,
          0.36768,
          0.36768,
          0.36768,
          0.36768,
          0.36768,
          0.36768,
          0.36768,
          0.36768,
          0.36768,
          0.36768,
          0.36768,
          0.36768,
          0.36768,
          0.36768,
          0.36768,
          0.36768,
          0.36768,
          0.36768,
          0.36768,
          0.36768,
          0.36768,
          0.36768,
          0.36768,
          0.36768,
          0.36768,
          0.36768
         ]
        },
        {
         "line": {
          "color": "black"
         },
         "mode": "lines",
         "showlegend": false,
         "type": "scatter3d",
         "x": [
          0.046787611935547056,
          0.045153171148084495,
          0.043408641383243754,
          0.03958931492142768,
          0.035351650345574456,
          0.030728674348897554,
          0.02566534244270788,
          0.02011761903605415,
          0.01385431727644215,
          0.010359372771288108,
          0.006578196924950763,
          0.0024667541464788298,
          -0.002074035643768058,
          -0.004542590698172252,
          -0.007231323707332839,
          -0.010261332546365824,
          -0.012084586102541263,
          -0.0155481654216518,
          -0.016345029527077393,
          -0.016140083938361416,
          -0.015179747874038488,
          -0.01390015377531879,
          -0.012477444006007445,
          -0.009389828717152725,
          -0.006126071064492891,
          -0.0027522244344548646,
          0.0006216221955831621,
          0.007347297660183581,
          0.014006919738357075,
          0.020666541816530572,
          0.02727111940601497,
          0.033776616915859,
          0.04018303434606265,
          0.04335872081681993,
          0.046501380594363755
         ],
         "y": [
          -0.08248588257345335,
          -0.07614805203794306,
          -0.06987241416411942,
          -0.057507716401531926,
          -0.04537935075335353,
          -0.03346865942107827,
          -0.021806738735549443,
          -0.010418465761441682,
          0.000565554911703136,
          0.005852329464709738,
          0.01097740309733116,
          0.015915898744892767,
          0.0206118430118766,
          0.022847868354332623,
          0.024959508373415436,
          0.02687835114126976,
          0.02766363307247443,
          0.027522244344548644,
          0.02525677706520273,
          0.02355726300720494,
          0.020469198199642397,
          0.01756149211097101,
          0.01473463648249222,
          0.009217749081245171,
          0.0038003699386966903,
          -0.0015548165421651803,
          -0.00691000302302705,
          -0.01763281451708812,
          -0.028392941608161144,
          -0.03915306869923417,
          -0.0499442921211505,
          -0.06079148893858479,
          -0.07169465915153701,
          -0.07716179242343477,
          -0.08264758349383852
         ],
         "z": [
          0.38496,
          0.38496,
          0.38496,
          0.38496,
          0.38496,
          0.38496,
          0.38496,
          0.38496,
          0.38496,
          0.38496,
          0.38496,
          0.38496,
          0.38496,
          0.38496,
          0.38496,
          0.38496,
          0.38496,
          0.38496,
          0.38496,
          0.38496,
          0.38496,
          0.38496,
          0.38496,
          0.38496,
          0.38496,
          0.38496,
          0.38496,
          0.38496,
          0.38496,
          0.38496,
          0.38496,
          0.38496,
          0.38496,
          0.38496,
          0.38496
         ]
        },
        {
         "line": {
          "color": "black"
         },
         "mode": "lines",
         "showlegend": false,
         "type": "scatter3d",
         "x": [
          0.04414326995587851,
          0.04255304998397295,
          0.04086253356927306,
          0.03718061141149025,
          0.03311756277108894,
          0.02870347658090744,
          0.023888204619548575,
          0.018631628309894607,
          0.012723125122077425,
          0.009437895266947506,
          0.0058918946605523,
          0.0020450047257740732,
          -0.0021930413359020854,
          -0.004492597963769981,
          -0.0069927474772265566,
          -0.009803815963345591,
          -0.011490180246229264,
          -0.014670961526748618,
          -0.015371652582370268,
          -0.015159646008563413,
          -0.01423415064697799,
          -0.013017795601288983,
          -0.011671055179967329,
          -0.008756922163176474,
          -0.005682314837914672,
          -0.0025074110698585297,
          0.0006674926981976121,
          0.0069972409457510305,
          0.013266811327627841,
          0.019536381709504655,
          0.025755803869984297,
          0.03188495923194903,
          0.03792384779539886,
          0.04091821796642519,
          0.043882499204613214
         ],
         "y": [
          -0.0751460430958168,
          -0.06934485741826601,
          -0.06360235558682224,
          -0.052293403462255625,
          -0.0412074499528956,
          -0.030326889904910066,
          -0.019681065241352505,
          -0.009293449500665721,
          0.0007127212403256027,
          0.00552214991866818,
          0.010179000597132573,
          0.014659799737275984,
          0.018911731877602114,
          0.02093206702477259,
          0.022835034479729076,
          0.024556082011753882,
          0.0252522910086667,
          0.025074110698585297,
          0.02298122616432601,
          0.021422364629640377,
          0.018598060790804075,
          0.01594394010567806,
          0.013366108420491135,
          0.008339549511552679,
          0.00340688475638541,
          -0.0014670961526748619,
          -0.006341077061735133,
          -0.01610077564907708,
          -0.02589568454408322,
          -0.03569059343908936,
          -0.045514844257149,
          -0.05539191053670493,
          -0.06532179227775717,
          -0.07030140410981002,
          -0.07529862109569499
         ],
         "z": [
          0.40224000000000004,
          0.40224000000000004,
          0.40224000000000004,
          0.40224000000000004,
          0.40224000000000004,
          0.40224000000000004,
          0.40224000000000004,
          0.40224000000000004,
          0.40224000000000004,
          0.40224000000000004,
          0.40224000000000004,
          0.40224000000000004,
          0.40224000000000004,
          0.40224000000000004,
          0.40224000000000004,
          0.40224000000000004,
          0.40224000000000004,
          0.40224000000000004,
          0.40224000000000004,
          0.40224000000000004,
          0.40224000000000004,
          0.40224000000000004,
          0.40224000000000004,
          0.40224000000000004,
          0.40224000000000004,
          0.40224000000000004,
          0.40224000000000004,
          0.40224000000000004,
          0.40224000000000004,
          0.40224000000000004,
          0.40224000000000004,
          0.40224000000000004,
          0.40224000000000004,
          0.40224000000000004,
          0.40224000000000004
         ]
        },
        {
         "line": {
          "color": "black"
         },
         "mode": "lines",
         "showlegend": false,
         "type": "scatter3d",
         "x": [
          0.040610300436498686,
          0.039097392086132284,
          0.03749591885597842,
          0.03402727775630833,
          0.03022209011344589,
          0.02610692539132736,
          0.021637501150058996,
          0.01677839143772582,
          0.01134361000677417,
          0.008333955187999736,
          0.005094031681777914,
          0.0015884135361937174,
          -0.00226260764056156,
          -0.004347535012556623,
          -0.006609592144126601,
          -0.009146200403037694,
          -0.010662486195898123,
          -0.013498388697591665,
          -0.014089947043672722,
          -0.013875564983687916,
          -0.013003976464781021,
          -0.011875549794490497,
          -0.01063198878047628,
          -0.007950024016915438,
          -0.005126355445694664,
          -0.002214121994686434,
          0.0006981114563217967,
          0.006504865382380769,
          0.012258480380567262,
          0.018012095378753756,
          0.02372142793704652,
          0.029351052103530582,
          0.03490096787820592,
          0.03765378454559673,
          0.040380031749051304
         ],
         "y": [
          -0.06635346821936552,
          -0.06120171059580175,
          -0.05610394652702834,
          -0.046070399053852615,
          -0.036242027088880274,
          -0.02660263256567422,
          -0.017179212261629637,
          -0.007993363598662671,
          0.0008415269581669204,
          0.005080793505773503,
          0.009179676810925132,
          0.013116579451705666,
          0.016842907228803765,
          0.018608882718730152,
          0.020266871099075812,
          0.02175747945957133,
          0.022351601686406063,
          0.022141219946864334,
          0.02026205111601887,
          0.01887422363376575,
          0.016368536443211342,
          0.014019430561548987,
          0.011740516301114114,
          0.007301473600783175,
          0.0029488205881168196,
          -0.0013498388697591667,
          -0.005648498327635153,
          -0.014256615954345204,
          -0.022897129713929466,
          -0.03153764347351373,
          -0.04020515401049318,
          -0.04892125874678397,
          -0.05768595768238608,
          -0.06208180553888472,
          -0.06649385146182049
         ],
         "z": [
          0.41952,
          0.41952,
          0.41952,
          0.41952,
          0.41952,
          0.41952,
          0.41952,
          0.41952,
          0.41952,
          0.41952,
          0.41952,
          0.41952,
          0.41952,
          0.41952,
          0.41952,
          0.41952,
          0.41952,
          0.41952,
          0.41952,
          0.41952,
          0.41952,
          0.41952,
          0.41952,
          0.41952,
          0.41952,
          0.41952,
          0.41952,
          0.41952,
          0.41952,
          0.41952,
          0.41952,
          0.41952,
          0.41952,
          0.41952,
          0.41952
         ]
        },
        {
         "line": {
          "color": "black"
         },
         "mode": "lines",
         "showlegend": false,
         "type": "scatter3d",
         "x": [
          0.03574929341711186,
          0.03437337450070962,
          0.03292276201203314,
          0.029797456317857476,
          0.0263883150490397,
          0.0227177462772621,
          0.018748403216387547,
          0.014450408437506352,
          0.009666905438842608,
          0.007028665151005754,
          0.004196221575255879,
          0.0011396972826832946,
          -0.0022081319417588162,
          -0.0040164949840734996,
          -0.005974245170936658,
          -0.008163545431849953,
          -0.009467337564674464,
          -0.011884063924385117,
          -0.012357978811687459,
          -0.012152182191294238,
          -0.011367121089136609,
          -0.010365448627383691,
          -0.009266674521674264,
          -0.006904800451252089,
          -0.004423416665191132,
          -0.0018673393068559384,
          0.0006887380514792548,
          0.005785954053694795,
          0.010838353912545791,
          0.015890753771396787,
          0.020905806844110662,
          0.025853635701777736,
          0.030734240344397982,
          0.03315586927263955,
          0.035555090129198844
         ],
         "y": [
          -0.055958382073271355,
          -0.05158671763321243,
          -0.047262589448851054,
          -0.03875694184722092,
          -0.030431932017241432,
          -0.02227329908220334,
          -0.014304811169955415,
          -0.0065454827827766664,
          0.0009048599423680742,
          0.004473161661138559,
          0.007917869115095438,
          0.011219967801959697,
          0.014336675091603548,
          0.015809463476169898,
          0.01718717934934117,
          0.01841753282985007,
          0.018899608054151404,
          0.018673393068559384,
          0.01705995495865659,
          0.01587909677560141,
          0.01375506168797875,
          0.01176888174187896,
          0.009844498928185973,
          0.006100313063334588,
          0.0024321852075992675,
          -0.0011884063924385117,
          -0.004808997992476291,
          -0.01205968844369136,
          -0.019338900648324952,
          -0.02661811285295854,
          -0.033921093185440905,
          -0.04126685614805106,
          -0.048655401740788994,
          -0.05236155860108234,
          -0.05608197633808496
         ],
         "z": [
          0.4368,
          0.4368,
          0.4368,
          0.4368,
          0.4368,
          0.4368,
          0.4368,
          0.4368,
          0.4368,
          0.4368,
          0.4368,
          0.4368,
          0.4368,
          0.4368,
          0.4368,
          0.4368,
          0.4368,
          0.4368,
          0.4368,
          0.4368,
          0.4368,
          0.4368,
          0.4368,
          0.4368,
          0.4368,
          0.4368,
          0.4368,
          0.4368,
          0.4368,
          0.4368,
          0.4368,
          0.4368,
          0.4368,
          0.4368,
          0.4368
         ]
        },
        {
         "line": {
          "color": "black"
         },
         "mode": "lines",
         "showlegend": false,
         "type": "scatter3d",
         "x": [
          0.028649830231601052,
          0.02751773034597943,
          0.02632795210174547,
          0.023775360537440532,
          0.02100359121040868,
          0.018029947628233636,
          0.014825590611609228,
          0.011367448817090514,
          0.007534397691591576,
          0.005427533545421378,
          0.003170705666859092,
          0.0007408427124597789,
          -0.0019139658405276675,
          -0.0033451911625236043,
          -0.0048917732017442275,
          -0.006617158152663109,
          -0.007641350032237109,
          -0.009524949455135002,
          -0.009873502510534742,
          -0.00969718250256217,
          -0.009056150693555316,
          -0.00824785164457267,
          -0.007364570729393982,
          -0.00547111651008945,
          -0.00348537691700517,
          -0.001441958965308549,
          0.0006014589863880722,
          0.004676759218058848,
          0.008717452434562215,
          0.012758145651065582,
          0.01676999968826278,
          0.020729943202708875,
          0.024637976194403853,
          0.026577573100598256,
          0.028499866499208965
         ],
         "y": [
          -0.04320923922208976,
          -0.03981478400067743,
          -0.03645842857708563,
          -0.029860017123363676,
          -0.02340638490135975,
          -0.017086101971727725,
          -0.010918218233377863,
          -0.004917973605438374,
          0.000834622336667608,
          0.0035851909749128152,
          0.006236700138824618,
          0.008773909909274803,
          0.01116253046822488,
          0.012288261111622945,
          0.013337792159379934,
          0.014269213833893245,
          0.01462824523725239,
          0.014419589653085488,
          0.01315378306159749,
          0.012234684630276408,
          0.010586986756736945,
          0.009049778296877045,
          0.007562099574183849,
          0.004670561684002643,
          0.0018399834703343007,
          -0.0009524949455135003,
          -0.003744973361361301,
          -0.009337550152621015,
          -0.01495298682257305,
          -0.020568423492525082,
          -0.026202910061387388,
          -0.03187168644828819,
          -0.037574752653227454,
          -0.04043581070515223,
          -0.043308298696423164
         ],
         "z": [
          0.45408000000000004,
          0.45408000000000004,
          0.45408000000000004,
          0.45408000000000004,
          0.45408000000000004,
          0.45408000000000004,
          0.45408000000000004,
          0.45408000000000004,
          0.45408000000000004,
          0.45408000000000004,
          0.45408000000000004,
          0.45408000000000004,
          0.45408000000000004,
          0.45408000000000004,
          0.45408000000000004,
          0.45408000000000004,
          0.45408000000000004,
          0.45408000000000004,
          0.45408000000000004,
          0.45408000000000004,
          0.45408000000000004,
          0.45408000000000004,
          0.45408000000000004,
          0.45408000000000004,
          0.45408000000000004,
          0.45408000000000004,
          0.45408000000000004,
          0.45408000000000004,
          0.45408000000000004,
          0.45408000000000004,
          0.45408000000000004,
          0.45408000000000004,
          0.45408000000000004,
          0.45408000000000004,
          0.45408000000000004
         ]
        },
        {
         "line": {
          "color": "black"
         },
         "mode": "lines",
         "showlegend": false,
         "type": "scatter3d",
         "x": [
          0.0170958731628682,
          0.01640249007173586,
          0.0156760119395957,
          0.014123770552291899,
          0.01244576800915836,
          0.01065193282249743,
          0.008725717471805198,
          0.006653883940678533,
          0.004366932643001,
          0.0031142433588364077,
          0.001775506968051469,
          0.0003374854542430531,
          -0.0012296067194958842,
          -0.0020727238801794387,
          -0.002982031122878645,
          -0.003993932992702113,
          -0.004592550042435757,
          -0.005684283203186007,
          -0.005873328129438616,
          -0.00576120818252001,
          -0.005371493083643668,
          -0.004885802365844632,
          -0.004357088094735422,
          -0.003226850462299786,
          -0.0020436607642516282,
          -0.000827376025195645,
          0.0003889087138603381,
          0.0028148591837707402,
          0.005220952629076446,
          0.007627046074382152,
          0.010016591999183946,
          0.012376352387078697,
          0.014706327238066403,
          0.015863040903308298,
          0.01700982605624785
         ],
         "y": [
          -0.024791722483212784,
          -0.02283229285313072,
          -0.02089560035586141,
          -0.01709042675976101,
          -0.013371654268349032,
          -0.009732461741781665,
          -0.006184217746465274,
          -0.0027360171355249557,
          0.0005643921121325278,
          0.0021395641976792133,
          0.0036556197379127645,
          0.005103463879708084,
          0.006462633203533702,
          0.00710129102638357,
          0.007694474583607953,
          0.008217173029112828,
          0.008414858279989581,
          0.00827376025195645,
          0.007534931240136386,
          0.007003010136912297,
          0.006052853594527834,
          0.005168634737300328,
          0.004313974152729392,
          0.0026546746757755524,
          0.0010317546113221031,
          -0.0005684283203186007,
          -0.002168611251959305,
          -0.005373524541803263,
          -0.008592080111334867,
          -0.011810635680866469,
          -0.015040559816804444,
          -0.018290947372273894,
          -0.02156179834727481,
          -0.023202908117978448,
          -0.024850839028525917
         ],
         "z": [
          0.47136,
          0.47136,
          0.47136,
          0.47136,
          0.47136,
          0.47136,
          0.47136,
          0.47136,
          0.47136,
          0.47136,
          0.47136,
          0.47136,
          0.47136,
          0.47136,
          0.47136,
          0.47136,
          0.47136,
          0.47136,
          0.47136,
          0.47136,
          0.47136,
          0.47136,
          0.47136,
          0.47136,
          0.47136,
          0.47136,
          0.47136,
          0.47136,
          0.47136,
          0.47136,
          0.47136,
          0.47136,
          0.47136,
          0.47136,
          0.47136
         ]
        },
        {
         "marker": {
          "color": "white",
          "size": 0.1
         },
         "mode": "markers",
         "showlegend": false,
         "type": "scatter3d",
         "x": [
          -0.18760664785783526
         ],
         "y": [
          -0.22991119774294022
         ],
         "z": [
          0
         ]
        },
        {
         "marker": {
          "color": "white",
          "size": 0.1
         },
         "mode": "markers",
         "showlegend": false,
         "type": "scatter3d",
         "x": [
          -0.18760664785783526
         ],
         "y": [
          -0.22991119774294022
         ],
         "z": [
          0.47136
         ]
        },
        {
         "marker": {
          "color": "white",
          "size": 0.1
         },
         "mode": "markers",
         "showlegend": false,
         "type": "scatter3d",
         "x": [
          -0.18760664785783526
         ],
         "y": [
          0.24144880225705978
         ],
         "z": [
          0
         ]
        },
        {
         "marker": {
          "color": "white",
          "size": 0.1
         },
         "mode": "markers",
         "showlegend": false,
         "type": "scatter3d",
         "x": [
          -0.18760664785783526
         ],
         "y": [
          0.24144880225705978
         ],
         "z": [
          0.47136
         ]
        },
        {
         "marker": {
          "color": "white",
          "size": 0.1
         },
         "mode": "markers",
         "showlegend": false,
         "type": "scatter3d",
         "x": [
          0.28375335214216474
         ],
         "y": [
          -0.22991119774294022
         ],
         "z": [
          0
         ]
        },
        {
         "marker": {
          "color": "white",
          "size": 0.1
         },
         "mode": "markers",
         "showlegend": false,
         "type": "scatter3d",
         "x": [
          0.28375335214216474
         ],
         "y": [
          -0.22991119774294022
         ],
         "z": [
          0.47136
         ]
        },
        {
         "marker": {
          "color": "white",
          "size": 0.1
         },
         "mode": "markers",
         "showlegend": false,
         "type": "scatter3d",
         "x": [
          0.28375335214216474
         ],
         "y": [
          0.24144880225705978
         ],
         "z": [
          0
         ]
        },
        {
         "marker": {
          "color": "white",
          "size": 0.1
         },
         "mode": "markers",
         "showlegend": false,
         "type": "scatter3d",
         "x": [
          0.28375335214216474
         ],
         "y": [
          0.24144880225705978
         ],
         "z": [
          0.47136
         ]
        }
       ],
       "layout": {
        "scene": {
         "aspectmode": "data"
        },
        "template": {
         "data": {
          "bar": [
           {
            "error_x": {
             "color": "#2a3f5f"
            },
            "error_y": {
             "color": "#2a3f5f"
            },
            "marker": {
             "line": {
              "color": "#E5ECF6",
              "width": 0.5
             },
             "pattern": {
              "fillmode": "overlay",
              "size": 10,
              "solidity": 0.2
             }
            },
            "type": "bar"
           }
          ],
          "barpolar": [
           {
            "marker": {
             "line": {
              "color": "#E5ECF6",
              "width": 0.5
             },
             "pattern": {
              "fillmode": "overlay",
              "size": 10,
              "solidity": 0.2
             }
            },
            "type": "barpolar"
           }
          ],
          "carpet": [
           {
            "aaxis": {
             "endlinecolor": "#2a3f5f",
             "gridcolor": "white",
             "linecolor": "white",
             "minorgridcolor": "white",
             "startlinecolor": "#2a3f5f"
            },
            "baxis": {
             "endlinecolor": "#2a3f5f",
             "gridcolor": "white",
             "linecolor": "white",
             "minorgridcolor": "white",
             "startlinecolor": "#2a3f5f"
            },
            "type": "carpet"
           }
          ],
          "choropleth": [
           {
            "colorbar": {
             "outlinewidth": 0,
             "ticks": ""
            },
            "type": "choropleth"
           }
          ],
          "contour": [
           {
            "colorbar": {
             "outlinewidth": 0,
             "ticks": ""
            },
            "colorscale": [
             [
              0,
              "#0d0887"
             ],
             [
              0.1111111111111111,
              "#46039f"
             ],
             [
              0.2222222222222222,
              "#7201a8"
             ],
             [
              0.3333333333333333,
              "#9c179e"
             ],
             [
              0.4444444444444444,
              "#bd3786"
             ],
             [
              0.5555555555555556,
              "#d8576b"
             ],
             [
              0.6666666666666666,
              "#ed7953"
             ],
             [
              0.7777777777777778,
              "#fb9f3a"
             ],
             [
              0.8888888888888888,
              "#fdca26"
             ],
             [
              1,
              "#f0f921"
             ]
            ],
            "type": "contour"
           }
          ],
          "contourcarpet": [
           {
            "colorbar": {
             "outlinewidth": 0,
             "ticks": ""
            },
            "type": "contourcarpet"
           }
          ],
          "heatmap": [
           {
            "colorbar": {
             "outlinewidth": 0,
             "ticks": ""
            },
            "colorscale": [
             [
              0,
              "#0d0887"
             ],
             [
              0.1111111111111111,
              "#46039f"
             ],
             [
              0.2222222222222222,
              "#7201a8"
             ],
             [
              0.3333333333333333,
              "#9c179e"
             ],
             [
              0.4444444444444444,
              "#bd3786"
             ],
             [
              0.5555555555555556,
              "#d8576b"
             ],
             [
              0.6666666666666666,
              "#ed7953"
             ],
             [
              0.7777777777777778,
              "#fb9f3a"
             ],
             [
              0.8888888888888888,
              "#fdca26"
             ],
             [
              1,
              "#f0f921"
             ]
            ],
            "type": "heatmap"
           }
          ],
          "heatmapgl": [
           {
            "colorbar": {
             "outlinewidth": 0,
             "ticks": ""
            },
            "colorscale": [
             [
              0,
              "#0d0887"
             ],
             [
              0.1111111111111111,
              "#46039f"
             ],
             [
              0.2222222222222222,
              "#7201a8"
             ],
             [
              0.3333333333333333,
              "#9c179e"
             ],
             [
              0.4444444444444444,
              "#bd3786"
             ],
             [
              0.5555555555555556,
              "#d8576b"
             ],
             [
              0.6666666666666666,
              "#ed7953"
             ],
             [
              0.7777777777777778,
              "#fb9f3a"
             ],
             [
              0.8888888888888888,
              "#fdca26"
             ],
             [
              1,
              "#f0f921"
             ]
            ],
            "type": "heatmapgl"
           }
          ],
          "histogram": [
           {
            "marker": {
             "pattern": {
              "fillmode": "overlay",
              "size": 10,
              "solidity": 0.2
             }
            },
            "type": "histogram"
           }
          ],
          "histogram2d": [
           {
            "colorbar": {
             "outlinewidth": 0,
             "ticks": ""
            },
            "colorscale": [
             [
              0,
              "#0d0887"
             ],
             [
              0.1111111111111111,
              "#46039f"
             ],
             [
              0.2222222222222222,
              "#7201a8"
             ],
             [
              0.3333333333333333,
              "#9c179e"
             ],
             [
              0.4444444444444444,
              "#bd3786"
             ],
             [
              0.5555555555555556,
              "#d8576b"
             ],
             [
              0.6666666666666666,
              "#ed7953"
             ],
             [
              0.7777777777777778,
              "#fb9f3a"
             ],
             [
              0.8888888888888888,
              "#fdca26"
             ],
             [
              1,
              "#f0f921"
             ]
            ],
            "type": "histogram2d"
           }
          ],
          "histogram2dcontour": [
           {
            "colorbar": {
             "outlinewidth": 0,
             "ticks": ""
            },
            "colorscale": [
             [
              0,
              "#0d0887"
             ],
             [
              0.1111111111111111,
              "#46039f"
             ],
             [
              0.2222222222222222,
              "#7201a8"
             ],
             [
              0.3333333333333333,
              "#9c179e"
             ],
             [
              0.4444444444444444,
              "#bd3786"
             ],
             [
              0.5555555555555556,
              "#d8576b"
             ],
             [
              0.6666666666666666,
              "#ed7953"
             ],
             [
              0.7777777777777778,
              "#fb9f3a"
             ],
             [
              0.8888888888888888,
              "#fdca26"
             ],
             [
              1,
              "#f0f921"
             ]
            ],
            "type": "histogram2dcontour"
           }
          ],
          "mesh3d": [
           {
            "colorbar": {
             "outlinewidth": 0,
             "ticks": ""
            },
            "type": "mesh3d"
           }
          ],
          "parcoords": [
           {
            "line": {
             "colorbar": {
              "outlinewidth": 0,
              "ticks": ""
             }
            },
            "type": "parcoords"
           }
          ],
          "pie": [
           {
            "automargin": true,
            "type": "pie"
           }
          ],
          "scatter": [
           {
            "fillpattern": {
             "fillmode": "overlay",
             "size": 10,
             "solidity": 0.2
            },
            "type": "scatter"
           }
          ],
          "scatter3d": [
           {
            "line": {
             "colorbar": {
              "outlinewidth": 0,
              "ticks": ""
             }
            },
            "marker": {
             "colorbar": {
              "outlinewidth": 0,
              "ticks": ""
             }
            },
            "type": "scatter3d"
           }
          ],
          "scattercarpet": [
           {
            "marker": {
             "colorbar": {
              "outlinewidth": 0,
              "ticks": ""
             }
            },
            "type": "scattercarpet"
           }
          ],
          "scattergeo": [
           {
            "marker": {
             "colorbar": {
              "outlinewidth": 0,
              "ticks": ""
             }
            },
            "type": "scattergeo"
           }
          ],
          "scattergl": [
           {
            "marker": {
             "colorbar": {
              "outlinewidth": 0,
              "ticks": ""
             }
            },
            "type": "scattergl"
           }
          ],
          "scattermapbox": [
           {
            "marker": {
             "colorbar": {
              "outlinewidth": 0,
              "ticks": ""
             }
            },
            "type": "scattermapbox"
           }
          ],
          "scatterpolar": [
           {
            "marker": {
             "colorbar": {
              "outlinewidth": 0,
              "ticks": ""
             }
            },
            "type": "scatterpolar"
           }
          ],
          "scatterpolargl": [
           {
            "marker": {
             "colorbar": {
              "outlinewidth": 0,
              "ticks": ""
             }
            },
            "type": "scatterpolargl"
           }
          ],
          "scatterternary": [
           {
            "marker": {
             "colorbar": {
              "outlinewidth": 0,
              "ticks": ""
             }
            },
            "type": "scatterternary"
           }
          ],
          "surface": [
           {
            "colorbar": {
             "outlinewidth": 0,
             "ticks": ""
            },
            "colorscale": [
             [
              0,
              "#0d0887"
             ],
             [
              0.1111111111111111,
              "#46039f"
             ],
             [
              0.2222222222222222,
              "#7201a8"
             ],
             [
              0.3333333333333333,
              "#9c179e"
             ],
             [
              0.4444444444444444,
              "#bd3786"
             ],
             [
              0.5555555555555556,
              "#d8576b"
             ],
             [
              0.6666666666666666,
              "#ed7953"
             ],
             [
              0.7777777777777778,
              "#fb9f3a"
             ],
             [
              0.8888888888888888,
              "#fdca26"
             ],
             [
              1,
              "#f0f921"
             ]
            ],
            "type": "surface"
           }
          ],
          "table": [
           {
            "cells": {
             "fill": {
              "color": "#EBF0F8"
             },
             "line": {
              "color": "white"
             }
            },
            "header": {
             "fill": {
              "color": "#C8D4E3"
             },
             "line": {
              "color": "white"
             }
            },
            "type": "table"
           }
          ]
         },
         "layout": {
          "annotationdefaults": {
           "arrowcolor": "#2a3f5f",
           "arrowhead": 0,
           "arrowwidth": 1
          },
          "autotypenumbers": "strict",
          "coloraxis": {
           "colorbar": {
            "outlinewidth": 0,
            "ticks": ""
           }
          },
          "colorscale": {
           "diverging": [
            [
             0,
             "#8e0152"
            ],
            [
             0.1,
             "#c51b7d"
            ],
            [
             0.2,
             "#de77ae"
            ],
            [
             0.3,
             "#f1b6da"
            ],
            [
             0.4,
             "#fde0ef"
            ],
            [
             0.5,
             "#f7f7f7"
            ],
            [
             0.6,
             "#e6f5d0"
            ],
            [
             0.7,
             "#b8e186"
            ],
            [
             0.8,
             "#7fbc41"
            ],
            [
             0.9,
             "#4d9221"
            ],
            [
             1,
             "#276419"
            ]
           ],
           "sequential": [
            [
             0,
             "#0d0887"
            ],
            [
             0.1111111111111111,
             "#46039f"
            ],
            [
             0.2222222222222222,
             "#7201a8"
            ],
            [
             0.3333333333333333,
             "#9c179e"
            ],
            [
             0.4444444444444444,
             "#bd3786"
            ],
            [
             0.5555555555555556,
             "#d8576b"
            ],
            [
             0.6666666666666666,
             "#ed7953"
            ],
            [
             0.7777777777777778,
             "#fb9f3a"
            ],
            [
             0.8888888888888888,
             "#fdca26"
            ],
            [
             1,
             "#f0f921"
            ]
           ],
           "sequentialminus": [
            [
             0,
             "#0d0887"
            ],
            [
             0.1111111111111111,
             "#46039f"
            ],
            [
             0.2222222222222222,
             "#7201a8"
            ],
            [
             0.3333333333333333,
             "#9c179e"
            ],
            [
             0.4444444444444444,
             "#bd3786"
            ],
            [
             0.5555555555555556,
             "#d8576b"
            ],
            [
             0.6666666666666666,
             "#ed7953"
            ],
            [
             0.7777777777777778,
             "#fb9f3a"
            ],
            [
             0.8888888888888888,
             "#fdca26"
            ],
            [
             1,
             "#f0f921"
            ]
           ]
          },
          "colorway": [
           "#636efa",
           "#EF553B",
           "#00cc96",
           "#ab63fa",
           "#FFA15A",
           "#19d3f3",
           "#FF6692",
           "#B6E880",
           "#FF97FF",
           "#FECB52"
          ],
          "font": {
           "color": "#2a3f5f"
          },
          "geo": {
           "bgcolor": "white",
           "lakecolor": "white",
           "landcolor": "#E5ECF6",
           "showlakes": true,
           "showland": true,
           "subunitcolor": "white"
          },
          "hoverlabel": {
           "align": "left"
          },
          "hovermode": "closest",
          "mapbox": {
           "style": "light"
          },
          "paper_bgcolor": "white",
          "plot_bgcolor": "#E5ECF6",
          "polar": {
           "angularaxis": {
            "gridcolor": "white",
            "linecolor": "white",
            "ticks": ""
           },
           "bgcolor": "#E5ECF6",
           "radialaxis": {
            "gridcolor": "white",
            "linecolor": "white",
            "ticks": ""
           }
          },
          "scene": {
           "xaxis": {
            "backgroundcolor": "#E5ECF6",
            "gridcolor": "white",
            "gridwidth": 2,
            "linecolor": "white",
            "showbackground": true,
            "ticks": "",
            "zerolinecolor": "white"
           },
           "yaxis": {
            "backgroundcolor": "#E5ECF6",
            "gridcolor": "white",
            "gridwidth": 2,
            "linecolor": "white",
            "showbackground": true,
            "ticks": "",
            "zerolinecolor": "white"
           },
           "zaxis": {
            "backgroundcolor": "#E5ECF6",
            "gridcolor": "white",
            "gridwidth": 2,
            "linecolor": "white",
            "showbackground": true,
            "ticks": "",
            "zerolinecolor": "white"
           }
          },
          "shapedefaults": {
           "line": {
            "color": "#2a3f5f"
           }
          },
          "ternary": {
           "aaxis": {
            "gridcolor": "white",
            "linecolor": "white",
            "ticks": ""
           },
           "baxis": {
            "gridcolor": "white",
            "linecolor": "white",
            "ticks": ""
           },
           "bgcolor": "#E5ECF6",
           "caxis": {
            "gridcolor": "white",
            "linecolor": "white",
            "ticks": ""
           }
          },
          "title": {
           "x": 0.05
          },
          "xaxis": {
           "automargin": true,
           "gridcolor": "white",
           "linecolor": "white",
           "ticks": "",
           "title": {
            "standoff": 15
           },
           "zerolinecolor": "white",
           "zerolinewidth": 2
          },
          "yaxis": {
           "automargin": true,
           "gridcolor": "white",
           "linecolor": "white",
           "ticks": "",
           "title": {
            "standoff": 15
           },
           "zerolinecolor": "white",
           "zerolinewidth": 2
          }
         }
        }
       }
      }
     },
     "metadata": {},
     "output_type": "display_data"
    },
    {
     "name": "stdout",
     "output_type": "stream",
     "text": [
      "pitch -0.006092348395734171 results in AoA outside of the dataset and the additional extrapolation range\n",
      "pitch -0.008376979044134486 results in AoA outside of the dataset and the additional extrapolation range\n",
      "Convergence failed maximum amount of iterations was reached\n",
      "Convergence failed maximum amount of iterations was reached\n",
      "Convergence failed maximum amount of iterations was reached\n",
      "pitch -0.006092348395734171 results in AoA outside of the dataset and the additional extrapolation range\n",
      "pitch -0.008376979044134486 results in AoA outside of the dataset and the additional extrapolation range\n",
      "Convergence failed maximum amount of iterations was reached\n",
      "Convergence failed maximum amount of iterations was reached\n",
      "pitch -0.006092348395734171 results in AoA outside of the dataset and the additional extrapolation range\n",
      "pitch -0.008376979044134486 results in AoA outside of the dataset and the additional extrapolation range\n",
      "Convergence failed maximum amount of iterations was reached\n",
      "pitch -0.006092348395734171 results in AoA outside of the dataset and the additional extrapolation range\n",
      "pitch -0.008376979044134486 results in AoA outside of the dataset and the additional extrapolation range\n",
      "Convergence failed maximum amount of iterations was reached\n",
      "pitch -0.006092348395734171 results in AoA outside of the dataset and the additional extrapolation range\n",
      "pitch -0.008376979044134486 results in AoA outside of the dataset and the additional extrapolation range\n",
      "pitch -0.0106616096925348 results in AoA outside of the dataset and the additional extrapolation range\n",
      "Convergence failed maximum amount of iterations was reached\n"
     ]
    },
    {
     "data": {
      "application/vnd.plotly.v1+json": {
       "config": {
        "plotlyServerURL": "https://plot.ly"
       },
       "data": [
        {
         "type": "surface",
         "x": [
          [
           2500,
           3059.6293039586153,
           3619.258607917231,
           4178.887911875847,
           4738.517215834462
          ],
          [
           2500,
           3059.6293039586153,
           3619.258607917231,
           4178.887911875847,
           4738.517215834462
          ],
          [
           2500,
           3059.6293039586153,
           3619.258607917231,
           4178.887911875847,
           4738.517215834462
          ],
          [
           2500,
           3059.6293039586153,
           3619.258607917231,
           4178.887911875847,
           4738.517215834462
          ],
          [
           2500,
           3059.6293039586153,
           3619.258607917231,
           4178.887911875847,
           4738.517215834462
          ]
         ],
         "y": [
          [
           -20,
           -20,
           -20,
           -20,
           -20
          ],
          [
           -27.5,
           -27.5,
           -27.5,
           -27.5,
           -27.5
          ],
          [
           -35,
           -35,
           -35,
           -35,
           -35
          ],
          [
           -42.5,
           -42.5,
           -42.5,
           -42.5,
           -42.5
          ],
          [
           -50,
           -50,
           -50,
           -50,
           -50
          ]
         ],
         "z": [
          [
           0,
           0,
           0,
           0,
           0
          ],
          [
           0,
           0,
           0,
           0,
           0
          ],
          [
           0,
           2066.6409112024894,
           2790.705822559804,
           3775.0213441083724,
           0
          ],
          [
           0,
           0,
           2783.33425038023,
           3850.9282810172967,
           4929.994239650155
          ],
          [
           0,
           0,
           0,
           0,
           0
          ]
         ]
        }
       ],
       "layout": {
        "autosize": true,
        "margin": {
         "b": 65,
         "l": 65,
         "r": 50,
         "t": 90
        },
        "scene": {
         "camera": {
          "eye": {
           "x": 1.8,
           "y": 1.8,
           "z": 1.8
          }
         },
         "xaxis": {
          "title": {
           "text": "RPM"
          }
         },
         "yaxis": {
          "title": {
           "text": "$\\Delta \\beta$"
          }
         },
         "zaxis": {
          "title": {
           "text": "Thrust [N]"
          }
         }
        },
        "template": {
         "data": {
          "bar": [
           {
            "error_x": {
             "color": "#2a3f5f"
            },
            "error_y": {
             "color": "#2a3f5f"
            },
            "marker": {
             "line": {
              "color": "#E5ECF6",
              "width": 0.5
             },
             "pattern": {
              "fillmode": "overlay",
              "size": 10,
              "solidity": 0.2
             }
            },
            "type": "bar"
           }
          ],
          "barpolar": [
           {
            "marker": {
             "line": {
              "color": "#E5ECF6",
              "width": 0.5
             },
             "pattern": {
              "fillmode": "overlay",
              "size": 10,
              "solidity": 0.2
             }
            },
            "type": "barpolar"
           }
          ],
          "carpet": [
           {
            "aaxis": {
             "endlinecolor": "#2a3f5f",
             "gridcolor": "white",
             "linecolor": "white",
             "minorgridcolor": "white",
             "startlinecolor": "#2a3f5f"
            },
            "baxis": {
             "endlinecolor": "#2a3f5f",
             "gridcolor": "white",
             "linecolor": "white",
             "minorgridcolor": "white",
             "startlinecolor": "#2a3f5f"
            },
            "type": "carpet"
           }
          ],
          "choropleth": [
           {
            "colorbar": {
             "outlinewidth": 0,
             "ticks": ""
            },
            "type": "choropleth"
           }
          ],
          "contour": [
           {
            "colorbar": {
             "outlinewidth": 0,
             "ticks": ""
            },
            "colorscale": [
             [
              0,
              "#0d0887"
             ],
             [
              0.1111111111111111,
              "#46039f"
             ],
             [
              0.2222222222222222,
              "#7201a8"
             ],
             [
              0.3333333333333333,
              "#9c179e"
             ],
             [
              0.4444444444444444,
              "#bd3786"
             ],
             [
              0.5555555555555556,
              "#d8576b"
             ],
             [
              0.6666666666666666,
              "#ed7953"
             ],
             [
              0.7777777777777778,
              "#fb9f3a"
             ],
             [
              0.8888888888888888,
              "#fdca26"
             ],
             [
              1,
              "#f0f921"
             ]
            ],
            "type": "contour"
           }
          ],
          "contourcarpet": [
           {
            "colorbar": {
             "outlinewidth": 0,
             "ticks": ""
            },
            "type": "contourcarpet"
           }
          ],
          "heatmap": [
           {
            "colorbar": {
             "outlinewidth": 0,
             "ticks": ""
            },
            "colorscale": [
             [
              0,
              "#0d0887"
             ],
             [
              0.1111111111111111,
              "#46039f"
             ],
             [
              0.2222222222222222,
              "#7201a8"
             ],
             [
              0.3333333333333333,
              "#9c179e"
             ],
             [
              0.4444444444444444,
              "#bd3786"
             ],
             [
              0.5555555555555556,
              "#d8576b"
             ],
             [
              0.6666666666666666,
              "#ed7953"
             ],
             [
              0.7777777777777778,
              "#fb9f3a"
             ],
             [
              0.8888888888888888,
              "#fdca26"
             ],
             [
              1,
              "#f0f921"
             ]
            ],
            "type": "heatmap"
           }
          ],
          "heatmapgl": [
           {
            "colorbar": {
             "outlinewidth": 0,
             "ticks": ""
            },
            "colorscale": [
             [
              0,
              "#0d0887"
             ],
             [
              0.1111111111111111,
              "#46039f"
             ],
             [
              0.2222222222222222,
              "#7201a8"
             ],
             [
              0.3333333333333333,
              "#9c179e"
             ],
             [
              0.4444444444444444,
              "#bd3786"
             ],
             [
              0.5555555555555556,
              "#d8576b"
             ],
             [
              0.6666666666666666,
              "#ed7953"
             ],
             [
              0.7777777777777778,
              "#fb9f3a"
             ],
             [
              0.8888888888888888,
              "#fdca26"
             ],
             [
              1,
              "#f0f921"
             ]
            ],
            "type": "heatmapgl"
           }
          ],
          "histogram": [
           {
            "marker": {
             "pattern": {
              "fillmode": "overlay",
              "size": 10,
              "solidity": 0.2
             }
            },
            "type": "histogram"
           }
          ],
          "histogram2d": [
           {
            "colorbar": {
             "outlinewidth": 0,
             "ticks": ""
            },
            "colorscale": [
             [
              0,
              "#0d0887"
             ],
             [
              0.1111111111111111,
              "#46039f"
             ],
             [
              0.2222222222222222,
              "#7201a8"
             ],
             [
              0.3333333333333333,
              "#9c179e"
             ],
             [
              0.4444444444444444,
              "#bd3786"
             ],
             [
              0.5555555555555556,
              "#d8576b"
             ],
             [
              0.6666666666666666,
              "#ed7953"
             ],
             [
              0.7777777777777778,
              "#fb9f3a"
             ],
             [
              0.8888888888888888,
              "#fdca26"
             ],
             [
              1,
              "#f0f921"
             ]
            ],
            "type": "histogram2d"
           }
          ],
          "histogram2dcontour": [
           {
            "colorbar": {
             "outlinewidth": 0,
             "ticks": ""
            },
            "colorscale": [
             [
              0,
              "#0d0887"
             ],
             [
              0.1111111111111111,
              "#46039f"
             ],
             [
              0.2222222222222222,
              "#7201a8"
             ],
             [
              0.3333333333333333,
              "#9c179e"
             ],
             [
              0.4444444444444444,
              "#bd3786"
             ],
             [
              0.5555555555555556,
              "#d8576b"
             ],
             [
              0.6666666666666666,
              "#ed7953"
             ],
             [
              0.7777777777777778,
              "#fb9f3a"
             ],
             [
              0.8888888888888888,
              "#fdca26"
             ],
             [
              1,
              "#f0f921"
             ]
            ],
            "type": "histogram2dcontour"
           }
          ],
          "mesh3d": [
           {
            "colorbar": {
             "outlinewidth": 0,
             "ticks": ""
            },
            "type": "mesh3d"
           }
          ],
          "parcoords": [
           {
            "line": {
             "colorbar": {
              "outlinewidth": 0,
              "ticks": ""
             }
            },
            "type": "parcoords"
           }
          ],
          "pie": [
           {
            "automargin": true,
            "type": "pie"
           }
          ],
          "scatter": [
           {
            "fillpattern": {
             "fillmode": "overlay",
             "size": 10,
             "solidity": 0.2
            },
            "type": "scatter"
           }
          ],
          "scatter3d": [
           {
            "line": {
             "colorbar": {
              "outlinewidth": 0,
              "ticks": ""
             }
            },
            "marker": {
             "colorbar": {
              "outlinewidth": 0,
              "ticks": ""
             }
            },
            "type": "scatter3d"
           }
          ],
          "scattercarpet": [
           {
            "marker": {
             "colorbar": {
              "outlinewidth": 0,
              "ticks": ""
             }
            },
            "type": "scattercarpet"
           }
          ],
          "scattergeo": [
           {
            "marker": {
             "colorbar": {
              "outlinewidth": 0,
              "ticks": ""
             }
            },
            "type": "scattergeo"
           }
          ],
          "scattergl": [
           {
            "marker": {
             "colorbar": {
              "outlinewidth": 0,
              "ticks": ""
             }
            },
            "type": "scattergl"
           }
          ],
          "scattermapbox": [
           {
            "marker": {
             "colorbar": {
              "outlinewidth": 0,
              "ticks": ""
             }
            },
            "type": "scattermapbox"
           }
          ],
          "scatterpolar": [
           {
            "marker": {
             "colorbar": {
              "outlinewidth": 0,
              "ticks": ""
             }
            },
            "type": "scatterpolar"
           }
          ],
          "scatterpolargl": [
           {
            "marker": {
             "colorbar": {
              "outlinewidth": 0,
              "ticks": ""
             }
            },
            "type": "scatterpolargl"
           }
          ],
          "scatterternary": [
           {
            "marker": {
             "colorbar": {
              "outlinewidth": 0,
              "ticks": ""
             }
            },
            "type": "scatterternary"
           }
          ],
          "surface": [
           {
            "colorbar": {
             "outlinewidth": 0,
             "ticks": ""
            },
            "colorscale": [
             [
              0,
              "#0d0887"
             ],
             [
              0.1111111111111111,
              "#46039f"
             ],
             [
              0.2222222222222222,
              "#7201a8"
             ],
             [
              0.3333333333333333,
              "#9c179e"
             ],
             [
              0.4444444444444444,
              "#bd3786"
             ],
             [
              0.5555555555555556,
              "#d8576b"
             ],
             [
              0.6666666666666666,
              "#ed7953"
             ],
             [
              0.7777777777777778,
              "#fb9f3a"
             ],
             [
              0.8888888888888888,
              "#fdca26"
             ],
             [
              1,
              "#f0f921"
             ]
            ],
            "type": "surface"
           }
          ],
          "table": [
           {
            "cells": {
             "fill": {
              "color": "#EBF0F8"
             },
             "line": {
              "color": "white"
             }
            },
            "header": {
             "fill": {
              "color": "#C8D4E3"
             },
             "line": {
              "color": "white"
             }
            },
            "type": "table"
           }
          ]
         },
         "layout": {
          "annotationdefaults": {
           "arrowcolor": "#2a3f5f",
           "arrowhead": 0,
           "arrowwidth": 1
          },
          "autotypenumbers": "strict",
          "coloraxis": {
           "colorbar": {
            "outlinewidth": 0,
            "ticks": ""
           }
          },
          "colorscale": {
           "diverging": [
            [
             0,
             "#8e0152"
            ],
            [
             0.1,
             "#c51b7d"
            ],
            [
             0.2,
             "#de77ae"
            ],
            [
             0.3,
             "#f1b6da"
            ],
            [
             0.4,
             "#fde0ef"
            ],
            [
             0.5,
             "#f7f7f7"
            ],
            [
             0.6,
             "#e6f5d0"
            ],
            [
             0.7,
             "#b8e186"
            ],
            [
             0.8,
             "#7fbc41"
            ],
            [
             0.9,
             "#4d9221"
            ],
            [
             1,
             "#276419"
            ]
           ],
           "sequential": [
            [
             0,
             "#0d0887"
            ],
            [
             0.1111111111111111,
             "#46039f"
            ],
            [
             0.2222222222222222,
             "#7201a8"
            ],
            [
             0.3333333333333333,
             "#9c179e"
            ],
            [
             0.4444444444444444,
             "#bd3786"
            ],
            [
             0.5555555555555556,
             "#d8576b"
            ],
            [
             0.6666666666666666,
             "#ed7953"
            ],
            [
             0.7777777777777778,
             "#fb9f3a"
            ],
            [
             0.8888888888888888,
             "#fdca26"
            ],
            [
             1,
             "#f0f921"
            ]
           ],
           "sequentialminus": [
            [
             0,
             "#0d0887"
            ],
            [
             0.1111111111111111,
             "#46039f"
            ],
            [
             0.2222222222222222,
             "#7201a8"
            ],
            [
             0.3333333333333333,
             "#9c179e"
            ],
            [
             0.4444444444444444,
             "#bd3786"
            ],
            [
             0.5555555555555556,
             "#d8576b"
            ],
            [
             0.6666666666666666,
             "#ed7953"
            ],
            [
             0.7777777777777778,
             "#fb9f3a"
            ],
            [
             0.8888888888888888,
             "#fdca26"
            ],
            [
             1,
             "#f0f921"
            ]
           ]
          },
          "colorway": [
           "#636efa",
           "#EF553B",
           "#00cc96",
           "#ab63fa",
           "#FFA15A",
           "#19d3f3",
           "#FF6692",
           "#B6E880",
           "#FF97FF",
           "#FECB52"
          ],
          "font": {
           "color": "#2a3f5f"
          },
          "geo": {
           "bgcolor": "white",
           "lakecolor": "white",
           "landcolor": "#E5ECF6",
           "showlakes": true,
           "showland": true,
           "subunitcolor": "white"
          },
          "hoverlabel": {
           "align": "left"
          },
          "hovermode": "closest",
          "mapbox": {
           "style": "light"
          },
          "paper_bgcolor": "white",
          "plot_bgcolor": "#E5ECF6",
          "polar": {
           "angularaxis": {
            "gridcolor": "white",
            "linecolor": "white",
            "ticks": ""
           },
           "bgcolor": "#E5ECF6",
           "radialaxis": {
            "gridcolor": "white",
            "linecolor": "white",
            "ticks": ""
           }
          },
          "scene": {
           "xaxis": {
            "backgroundcolor": "#E5ECF6",
            "gridcolor": "white",
            "gridwidth": 2,
            "linecolor": "white",
            "showbackground": true,
            "ticks": "",
            "zerolinecolor": "white"
           },
           "yaxis": {
            "backgroundcolor": "#E5ECF6",
            "gridcolor": "white",
            "gridwidth": 2,
            "linecolor": "white",
            "showbackground": true,
            "ticks": "",
            "zerolinecolor": "white"
           },
           "zaxis": {
            "backgroundcolor": "#E5ECF6",
            "gridcolor": "white",
            "gridwidth": 2,
            "linecolor": "white",
            "showbackground": true,
            "ticks": "",
            "zerolinecolor": "white"
           }
          },
          "shapedefaults": {
           "line": {
            "color": "#2a3f5f"
           }
          },
          "ternary": {
           "aaxis": {
            "gridcolor": "white",
            "linecolor": "white",
            "ticks": ""
           },
           "baxis": {
            "gridcolor": "white",
            "linecolor": "white",
            "ticks": ""
           },
           "bgcolor": "#E5ECF6",
           "caxis": {
            "gridcolor": "white",
            "linecolor": "white",
            "ticks": ""
           }
          },
          "title": {
           "x": 0.05
          },
          "xaxis": {
           "automargin": true,
           "gridcolor": "white",
           "linecolor": "white",
           "ticks": "",
           "title": {
            "standoff": 15
           },
           "zerolinecolor": "white",
           "zerolinewidth": 2
          },
          "yaxis": {
           "automargin": true,
           "gridcolor": "white",
           "linecolor": "white",
           "ticks": "",
           "title": {
            "standoff": 15
           },
           "zerolinecolor": "white",
           "zerolinewidth": 2
          }
         }
        },
        "title": {
         "text": "Power plot 5 x 5 mesh "
        }
       }
      }
     },
     "metadata": {},
     "output_type": "display_data"
    }
   ],
   "source": [
    "# Define operatonal parameters\n",
    "thrust_req = 350\n",
    "v_cruise = 210/3.6\n",
    "h_cruise = 1200\n",
    "isa = tud.ISA(h_cruise) \n",
    "a_snd = isa.soundspeed() # Speed of sound\n",
    "rho_cr = isa.density() # Air density\n",
    "dyn_vis = isa.viscosity_dyn() # Dynamic viscosity\n",
    "\n",
    "# Define the specified conditions for the propeller geometry in the data structure\n",
    "prop_class = tud.Propeller(\n",
    "                    n_blades=6, # Number of blades\n",
    "                    r_prop=0.5, # propeller radius\n",
    "                    rpm_cruise=1200, \n",
    "                    tc_ratio=0.12,  # Thickness to chord ratio of airfoil\n",
    "                    xi_0=0.1 # nondimensional hub radius (r_hub/R)\n",
    "                    ) \n",
    "\n",
    "#---------------------------- Blade geometry optimization ---------------------------------\n",
    "# Initiazlie BEM class\n",
    "design = prop.BEM(data_path, prop_class, rho_cr, \n",
    "                  dyn_vis, v_cruise, n_stations, a_snd, T=thrust_req)\n",
    "\n",
    "# Execute the BEM optimisation with initial estimate of 0\n",
    "res_dict = design.optimise_blade(zeta_init=0)\n",
    "plot.plot_3D_plotly() # Creates an interactive 3D plot\n",
    "\n",
    "#------------------- Off design analysis ---------------------------------------------------------\n",
    "n = 5 # Mesh size\n",
    "\n",
    "pitch_arr  = np.linspace(-20, -50, n)\n",
    "rpm_arr = np.linspace(2500,rpm_hvr, n)\n",
    "X,Y = np.meshgrid(rpm_arr,pitch_arr)\n",
    "Z_thrust = np.zeros(X.shape)\n",
    "Z_eff = np.zeros(X.shape)\n",
    "Z_power = np.zeros(X.shape)\n",
    "\n",
    "for col, rpm in enumerate(rpm_arr):\n",
    "    hover_cond = prop.OffDesignAnalysisBEM(data_path, prop_class, v_hvr, rpm, rho, dyn_vis, a_snd)\n",
    "\n",
    "    for row, dpitch in enumerate(np.radians(pitch_arr)):\n",
    "        try:\n",
    "            res = hover_cond.analyse_propeller(dpitch, abs_extrapolation=7)\n",
    "        except ValueError:\n",
    "            print(f\"pitch {np.radians(dpitch)} results in AoA outside of the dataset and the additional extrapolation range\")\n",
    "            continue\n",
    "        except RuntimeError as error:\n",
    "            print(error)\n",
    "            continue\n",
    "\n",
    "        power_req = res[\"power_coeff\"]*rho*(rpm_hvr/60)**3*32*prop_class.r_prop**5/1e3\n",
    "\n",
    "        Z_thrust[row,col] = res[\"thrust\"]\n",
    "        Z_eff[row,col] = res[\"eff\"]*100\n",
    "        Z_power[row,col] =  power_req\n",
    "\n",
    "\n",
    "# Create the figure\n",
    "fig = go.Figure(data=[go.Surface(z=Z_thrust, x=X, y=Y)])\n",
    "fig.update_layout(\n",
    "    scene=dict(\n",
    "        xaxis_title='RPM',\n",
    "        yaxis_title=r'$\\Delta \\beta$',\n",
    "        zaxis_title=f'Thrust [N]'))\n",
    "\n",
    "fig.update_layout(\n",
    "    scene_camera=dict(\n",
    "        eye=dict(x=1.8, y=1.8, z=1.8)))\n",
    "\n",
    "fig.update_layout(title=f'{type} plot {n} x {n} mesh ', autosize=True,\n",
    "                margin=dict(l=65, r=50, b=65, t=90))\n",
    "\n",
    "# Show the plot\n",
    "fig.show()\n"
   ]
  }
 ],
 "metadata": {
  "kernelspec": {
   "display_name": "honours",
   "language": "python",
   "name": "python3"
  },
  "language_info": {
   "codemirror_mode": {
    "name": "ipython",
    "version": 3
   },
   "file_extension": ".py",
   "mimetype": "text/x-python",
   "name": "python",
   "nbconvert_exporter": "python",
   "pygments_lexer": "ipython3",
   "version": "3.11.3"
  }
 },
 "nbformat": 4,
 "nbformat_minor": 2
}
