{
 "cells": [
  {
   "cell_type": "markdown",
   "metadata": {},
   "source": [
    "# Preliminary sizing of a rotor blade\n",
    "\n",
    "As previously mentioned we will use the work of Adkins and Liebeck to perform both optimisation and off design analysis. Let us start with the rotor blade optimisation.\n",
    "\n",
    "The method has been implemented in Python in the package called `tuduam`, i.e TU Delft Urban Air Mobility. Hence, when creating the input we have to keep in mind the [documentation]() (<span style=\"color: red;\"> TODO: insert missing link) </span> on what the functions expect. Feel free to roam around the documentatin to see what other functionalities are offered by the package. Keep in mind however that the package is under active development.\n",
    "\n",
    "The design is initiated with the specified conditions of power (or thrust), hub and tip radius, rotational rate, freestream velocity, number of blades, and a finite number of stations at which blade geometry is to be determined. Let us define this in the next block\n",
    "\n",
    "## Defining the conditions\n",
    "\n",
    "Most of the code below does not need explaining, however as previusly mentioned we must take into account the [API documentation]() (<span style=\"color: red;\"> TODO: insert missing link).</span> Here it says that the blade parameter must be defined in the `Propeller` data structure. Furthermore, BEM analysis requires airfoil polar at a large range of reynolds numbers. `tuduam` relies on the user to input this data in the form of a path to a directory which contains all the polars. These files should be in the common format outputted by [xfoil](https://web.mit.edu/drela/Public/web/xfoil/). A tutorial on how to create this data has also been made [here]()(<span style=\"color: red;\"> TODO: insert missing link to data creation notebook). </span>. Sample data is available hower in the repository for the NACA 4412, a common propeller airfoil. The airfoil is shown in [Figure 1](#figure1)\n",
    "\n",
    "<br>\n",
    "<p align=\"center\"  id=\"figure1\" style=\"background-color: white;\">\n",
    "<img src=\"https://raw.githubusercontent.com/saullocastro/tuduam/a72a0cda735d7ed3a0878f209f3181f2dc2f9d3c/notebooks/static/naca4412-il.svg\" width=\"400\" /> \n",
    " <br>\n",
    "</p>\n",
    "<p align=\"center\">\n",
    "<em>Figure 1: The NACA 4412 airfoil</em>\n",
    "</p>\n",
    "<br>"
   ]
  },
  {
   "cell_type": "code",
   "execution_count": 1,
   "metadata": {},
   "outputs": [],
   "source": [
    "import sys\n",
    "import os\n",
    "sys.path.insert(0, os.path.dirname(os.path.abspath('')))\n",
    "\n",
    "import tuduam as tud\n",
    "import tuduam.propulsion as prop\n",
    "\n",
    "# Define operatonal parameters\n",
    "v_cruise = 210/3.6\n",
    "h_cruise = 1200\n",
    "isa = tud.ISA(h_cruise) \n",
    "a_snd = isa.soundspeed()\n",
    "rho_cr = isa.density()\n",
    "dyn_vis = isa.viscosity_dyn()\n",
    "\n",
    "# Define the specified conditions for the \n",
    "# propeller geometry in the data structure\n",
    "prop_class = tud.Propeller(\n",
    "                    n_blades=3, # Number of blades\n",
    "                    r_prop=0.3,\n",
    "                    rpm_cruise=1200, \n",
    "                    xi_0=0.1 # nondimensional hub radius (r_hub/R)\n",
    "                    ) "
   ]
  },
  {
   "cell_type": "markdown",
   "metadata": {},
   "source": [
    "# Running the optimisation\n",
    "\n",
    "Having defined the conditions we now run the actual optimisation. In the code it will be as simple as calling a single line however there is much going on in the background. A general overview of procedure is described here however for a full description refer to the paper (download link available in the course in sources). \n",
    "\n",
    "The general procedure can be condensed to the following:\n",
    "\n",
    "1. Select an initial estimate for $\\zeta$, the displacement velocity ratio ($\\zeta$ = 0 will work).\n",
    "2. Determine the values for $F$, the Prandtl momentum loss factor, and $\\phi$, the flow angle, at each blade station.\n",
    "3. Determine the product $Wc$, the local velocity multiplied by the local chord. Additionally, compute the Reynolds number.\n",
    "4. Determine $\\epsilon$, the drag-to-lift ratio, and $\\alpha$, the angle of attack, from airfoil section data.\n",
    "5. If $\\epsilon$ is to be minimized, change $C_l$, and repeat Steps 3 and 4 until this is accomplished at each station.\n",
    "6. Determine $\\alpha$ and $\\alpha'$, the axial and rotational interference factor, respectively.\n",
    "7. Compute the chord from Step 3, and the blade twist $\\beta = \\alpha + \\phi$.\n",
    "8. Determine the four derivatives in I and J, and numerically integrate these from the non-dimensional hub radius, $\\xi_0$ to the non-dimensional radius $\\xi$ = 1.\n",
    "9. Determine $\\zeta$ and $T_c$, the thrust coefficient.\n",
    "10. If this new value for $\\zeta$ is not sufficiently close to the old one (e.g., within 0.1\\%), start over at step 2 using the new $\\zeta$.\n",
    "11. Determine propeller efficiency as $\\eta = \\frac{T}{P_c}$, and other features such as solidity.\n",
    "\n",
    "Let us now run and plot the resulting blade geometry. Before doing so "
   ]
  },
  {
   "cell_type": "code",
   "execution_count": null,
   "metadata": {},
   "outputs": [],
   "source": [
    "design = prop.BEM"
   ]
  }
 ],
 "metadata": {
  "kernelspec": {
   "display_name": "honours",
   "language": "python",
   "name": "python3"
  },
  "language_info": {
   "codemirror_mode": {
    "name": "ipython",
    "version": 3
   },
   "file_extension": ".py",
   "mimetype": "text/x-python",
   "name": "python",
   "nbconvert_exporter": "python",
   "pygments_lexer": "ipython3",
   "version": "3.11.3"
  }
 },
 "nbformat": 4,
 "nbformat_minor": 2
}
