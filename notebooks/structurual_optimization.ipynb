{
  "cells": [
    {
      "cell_type": "markdown",
      "metadata": {
        "id": "ULZ3pEqpPILc"
      },
      "source": [
        "# Structural Optimization of a wingbox\n",
        "\n",
        "In the previous notebook we have seen the structural analysis of a single wingbox cell. We would like however to use these tools to optimize the various parameters of the wingbox in order to minimize the weight of the structure. In order to do so let's remind ourselves what exactly we can change in order to improve the performance of this wingbox.\n",
        "\n",
        "In the previous notebook we had defined the following parameters in order to perform the analysis.\n",
        "\n",
        "- $n_{cell}$    - Number of cells\n",
        "- $\\text{loc}_{sp}$    - The location of the spars\n",
        "- $t_{sk}$      - The thickness of the skin in each cell\n",
        "- $A_{str}$     - The area of the stringers\n",
        "- $t_{sp}$      -  The thickness of the spars\n",
        "- $n_{str}$     - The amount of stringers per cell\n",
        "\n",
        "\n",
        "These variables were then loaded in the API data structure as shown below:\n",
        "\n",
        "```C\n",
        "attr_dict = {\n",
        "    \"n_cell\":4,\n",
        "    \"spar_loc_nondim\":[0.3, 0.5, 0.7],\n",
        "    \"t_sk_cell\":[0.002,0.004,0.004, 0.004],\n",
        "    \"area_str\":20e-6,\n",
        "    \"t_sp\":0.008,\n",
        "    \"str_cell\":[8,8,7,8]\n",
        "}\n",
        "\n",
        "wingbox_struct = tud.Wingbox(**attr_dict)\n",
        "```\n",
        "\n",
        "The parameters which we will optimize for are the skin thickness in each cell, the area of the stringers, the thickness of the spars and finally the stringer of the cell. This leaves the amount of cells, the spar locations and the bay length to be decided by the designers. The reasoning behind this is that usually your rib and spar locations are constrained the  placement of other systems in the wing such as the flap and slat mechanism. Below a summary can be found of the fixed and optimization parameters:\n",
        "\n",
        "\n",
        "| **Optimiziation Parameters**         \t| **Fixed Parameters** \t|\n",
        "|--------------------------------------\t|----------------------\t|\n",
        "| Skin thickness in each cell          \t| The amount of cells  \t|\n",
        "| Stringer area                        \t| Spar locations       \t|\n",
        "| Spar thickness                       \t| Bay length           \t|\n",
        "| The amount of stringers in each cell \t|                      \t|\n",
        "\n",
        "\n",
        "# Laying out a framework for a full wing optimization\n",
        "\n",
        "In order define our constraints later on we will have to divide the wing in sections called bays. Each bay is enclosed by two ribs, thus the length of these bays is for the designer to decide. Once, a bay is defined, we can further split this up in a collection of flat sheets. Where each sheet is in turn enclosed by stringers. The boundary conditions for these stringers have been decided to be simply supported. In [figure 1](#figure1) we can see the result of the partitioning that was just described. Although we will not model the effects of taper (Future implementation).\n",
        "\n",
        "<br>\n",
        "<p align=\"left\"  id=\"figure1\" >\n",
        "<img src=\"https://github.com/saullocastro/tuduam/blob/main/doc/_static/wing_bay_sheet.png?raw=true\" width=\"600\" />\n",
        " <br>\n",
        "</p>\n",
        "<p align=\"left\">\n",
        "<em>Figure 1: Wing modeled as a combination of simply supported sheets and simply supported bays. Figure taken from T.H.G Megson, Aircraft  Structures For Engineering Students</em>\n",
        "</p>\n",
        "<br>\n",
        "\n",
        "Now that our wing has been divided into bays, and the bays respectively into sheets we can limit the scope of the optimization. Instead, of optimizing for the entire wing simultaneously we will optimize each bay. In [figure 2](#figure2)\n",
        "\n",
        "<br>\n",
        "<p align=\"left\"  id=\"figure2\" >\n",
        "<img src=\"https://raw.githubusercontent.com/saullocastro/tuduam/6e2a96b1fd444969175b2b61de6eb1fc9b94a9d5/doc/_static/Optimization_procedure.svg\" width=\"600\" style=\"background-color: white;\"/>\n",
        " <br>\n",
        "</p>\n",
        "<p align=\"left\">\n",
        "<em>Figure 2: An overview of the optimization procedure for an entire wing.  </em>\n",
        "</p>\n",
        "<br>\n",
        "\n",
        "# Constraining the design\n",
        "\n",
        "During the optimization it is important we set the minimum constraints the design should meet. Otherwise, the optimum solution would be no wingbox at all. For the API documentation of all these constraints please visit [constraints documentation](https://saullocastro.github.io/tuduam/constraints.html). We'll cover the most important ones in this document and link to the documentation for the remainder of the constraints.\n",
        "\n",
        "### Buckling\n",
        "\n",
        "As previously discussed, a section of the wingbox is divided up in plates. Knowing these plates are simply supported we can compute the critical instability in both shear and compression using  equations 1 and 2, respectively:\n",
        "\n",
        "$$\n",
        "\\tag{1}\n",
        "\\sigma_{cr} = k_b  \\frac{pi^2 E}{12(1 - \\nu)} \\left(\\frac{t_{sk}}{b}\\right)^2\n",
        "$$\n",
        "\n",
        "$$\n",
        "\\tag{2}\n",
        "\\sigma_{cr} = k_c  \\frac{pi^2 E}{12(1 - \\nu)} \\left(\\frac{t_{sk}}{b}\\right)^2\n",
        "$$\n",
        "\n",
        "For the specifics on $k_b$ and $k_c$, please review the [API documentation](https://saullocastro.github.io/tuduam/).\n",
        "\n",
        "Whilst, we could simply apply them individually these two critical loads are not independent from each other. In increased shear loading, decreases the compression capability of the sheet. Hence, we use an interaction curve as described in equation 3.\n",
        "\n",
        "$$\n",
        "\\tag{3}\n",
        "\\frac{N_x}{N_{x,crit}} + \\left(\\frac{N_{xy}}{N_{xy,crit}}\\right)^2 < 1\n",
        "$$\n",
        "\n",
        "In equation 3, $N_{x,crit}$ is computed with equation 2 and $N_{xy,crit}$ with equation 1. $N_x$ and $N_{xy}$ are the loads specified by the user. \n",
        "\n",
        "Finally, we also constrain the design using global skin buckling as a stiffened panel can also buckle as a whole. \n",
        "In this case, the width of the panel is utilized instead of the stringer pitch, and simply supported conditions \n",
        "can be assumed. The contribution of the stringers that still provide a stiffening effect can be considered by \n",
        "smearing their thickness to the skin thickness, as in Equation 47.\n",
        "\n",
        "$$\n",
        "\\tag{47}\n",
        "t_{smeared} = \\frac{t_{sk} \\cdot b + N_{str} \\cdot A_{st}}{b}\n",
        "$$\n",
        "\n",
        "The smeared thickness is substituted in the equation for critical sheet compression.\n",
        "The constraint is expressed below.\n",
        "\n",
        "$$\n",
        "\\sigma_{cr,glob} - \\sigma_{cr,loc} \\geq 0\n",
        "$$\n",
        "\n",
        "\n",
        "### Von Mises failure Criterion\n",
        "\n",
        "\n",
        "Besides buckling we also do not want the wingbox to yield. Hence we also apply the von Mises yield criterion. Considering the direct stresses and plane stresses that occur in the wingbox we can derive equation 4.\n",
        "\n",
        "\n",
        "\n",
        "\n",
        "$$\n",
        "\\begin{align*}\n",
        "\\sigma_y & \\geq  \\sigma_v \\\\\n",
        "\\tag{4}\n",
        "\\sigma_y    & \\geq  \\sqrt{\\sigma_{11}^2 + 3\\tau^2} \\\\\n",
        "\\end{align*}\n",
        "$$\n",
        "\n",
        "Abiding by this constraint ensures that the wingbox does not yield under the expected loads.\n",
        "\n",
        "### Other constraints\n",
        "\n",
        "- [Column Stringer buckling](https://saullocastro.github.io/tuduam/constraints.html#tuduam.structures.constraints.IsotropicWingboxConstraints.column_str_buckling)\n",
        "- [Crippling](https://saullocastro.github.io/tuduam/constraints.html#tuduam.structures.constraints.IsotropicWingboxConstraints.crippling)\n",
        "- []()\n",
        "\n",
        "\n"
      ]
    },
    {
      "cell_type": "markdown",
      "metadata": {
        "id": "qwmXwWVVYsdn"
      },
      "source": [
        "# Leveraging Python for the optimization\n",
        "\n",
        "In order to leverage Python for our optimization, we will first have to install two libraries into the `google collab` environment. These are `tuduam` and `pymoo`, tuduam is a library specifically tailored for this course and pymoo a library for multi-objective optimization. Please run the code cell below in order to do."
      ]
    },
    {
      "cell_type": "code",
      "execution_count": 1,
      "metadata": {
        "colab": {
          "base_uri": "https://localhost:8080/"
        },
        "id": "h5kszYMmPILe",
        "outputId": "8a8ab872-ce52-4286-cae3-fdc4c4701c9e"
      },
      "outputs": [
        {
          "name": "stderr",
          "output_type": "stream",
          "text": [
            "fatal: destination path 'tuduam' already exists and is not an empty directory.\n"
          ]
        }
      ],
      "source": [
        "# !pip install tuduam\n",
        "# !pip install pymoo\n",
        "!git clone https://github.com/saullocastro/tuduam.git\n",
        "# If the following error occurs \"fatal: destination path 'tuduam' already exists and is not an empty directory.\" please continue as your environment is already set up correctly"
      ]
    },
    {
      "cell_type": "markdown",
      "metadata": {
        "id": "6G0qdsbrWF1H"
      },
      "source": [
        "# Initialisation of parameters\n",
        "\n",
        "To start the initialisation of the optimisation that we are going to perform  there are a two parameters that require a definition as these are designer choices."
      ]
    },
    {
      "cell_type": "code",
      "execution_count": 9,
      "metadata": {
        "id": "MlqExrbPPILf"
      },
      "outputs": [
        {
          "ename": "FileNotFoundError",
          "evalue": "[WinError 2] The system cannot find the file specified: 'C:\\\\Users\\\\damie\\\\OneDrive\\\\Desktop\\\\Damien\\\\UAM_course\\\\tuduam_repo'",
          "output_type": "error",
          "traceback": [
            "\u001b[1;31m---------------------------------------------------------------------------\u001b[0m",
            "\u001b[1;31mFileNotFoundError\u001b[0m                         Traceback (most recent call last)",
            "Cell \u001b[1;32mIn[9], line 4\u001b[0m\n\u001b[0;32m      2\u001b[0m \u001b[38;5;28;01mimport\u001b[39;00m \u001b[38;5;21;01msys\u001b[39;00m\n\u001b[0;32m      3\u001b[0m \u001b[38;5;28;01mimport\u001b[39;00m \u001b[38;5;21;01mtuduam\u001b[39;00m\n\u001b[1;32m----> 4\u001b[0m \u001b[43mos\u001b[49m\u001b[38;5;241;43m.\u001b[39;49m\u001b[43mchdir\u001b[49m\u001b[43m(\u001b[49m\u001b[38;5;124;43mr\u001b[39;49m\u001b[38;5;124;43m\"\u001b[39;49m\u001b[38;5;124;43mC:\u001b[39;49m\u001b[38;5;124;43m\\\u001b[39;49m\u001b[38;5;124;43mUsers\u001b[39;49m\u001b[38;5;124;43m\\\u001b[39;49m\u001b[38;5;124;43mdamie\u001b[39;49m\u001b[38;5;124;43m\\\u001b[39;49m\u001b[38;5;124;43mOneDrive\u001b[39;49m\u001b[38;5;124;43m\\\u001b[39;49m\u001b[38;5;124;43mDesktop\u001b[39;49m\u001b[38;5;124;43m\\\u001b[39;49m\u001b[38;5;124;43mDamien\u001b[39;49m\u001b[38;5;124;43m\\\u001b[39;49m\u001b[38;5;124;43mUAM_course\u001b[39;49m\u001b[38;5;124;43m\\\u001b[39;49m\u001b[38;5;124;43mtuduam_repo\u001b[39;49m\u001b[38;5;124;43m\"\u001b[39;49m\u001b[43m)\u001b[49m\n\u001b[0;32m      5\u001b[0m sys\u001b[38;5;241m.\u001b[39mpath\u001b[38;5;241m.\u001b[39minsert(\u001b[38;5;241m0\u001b[39m,\u001b[38;5;124mr\u001b[39m\u001b[38;5;124m\"\u001b[39m\u001b[38;5;124mC:\u001b[39m\u001b[38;5;124m\\\u001b[39m\u001b[38;5;124mUsers\u001b[39m\u001b[38;5;124m\\\u001b[39m\u001b[38;5;124mdamie\u001b[39m\u001b[38;5;124m\\\u001b[39m\u001b[38;5;124mOneDrive\u001b[39m\u001b[38;5;124m\\\u001b[39m\u001b[38;5;124mDesktop\u001b[39m\u001b[38;5;124m\\\u001b[39m\u001b[38;5;124mDamien\u001b[39m\u001b[38;5;124m\\\u001b[39m\u001b[38;5;124mUAM_course\u001b[39m\u001b[38;5;124m\\\u001b[39m\u001b[38;5;124mtuduam_repo\u001b[39m\u001b[38;5;124m\"\u001b[39m)\n\u001b[0;32m      6\u001b[0m \u001b[38;5;28mprint\u001b[39m(os\u001b[38;5;241m.\u001b[39mgetcwd())\n",
            "\u001b[1;31mFileNotFoundError\u001b[0m: [WinError 2] The system cannot find the file specified: 'C:\\\\Users\\\\damie\\\\OneDrive\\\\Desktop\\\\Damien\\\\UAM_course\\\\tuduam_repo'"
          ]
        }
      ],
      "source": [
        "import os\n",
        "from tuduam.data_structures import Material, Wingbox\n",
        "\n",
        "\n",
        "attr_dict = {\n",
        "    \"n_cell\":4,\n",
        "    \"spar_loc_nondim\":[0.3, 0.5, 0.75],\n",
        "}\n",
        "\n",
        "mat_dict = {\n",
        "        \"young_modulus\":3e9,\n",
        "        \"shear_modulus\":80e9,\n",
        "        \"safety_factor\":1.5,\n",
        "        \"load_factor\":1.2,\n",
        "        \"poisson\":0.3,\n",
        "        \"density\":1600,\n",
        "        \"beta_crippling\":1.42,\n",
        "        \"sigma_ultimate\":407000000.0,\n",
        "        \"sigma_yield\":407000000.0,\n",
        "        \"g_crippling\":5\n",
        "    }\n",
        "\n",
        "mat_struct = Material(**mat_dict)\n",
        "wingbox_struct = Wingbox(**attr_dict)"
      ]
    },
    {
      "cell_type": "markdown",
      "metadata": {
        "id": "y456Vm7U6eGH"
      },
      "source": [
        "Having this definitnon we can now start the optimization. Before continuing it is probably useful to first take a look through the API documentation for the class and its methods that we will be using. The class that we will be using is `SectionOpt` which is situated in the `structures`subpackage in tuduam. The link to the [API docs](https://saullocastro.github.io/tuduam/optimization.html#tuduam.structures.optimization.SectionOpt) can be found here.\n",
        "\n",
        "Before iterating for an entire wing, let us first do an example for a single section. We'll take a section of the wing where the mean chord, $\\bar{c} = 2$ and the length of this section $b = 1.2$. For the airfoil, we'll use th NACA 4412. For the amount of cells and spar locations we'll use the previously defined values."
      ]
    },
    {
      "cell_type": "code",
      "execution_count": null,
      "metadata": {
        "id": "YY6uewag_YOQ"
      },
      "outputs": [
        {
          "ename": "ImportError",
          "evalue": "cannot import name 'SectionOpt' from 'tuduam.structures' (c:\\Users\\damie\\anaconda3\\envs\\tuduam\\Lib\\site-packages\\tuduam\\structures\\__init__.py)",
          "output_type": "error",
          "traceback": [
            "\u001b[1;31m---------------------------------------------------------------------------\u001b[0m",
            "\u001b[1;31mImportError\u001b[0m                               Traceback (most recent call last)",
            "Cell \u001b[1;32mIn[10], line 1\u001b[0m\n\u001b[1;32m----> 1\u001b[0m \u001b[38;5;28;01mfrom\u001b[39;00m \u001b[38;5;21;01mtuduam\u001b[39;00m\u001b[38;5;21;01m.\u001b[39;00m\u001b[38;5;21;01mstructures\u001b[39;00m \u001b[38;5;28;01mimport\u001b[39;00m SectionOpt\n\u001b[0;32m      3\u001b[0m chord \u001b[38;5;241m=\u001b[39m \u001b[38;5;241m2\u001b[39m \u001b[38;5;66;03m# Chord length\u001b[39;00m\n\u001b[0;32m      4\u001b[0m coord_path \u001b[38;5;241m=\u001b[39m os\u001b[38;5;241m.\u001b[39mpath\u001b[38;5;241m.\u001b[39mrealpath(os\u001b[38;5;241m.\u001b[39mpath\u001b[38;5;241m.\u001b[39mjoin(os\u001b[38;5;241m.\u001b[39mpath\u001b[38;5;241m.\u001b[39mabspath(\u001b[38;5;124m'\u001b[39m\u001b[38;5;124m.\u001b[39m\u001b[38;5;124m'\u001b[39m),  \u001b[38;5;124m'\u001b[39m\u001b[38;5;124mexamples\u001b[39m\u001b[38;5;124m'\u001b[39m, \u001b[38;5;124m'\u001b[39m\u001b[38;5;124mnaca_4412.txt\u001b[39m\u001b[38;5;124m'\u001b[39m)) \u001b[38;5;66;03m# Path to airfoil coordinates\u001b[39;00m\n",
            "\u001b[1;31mImportError\u001b[0m: cannot import name 'SectionOpt' from 'tuduam.structures' (c:\\Users\\damie\\anaconda3\\envs\\tuduam\\Lib\\site-packages\\tuduam\\structures\\__init__.py)"
          ]
        }
      ],
      "source": [
        "from tuduam.structures import SectionOpt\n",
        "\n",
        "chord = 2 # Chord length\n",
        "coord_path = os.path.realpath(os.path.join(os.path.abspath('.'),  'examples', 'naca_4412.txt')) # Path to airfoil coordinates\n",
        "len_sec = 1.2 # Lenght of the section\n",
        "\n",
        "opt_obj = SectionOpt(coord_path, chord, len_sec, wingbox_struct, mat_struct)"
      ]
    },
    {
      "cell_type": "markdown",
      "metadata": {
        "id": "EC4p94hYBHAV"
      },
      "source": [
        "Remember figure 2 which portrayed the top view of the optimization loop. Let us start at the core, i.e the optimization that is run for a fixed amount of stringers. For us these stringers were defined `wingbox_struct`. This optimization in the library is defined in the method `GA_optimize`, here you can find the [specifics](https://saullocastro.github.io/tuduam/optimization.html#tuduam.structures.optimization.SectionOpt.GA_optimize).\n",
        "\n",
        "Let's run the optimization below with some typical values for the loads! Also note that we specify the upper and lower boundsFeel free to alter them and watch the design change. \n"
      ]
    },
    {
      "cell_type": "code",
      "execution_count": null,
      "metadata": {
        "colab": {
          "base_uri": "https://localhost:8080/",
          "height": 685
        },
        "id": "mgGmfnVjDT-u",
        "outputId": "997465c4-78ba-4f6b-d8ed-82ef8afb1099"
      },
      "outputs": [
        {
          "ename": "AttributeError",
          "evalue": "module 'tuduam.structures' has no attribute 'SectionOpt'",
          "output_type": "error",
          "traceback": [
            "\u001b[1;31m---------------------------------------------------------------------------\u001b[0m",
            "\u001b[1;31mAttributeError\u001b[0m                            Traceback (most recent call last)",
            "Cell \u001b[1;32mIn[5], line 6\u001b[0m\n\u001b[0;32m      4\u001b[0m moment_x \u001b[38;5;241m=\u001b[39m \u001b[38;5;241m30e3\u001b[39m\n\u001b[0;32m      5\u001b[0m applied_loc \u001b[38;5;241m=\u001b[39m \u001b[38;5;241m0.45\u001b[39m\n\u001b[1;32m----> 6\u001b[0m opt \u001b[38;5;241m=\u001b[39m \u001b[43mstruct\u001b[49m\u001b[38;5;241;43m.\u001b[39;49m\u001b[43mSectionOpt\u001b[49m(coord_path, chord, len_sec, wingbox_struct, mat_struct)\n\u001b[0;32m      8\u001b[0m upper_bnds \u001b[38;5;241m=\u001b[39m \u001b[38;5;241m8\u001b[39m\u001b[38;5;241m*\u001b[39m[\u001b[38;5;241m0.013\u001b[39m]\n\u001b[0;32m      9\u001b[0m lower_bnds \u001b[38;5;241m=\u001b[39m \u001b[38;5;241m4\u001b[39m\u001b[38;5;241m*\u001b[39m[\u001b[38;5;241m0.0001\u001b[39m] \u001b[38;5;241m+\u001b[39m  [\u001b[38;5;241m0.003\u001b[39m] \u001b[38;5;241m+\u001b[39m [\u001b[38;5;241m0.001\u001b[39m] \u001b[38;5;241m+\u001b[39m \u001b[38;5;241m2\u001b[39m\u001b[38;5;241m*\u001b[39m[\u001b[38;5;241m0.003\u001b[39m] \n",
            "\u001b[1;31mAttributeError\u001b[0m: module 'tuduam.structures' has no attribute 'SectionOpt'"
          ]
        }
      ],
      "source": [
        "shear_y = 40e3\n",
        "shear_x = 15000\n",
        "moment_y = 4e2\n",
        "moment_x = 30e3\n",
        "applied_loc = 0.45\n",
        "opt = SectionOpt(coord_path, chord, len_sec, wingbox_struct, mat_struct)\n",
        "\n",
        "upper_bnds = 8*[0.013]\n",
        "lower_bnds = 4*[0.0001] +  [0.003] + [0.001] + 2*[0.003] \n",
        "res =  opt.GA_optimize(shear_y, shear_x, moment_y, moment_x, applied_loc, upper_bnds, lower_bnds, pop=100, n_gen= 20,multiprocess=True, verbose= True)\n",
        "\n",
        "print(f\"======== Results ==========\")\n",
        "print(f\"Skin thickness = {np.array(res.X[:4])*1000} mm\" )\n",
        "print(f\"Spar thickness = {res.X[4]*1000} mm\")\n",
        "print(f\"Stringer thickness = {res.X[5]*1000} mm\")\n",
        "print(f\"Stringer  width= {res.X[6]*1000} mm\")\n",
        "print(f\"Stringer height = {res.X[7]*1000} mm\")\n",
        "\n",
        "# res =  opt_obj.full_section_opt(, pop=100, pop_full= 10, n_gen= 5 ,n_gen_full= 2)"
      ]
    },
    {
      "cell_type": "markdown",
      "metadata": {},
      "source": [
        "We can also get to know more about the history "
      ]
    }
  ],
  "metadata": {
    "colab": {
      "provenance": []
    },
    "kernelspec": {
      "display_name": "Python 3",
      "language": "python",
      "name": "python3"
    },
    "language_info": {
      "codemirror_mode": {
        "name": "ipython",
        "version": 3
      },
      "file_extension": ".py",
      "mimetype": "text/x-python",
      "name": "python",
      "nbconvert_exporter": "python",
      "pygments_lexer": "ipython3",
      "version": "3.11.7"
    }
  },
  "nbformat": 4,
  "nbformat_minor": 0
}
