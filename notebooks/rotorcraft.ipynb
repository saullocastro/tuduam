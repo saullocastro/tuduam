{
 "cells": [
  {
   "cell_type": "markdown",
   "metadata": {},
   "source": [
    "## Rotorcraft pitch response for different rotor hinge spring constants  with no flap dynamics\n",
    "**Source: Prof. Marilena Pavel**\n",
    "\n",
    "In the following tutorial we will compute the pitch reponse for a rotorcraft considering the rotor hinge spring constant. If you're unsure what a certain variable means at anytime, please find the nomeclature below. Before we perform the simulation a small recap of the pitch equation of motion is shown below. The basic equation of motion for angular acceleration is as follows:\n",
    "\n",
    "$$\n",
    "\\Sigma M = I_g \\alpha\n",
    "$$\n",
    "\n",
    "In order to apply this to helicopter the basic equation of motion in the pitch plane can be described as shown below. \n",
    "\n",
    "$$\n",
    "\\begin{equation}\n",
    "\\tag{1}\n",
    "M_y  = I_y \\frac{dq}{dt} = I_y \\dot{q}\n",
    "\\end{equation}\n",
    "$$\n",
    "\n",
    "Then using the expression for $M_y$ as shown in equation 2\\*\\* which is derived from [Figure 1](#figure1) (lecture slide 15). \n",
    "\n",
    "$$\n",
    "\\begin{equation}\n",
    "\\large\n",
    "\\tag{2**}\n",
    "M_y  = T sin(\\theta_c - a_1)\\cdot h - \\frac{N}{2}(\\theta_c - a_1)K_{\\beta}\n",
    "\\end{equation}\n",
    "$$\n",
    "\n",
    "<br>\n",
    "<p align=\"center\"  id=\"figure1\">\n",
    "<img src=\"https://github.com/saullocastro/tuduam/blob/main/notebooks/static/pitch_EOM_heli.png?raw=true\" width=\"400\" /> \n",
    " <br>\n",
    "<em>Figure 1: Free body diagram of a pitching helicopter</em>\n",
    "</p>\n",
    "<br>\n",
    "\n",
    "\n",
    "We can  then rewrite equation 1 to the form shown in equation 3\\* by substituting equation 2\\*\\*.\n",
    "\n",
    "$$\n",
    "\\begin{equation}\n",
    "\\tag{3*}\n",
    "\\begin{split}\n",
    "\\dot{q} & = -\\frac{T}{I_y} h sin(\\theta_c - a_1)  - \\frac{N}{2 I_y} K_{\\beta} (\\theta_c - a_1) \\\\\n",
    "& \\text{Then using the linearization } sin(\\theta_c - a_1) \\approx (\\theta_c - a_1) \\text{ we can write:} \\\\\n",
    "\\dot{q} & = \\frac{Th + (N/2)K_{\\beta}}{I_y} \\cdot (\\theta_c - a_1) \\\\\n",
    "\\dot{q} & = K`  (\\theta_c - a_1) \\\\\n",
    "\\end{split}\n",
    "\\end{equation}\n",
    "$$\n",
    "\n",
    "This equation will be used to derive a solution to the pitch motion of the aircraft over time in the proceeding sections.\n",
    "\n",
    "## Nomenclature\n",
    "\n",
    "$q$ = $\\frac{d \\theta}{dt}$ =  pitch rate  \n",
    "$\\dot{q}$ = $\\frac{d^2 \\theta}{dt^2}$ =  pitch acceleration \n",
    "$T$ =  Thrust in Newtons\n",
    "$h$ =  Distance between the CG and the line of action of the x-component of the thrust.  \n",
    "$K_{\\beta}$ =  Rotor spring constant in Newton-meters  \n",
    "$N$ = Number of blades  \n",
    "$\\theta_c$ = Cyclic input from the pilot in radians    \n",
    "$a_1$ =  Rotor flap in radians, approximated by $-\\frac{16}{\\gamma}\\frac{q}{\\Omega}$    \n",
    "$\\gamma$ =  Lock number, the ratio of aerodynamics forces to inertial forces  \n",
    "$K`$ =   See equation 3\\*\n",
    "\n",
    "\n",
    "\n"
   ]
  },
  {
   "cell_type": "markdown",
   "metadata": {},
   "source": [
    "### Introduce relevant constants and import the relevant libraries\n",
    "\n",
    "In order to perform the dynamic analysis we must first set the physical properties of the aircraft. The relevant parameters are shown hereunder. Please see the comments in the code and the nomenclature for furhter explanation on what the paremeters are and their units.\n",
    "\n"
   ]
  },
  {
   "cell_type": "code",
   "execution_count": 1,
   "metadata": {},
   "outputs": [
    {
     "name": "stdout",
     "output_type": "stream",
     "text": [
      "Rpm =  260.91\n",
      "K` with rotor spring modelling =  8.53 [rad/s^2]\n",
      "K` without rotor spring modelling =  2.03 [rad/s^2]\n"
     ]
    }
   ],
   "source": [
    "import numpy as np\n",
    "import matplotlib.pyplot as plt\n",
    "\n",
    "\n",
    "lok = 6  # Lock number (-)\n",
    "mass = 2200  # Rotorcraft mass (kg)\n",
    "vtip = 200  # Rotor tip speed (m/sec)\n",
    "rotor_radius= 7.32  # Rotor radius (m)\n",
    "iy = 10625  # Rotorcraft mass moment of inertia (kgm^2)\n",
    "h = 1  # Distance from vehicle CG to rotor hub\n",
    "kbeta = 46000  # Rotor hinge spring hingeless (Nm)\n",
    "kbeta0 = 0  # Rotor hinge spring teetering (Nm)\n",
    "omega= vtip / rotor_radius\n",
    "input_cyc = -1 * np.pi / 180  # Pilot cyclic control (1 deg/sec)\n",
    "N = 3  # Number of blades\n",
    "\n",
    "thiy_init = (mass * 9.81 * h + N / 2 * kbeta) / iy\n",
    "thiy0 = (mass * 9.81 * h +N / 2 * kbeta0) / iy\n",
    "\n",
    "print(f\"Rpm =  {np.round(omega/(2*np.pi)*60, 2)}\")\n",
    "print(f\"K` with rotor spring modelling =  {np.round(thiy_init,2)} [rad/s^2]\")\n",
    "print(f\"K` without rotor spring modelling =  {np.round(thiy0, 2)} [rad/s^2]\")\n"
   ]
  },
  {
   "cell_type": "markdown",
   "metadata": {},
   "source": [
    "## Transient response \n",
    "\n",
    "On slide 17 of the lecture slides the first order differential equation is solved to find a solution to equation 3\\*. The result is repeated below in equation 8\\*:\n",
    "\n",
    "<br>\n",
    "\n",
    "$$\n",
    "\\begin{equation}\n",
    "\\Large\n",
    "\\tag{8*}\n",
    "q(t) = - \\theta_c \\Omega \\frac{\\gamma}{16}\\left[1 - e^{-\\frac{16}{\\gamma \\Omega} K`t}\\right]\n",
    "\\end{equation}\n",
    "$$\n",
    "\n",
    "Using this explicit solution of the differential equation we can easily find the response. This is implemented in the snippet of Python code below, the code leverages the broadcasting feature of NumPy to avoid for loops. To see the effects of different spring constants a slider is available to see the change in the response. Another value you can change is the Lock number."
   ]
  },
  {
   "cell_type": "code",
   "execution_count": 2,
   "metadata": {},
   "outputs": [
    {
     "data": {
      "application/vnd.jupyter.widget-view+json": {
       "model_id": "66c4e949737d4f429da699bace8edd60",
       "version_major": 2,
       "version_minor": 0
      },
      "text/plain": [
       "interactive(children=(IntSlider(value=46000, description='kbeta', max=200000, step=1000), IntSlider(value=6, d…"
      ]
     },
     "metadata": {},
     "output_type": "display_data"
    }
   ],
   "source": [
    "import matplotlib.pyplot as plt\n",
    "import numpy as np\n",
    "from ipywidgets import interact\n",
    "import ipywidgets as widgets\n",
    "\n",
    "# Starting integration for the pitch equation of motion\n",
    "t_end = 10  # Time (sec)\n",
    "step = 0.001  # Time step (sec)\n",
    "t_arr = np.arange(0, t_end, step)\n",
    "\n",
    "def plot_transient(kbeta, lok):\n",
    "\n",
    "    thiy_updated = (mass * 9.81 * h + N / 2 * kbeta) / iy\n",
    "    q = -input_cyc * omega * lok / 16 * (1 - np.exp(-16 / (lok * omega) * thiy_updated * t_arr))\n",
    "    q0 = -input_cyc * omega * lok / 16 * (1 - np.exp(-16 / (lok * omega) * thiy0 * t_arr))\n",
    "\n",
    "    # Plot the results for the first 100 time steps\n",
    "    plt.cla()\n",
    "    plt.plot(t_arr, np.degrees(q), label=r'Rotorcraft $K_{\\beta}$' + f\"= {kbeta} Nm\")\n",
    "    plt.plot(t_arr, np.degrees(q0), label=r'Rotorcraft $K_{\\beta}$ = 0')\n",
    "    plt.xlabel('Time (sec)')\n",
    "    plt.ylabel('q (deg/sec)')\n",
    "    plt.legend()\n",
    "    plt.grid()\n",
    "    res = plt.show()\n",
    "\n",
    "# Creating an interactive slider\n",
    "res= interact(plot_transient, kbeta=widgets.IntSlider(min=0, max=2e5, step=1e3, value=kbeta), \n",
    "         lok=widgets.IntSlider(min=1, max=10, step=1, value=lok))\n"
   ]
  },
  {
   "cell_type": "code",
   "execution_count": 3,
   "metadata": {},
   "outputs": [
    {
     "ename": "ModuleNotFoundError",
     "evalue": "No module named 'google'",
     "output_type": "error",
     "traceback": [
      "\u001b[1;31m---------------------------------------------------------------------------\u001b[0m",
      "\u001b[1;31mModuleNotFoundError\u001b[0m                       Traceback (most recent call last)",
      "Cell \u001b[1;32mIn[3], line 1\u001b[0m\n\u001b[1;32m----> 1\u001b[0m \u001b[38;5;28;01mfrom\u001b[39;00m \u001b[38;5;21;01mgoogle\u001b[39;00m\u001b[38;5;21;01m.\u001b[39;00m\u001b[38;5;21;01mcolab\u001b[39;00m \u001b[38;5;28;01mimport\u001b[39;00m output\n\u001b[0;32m      2\u001b[0m output\u001b[38;5;241m.\u001b[39menable_custom_widget_manager()\n",
      "\u001b[1;31mModuleNotFoundError\u001b[0m: No module named 'google'"
     ]
    }
   ],
   "source": [
    "from google.colab import output\n",
    "output.enable_custom_widget_manager()"
   ]
  },
  {
   "cell_type": "code",
   "execution_count": 6,
   "metadata": {},
   "outputs": [
    {
     "data": {
      "application/vnd.jupyter.widget-view+json": {
       "model_id": "bea09c41fdc04d58a4e5129a5a0a3d89",
       "version_major": 2,
       "version_minor": 0
      },
      "image/png": "[encoded data removed]",
      "text/html": [
       "\n",
       "            <div style=\"display: inline-block;\">\n",
       "                <div class=\"jupyter-widgets widget-label\" style=\"text-align: center;\">\n",
       "                    Figure\n",
       "                </div>\n",
       "                <img src='data:image/png;base64,iVBORw0KGgoAAAANSUhEUgAAAZAAAAGQCAYAAACAvzbMAAAAOXRFWHRTb2Z0d2FyZQBNYXRwbG90bGliIHZlcnNpb24zLjcuMSwgaHR0cHM6Ly9tYXRwbG90bGliLm9yZy/bCgiHAAAACXBIWXMAAA9hAAAPYQGoP6dpAABKmElEQVR4nO3deXgT1cI/8G/SNkuXpPsGbSmIFGQVpBQuoFAFRMWr915BriwiKIKCcLmAiIgLIChuF0F8FfSquNyfKyJeQBCQWqCASllEQNpC0xbaJl3TNDm/P3xn3qRNt+mWlu/nefpAZs5MzmSZb2bmzDkqIYQAERFRA6lbuwJERNQ2MUCIiEgRBggRESnCACEiIkUYIEREpAgDhIiIFGGAEBGRIgwQIiJShAFCRESKMECIiEgRBggRESnCACEiIkUYIEREpAgDhIiIFGGAEBGRIgwQIiJShAFCRESKMECIiEgRBggRESnCACEiIkUYIEREpAgDhIiIFGGAEBGRIgwQIiJShAFCRESKMECIiEgRBggRESnCACEiIkUYIEREpAgDhIiIFGGAEBGRIgwQIiJShAFCRESKMECIiEgRBggRESnCACEiIkUYIEREpAgDhIiIFGGAEBGRIgwQIiJShAFCRESKMECIiEgRBggRESnCACEiIkUYIEREpAgDhIiIFGGAEBGRIgwQIiJShAFCRESKMECIiEgRBggRESnCACEiIkUYIEREpAgDhIiIFGGAEBGRIgwQIiJShAFCRESKMECIiEgRBggRESnCAKEmM2XKFPj7+7d2NYiohTBAqFabN2+GSqXC4cOHXaabzWYMHDgQOp0O27dvb7bnf/3117F58+ZmW39TcTgcWL9+Pfr27Qu9Xo+QkBCMGDECP/30U7Vyq1evRnx8PHQ6HXr37o0tW7a4XefJkycxevRo+Pv7Izg4GPfddx/y8vLcPndTr7MmX375Ja6//nrodDrExsZi2bJlqKysrPfy1M4Iolps2rRJABCHDh2Sp5nNZjFw4ECh1WrFtm3b5OmTJ08Wfn5+Tfr81113nRg+fHiTrrM5TJ48WXh7e4v7779fvPnmm+Lll18WkydPFv/9739dyi1atEgAENOnTxcbN24UY8eOFQDEli1bXMplZmaK0NBQ0aVLF/HKK6+I5557TgQFBYk+ffoIq9Xa7Ot0Z9u2bUKlUombbrpJbNy4UTzyyCNCrVaLhx56SOGrRm0dA4RqVTVALBaLGDRokNBoNGLr1q0uZa/WAPnoo48EAPHpp5/WWi4rK0v4+PiIWbNmydMcDocYOnSo6Nixo6isrJSnz5w5U+j1enHhwgV52o4dOwQA8cYbbzTrOmvSo0cP0adPH2Gz2eRpS5YsESqVSpw8ebLO5an9YYBQrZwDpKioSAwePFhoNBrx1VdfVSsrBcjZs2fFLbfcInx9fUVUVJRYvny5cDgcLmXtdrt46aWXRI8ePYRWqxXh4eFixowZIj8/Xy4TFxcnALj8SWFy5coVMX/+fNGzZ0/h5+cnAgICxOjRo8WxY8ea9fVwJzExUQwcOFDeruLiYrfl1q1bJwCI9PR0l+kffPCBACD27dsnTwsPDxd//etfq63j2muvFSNHjmzWdbqTnp4uAIh169a5TL948aIAIJ555plal6f2iddAqF5KSkowZswYHDp0CJ988gluu+02t+XsdjtGjx6NiIgIrF69Gv3798eyZcuwbNkyl3IPPvggFixYgCFDhuCVV17B1KlT8f7772PUqFGw2WwAgJdffhkdO3ZEQkIC/v3vf+Pf//43lixZAgA4d+4cPv/8c9x2221Yu3YtFixYgF9++QXDhw/HpUuX6twes9mMy5cv1/lXXFxc63osFgsOHjyIG264AY8//jiMRiP8/f3RuXNnfPzxxy5ljx49Cj8/P3Tv3t1l+sCBA+X5AHDx4kXk5uZiwIAB1Z5v4MCBcrnmWqc70vyqy0dHR6Njx451Lk/tVGsnGHk26QgkLi5O+Pj4iM8//7zGspMnTxYAxCOPPCJPczgcYuzYsUKj0Yi8vDwhhBD79u0TAMT777/vsvz27durTa/pFFZ5ebmw2+0u086fPy+0Wq14+umn69yu4cOHVzu6cfc3efLkWtdz5MgRAUCEhISIiIgI8frrr4v3339fDBw4UKhUKvHNN9/IZceOHSs6d+5cbR0lJSUCgFi0aJEQQohDhw4JAOLdd9+tVnbBggUCgCgvL2+2dbqzZs0aAUBkZGRUm3fDDTeIQYMG1bgstV/eLZpW1Gbl5ORAp9MhJiamzrKzZ8+W/69SqTB79mx8/fXX2LlzJ8aPH49PPvkERqMRN998My5fviyX7d+/P/z9/bF7927ce++9tT6HVquV/2+321FYWAh/f39069YNR44cqbOOL774IgoKCuosFx0dXet86QjlypUr+PHHH5GYmAgAuOOOOxAfH49nn30Wo0ePBgCUlZW51Fui0+nk+c7/1lVWq9U2yzrdqWt5i8Xidjlq3xggVC9vvPEG5s2bh9GjR2Pfvn3o1q2b23JqtRqdO3d2mXbttdcCAH7//XcAwJkzZ2A2mxEeHu52Hbm5uXXWx+Fw4JVXXsHrr7+O8+fPw263y/NCQkLqXL5///51lqkPvV4PAIiPj5fDAwD8/f1x++2347333kNlZSW8vb2h1+thtVqrraO8vNxlXdK/9S3b1OusbTtrWr62Zan9YoBQvfTo0QPbtm3DyJEjcfPNN+OHH36o19GIOw6HA+Hh4Xj//ffdzg8LC6tzHStWrMDSpUtx//3345lnnkFwcDDUajXmzp0Lh8NR5/L5+fmoqKios5xer4fRaKxxvnSEEhERUW1eeHg4bDYbSkpKYDQaERUVhd27d0MIAZVKJZfLzs52WVdUVJTLdGfZ2dkIDg6WjwSaY53uOC9f9X3Pzs6Wr7nQ1YUBQvU2cOBAfP755xg7dixuvvlm7Nu3r9rO3uFw4Ny5c/JRBwD8+uuvAIBOnToBALp06YKdO3diyJAhdf5ydd4pOvvPf/6Dm266CW+99ZbL9MLCQoSGhta5LXfddRe+//77OstNnjy51hsZo6OjERkZiYsXL1abd+nSJeh0OgQEBAAA+vbti//5n//ByZMn0aNHD7lcamqqPB8AOnTogLCwsGo3bwLAwYMH5XLNtU53pPmHDx92CYtLly4hKysLM2bMqHV5aqda+yIMeTZ3NxJ++umnwsvLS1x//fXCbDbL02u7iO7j4yNyc3OFEELs2bNHABCLFy+u9nw2m00UFBTIjxMTE0WfPn2qlbv++uvFjTfe6DLt448/dmnqW5vDhw+LHTt21PlXtXmsO3PmzBEAXG4azMvLEwaDQdx6663ytMzMzBrv2ejQoYPLPRsPPfSQ0Ov1Lhetd+7cKQCI9evXN+s6KyoqxMmTJ8WlS5dctjMhIUH06dPHZZ1PPPGEUKlU4sSJE3W+TtT+MECoVu4CRAgh3n77bXlnXVZWJoT4I0B0Op3o2rWrmDRpkli3bp247bbbBADx+OOPuyz/4IMPCgBizJgx4qWXXhL/+te/xJw5c0R0dLT45JNP5HIPP/ywUKlU4plnnhFbtmwRu3btEkII8eSTTwoAYsqUKfJd0cHBwaJz584tfuOhyWQSUVFRIiAgQCxbtkysXbtWXHvttUKv11e7L0Vq8TRjxgzx5ptvyneNV22RlpGRIUJCQkSXLl3Eq6++KlasWCGCgoJEr169qrWWaup1nj9/3m0LtK+++kqoVCoxYsQIsXHjRvHoo48KtVotpk+f3gSvIrVFDBCqVU0BIoQQL7zwggAgbrvtNmGz2dzeSBgRESGWLVtWrcmtEEJs3LhR9O/fX+j1ehEQECB69eol/vnPf7r88jWZTGLs2LEiICDA5eiivLxczJ8/X0RFRQm9Xi+GDBkiUlJSxPDhw1vlzvWzZ8+KP//5z8JgMAi9Xi9GjBghDh48WK2c3W4XK1asEHFxcUKj0YjrrrtOvPfee27Xefz4cfl1DAwMFBMnThQmk6nZ11lTgAghxGeffSb69u0rtFqt6Nixo3jiiSdERUVFPV4hao9UQgjRoufMiIioXeCd6EREpAgDhIiIFGGAEBGRIooD5Pfff8e0adMQHx8PvV6PLl26YNmyZdVuzvr5558xdOhQuRuM1atXV1vXJ598goSEBOh0OvTq1Qvbtm1TWi0iImohigPk1KlTcDgceOONN5Ceno6XXnoJGzZswOOPPy6XsVgsuOWWWxAXF4e0tDSsWbMGTz31FDZu3CiXOXDgACZMmIBp06bh6NGjuPPOO3HnnXfi+PHjjdsyIiJqVk3aCmvNmjVYv349zp07BwBYv349lixZApPJBI1GAwBYtGgRPv/8c5w6dQoAcM8996CkpARbt26V1zNo0CD07dsXGzZsaKqqERFRE2vSayBmsxnBwcHy45SUFAwbNkwODwAYNWoUTp8+LfeEmpKSguTkZJf1jBo1CikpKU1ZNSIiamJN1hfWb7/9htdeew0vvPCCPM1kMiE+Pt6lnNTpnMlkQlBQEEwmU7WO6CIiImAymWp8LqvV6tIrqMPhQH5+PkJCQmrsO4mIqC0RQqCoqAjR0dFQqz2zvVO1AFm0aBGef/75Whc6efIkEhIS5McXL17E6NGj8de//hXTp09v+lpWsXLlSixfvrzZn4eIqLVlZmaiY8eOrV0Nt6oFyPz58zFlypRaF3Ie7+HSpUu46aabMHjwYJeL4wAQGRmJnJwcl2nS48jIyFrLSPPdWbx4MebNmyc/NpvNiI2NRWZmJgwGQ611JyJqCywWC2JiYuTenD1RtQAJCwur13gMwB9HHjfddBP69++PTZs2VTvMSkpKwpIlS2Cz2eDj4wMA2LFjB7p164agoCC5zK5duzB37lx5uR07diApKanG59VqtW7HLjAYDAwQImpXPPm0vOITaxcvXsSNN96I2NhYvPDCC8jLy4PJZHK5dnHvvfdCo9Fg2rRpSE9Px0cffYRXXnnF5ehhzpw52L59O1588UWcOnUKTz31FA4fPuwyLCoREXkgpb0wSr20uvtz9tNPP4k//elPQqvVig4dOohVq1ZVW9fHH38srr32Wrkn0a+//rpBdTGbzQKAy9gURERtWVvYr7WL3ngtFguMRiPMZjNPYRFRu9AW9mue2TaMiIg8HgOEiIgUYYAQEZEiDBAiIlKEAUJERIowQIiISBEGCBERKcIAISIiRRggRESkCAOEiIgUYYAQEZEiDBAiIlKEAUJERIowQIiISBEGCBERKcIAISIiRRggRESkCAOEiIgUYYAQEZEiDBAiIlKEAUJERIowQIiISBEGCBERKcIAISIiRRggRESkCAOEiIgUYYAQEZEiDBAiIlKEAUJERIp4TICsW7cOnTp1gk6nQ2JiIg4ePNjaVSIiolp4RIB89NFHmDdvHpYtW4YjR46gT58+GDVqFHJzc1u7akREVAOPCJC1a9di+vTpmDp1Knr06IENGzbA19cXb7/9dmtXjYiIatDqAVJRUYG0tDQkJyfL09RqNZKTk5GSkuJ2GavVCovF4vJHREQtq9UD5PLly7Db7YiIiHCZHhERAZPJ5HaZlStXwmg0yn8xMTEtUVUiInLS6gGixOLFi2E2m+W/zMzM1q4SEdFVx7u1KxAaGgovLy/k5OS4TM/JyUFkZKTbZbRaLbRabUtUj4iIatDqRyAajQb9+/fHrl275GkOhwO7du1CUlJSK9aMiIhq0+pHIAAwb948TJ48GQMGDMDAgQPx8ssvo6SkBFOnTm3tqhERUQ08IkDuuece5OXl4cknn4TJZELfvn2xffv2ahfWiYjIc6iEEKK1K9FYFosFRqMRZrMZBoOhtatDRNRobWG/1urXQIiIqG1igBARkSIMECIiUoQBQkREijBAiIhIEQYIEREpwgAhIiJFGCBERKSIR9yJ3p4UFhYiKysL5eXl8Pf3R0xMDPz8/Fq7WkRETY4B0oSOHTuGRYsW4ejRo6ioqIBer8eNN96I1atXo2PHjq1dPSKiJsVTWE1oz549+P7772GxWFBeXo6CggJ8+eWXSE1Nbe2qERE1OQZIE6qsrKw2TQgBu93eCrUhImpeDBAiIlKEAUJERIowQIiISBEGCBERKcIAISIiRRggRESkCAOEiIgUYYAQEZEiDBAiIlKEAUJERIowQIiISBEGCBERKcIAISIiRRggRESkCAOEiIgUYYAQEZEiHNK2mQghoFar4e/vj7CwsNauDrVzDocDly9frvfgZQEBAfD392/mWlF716gAWblyJT799FOcOnUKer0egwcPxvPPP49u3brJZcrLyzF//nx8+OGHsFqtGDVqFF5//XVERETIZTIyMjBz5kzs3r0b/v7+mDx5MlauXAlv77abbz179sSAAQMwZswYDBkypLWrQ+3c7t27sWDBApSWltar/KBBg/Daa68hICCgmWtG7Vmj9tDff/89Zs2ahRtuuAGVlZV4/PHHccstt+DEiRPw8/MDADz22GP4+uuv8cknn8BoNGL27Nm466678MMPPwAA7HY7xo4di8jISBw4cADZ2dmYNGkSfHx8sGLFisZvYSuZPn06HnjgAXh5ebV2VegqcPnyZVy8eBFlZWUA/vheORwOeb5KpZJ/kKlUKmRmZsJms7VKXan9aFSAbN++3eXx5s2bER4ejrS0NAwbNgxmsxlvvfUWPvjgA4wYMQIAsGnTJnTv3h0//vgjBg0ahP/+9784ceIEdu7ciYiICPTt2xfPPPMMFi5ciKeeegoajaYxVYTNZsP3338Ps9kMo9GIwMBABAYGwtfXFzqdDnq9Ht7e3vDy8oJa3XSXhLy8vBge1GLGjRuHLl26oKioCADw7rvv4sMPP5Tn9+zZE88++yy8vb2hVqvRqVMnBAcHt1Z1qZ1o0nNEZrMZAOQPZlpaGmw2G5KTk+UyCQkJiI2NRUpKCgYNGoSUlBT06tXL5ZTWqFGjMHPmTKSnp6Nfv37VnsdqtcJqtcqPLRZLjXXasWMH7r//fhQVFcHLywtarRZ6vR5arRaBgYEICAhASEgIwsLCYDQaERkZieDgYPnPaDTCz88P/v7+0Ol08PX1hUqlavRrRdSUdDodBgwYID/euXNntfnDhg2DTqdr6apRO9ZkAeJwODB37lwMGTIEPXv2BACYTCZoNBoEBga6lI2IiIDJZJLLOIeHNF+a587KlSuxfPnyOutUWVmJL774Qg42h8MBm82G4uJiAEBWVhaEEHJ5KRhUKhXUajV8fHzkoxSDwYCgoCDMnTsX48aNq/O5iZqL82e2vvNVKhWEEHUuK5Ulqo8mC5BZs2bh+PHj2L9/f1OtskaLFy/GvHnz5McWiwUxMTHVypWXl+P06dO1rsvdl0UIAbvdDrvdjvLychQWFiI7OxsA8MYbbyA5OVm+xgMA+fn52L9/P/bu3StPKysrgxCCX0ZqMhkZGXj//feRkZHhcn3DnSNHjlRbds6cOXV+HlUqFWJjY3H33XcjKipKPr0rnfqSyhABTRQgs2fPxtatW7F371507NhRnh4ZGYmKigoUFha6HIXk5OQgMjJSLnPw4EGX9eXk5Mjz3NFqtdBqtXXWS61WQ6vVNumO/Ny5cygqKpJPZR07dgyLFy/GgQMHUFFRIZdbt24dwsLC8Je//KVNtyZrC+rzq7q2ZRuzPIA6d+ZNsbzVasUTTzyB//znP/V+PufPfHZ2Nt599916L/PWW28hKCgIBoNBPo2r1+sRFBSE0NBQ+Pj4wGAwIDAwEEajERqNBv7+/tDr9fD19ZW/oz4+PvDx8YFarYaXlxdUKhUDqB1p1J5NCIFHHnkEn332Gfbs2YP4+HiX+f3794ePjw927dqFu+++GwBw+vRpZGRkICkpCQCQlJSE5557Drm5uQgPDwfwx3ULg8GAHj16NKZ60Ov1SEpKwv79+12+dI0JlLy8PMyfPx9hYWEIDAzE9u3b8dNPP1Urd+HCBcybNw/+/v647bbbFG+DJzGZTNi+fbvL9SebzSZfuJVe16qnBaXHzq+5VLayshJms1nxTlylUslHe0oIIVBZWal4+crKSpSUlChaVlq+tmt4Ervdjl9++UXxZ7chywgh5KP64uJiXLp0CTabDVarFRUVFbDZbLDb7XL4qtVqqNVqaDQaeHt7Q6PRwNfXVw4dnU6HoKAgBAYGQqfTISAgAKGhofD395fvR/H394efnx98fX2h1+uh0Wjkf6UGKd7e3gwgD6MSjfj59fDDD+ODDz7AF1984XLvh9FohF6vBwDMnDkT27Ztw+bNm2EwGPDII48AAA4cOADgjy9G3759ER0djdWrV8NkMuG+++7DAw88UO9mvBaLBUajEWazGQaDwWVednY2tm7dit9//x15eXkoKiqCyWRCSUkJLBYLioqKUFFRgYqKClRWVsLhcFTbCTrvAN3tDGvTs2dPTJgwAREREQgJCZF/0QUEBECn00Gn00Gr1cqnCDz5y/HVV1/h/vvvdznSciZdO1JK2hEp5eXl1aijCenXsrOadtjuPgfe3t6NOtp09/zO7HY7MjMzUV5eXue6hBDVmvHWd+er0WjwyCOPYN68eRBCwGazoby8HOXl5SgpKUFZWRmKi4tRXFyMwsJClJeXw2w2w2w2o6CgAJWVlSgsLERBQQFKSkrk646lpaWw2WyorKxEZWWlHELO1xy9vb3l0NHpdNBoNDAYDAgODoZWq4W/v7/cuEWn08FoNMJoNMJgMECn08HPz09u7KLRaOSjIOn71djPWEuqbb/mKRoVIDV9GDdt2oQpU6YA+L8bCbds2eJyI6Hz6akLFy5g5syZ2LNnD/z8/DB58mSsWrWq3l/G+r7QDocDdrsdlZWVsFqt8pehsLBQ/vDn5+cjNzcXBQUFyMvLw+XLl2GxWOQvQ1lZGaxWqxw29X35pA+uj4+PfHgfEBAAg8GAgIAAhIeHIyQkBMHBwQgLC5O/JIGBgQgKCoJOp4O/v78cNj4+Pi3+a6y4uBjHjh1DZWWl2/mNbQqt0Wga1Wxbq9U2qul0Y5teO18nUPr8tX3m7XY7fv31V1y+fLnOdX300Uf47LPP5McJCQlYsmRJrQElCQoKQv/+/V2u89WH9F2QvmfO1xGllpPl5eUoKiqS/y0pKUFRURHMZjMKCwtRUlKCkpISXLlyBSUlJSgtLZXDymq1wmazVTsKAv7vvXM+CpJaT0qtLkNCQmA0GuHr6yuffgsICEBAQIB89GMwGODn5yeHj06ng4+Pj8t1oJb63rX7APEUzfFCS7/gpLCxWq0oLi6GxWKBxWJBZmYmFi5cWOeXuerRTE3PJZV1Xk4KCq1WC19fX/lwPzw8XD4NEBUVhRtuuAFDhw716KMXallLlizB2rVr5ccDBw7Et99+6/HNeKXvnXRq0WazyUctZWVlKC0tRWlpqRw00lFQRUUFCgoK5B+D0mOz2exy9FT1NJx0lKZSqeSQkMJDOhLS6/UwGo0ICgqCl5cXQkJCEBgYKB/1BAYGyqfhnE/d+fr6ykeV0qk46Ydkfb6rbSFAeHW3BtIHSrp3BIBLn1b5+flYu3ZtvX4NBgYGokePHujZsydyc3Px008/4dy5cy7NhquSTh3YbDaUlpaioKCg2nxp2WuuuQZbt25FXFyc4u2l9q2t/E6UvnfAH0d0DQ08aTudj4AqKyvlo6CKigqUlpbCYrHIQSQd4RQUFMj/t1gsuHLlCsrKylBWVoasrCz8+uuv8ulu51PeVU/DSX/SKTfpHjI/Pz+EhYXJIRMUFISgoCCMGDECnTt3bvLXsiUwQBQyGAy44YYbkJ6eXmMZIQS8vb0RGRmJwMBATJo0Cb1798YLL7yAp59+ulHP7xw6v//+O3777TcGCF31pO9F1etRDfkFL4WCdAZCOm1WUVGB8vJylJWVyUdApaWl8vUfm82G/Px8+chHaoEqnZ67dOkSfvnlF5SVlck/DgHghRdeYIBcbby9vTF58mR8/fXXyMvLc1tGrVYjMDAQGo0GWVlZWLNmDRYtWoROnTrBy8ur3j2n1kUI4dIyioinM5WTrmN5eXnBx8dHbhBUX1LrNOejIKkhgnQ6XAqg8vJy9O7duzk2o0UwQBqhd+/eGDx4MLZu3SqHgXQ4q1KpYDAYEBERIU87f/48Vq9ejVmzZuGOO+5Aenq6fCgtHRI7Xxh0VlvrL4PB4HL/DbUf0q9h6TqAdEpGat0knc+XdkbAHzex5ufnIzY2Vr73IiAgANu2bUN8fDyio6NhNBqh1WoZNM1A+v5Lp7TaMwZII1gsFpSVlSEqKgoXL16Ew+GAl5cX9Hq93HqqaouNc+fO4a233sLSpUsRGhoqtzKxWCzIz8+XW4NlZ2ejsLAQly9fxpUrV+SWKtKFQKklmBACt9xyC6655ppWfCVICSEEKioq5Cauly9fRmlpKXJzc2GxWOT3u7i4WA6MsrIy+VSK9OvWudWT87qde2ewWq3YsGGD3PovOjoasbGx8l90dDQCAwMZKtQgDJBGyMnJgdlsdmn6GRAQgJiYmBqb+gkhcOrUKWzatAlz586t9bqFw+GQz8M6tySRWoKZzWYUFRVh6NCh8PX1bZZtvNrYbDYUFhbWetFZuqFNCYvFgkuXLiErKwuXLl3C5cuXUVhYiNLSUpdQkE6BOB+ZNpbD4ZAvCufk5ODYsWNybw3S0XJsbCw6deqETp06ISoqSj4Fy1AhdxggjZCVlSVfXAP+OHTVaDS13gsgfWGPHTuG9evXY86cOQgNDa2xrFqtVtQahRouPz8fK1euxNdff+0yVoa085Tuur7uuusafI+EtJ7y8nIUFxc36O73hrSgcq5rfcpJoVJeXo68vDycPHkSXl5e0Ol0CA4ORnR0NDp06ICOHTsiJiYGkZGRMBqN7f7UDNUPA6QRcnJy5F+J0nWO2m6Ek76YKpUKDocDqampePvttzFz5kyODOcBtmzZgg0bNsBms9X6i1u689kTSTe/Od/k6tzfl/ORsfPd6VWnA5BbF506dUr+bBuNRoSHhyMmJgYxMTGIjY1FeHg4/Pz8OP7NVYgBotDFixexf/9+XLp0Se4eHkCNAeJ8l7Xzr7/du3fDaDRi8uTJPMpoRVarFTt27EBlZWWdp2s89Z4K6bRXUw9mJgWQdBo1JycHx48fh1qtlo9UIiMj0aFDB8TFxSEmJgahoaHyjyVqvxggClRUVOCpp57CRx995HIjEYBqXVGoVCrodDq5NYy7dX3xxRcICgrCXXfdxZ57W4ndbq93p4ieGiDSkW1LDCMghZXUHDUrKwuHDx+Gt7c3/P39ERoaiujoaHTu3BlxcXGIjo6Gv78/j1LaGe6tFCgqKkJaWhrsdrvLoX/VvoxUKhX0en2tXReoVCrYbDZs2bIF/v7+GDNmDH+1ebimun+nPZFC1WazoaCgAAUFBfjtt9+wd+9e6PV6+XpKTEwMrrnmGsTGxiIwMJA/mNo4vnsKSM1rq+7oq3YmKI2DUJ9TIkVFRXj33XcRHh7uMjQpUVslhYrUf9XFixdx6NAhaDQaBAUFISYmBl26dEG3bt3QsWNHBAQE8MdTG8MAUeDKlSsu1z2AP74szi2wpJuIGvKFuHz5MtavX49//vOfLt3jU/NrioGlWpunj4Apvb5WqxUmkwkmkwmHDx+GXq9HZGQk4uLi0LdvX/Tu3ZvN0tsIBogCly5dcjsmhnNgNDQ8JBcuXMCbb76J+fPnIyoqqtF1peocDgesVisKCwuRl5eHjIwMZGVlIScnp147YU8OmrYy1oVECIHS0lKcO3cO58+fx4EDB9CrVy/cc889iI2Nbe3qUR0YIApkZWVVOw/u3IRX6opd6a/Bn3/+GZs2bcLs2bM9trloS5KODpyPEqSbLG02m/x/5zuzi4uL4XA45Pt0rFYrLl++DLPZjJycHHnsl5KSEvnHgNFohLe3d43dyQD/t4P2xBBRqVRt+k5yqU+3tLQ05OXlYcKECejduzcvvHswBkgDCSGQkZFRbbpzgNTU4qq+HA4H9u7di9DQUEyZMqVRgywp4W40Rmkn7dxTqTRdpVLJXatIO19p0Cnphjlp5Eep4YF0h710p7XZbJa78pbuyLZarRBCoLCwUL6pUlqH9HylpaXydaaKigo5SKRlAcihItW5pp1/VFQU1Go18vLyahx3XKVSyaPhNfQ1rc9noqGnoZzv79BoNO3iBj/pO7Z+/Xr06NEDXbt2RUJCAqKjoxvcsSE1LwZIA9ntdphMJrfzpC9vY44+nJ/nq6++QmRkJEaMGCHvtN3tyO12u3xNRtpZSjc3SndUS6O5lZeXy236pXLSupz7WKq6Ewcg/5p33iFL/X9VPUKQjtCcBweqOoKj841uzv+2FrVajaioqDpPHSq51tAU1yc8/RpHUxJCwGw248cff0Rqair8/PzQoUMHdOvWDX369EFcXBz8/f1bu5pXPY5I2EAlJSW49dZbkZqa6vJlVqvV6Nq1K7RaLfz8/JrsXLTRaERoaChsNpv8S1sao0DakTt35171dI/zkUJtO++q/3dW207L+Rew1P21NKzo1bKzo5YhfZ70ej06duyI6667Dv369UNcXFy7vAmXIxK2QxaLxW0TXmkAm/oOV1lfUncSLUFJvZ2XcR4D29vbG1qtts6+wYjqy7lZ8K+//oozZ85gx44diI+Px4ABA3D99dcjLCyMP1xaEAOkgaTu1p0JIVzGOya4jGOt1Wqh1Wp5MZSalBACxcXFOH78OE6cOIGdO3di4MCBGDRokNwjNjUvBkgDXbp0yW2XF1KX1/zQ/sFdb68ajQY6nY53H6P+veW29LpqIl1ray71OeVZ03ZKp2qzsrKQlZWF/fv3Y9iwYRgxYgSCg4Obo7r0v/hNbqDs7GyXrr6BP76gPj4+cnffVJ1070VFRYUcJI1trdYW2e12FBYW1joEsUqlgq+vLwwGQ53Xn6QRLWsLEY1G06huQ6xWK/Ly8mCz2ZqloYO0vaGhoTUepdrtdhQUFFR73aTXx/kG3ry8PJw+fRopKSmYOHEi+vbty+9lM2GANFBmZqbbL5HzEcjVtlOsD+dxKsrLy6/KIBFCID8/HxaLpc4dsdQ8ubZu/qVRDOtaV1lZGRwOh6LrA1Kdy8vLm+09kk5FabVaBAYG1lgH6XVzroe7bVepVBBC4Pvvv8eJEycwdepU3H777WwC3AwYyw3gcDiQmZlZbXpd44CQK+k+EKvVCovFgpKSEvm+kfZOahbtbiwO5z8paGsjNcmu77qUHD1Izbtbondfd707AH9cTysuLnbbjLmuMU0uX76MV155BWvXrkV2dnazbsPViAHSADabze0RiHQKi+qv6hGJFCTs6bbpNWbn31Kt/Guro3QPkZLtkJq4f/HFF1i0aBEOHjxY402i1HAMkAYoLS2FyWSq9kGWhp0lZaQjEilISktL+SX3EJ5warEpQszhcCA9PR3Lli3Dxx9/jNLS0iaoGTFAGkC6B6QqNt9tvKqttsxms3zunlqPJ9xn3JR1yMvLw6uvvorVq1cjKyurydZ7teJerwEsFgvKysqqTZfG/QA84wvXHjgcDpSWlsJisSg+f0/tQ1O/9xUVFdi2bRueeOIJpKam8kdKIzRpgKxatQoqlQpz586Vp5WXl2PWrFkICQmBv78/7r77buTk5Lgsl5GRgbFjx8LX1xfh4eFYsGCBR15U7dKlC6ZPn46wsDA5MHx9fV1at7SHcSU8SWVlJUpKSmCxWFz65aKW4QmnsJqDw+HA8ePH8eSTT+KDDz6oNr4P1U+Tnbg/dOgQ3njjDfTu3dtl+mOPPYavv/4an3zyCYxGI2bPno277roLP/zwA4A/2nePHTsWkZGROHDgALKzszFp0iT4+PhgxYoVTVW9JuHr64ulS5di/PjxOHHiBIqLi9GlSxdkZGRg3bp1tXYDTspIOzDpznYfHx/odDrF460QObty5QrWrVuHc+fOYcqUKRyDpIGaJECKi4sxceJEvPnmm3j22Wfl6WazGW+99RY++OADjBgxAgCwadMmdO/eHT/++CMGDRqE//73v3I3BBEREejbty+eeeYZLFy4EE899ZTHNY/18fFBjx490KNHD3laXl4edu7ciRMnTjBAmokUFhUVFbDZbNBoNNDr9Wy8QI1ms9mwdetWnD59Gg8//DAGDRrEbnfqqUlOYc2aNQtjx45FcnKyy/S0tDTYbDaX6QkJCYiNjUVKSgoAICUlBb169UJERIRcZtSoUbBYLEhPT2+K6jW7sLAwPPTQQ7juuusQEBAAvV7v0jdWU15kr9rbrtK/tso5SNj0l5qKw+HA6dOn8fTTT+Pf//43cnNzW7tKbUKjf759+OGHOHLkCA4dOlRtnslkkrtRcBYRESGPqWEymVzCQ5ovzXPHarW6dGlgsVgaswlNIjExEQkJCTCZTCgtLYXZbIbVapXvupa6XrfZbPKvaABy81Xn7tXdnetXq9U1diUhrb+qmm4gk8YBkTifJpI4P5fzqTnp2pTU867zgFPu/l+1Ps6aYnyM8vJyWK1W6HQ66HQ6toZrh1rqVKWPjw+8vLzw4YcfIiUlBePGjcPQoUNr7Q3gateoAMnMzMScOXOwY8eOFu2Pf+XKlVi+fHmLPV99GY1GGI3GBi9X3yOCmn5p13RU0ZDp0jUG58dVB4cSQsihUVpaKgehNLCUNMJgaWmpPGBVSUkJysrK5BEJi4uLUVRUhLKyMhQXF8v9YzWmJYzU9FcKEq1WyyBpR5rzvZTubvf390dwcDDsdjtKSkpw9uxZvPbaa9i3bx9uv/12DBgwwONOp3uCRgVIWloacnNzcf3118vT7HY79u7di3/961/49ttvUVFRgcLCQpejkJycHERGRgIAIiMjcfDgQZf1Sq20pDJVLV68GPPmzZMfWywWxMTENGZTWlV9f2G15fP9ziMqSqFhNptRWFiIzMxMnDhxAocOHVI09on0+tntdpSWlsJqtUKv18v9k13t2sIpy9rqKPWV1hzbodFoEBQUJI9uWFZWJoeKzWbDoUOHkJ6ejuHDh2PcuHHo0qULP1NOGrVHGjlyJH755ReXaVOnTkVCQgIWLlyImJgY+Pj4YNeuXbj77rsBAKdPn0ZGRgaSkpIAAElJSXjuueeQm5uL8PBwAMCOHTtgMBhcLlQ7k8aXoLZDGrFQGrUQgNzVdr9+/XDrrbfi2LFj+OCDD5Cenq7ouoZzkBQXF8Pb2xt6vd6jWmxptdp6NUdWqVR1HtVrtdp671ilsg2lUqmg1Wrlse2rzmuqnbr0PO5oNBr4+/ujqKioSZ5PpVLB29sbAQEBMBgM8g+zmrqsLy0txfbt23HkyBHceuutGDNmDLuJ/19NPqTtjTfeiL59++Lll18GAMycORPbtm3D5s2bYTAY8MgjjwAADhw4AOCPL3vfvn0RHR2N1atXw2Qy4b777sMDDzxQ72a8bWHoR6qfK1eu4JtvvsFXX32F/Pz8Ru0wpF+SzuOQtHaQVFZWoqCgQB6zHvi/HbHzv76+vjAajbWevpG6c5fuYajptdJqtQgKClJ8BGuz2XDlypUaOzusWnfn6dL2OZdzx9fXF8HBwTVur3RjaVlZGex2u+KRP6WgcteCz2az1Xk91cvLC927d8c999yDAQMGNGsfeG1hv9bsAVJeXo758+djy5YtsFqtGDVqFF5//XWX01MXLlzAzJkzsWfPHvj5+WHy5MlYtWpVvT/wbeGFpvpzOBw4ceKE3ECjph1XQ1QNktZUn69cUw4o1dD11fQczXkqrCHDIFQNpqZSVlZWrz6ypGsmN998M8aNG4cOHTo0aT0kbWG/1uQB0hrawgtNDVdcXIxdu3bhyy+/REZGRpOdvtBqtfI4JESSoqIiWK3WegWTFHidO3fGfffdh8TExCb/YdIW9msMEPJoQghkZGTg008/xZ49e+ocfa++1Go1W2yRTAgBs9nc4GtvKpUKAQEBGDt2LP7yl78oaoVZk7awX2OAUJtQUVGBQ4cO4f/9v/+H9PT0Gu81aSi1Wi232GKQXL3sdjvMZrPiQbd8fHyQlJSEadOmoWPHjk1Sp7awX2OAUJuSn5+Pbdu2Ydu2bcjNza31wmxDeHl5yUckrX2hnVqe1WptdIeKarUaPXr0wKOPPorOnTs3uk5tYb/Gn1zUpgQHB+Pee+/FsmXLMHLkSOj1+ibZ4bPX36ubu2bKDSUNWvXOO++gqKioiWrm2Rgg1Oao1Wp069YNjz32GObNm4eEhIRGXxCXQqiyshLFxcWwWCwuTW2p/RJCNNnwEUII/PzzzzV2w9TetN1bm+mqp9PpMGLECPTq1QvffPMNtm/fjry8vCbZ6bP7+KtHTTcQKhUQEHDV9J/FAKE2LywsDH//+98xcOBAfPbZZzhw4IDbkSMbwrmDSZvNBm9vb+h0OnaP0g5J/b411fvap08fhIaGNsm6PB1PYVG7oFarkZCQgHnz5uEf//gHevbs2aTt8m02m3xqS+ookto+IUSNvVw3lEqlQnBwMG6++eZWv1m1pVwdW0lXDa1Wi+HDh6NXr17YtWsXtm7diuzs7Ebv8KuOjFhWVgYfHx/51FbVX6/SY3e/amv6pdtUv4DddY1yNWlIGNjtdthstiZ5jXQ6He655x707Nmz0etqK9iMl9ot6SbErVu3Ys+ePSgoKGjSdQP13+k3JEgaMq+m9dZVv/rWp6ZgrPrY+d/aAlXiHGxVd0HOY+M4/9/dNHfzndfjHKTutk3qIbqxjEYjxo8fj3HjxjVZt+9tYb/GAKF2r7KyEunp6fj0009x5MiRRl8faWtq2nkqWa629dR2tFP1qKi+agoaTzmqkloEjh8/vsmHwm0L+zWewqJ2z9vbG3369MG1116Lw4cP48svv8Tx48ddRmBsz5TubBu6XG3l3R0hNHSdnhIawB/B0bFjR4wYMQKjRo1CWFhYa1epVTBA6Kqh1+sxdOhQ9OnTB/v27cM333yDs2fPXjVBQso4HwX5+fmhS5cuGDx4MAYPHoyoqCiPCraWxlNYdNW6cuUK9u/fj2+//Rbnzp1rspvJqG1zDgxp4KnY2Fj06tUL/fr1wzXXXAM/P79mr0db2K8xQOiqd/nyZXz//ffYvXs3j0iuEu6u10j9oRkMBkRGRqJTp07o1q0brrnmGkRERECv17doHdvCfo0BQvS/CgoKkJaWhv379+PMmTMoKSmpVw+97lryVL2zuaF9LdXVgqgu7kYGbOxX3RNO1bgbVrc2zu+fj48PvLy8oNFo4Ofnh4CAAAQGBiI0NBRhYWGIjo5GZGQkQkJCEBgY2GStqZRqC/s1BghRFRUVFcjLy0NpaWm9WtXYbDaXALHb7S4BUllZWetQqWVlZXA4HLDZbMjNzUVWVhb27t2L7OxsBAQEYOLEifKv36r1cTgcKCsrcwmJ8vLyas/hHGDSzXPuQs/d6I9CiHp3MFl12+tS0066tLQUFy5ccOm2X61Wo1OnTnJ36dJYLtJNe1qtFt7e3nIHm35+ftDpdPD19ZWPLPR6PXx9fWEwGOSBxZQOj9vc2sJ+jRfRiarQaDTNNkypO0IIHDp0CKtXr0ZKSgpKS0ths9lgt9tx880348EHH2zQOXd3O/qqYVHTeCo13RNRn/AQQqCioqJB91X4+Pi4vWv7woULuPfee3H69Gl5mlqtRllZGUaPHo1x48bB19dXni7xxCBozxggRK3s559/xowZM1x2lhIvL68GX9x3txOteuTSXMP5Sjv1xgoKCoLBYIDdbpe3x+Fw4MSJE5gzZw4KCgowc+bMq6bLEE/FvrCIWlFlZSU2btzoNjwAYPfu3di9e3cL16p1CSHw7rvv4vDhw27DsLS0FC+++CJ++eWXVqgdOWOAELWiwsJC7N+/v8ZTRFarFXv37r2qOm80m8348ssvaz3yys3NxXfffdeCtSJ3GCBErchut6OsrKzWc/elpaUtWKPWZ7FYkJmZWeed7SaTiQN+tTIGCFErMhgMtfbeqlar0bdv33o1J24vtFotAgIC6gwHnU7XQjWimlw9n0oiD6TX6zFp0iT4+/u7nd+jRw+MHj26hWvVuoKDg3HjjTfW2jGjTqfDkCFD2OqqlTFAiFrZmDFj8OSTTyIqKkqe5uXlhb59++Lll19Gp06dWq9yrcDHxwdTp06tdbtvv/12DBkypOUqRW7xRkIiD2C323Hq1Cns27cP+fn56Ny5M4YNG4bo6OjWrlqrEEJg586deOKJJ5Ceni7fnOjn54c77rgDy5cvR0xMTCvXsnm1hf0aA4SIPFZWVhb27duHEydOwM/PD4mJiRg4cGCLdGbY2trCfo134RCRx+rYsSMmTJhwVQ7N2xbwGggReTyGh2dqdIBcvHgRf//73xESEgK9Xo9evXrh8OHD8nwhhHyBUK/XIzk5GWfOnHFZR35+PiZOnAiDwYDAwEBMmzYNxcXFja0aERE1o0YFSEFBAYYMGQIfHx988803OHHiBF588UUEBQXJZVavXo1XX30VGzZsQGpqKvz8/DBq1CiXHkMnTpyI9PR07NixA1u3bsXevXsxY8aMxlSNiIiam2iEhQsXij/96U81znc4HCIyMlKsWbNGnlZYWCi0Wq3YsmWLEEKIEydOCADi0KFDcplvvvlGqFQqcfHixXrVw2w2CwDCbDYr3BIiIs/SFvZrjToC+fLLLzFgwAD89a9/RXh4OPr164c333xTnn/+/HmYTCYkJyfL04xGIxITE5GSkgIASElJQWBgIAYMGCCXSU5OhlqtRmpqamOqR0REzahRAXLu3DmsX78eXbt2xbfffouZM2fi0UcfxTvvvAMAMJlMAICIiAiX5SIiIuR5JpMJ4eHhLvO9vb0RHBwsl6nKarXCYrG4/BERUctqVDNeh8OBAQMGYMWKFQCAfv364fjx49iwYQMmT57cJBV0Z+XKlVi+fHmzrZ+IiOrWqCOQqKgo9OjRw2Va9+7dkZGRAQCIjIwEAOTk5LiUycnJkedFRkYiNzfXZX5lZSXy8/PlMlUtXrwYZrNZ/svMzGzMZhARkQKNCpAhQ4ZUGwjn119/RVxcHAAgPj4ekZGR2LVrlzzfYrEgNTUVSUlJAICkpCQUFhYiLS1NLvPdd9/B4XAgMTHR7fNqtVoYDAaXPyIialmNOoX12GOPYfDgwVixYgX+9re/4eDBg9i4cSM2btwI4I+bf+bOnYtnn30WXbt2RXx8PJYuXYro6GjceeedAP44Yhk9ejSmT5+ODRs2wGazYfbs2Rg/fvxV2w8QEVGb0NhmXF999ZXo2bOn0Gq1IiEhQWzcuNFlvsPhEEuXLhURERFCq9WKkSNHitOnT7uUuXLlipgwYYLw9/cXBoNBTJ06VRQVFdW7Dm2huRsRUUO0hf0aO1MkIvJAbWG/xr6wiIhIEQYIEREpwgAhIiJFGCBERKQIA4SIiBRhgBARkSIMECIiUoQBQkREijBAiIhIEQYIEREpwgAhIiJFGCBERKQIA4SIiBRhgBARkSIMECIiUoQBQkREijBAiIhIEQYIEREpwgAhIiJFGCBERKQIA4SIiBRhgBARkSIMECIiUoQBQkREijBAiIhIEQYIEREpwgAhIiJFGCBERKQIA4SIiBRpVIDY7XYsXboU8fHx0Ov16NKlC5555hkIIeQyQgg8+eSTiIqKgl6vR3JyMs6cOeOynvz8fEycOBEGgwGBgYGYNm0aiouLG1M1IiJqZo0KkOeffx7r16/Hv/71L5w8eRLPP/88Vq9ejddee00us3r1arz66qvYsGEDUlNT4efnh1GjRqG8vFwuM3HiRKSnp2PHjh3YunUr9u7dixkzZjSmakRE1MxUwvlwoYFuu+02RERE4K233pKn3X333dDr9XjvvfcghEB0dDTmz5+Pf/zjHwAAs9mMiIgIbN68GePHj8fJkyfRo0cPHDp0CAMGDAAAbN++HbfeeiuysrIQHR1dZz0sFguMRiPMZjMMBoPSzSEi8hhtYb/WqCOQwYMHY9euXfj1118BAD/99BP279+PMWPGAADOnz8Pk8mE5ORkeRmj0YjExESkpKQAAFJSUhAYGCiHBwAkJydDrVYjNTW1MdUjIqJm5N2YhRctWgSLxYKEhAR4eXnBbrfjueeew8SJEwEAJpMJABAREeGyXEREhDzPZDIhPDzctVLe3ggODpbLVGW1WmG1WuXHFoulMZtBREQKNOoI5OOPP8b777+PDz74AEeOHME777yDF154Ae+8805T1c+tlStXwmg0yn8xMTHN+nxERFRdowJkwYIFWLRoEcaPH49evXrhvvvuw2OPPYaVK1cCACIjIwEAOTk5Lsvl5OTI8yIjI5Gbm+syv7KyEvn5+XKZqhYvXgyz2Sz/ZWZmNmYziIhIgUYFSGlpKdRq11V4eXnB4XAAAOLj4xEZGYldu3bJ8y0WC1JTU5GUlAQASEpKQmFhIdLS0uQy3333HRwOBxITE90+r1arhcFgcPkjIqKW1ahrILfffjuee+45xMbG4rrrrsPRo0exdu1a3H///QAAlUqFuXPn4tlnn0XXrl0RHx+PpUuXIjo6GnfeeScAoHv37hg9ejSmT5+ODRs2wGazYfbs2Rg/fny9WmAREVErEY1gsVjEnDlzRGxsrNDpdKJz585iyZIlwmq1ymUcDodYunSpiIiIEFqtVowcOVKcPn3aZT1XrlwREyZMEP7+/sJgMIipU6eKoqKietfDbDYLAMJsNjdmc4iIPEZb2K816j4QT9EW2ksTETVEW9ivsS8sIiJShAFCRESKMECIiEgRBggRESnCACEiIkUYIEREpAgDhIiIFGGAEBGRIgwQIiJShAFCRESKMECIiEgRBggRESnCACEiIkUYIEREpAgDhIiIFGGAEBGRIgwQIiJShAFCRESKMECIiEgRBggRESnCACEiIkUYIEREpAgDhIiIFGGAEBGRIgwQIiJShAFCRESKMECIiEgRBggRESnCACEiIkVqDZC9e/fi9ttvR3R0NFQqFT7//HOX+UIIPPnkk4iKioJer0dycjLOnDnjUiY/Px8TJ06EwWBAYGAgpk2bhuLiYpcyP//8M4YOHQqdToeYmBisXr26abaOiIiaTa0BUlJSgj59+mDdunVu569evRqvvvoqNmzYgNTUVPj5+WHUqFEoLy+Xy0ycOBHp6enYsWMHtm7dir1792LGjBnyfIvFgltuuQVxcXFIS0vDmjVr8NRTT2Hjxo1NtIlERNQsRD0BEJ999pn82OFwiMjISLFmzRp5WmFhodBqtWLLli1CCCFOnDghAIhDhw7JZb755huhUqnExYsXhRBCvP766yIoKEhYrVa5zMKFC0W3bt3qWzVhNpsFAGE2m+u9DBGRJ2sL+zVvpcFz/vx5mEwmJCcny9OMRiMSExORkpKC8ePHIyUlBYGBgRgwYIBcJjk5GWq1Gqmpqfjzn/+MlJQUDBs2DBqNRi4zatQoPP/88ygoKEBQUFC157ZarbBarfJjs9kM4I+jGSKi9kDanwkhWrkmNVMcICaTCQAQERHhMj0iIkKeZzKZEB4e7vqE3t4IDg52KRMfH19tHdI8dwGycuVKLF++vNr0mJgYhVtDROSZioqKYDQaW7sabikOkNa0ePFizJs3T35cWFiIuLg4ZGRkeOwLXR8WiwUxMTHIzMyEwWBo7eoo1h62oz1sA8Dt8CQN3QYhBIqKihAdHd0CtVNGcYBERkYCAHJychAVFSVPz8nJQd++feUyubm5LstVVlYiPz9fXj4yMhI5OTkuZaTHUpmqtFottFpttelGo7HNfricGQwGboeHaA/bAHA7PElDtsHTfxArvg8kPj4ekZGR2LVrlzzNYrEgNTUVSUlJAICkpCQUFhYiLS1NLvPdd9/B4XAgMTFRLrN3717YbDa5zI4dO9CtWze3p6+IiMgz1BogxcXFOHbsGI4dOwbgjwvnx44dQ0ZGBlQqFebOnYtnn30WX375JX755RdMmjQJ0dHRuPPOOwEA3bt3x+jRozF9+nQcPHgQP/zwA2bPno3x48fLh2X33nsvNBoNpk2bhvT0dHz00Ud45ZVXXE5RERGRB6qtidbu3bsFgGp/kydPFkL80ZR36dKlIiIiQmi1WjFy5Ehx+vRpl3VcuXJFTJgwQfj7+wuDwSCmTp0qioqKXMr89NNP4k9/+pPQarWiQ4cOYtWqVQ1qSlZeXi6WLVsmysvLG7Scp+F2eI72sA1CcDs8SXvYhqpUQnhwGzEiIvJY7AuLiIgUYYAQEZEiDBAiIlKEAUJERIq0iwBZt24dOnXqBJ1Oh8TERBw8eLC1qyRbuXIlbrjhBgQEBCA8PBx33nknTp8+7VLmxhtvhEqlcvl76KGHXMpkZGRg7Nix8PX1RXh4OBYsWIDKysoW2YannnqqWv0SEhLk+eXl5Zg1axZCQkLg7++Pu+++u9rNoa1Zf0mnTp2qbYdKpcKsWbMAeO770F6GVahtO2w2GxYuXIhevXrBz88P0dHRmDRpEi5duuSyDnfv4apVq1psO+p6L6ZMmVKtfqNHj3Yp4wnvRZNp5VZgjfbhhx8KjUYj3n77bZGeni6mT58uAgMDRU5OTmtXTQghxKhRo8SmTZvE8ePHxbFjx8Stt94qYmNjRXFxsVxm+PDhYvr06SI7O1v+c+6Bs7KyUvTs2VMkJyeLo0ePim3btonQ0FCxePHiFtmGZcuWieuuu86lfnl5efL8hx56SMTExIhdu3aJw4cPi0GDBonBgwd7TP0lubm5LtuwY8cOAUDs3r1bCOG578O2bdvEkiVLxKefflqtV2whhFi1apUwGo3i888/Fz/99JO44447RHx8vCgrK5PLjB49WvTp00f8+OOPYt++feKaa64REyZMkOebzWYREREhJk6cKI4fPy62bNki9Hq9eOONN1pkOwoLC0VycrL46KOPxKlTp0RKSooYOHCg6N+/v8s64uLixNNPP+3yHjl/l5p7O+p6LyZPnixGjx7tUr/8/HyXMp7wXjSVNh8gAwcOFLNmzZIf2+12ER0dLVauXNmKtapZbm6uACC+//57edrw4cPFnDlzalxm27ZtQq1WC5PJJE9bv369MBgMLt3gN5dly5aJPn36uJ1XWFgofHx8xCeffCJPO3nypAAgUlJShBCtX/+azJkzR3Tp0kU4HA4hhOe/D0J49rAKjdkOdw4ePCgAiAsXLsjT4uLixEsvvVTjMi25HTUFyLhx42pcxhPfi8Zo06ewKioqkJaW5tKlvFqtRnJyMlJSUlqxZjWTup4PDg52mf7+++8jNDQUPXv2xOLFi1FaWirPS0lJQa9evVx6Ph41ahQsFgvS09NbpN5nzpxBdHQ0OnfujIkTJyIjIwMAkJaWBpvN5vIeJCQkIDY2Vn4PPKH+VVVUVOC9997D/fffD5VKJU/39PehqrqGVQBQ57AKUhl3wyqcPn0aBQUFLbQ1rsxmM1QqFQIDA12mr1q1CiEhIejXrx/WrFnjcgrRE7Zjz549CA8PR7du3TBz5kxcuXLFpX5t8b2oSZvsjVdy+fJl2O12t13Knzp1qpVqVTOHw4G5c+diyJAh6Nmzpzz93nvvRVxcHKKjo/Hzzz9j4cKFOH36ND799FMAf3Rr724bpXnNLTExEZs3b0a3bt2QnZ2N5cuXY+jQoTh+/DhMJhM0Gk21L3nVbv1bs/7ufP755ygsLMSUKVPkaZ7+PrjTmsMqNKfy8nIsXLgQEyZMcOl48NFHH8X111+P4OBgHDhwAIsXL0Z2djbWrl0r17U1t2P06NG46667EB8fj7Nnz+Lxxx/HmDFjkJKSAi8vrzb5XtSmTQdIWzNr1iwcP34c+/fvd5nuPMRvr169EBUVhZEjR+Ls2bPo0qVLS1ezmjFjxsj/7927NxITExEXF4ePP/4Yer2+FWum3FtvvYUxY8a4dJXt6e/D1cJms+Fvf/sbhBBYv369yzznPvJ69+4NjUaDBx98ECtXrnTbQ3dLGz9+vPz/Xr16oXfv3ujSpQv27NmDkSNHtmLNmkebPoUVGhoKLy8vt93B19QVfGuZPXs2tm7dit27d6Njx461lpV6Kv7tt98AKOvyvjkFBgbi2muvxW+//YbIyEhUVFSgsLCwWv0a02V/c7pw4QJ27tyJBx54oNZynv4+OD9vbd+B5hpWoTlI4XHhwgXs2LGjzm7PExMTUVlZid9//x2A52yHpHPnzggNDXX5DLWV96I+2nSAaDQa9O/f36VLeYfDgV27dsldyrc2IQRmz56Nzz77DN999121Q1N3pN6PpXFWkpKS8Msvv7h88KQvV48ePZql3rUpLi7G2bNnERUVhf79+8PHx8flPTh9+jQyMjJcuvX3pPpv2rQJ4eHhGDt2bK3lPP19ANrXsApSeJw5cwY7d+5ESEhIncscO3YMarVaPi3kCdvhLCsrC1euXHH5DLWF96LeWvsqfmN9+OGHQqvVis2bN4sTJ06IGTNmiMDAQJeWMq1p5syZwmg0ij179rg07SstLRVCCPHbb7+Jp59+Whw+fFicP39efPHFF6Jz585i2LBh8jqk5qO33HKLOHbsmNi+fbsICwtrsWaw8+fPF3v27BHnz58XP/zwg0hOThahoaEiNzdXCPFHM97Y2Fjx3XfficOHD4ukpCSRlJTkMfV3ZrfbRWxsrFi4cKHLdE9+H4qKisTRo0fF0aNHBQCxdu1acfToUbl10qpVq0RgYKD44osvxM8//yzGjRvnthlvv379RGpqqti/f7/o2rWrS9PRwsJCERERIe677z5x/Phx8eGHHwpfX98mbTpa23ZUVFSIO+64Q3Ts2FEcO3bM5bsitUY6cOCAeOmll8SxY8fE2bNnxXvvvSfCwsLEpEmTWmw7atuGoqIi8Y9//EOkpKSI8+fPi507d4rrr79edO3a1aUHXk94L5pKmw8QIYR47bXXRGxsrNBoNGLgwIHixx9/bO0qyeCmO3wAYtOmTUIIITIyMsSwYcNEcHCw0Gq14pprrhELFixwuf9ACCF+//13MWbMGKHX60VoaKiYP3++sNlsLbIN99xzj4iKihIajUZ06NBB3HPPPeK3336T55eVlYmHH35YBAUFCV9fX/HnP/9ZZGdne0z9nX377bcCQLVhBzz5fWgrwyo0ZjvOnz9f43dFuk8nLS1NJCYmCqPRKHQ6nejevbtYsWJFte7Rm3M7atuG0tJSccstt4iwsDDh4+Mj4uLixPTp06v9mPWE96KpsDt3IiJSpE1fAyEiotbDACEiIkUYIEREpAgDhIiIFGGAEBGRIgwQIiJShAFCRESKMECIiEgRBggRESnCACEiIkUYIEREpAgDhIiIFGGAEBGRIgwQIiJShAFCRESKMECIiEgRBggRESnCACEiIkUYIEREpAgDhIiIFGGAEBGRIgwQIiJShAFCRESKMECIiEgRBggRESnCACEiIkUYIEREpAgDhIiIFGGAEBGRIgwQIiJShAFCRESKMECIiEgRBggRESnCACEiIkUYIEREpAgDhIiIFGGAEBGRIgwQIiJShAFCRESKMECIiEgRBggRESnCACEiIkUYIEREpAgDhIiIFGGAEBGRIgwQIiJShAFCRESKMECIiEgRBggRESnCACEiIkUYIEREpAgDhIiIFGGAEBGRIgwQIiJShAFCRESKMECIiEgRBggRESny/wGOFzhegeMwCAAAAABJRU5ErkJggg==' width=400.0/>\n",
       "            </div>\n",
       "        "
      ],
      "text/plain": [
       "Canvas(toolbar=Toolbar(toolitems=[('Home', 'Reset original view', 'home', 'home'), ('Back', 'Back to previous …"
      ]
     },
     "metadata": {},
     "output_type": "display_data"
    }
   ],
   "source": [
    "%matplotlib ipympl\n",
    "from scipy.interpolate import CubicSpline\n",
    "from scipy.integrate import cumulative_trapezoid\n",
    "from matplotlib.animation import FuncAnimation\n",
    "from PIL import Image\n",
    "import os\n",
    "import time\n",
    "\n",
    "# Collects any previous animation which might interfere\n",
    "try:\n",
    "    ani.event_source.stop()\n",
    "except:\n",
    "    pass\n",
    "\n",
    "#============== Change K_beta to see the effects =================================\n",
    "kbeta = 6e4\n",
    "#========================================================================\n",
    "\n",
    "t_end = 8  # Time (sec)\n",
    "step = 0.001  # Time step (sec)\n",
    "t_arr = np.arange(0, t_end, step)\n",
    "helicopter_img = Image.open(os.path.abspath(os.path.join('.', 'static','helicopter2.png')))\n",
    "# larger_canvas = Image.new(\"RGBA\", (600, 600), (0, 0, 0, 0))\n",
    "\n",
    "#------------ Create data ----------------------------------------------------------------\n",
    "thiy_updated = (mass * 9.81 * h + N / 2 * kbeta) / iy\n",
    "q = -input_cyc * omega * lok / 16 * (1 - np.exp(-16 / (lok * omega) * thiy_updated * t_arr))\n",
    "theta = cumulative_trapezoid(q, t_arr, initial=0)\n",
    "spline = CubicSpline(t_arr, theta)\n",
    "#----------------------------------------------------------------------------------------------\n",
    "\n",
    "plt.close()\n",
    "plt.clf()\n",
    "plt.cla()\n",
    "fig, ax = plt.subplots(figsize=(4,4))\n",
    "plt.title(f\"Kbeta = {kbeta}\")\n",
    "plt.ylim(1000,-200)\n",
    "# ax.imshow(larger_canvas)\n",
    "img_display = ax.imshow(helicopter_img)  # Create initial image plot\n",
    "\n",
    "def get_pitch(time):\n",
    "    return spline(time)\n",
    "\n",
    "def update(frame):\n",
    "    pitch_angle = get_pitch(frame)  # Calculate pitch angle\n",
    "    rotated_img = helicopter_img.rotate(np.degrees(pitch_angle))  # Rotate the image\n",
    "    img_display.set_data(rotated_img)  # Update the image data\n",
    "    return (img_display,)  # Return a tuple of the artists that have been updated\n",
    "\n",
    "time_step = 0.3\n",
    "frame_interval = 300  # Milliseconds between frames\n",
    "\n",
    "ani = FuncAnimation(fig, update, frames=np.arange(0, t_end, time_step), interval=frame_interval,blit=True, repeat=False)\n",
    "plt.show()\n"
   ]
  },
  {
   "cell_type": "code",
   "execution_count": null,
   "metadata": {},
   "outputs": [],
   "source": [
    "%matplotlib ipympl\n",
    "import numpy as np\n",
    "import matplotlib.pyplot as plt\n",
    "from matplotlib.animation import FuncAnimation\n",
    "\n",
    "fig, ax = plt.subplots()\n",
    "xdata, ydata = [], []\n",
    "ln, = plt.plot([], [], 'r-')\n",
    "\n",
    "def init():\n",
    "    ax.set_xlim(0, 2*np.pi)\n",
    "    ax.set_ylim(-1, 1)\n",
    "    return ln,\n",
    "\n",
    "def update(frame):\n",
    "    xdata.append(frame)\n",
    "    ydata.append(np.sin(frame))\n",
    "    ln.set_data(xdata, ydata)\n",
    "    return ln,\n",
    "\n",
    "ani = FuncAnimation(fig, update, frames=np.linspace(0, 2*np.pi, 128),\n",
    "                    init_func=init, blit=True)\n",
    "plt.show()\n"
   ]
  },
  {
   "cell_type": "markdown",
   "metadata": {},
   "source": [
    "## Bonus: How to avoid the linearization?\n",
    "\n",
    "Remember when we used $sin(\\theta_C - a_1) \\approx (\\theta_C - a_1)$ to derive equation 3\\*? This simplified the equation allowing us to write an explict solution to the pitch motion over time as in equation 8\\*. If a higher accuracy is required we can solve equation 3\\* numerically however using python.\n",
    "\n",
    "Below you can try to implement it yourself. The basic structure has already been laid out but the two most important expressions are still missing. Have fun! "
   ]
  },
  {
   "cell_type": "code",
   "execution_count": null,
   "metadata": {},
   "outputs": [],
   "source": [
    "def plot_nonlinear(kbeta, lok):\n",
    "    # Set initial variables\n",
    "    t = 0\n",
    "    dt = 1e-3\n",
    "    q = 0\n",
    "    q0 = 0\n",
    "    t_lst = [t]\n",
    "    q_lst = [q]\n",
    "    q0_lst = [q0]\n",
    "\n",
    "    while t < 10:\n",
    "        # All your code should go between the two lines, any unfinished statement\n",
    "        # should be atleast filled in. Ellipsis is a place holder, please replace with the  correct expression\n",
    "        #=================================================================\n",
    "        dq =  Ellipsis \n",
    "        dq0 = Ellipsis\n",
    "        #=================================================================\n",
    "\n",
    "        q += dq #\n",
    "        q0 += dq0 # \n",
    "        t += dt\n",
    "\n",
    "        t_lst.append(t)\n",
    "        q_lst.append(q)\n",
    "        q0_lst.append(q0)\n",
    "\n",
    "    # Plot the results for the first 100 time steps\n",
    "    plt.plot(t_lst, np.degrees(q_lst), label=r'Rotorcraft $K_{\\beta}$' + f\"= {kbeta} Nm\")\n",
    "    plt.plot(t_lst, np.degrees(q0_lst), label=r'Rotorcraft $K_{\\beta}$ = 0')\n",
    "    plt.xlabel('Time (sec)')\n",
    "    plt.ylabel('q (deg/sec)')\n",
    "    plt.legend()\n",
    "    plt.grid()\n",
    "    plt.show()\n",
    "\n",
    "# Creating an interactive slider\n",
    "res = interact(plot_nonlinear, kbeta=widgets.IntSlider(min=0, max=2e5, step=1e3, value=kbeta), \n",
    "         lok=widgets.IntSlider(min=1, max=10, step=0.1, value=lok))"
   ]
  }
 ],
 "metadata": {
  "kernelspec": {
   "display_name": "geo",
   "language": "python",
   "name": "python3"
  },
  "language_info": {
   "codemirror_mode": {
    "name": "ipython",
    "version": 3
   },
   "file_extension": ".py",
   "mimetype": "text/x-python",
   "name": "python",
   "nbconvert_exporter": "python",
   "pygments_lexer": "ipython3",
   "version": "3.11.3"
  }
 },
 "nbformat": 4,
 "nbformat_minor": 2
}
