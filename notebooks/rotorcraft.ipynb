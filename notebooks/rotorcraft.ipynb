{
 "cells": [
  {
   "cell_type": "markdown",
   "metadata": {},
   "source": [
    "## Rotorcraft pitch response for different rotor hinge spring constants  with no flap dynamics\n",
    "**Source: Prof. Marilena Pavel**\n",
    "\n",
    "In the following tutorial we will compute the pitch reponse for a rotorcraft considering the rotor hinge spring constant. If you're unsure what a certain variable means at anytime, please find the nomeclature below. Before we perform the simulation a small recap of the pitch equation of motion is shown below. The basic equation of motion for angular acceleration is as follows:\n",
    "\n",
    "$$\n",
    "\\Sigma M = I_g \\alpha\n",
    "$$\n",
    "\n",
    "In order to apply this to helicopter the basic equation of motion in the pitch plane can be described as shown below. \n",
    "\n",
    "$$\n",
    "\\begin{equation}\n",
    "\\tag{1}\n",
    "M_y  = I_y \\frac{dq}{dt} = I_y \\dot{q}\n",
    "\\end{equation}\n",
    "$$\n",
    "\n",
    "Then using the expression for $M_y$ as shown in equation 2** which is derived from [Figure 1](#figure1) (lecture slide 15). \n",
    "\n",
    "$$\n",
    "\\begin{equation}\n",
    "\\large\n",
    "\\tag{2**}\n",
    "M_y  = T sin(\\theta_c - a_1)\\cdot h - \\frac{N}{2}(\\theta_c - a_1)K_{\\beta}\n",
    "\\end{equation}\n",
    "$$\n",
    "\n",
    "<br>\n",
    "<p align=\"center\"  id=\"figure1\">\n",
    "<img src=\"https://github.com/saullocastro/tuduam/blob/main/notebooks/static/pitch_EOM_heli.png?raw=true\" width=\"400\" /> \n",
    " <br>\n",
    "<em>Figure 1: Free body diagram of a pitching helicopter</em>\n",
    "</p>\n",
    "<br>\n",
    "\n",
    "\n",
    "We can  then rewrite equation 1 to the from shown in equation 3* by substituting equation 2**.\n",
    "\n",
    "$$\n",
    "\\begin{equation}\n",
    "\\tag{3*}\n",
    "\\begin{split}\n",
    "\\dot{q} & = -\\frac{T}{I_y} h sin(\\theta_c - a_1)  - \\frac{N}{2 I_y} K_{\\beta} (\\theta_c - a_1) \\\\\n",
    "& \\text{Then using the linearization } sin(\\theta_c - a_1) \\approx (\\theta_c - a_1) \\text{ we can write:} \\\\\n",
    "\\dot{q} & = \\frac{Th + (N/2)K_{\\beta}}{I_y} \\cdot (\\theta_c - a_1) \\\\\n",
    "\\dot{q} & = K`  (\\theta_c - a_1) \\\\\n",
    "\\end{split}\n",
    "\\end{equation}\n",
    "$$\n",
    "\n",
    "This equation will be used to derive a solution to the pitch motion of the aircraft over time in the proceeding sections.\n",
    "\n",
    "### Nomeclature\n",
    "\n",
    "$q$ = $\\frac{d \\theta}{dt}$ =  pitch rate  \n",
    "$\\dot{q}$ = $\\frac{d^2 \\theta}{dt^2}$ =  pitch acceleration \n",
    "$T$ =  Thrust in Newtons\n",
    "$h$ =  Distance between the CG and the line of action of the x-component of the thrust.  \n",
    "$K_{\\beta}$ =  Rotor spring constant in Newton-meters  \n",
    "$N$ = Number of blades  \n",
    "$\\theta_c$ = Cyclic input from the pilot in radians    \n",
    "$a_1$ =  Rotor flap in radians, approximated by $-\\frac{16}{\\gamma}\\frac{q}{\\Omega}$    \n",
    "$\\gamma$ =  Lock number, the ratio of aerodynamics forces to inertial forces  \n",
    "$K`$ =   See equation 3*\n",
    "\n",
    "\n",
    "\n"
   ]
  },
  {
   "cell_type": "markdown",
   "metadata": {},
   "source": [
    "### Introduce relevant constants and import the relevant libraries\n",
    "\n",
    "In order to perform the dynamic analysis we must first set the physical properties of the aircraft. The relevant parameters are shown hereunder. Please see the comments in the code and the nomenclature for furhter explanation on what the paremeters are and their units.\n",
    "\n"
   ]
  },
  {
   "cell_type": "code",
   "execution_count": 1,
   "metadata": {},
   "outputs": [
    {
     "name": "stdout",
     "output_type": "stream",
     "text": [
      "Rpm =  260.91\n",
      "K` with rotor spring modelling =  8.53 [rad/s^2]\n",
      "K` without rotor spring modelling =  2.03 [rad/s^2]\n"
     ]
    }
   ],
   "source": [
    "import numpy as np\n",
    "import matplotlib.pyplot as plt\n",
    "\n",
    "\n",
    "lok = 6  # Lock number (-)\n",
    "mass = 2200  # Rotorcraft mass (kg)\n",
    "vtip = 200  # Rotor tip speed (m/sec)\n",
    "rotor_radius= 7.32  # Rotor radius (m)\n",
    "iy = 10625  # Rotorcraft mass moment of inertia (kgm^2)\n",
    "h = 1  # Distance from vehicle CG to rotor hub\n",
    "kbeta = 46000  # Rotor hinge spring hingeless (Nm)\n",
    "kbeta0 = 0  # Rotor hinge spring teetering (Nm)\n",
    "omega= vtip / rotor_radius\n",
    "input_cyc = -1 * np.pi / 180  # Pilot cyclic control (1 deg/sec)\n",
    "N = 3  # Number of blades\n",
    "\n",
    "thiy_init = (mass * 9.81 * h + N / 2 * kbeta) / iy\n",
    "thiy0 = (mass * 9.81 * h +N / 2 * kbeta0) / iy\n",
    "\n",
    "print(f\"Rpm =  {np.round(omega/(2*np.pi)*60, 2)}\")\n",
    "print(f\"K` with rotor spring modelling =  {np.round(thiy_init,2)} [rad/s^2]\")\n",
    "print(f\"K` without rotor spring modelling =  {np.round(thiy0, 2)} [rad/s^2]\")\n"
   ]
  },
  {
   "cell_type": "markdown",
   "metadata": {},
   "source": [
    "## Transient response \n",
    "\n",
    "On slide 17 of the lecture slides the first order differential equation is solved to find a solution to equation 3*. The result is repeated below equation 8*:\n",
    "\n",
    "<br>\n",
    "\n",
    "$$\n",
    "\\begin{equation}\n",
    "\\Large\n",
    "\\tag{8*}\n",
    "q(t) = - \\theta_c \\Omega \\frac{\\gamma}{16}\\left[1 - e^{-\\frac{16}{\\gamma \\Omega} K`t}\\right]\n",
    "\\end{equation}\n",
    "$$\n",
    "\n",
    "Using this explicit solution of the differential equation we can easily find the response. This is implemented in the snippet of Python code below, the code leverages the broadcasting feature of NumPy to avoid for loops. To see the effects of different spring constants a slider is available to see the change in the response. Another value you can change is the Lock number."
   ]
  },
  {
   "cell_type": "code",
   "execution_count": 4,
   "metadata": {},
   "outputs": [
    {
     "data": {
      "application/vnd.jupyter.widget-view+json": {
       "model_id": "63aba4de2aaf487482b4f7bd362cca17",
       "version_major": 2,
       "version_minor": 0
      },
      "text/plain": [
       "interactive(children=(IntSlider(value=46000, description='kbeta', max=200000, step=1000), IntSlider(value=6, d…"
      ]
     },
     "metadata": {},
     "output_type": "display_data"
    }
   ],
   "source": [
    "import matplotlib.pyplot as plt\n",
    "import numpy as np\n",
    "from ipywidgets import interact\n",
    "import ipywidgets as widgets\n",
    "\n",
    "# Starting integration for the pitch equation of motion\n",
    "t_end = 10  # Time (sec)\n",
    "step = 0.001  # Time step (sec)\n",
    "t_arr = np.arange(0, t_end, step)\n",
    "\n",
    "def plot_transient(kbeta, lok):\n",
    "\n",
    "    thiy_updated = (mass * 9.81 * h + N / 2 * kbeta) / iy\n",
    "    q = -input_cyc * omega * lok / 16 * (1 - np.exp(-16 / (lok * omega) * thiy_updated * t_arr))\n",
    "    q0 = -input_cyc * omega * lok / 16 * (1 - np.exp(-16 / (lok * omega) * thiy0 * t_arr))\n",
    "\n",
    "    # Plot the results for the first 100 time steps\n",
    "    plt.cla()\n",
    "    plt.plot(t_arr, np.degrees(q), label=r'Rotorcraft $K_{\\beta}$' + f\"= {kbeta} Nm\")\n",
    "    plt.plot(t_arr, np.degrees(q0), label=r'Rotorcraft $K_{\\beta}$ = 0')\n",
    "    plt.xlabel('Time (sec)')\n",
    "    plt.ylabel('q (deg/sec)')\n",
    "    plt.legend()\n",
    "    plt.grid()\n",
    "    res = plt.show()\n",
    "\n",
    "# Creating an interactive slider\n",
    "res= interact(plot_transient, kbeta=widgets.IntSlider(min=0, max=2e5, step=1e3, value=kbeta), \n",
    "         lok=widgets.IntSlider(min=1, max=10, step=0.1, value=lok))\n"
   ]
  },
  {
   "cell_type": "markdown",
   "metadata": {},
   "source": [
    "## Bonus: How to avoid the linearization?\n",
    "\n",
    "Remember when we used $sin(\\theta_C - a_1) \\approx (\\theta_C - a_1)$ to derive equation 3*? This simplified the equation allowing us to write an explict solution to the pitch motion over time as in equation 8*. If a higher accuracy is required we can solve equation 3* numerically however using python.\n",
    "\n",
    "Below you can try to implement it yourself. The basic structure has already been laid out but the two most important expressions are still missing. Have fun! "
   ]
  },
  {
   "cell_type": "code",
   "execution_count": 3,
   "metadata": {},
   "outputs": [
    {
     "data": {
      "application/vnd.jupyter.widget-view+json": {
       "model_id": "8d321436a2304b24a6821315765ba7a3",
       "version_major": 2,
       "version_minor": 0
      },
      "text/plain": [
       "interactive(children=(IntSlider(value=46000, description='kbeta', max=200000, step=1000), IntSlider(value=6, d…"
      ]
     },
     "metadata": {},
     "output_type": "display_data"
    }
   ],
   "source": [
    "def plot_nonlinear(kbeta, lok):\n",
    "    # Set initial variables\n",
    "    t = 0\n",
    "    dt = 1e-3\n",
    "    q = 0\n",
    "    q0 = 0\n",
    "    t_lst = [t]\n",
    "    q_lst = [q]\n",
    "    q0_lst = [q0]\n",
    "\n",
    "    while t < 10:\n",
    "        # All your code should go between the two lines, any unfinished statement\n",
    "        # should be atleast filled in. Ellipsis is a place holder, please replace with the  correct expression\n",
    "        #=================================================================\n",
    "        dq =  Ellipsis \n",
    "        dq0 = Ellipsis\n",
    "\n",
    "        q += dq #\n",
    "        q0 += dq0 # \n",
    "        t += dt\n",
    "\n",
    "        t_lst.append(t)\n",
    "        q_lst.append(q)\n",
    "        q0_lst.append(q0)\n",
    "\n",
    "    # Plot the results for the first 100 time steps\n",
    "    plt.plot(t_lst, np.degrees(q_lst), label=r'Rotorcraft $K_{\\beta}$' + f\"= {kbeta} Nm\")\n",
    "    plt.plot(t_lst, np.degrees(q0_lst), label=r'Rotorcraft $K_{\\beta}$ = 0')\n",
    "    plt.xlabel('Time (sec)')\n",
    "    plt.ylabel('q (deg/sec)')\n",
    "    plt.legend()\n",
    "    plt.grid()\n",
    "    plt.show()\n",
    "\n",
    "# Creating an interactive slider\n",
    "res = interact(plot_nonlinear, kbeta=widgets.IntSlider(min=0, max=2e5, step=1e3, value=kbeta), \n",
    "         lok=widgets.IntSlider(min=1, max=10, step=0.1, value=lok))"
   ]
  }
 ],
 "metadata": {
  "kernelspec": {
   "display_name": "geo",
   "language": "python",
   "name": "python3"
  },
  "language_info": {
   "codemirror_mode": {
    "name": "ipython",
    "version": 3
   },
   "file_extension": ".py",
   "mimetype": "text/x-python",
   "name": "python",
   "nbconvert_exporter": "python",
   "pygments_lexer": "ipython3",
   "version": "3.11.3"
  }
 },
 "nbformat": 4,
 "nbformat_minor": 2
}
